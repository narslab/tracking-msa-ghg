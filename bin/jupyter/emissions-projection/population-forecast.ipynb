{
 "cells": [
  {
   "cell_type": "code",
   "execution_count": 1,
   "id": "9ca98716-ce2f-46a6-991c-d002ac4d4912",
   "metadata": {
    "tags": []
   },
   "outputs": [],
   "source": [
    "# Basic system and data packages\n",
    "import numpy as np\n",
    "import pandas as pd\n",
    "from collections import OrderedDict\n",
    "import itertools\n",
    "import statsmodels.formula.api as smf\n",
    "import sys\n",
    "import time\n",
    "import requests\n",
    "# Plotting packages\n",
    "import matplotlib.pyplot as plt\n",
    "from matplotlib import cm\n",
    "from matplotlib.ticker import LinearLocator\n",
    "import seaborn as sns\n",
    "\n",
    "from sklearn.metrics import mean_absolute_percentage_error, mean_squared_error\n",
    "import statsmodels.api as sm\n",
    "from statsmodels.tsa.ar_model import AutoReg, ar_select_order\n",
    "from statsmodels.tsa.api import acf, pacf, graphics\n",
    "from io import BytesIO"
   ]
  },
  {
   "cell_type": "code",
   "execution_count": 2,
   "id": "12be5393-4dc7-4e5c-8127-01223297569c",
   "metadata": {
    "tags": []
   },
   "outputs": [
    {
     "ename": "FileNotFoundError",
     "evalue": "[Errno 2] No such file or directory: '../../../data/emissions-projection/emissions-populations-dvmt.csv'",
     "output_type": "error",
     "traceback": [
      "\u001b[1;31m---------------------------------------------------------------------------\u001b[0m",
      "\u001b[1;31mFileNotFoundError\u001b[0m                         Traceback (most recent call last)",
      "Cell \u001b[1;32mIn[2], line 1\u001b[0m\n\u001b[1;32m----> 1\u001b[0m df \u001b[38;5;241m=\u001b[39m pd\u001b[38;5;241m.\u001b[39mread_csv(\u001b[38;5;124m'\u001b[39m\u001b[38;5;124m../../../data/emissions-projection/emissions-populations-dvmt.csv\u001b[39m\u001b[38;5;124m'\u001b[39m)\n\u001b[0;32m      2\u001b[0m \u001b[38;5;66;03m#Plot the data set\u001b[39;00m\n\u001b[0;32m      3\u001b[0m df\n",
      "File \u001b[1;32m~\\AppData\\Local\\anaconda3\\Lib\\site-packages\\pandas\\io\\parsers\\readers.py:948\u001b[0m, in \u001b[0;36mread_csv\u001b[1;34m(filepath_or_buffer, sep, delimiter, header, names, index_col, usecols, dtype, engine, converters, true_values, false_values, skipinitialspace, skiprows, skipfooter, nrows, na_values, keep_default_na, na_filter, verbose, skip_blank_lines, parse_dates, infer_datetime_format, keep_date_col, date_parser, date_format, dayfirst, cache_dates, iterator, chunksize, compression, thousands, decimal, lineterminator, quotechar, quoting, doublequote, escapechar, comment, encoding, encoding_errors, dialect, on_bad_lines, delim_whitespace, low_memory, memory_map, float_precision, storage_options, dtype_backend)\u001b[0m\n\u001b[0;32m    935\u001b[0m kwds_defaults \u001b[38;5;241m=\u001b[39m _refine_defaults_read(\n\u001b[0;32m    936\u001b[0m     dialect,\n\u001b[0;32m    937\u001b[0m     delimiter,\n\u001b[1;32m   (...)\u001b[0m\n\u001b[0;32m    944\u001b[0m     dtype_backend\u001b[38;5;241m=\u001b[39mdtype_backend,\n\u001b[0;32m    945\u001b[0m )\n\u001b[0;32m    946\u001b[0m kwds\u001b[38;5;241m.\u001b[39mupdate(kwds_defaults)\n\u001b[1;32m--> 948\u001b[0m \u001b[38;5;28;01mreturn\u001b[39;00m _read(filepath_or_buffer, kwds)\n",
      "File \u001b[1;32m~\\AppData\\Local\\anaconda3\\Lib\\site-packages\\pandas\\io\\parsers\\readers.py:611\u001b[0m, in \u001b[0;36m_read\u001b[1;34m(filepath_or_buffer, kwds)\u001b[0m\n\u001b[0;32m    608\u001b[0m _validate_names(kwds\u001b[38;5;241m.\u001b[39mget(\u001b[38;5;124m\"\u001b[39m\u001b[38;5;124mnames\u001b[39m\u001b[38;5;124m\"\u001b[39m, \u001b[38;5;28;01mNone\u001b[39;00m))\n\u001b[0;32m    610\u001b[0m \u001b[38;5;66;03m# Create the parser.\u001b[39;00m\n\u001b[1;32m--> 611\u001b[0m parser \u001b[38;5;241m=\u001b[39m TextFileReader(filepath_or_buffer, \u001b[38;5;241m*\u001b[39m\u001b[38;5;241m*\u001b[39mkwds)\n\u001b[0;32m    613\u001b[0m \u001b[38;5;28;01mif\u001b[39;00m chunksize \u001b[38;5;129;01mor\u001b[39;00m iterator:\n\u001b[0;32m    614\u001b[0m     \u001b[38;5;28;01mreturn\u001b[39;00m parser\n",
      "File \u001b[1;32m~\\AppData\\Local\\anaconda3\\Lib\\site-packages\\pandas\\io\\parsers\\readers.py:1448\u001b[0m, in \u001b[0;36mTextFileReader.__init__\u001b[1;34m(self, f, engine, **kwds)\u001b[0m\n\u001b[0;32m   1445\u001b[0m     \u001b[38;5;28mself\u001b[39m\u001b[38;5;241m.\u001b[39moptions[\u001b[38;5;124m\"\u001b[39m\u001b[38;5;124mhas_index_names\u001b[39m\u001b[38;5;124m\"\u001b[39m] \u001b[38;5;241m=\u001b[39m kwds[\u001b[38;5;124m\"\u001b[39m\u001b[38;5;124mhas_index_names\u001b[39m\u001b[38;5;124m\"\u001b[39m]\n\u001b[0;32m   1447\u001b[0m \u001b[38;5;28mself\u001b[39m\u001b[38;5;241m.\u001b[39mhandles: IOHandles \u001b[38;5;241m|\u001b[39m \u001b[38;5;28;01mNone\u001b[39;00m \u001b[38;5;241m=\u001b[39m \u001b[38;5;28;01mNone\u001b[39;00m\n\u001b[1;32m-> 1448\u001b[0m \u001b[38;5;28mself\u001b[39m\u001b[38;5;241m.\u001b[39m_engine \u001b[38;5;241m=\u001b[39m \u001b[38;5;28mself\u001b[39m\u001b[38;5;241m.\u001b[39m_make_engine(f, \u001b[38;5;28mself\u001b[39m\u001b[38;5;241m.\u001b[39mengine)\n",
      "File \u001b[1;32m~\\AppData\\Local\\anaconda3\\Lib\\site-packages\\pandas\\io\\parsers\\readers.py:1705\u001b[0m, in \u001b[0;36mTextFileReader._make_engine\u001b[1;34m(self, f, engine)\u001b[0m\n\u001b[0;32m   1703\u001b[0m     \u001b[38;5;28;01mif\u001b[39;00m \u001b[38;5;124m\"\u001b[39m\u001b[38;5;124mb\u001b[39m\u001b[38;5;124m\"\u001b[39m \u001b[38;5;129;01mnot\u001b[39;00m \u001b[38;5;129;01min\u001b[39;00m mode:\n\u001b[0;32m   1704\u001b[0m         mode \u001b[38;5;241m+\u001b[39m\u001b[38;5;241m=\u001b[39m \u001b[38;5;124m\"\u001b[39m\u001b[38;5;124mb\u001b[39m\u001b[38;5;124m\"\u001b[39m\n\u001b[1;32m-> 1705\u001b[0m \u001b[38;5;28mself\u001b[39m\u001b[38;5;241m.\u001b[39mhandles \u001b[38;5;241m=\u001b[39m get_handle(\n\u001b[0;32m   1706\u001b[0m     f,\n\u001b[0;32m   1707\u001b[0m     mode,\n\u001b[0;32m   1708\u001b[0m     encoding\u001b[38;5;241m=\u001b[39m\u001b[38;5;28mself\u001b[39m\u001b[38;5;241m.\u001b[39moptions\u001b[38;5;241m.\u001b[39mget(\u001b[38;5;124m\"\u001b[39m\u001b[38;5;124mencoding\u001b[39m\u001b[38;5;124m\"\u001b[39m, \u001b[38;5;28;01mNone\u001b[39;00m),\n\u001b[0;32m   1709\u001b[0m     compression\u001b[38;5;241m=\u001b[39m\u001b[38;5;28mself\u001b[39m\u001b[38;5;241m.\u001b[39moptions\u001b[38;5;241m.\u001b[39mget(\u001b[38;5;124m\"\u001b[39m\u001b[38;5;124mcompression\u001b[39m\u001b[38;5;124m\"\u001b[39m, \u001b[38;5;28;01mNone\u001b[39;00m),\n\u001b[0;32m   1710\u001b[0m     memory_map\u001b[38;5;241m=\u001b[39m\u001b[38;5;28mself\u001b[39m\u001b[38;5;241m.\u001b[39moptions\u001b[38;5;241m.\u001b[39mget(\u001b[38;5;124m\"\u001b[39m\u001b[38;5;124mmemory_map\u001b[39m\u001b[38;5;124m\"\u001b[39m, \u001b[38;5;28;01mFalse\u001b[39;00m),\n\u001b[0;32m   1711\u001b[0m     is_text\u001b[38;5;241m=\u001b[39mis_text,\n\u001b[0;32m   1712\u001b[0m     errors\u001b[38;5;241m=\u001b[39m\u001b[38;5;28mself\u001b[39m\u001b[38;5;241m.\u001b[39moptions\u001b[38;5;241m.\u001b[39mget(\u001b[38;5;124m\"\u001b[39m\u001b[38;5;124mencoding_errors\u001b[39m\u001b[38;5;124m\"\u001b[39m, \u001b[38;5;124m\"\u001b[39m\u001b[38;5;124mstrict\u001b[39m\u001b[38;5;124m\"\u001b[39m),\n\u001b[0;32m   1713\u001b[0m     storage_options\u001b[38;5;241m=\u001b[39m\u001b[38;5;28mself\u001b[39m\u001b[38;5;241m.\u001b[39moptions\u001b[38;5;241m.\u001b[39mget(\u001b[38;5;124m\"\u001b[39m\u001b[38;5;124mstorage_options\u001b[39m\u001b[38;5;124m\"\u001b[39m, \u001b[38;5;28;01mNone\u001b[39;00m),\n\u001b[0;32m   1714\u001b[0m )\n\u001b[0;32m   1715\u001b[0m \u001b[38;5;28;01massert\u001b[39;00m \u001b[38;5;28mself\u001b[39m\u001b[38;5;241m.\u001b[39mhandles \u001b[38;5;129;01mis\u001b[39;00m \u001b[38;5;129;01mnot\u001b[39;00m \u001b[38;5;28;01mNone\u001b[39;00m\n\u001b[0;32m   1716\u001b[0m f \u001b[38;5;241m=\u001b[39m \u001b[38;5;28mself\u001b[39m\u001b[38;5;241m.\u001b[39mhandles\u001b[38;5;241m.\u001b[39mhandle\n",
      "File \u001b[1;32m~\\AppData\\Local\\anaconda3\\Lib\\site-packages\\pandas\\io\\common.py:863\u001b[0m, in \u001b[0;36mget_handle\u001b[1;34m(path_or_buf, mode, encoding, compression, memory_map, is_text, errors, storage_options)\u001b[0m\n\u001b[0;32m    858\u001b[0m \u001b[38;5;28;01melif\u001b[39;00m \u001b[38;5;28misinstance\u001b[39m(handle, \u001b[38;5;28mstr\u001b[39m):\n\u001b[0;32m    859\u001b[0m     \u001b[38;5;66;03m# Check whether the filename is to be opened in binary mode.\u001b[39;00m\n\u001b[0;32m    860\u001b[0m     \u001b[38;5;66;03m# Binary mode does not support 'encoding' and 'newline'.\u001b[39;00m\n\u001b[0;32m    861\u001b[0m     \u001b[38;5;28;01mif\u001b[39;00m ioargs\u001b[38;5;241m.\u001b[39mencoding \u001b[38;5;129;01mand\u001b[39;00m \u001b[38;5;124m\"\u001b[39m\u001b[38;5;124mb\u001b[39m\u001b[38;5;124m\"\u001b[39m \u001b[38;5;129;01mnot\u001b[39;00m \u001b[38;5;129;01min\u001b[39;00m ioargs\u001b[38;5;241m.\u001b[39mmode:\n\u001b[0;32m    862\u001b[0m         \u001b[38;5;66;03m# Encoding\u001b[39;00m\n\u001b[1;32m--> 863\u001b[0m         handle \u001b[38;5;241m=\u001b[39m \u001b[38;5;28mopen\u001b[39m(\n\u001b[0;32m    864\u001b[0m             handle,\n\u001b[0;32m    865\u001b[0m             ioargs\u001b[38;5;241m.\u001b[39mmode,\n\u001b[0;32m    866\u001b[0m             encoding\u001b[38;5;241m=\u001b[39mioargs\u001b[38;5;241m.\u001b[39mencoding,\n\u001b[0;32m    867\u001b[0m             errors\u001b[38;5;241m=\u001b[39merrors,\n\u001b[0;32m    868\u001b[0m             newline\u001b[38;5;241m=\u001b[39m\u001b[38;5;124m\"\u001b[39m\u001b[38;5;124m\"\u001b[39m,\n\u001b[0;32m    869\u001b[0m         )\n\u001b[0;32m    870\u001b[0m     \u001b[38;5;28;01melse\u001b[39;00m:\n\u001b[0;32m    871\u001b[0m         \u001b[38;5;66;03m# Binary mode\u001b[39;00m\n\u001b[0;32m    872\u001b[0m         handle \u001b[38;5;241m=\u001b[39m \u001b[38;5;28mopen\u001b[39m(handle, ioargs\u001b[38;5;241m.\u001b[39mmode)\n",
      "\u001b[1;31mFileNotFoundError\u001b[0m: [Errno 2] No such file or directory: '../../../data/emissions-projection/emissions-populations-dvmt.csv'"
     ]
    }
   ],
   "source": [
    "df = pd.read_csv('../../../data/emissions-projection/emissions-populations-dvmt.csv')\n",
    "#Plot the data set\n",
    "df\n",
    "\n",
    "# Drop the first column\n",
    "df = df.drop(columns=['Unnamed: 0'])\n",
    "\n",
    "# Set the second column as the row index\n",
    "df = df.set_index('Year')"
   ]
  },
  {
   "cell_type": "code",
   "execution_count": null,
   "id": "e1c1e2a8-86cd-4d05-8dfd-b31516f904b4",
   "metadata": {
    "tags": []
   },
   "outputs": [],
   "source": [
    "split_index = round(len(df)*0.8)\n",
    "df_train = df.iloc[:split_index].copy()\n",
    "df_test = df.iloc[split_index:].copy()\n",
    "\n",
    "po_train = df_train['Population']\n",
    "po_test = df_test['Population']\n"
   ]
  },
  {
   "cell_type": "code",
   "execution_count": null,
   "id": "9572785a-2cc1-446b-a773-40cf2ea00cd7",
   "metadata": {
    "tags": []
   },
   "outputs": [],
   "source": [
    "# Fit the model\n",
    "mod = sm.tsa.arima.ARIMA(po_train, order=(0,2,0))#exog = array of publishsed VMT. inside of the function.\n",
    "#what are existing forecasting, few slides \n",
    "res = mod.fit()\n",
    "print(res.summary())"
   ]
  },
  {
   "cell_type": "code",
   "execution_count": null,
   "id": "3348b743-1f7e-4c50-a247-5b6dc92fb352",
   "metadata": {
    "tags": []
   },
   "outputs": [],
   "source": [
    "import itertools\n",
    "\n",
    "# Define the range of values for p, d, and q\n",
    "p_values = range(3)  # Adjust the range based on your preferences\n",
    "d_values = range(3)\n",
    "q_values = range(3)\n",
    "\n",
    "# Initialize a list to store the orders and corresponding AIC and BIC values\n",
    "order_aic_bic_list = []\n",
    "\n",
    "# Loop through all combinations of p, d, and q\n",
    "for p, d, q in itertools.product(p_values, d_values, q_values):\n",
    "    try:\n",
    "        # Fit the model for the current combination\n",
    "        mod = sm.tsa.arima.ARIMA(po_train, order=(p, d, q))\n",
    "        res = mod.fit()\n",
    "\n",
    "        # Store the order, AIC, and BIC values in the list\n",
    "        order_aic_bic_list.append(((p, d, q), res.aic, res.bic))\n",
    "\n",
    "    except Exception as e:\n",
    "        # Handle any exceptions that might occur during model fitting\n",
    "        print(f\"Issue with order ({p}, {d}, {q}): {e}\")\n",
    "\n",
    "# Sort the list based on AIC values\n",
    "order_aic_bic_list.sort(key=lambda x: (x[1], x[2]))\n",
    "\n",
    "# Print the first five best orders and corresponding AIC and BIC values\n",
    "for i, (order, aic, bic) in enumerate(order_aic_bic_list[:5]):\n",
    "    print(f\"Rank {i + 1} - Order: {order}, AIC: {aic}, BIC: {bic}\")\n"
   ]
  },
  {
   "cell_type": "code",
   "execution_count": null,
   "id": "15dfcdc8-d0ac-4c45-917d-4bfc11cf4058",
   "metadata": {
    "tags": []
   },
   "outputs": [],
   "source": [
    "# Forecast on training data\n",
    "train_forecast = res.get_prediction(start=0, end=len(po_train)-1)\n",
    "train_forecast_mean = train_forecast.predicted_mean\n",
    "train_forecast_mean_re = train_forecast_mean.drop(train_forecast_mean.index[:2], inplace=True)\n",
    "train_conf_int = train_forecast.conf_int().iloc[2:]\n",
    "\n",
    "new_index = [2016, 2017, 2018, 2019, 2020, 2021]\n",
    "\n",
    "# Forecast on test data\n",
    "test_forecast = res.get_prediction(start=len(po_train), end=len(po_train)+len(df_test)-1)\n",
    "test_forecast_mean = test_forecast.predicted_mean\n",
    "test_conf_int = test_forecast.conf_int()\n",
    "test_conf_int.index = new_index\n",
    "\n",
    "\n",
    "# Convert Series to DataFrame with the first column as the index\n",
    "test_forecast_df = pd.DataFrame(list(test_forecast_mean.items()), columns=['Year', 'Population'])\n",
    "test_forecast_df['Year'] = new_index\n",
    "\n",
    "# Set the 'Year' column as the index\n",
    "test_forecast_df.set_index('Year', inplace=True)\n",
    "\n",
    "train_forecast_mean_re = train_forecast_mean.iloc[1:]\n",
    "\n",
    "from sklearn.metrics import mean_absolute_error, mean_squared_error\n",
    "\n",
    "# Extract the actual values for the test set\n",
    "actual_values = df_test['Population']\n",
    "\n",
    "# Extract the predicted values from the test forecast\n",
    "predicted_values = test_forecast_df['Population']\n",
    "\n",
    "# Calculate MAE\n",
    "mae = mean_absolute_error(actual_values, predicted_values)\n",
    "\n",
    "# Calculate RMSE\n",
    "rmse = np.sqrt(mean_squared_error(actual_values, predicted_values))\n",
    "\n",
    "# Calculate MAPE\n",
    "mape = np.mean(np.abs((actual_values - predicted_values) / actual_values)) * 100"
   ]
  },
  {
   "cell_type": "code",
   "execution_count": null,
   "id": "65e72967-7556-4e2b-8063-9877163fc127",
   "metadata": {
    "tags": []
   },
   "outputs": [],
   "source": [
    "import matplotlib.pyplot as plt\n",
    "import numpy as np\n",
    "\n",
    "\n",
    "# Plotting the results with confidence bands\n",
    "plt.figure(figsize=(12, 6))\n",
    "\n",
    "#combine the test and train data together\n",
    "concatenated_observed = pd.concat([po_train,po_test])\n",
    "\n",
    "#combine the predicted test and train data together\n",
    "concatenated_predicted = pd.concat([train_forecast_mean_re, test_forecast_df['Population']])\n",
    "\n",
    "#combine the confidence interval of train and test data\n",
    "concatenated_interval = pd.concat([train_conf_int, test_conf_int])\n",
    "\n",
    "\n",
    "#plot the observed value\n",
    "plt.plot(concatenated_observed.index, concatenated_observed, label='Observed', color='blue')\n",
    "\n",
    "\n",
    "#plot the predicted value\n",
    "plt.plot(concatenated_predicted.index, concatenated_predicted, label='Predicted', color='red', linestyle='--')\n",
    "\n",
    "\n",
    "\n",
    "# Plot confidence bands for training data\n",
    "plt.fill_between(concatenated_interval.index, concatenated_interval.iloc[:, 0], concatenated_interval.iloc[:, 1], color='orange', alpha=0.2)\n",
    "\n",
    "#combine the index\n",
    "combined_index = np.concatenate([po_train.index, test_forecast_df.index])\n",
    "\n",
    "plt.title('ARIMAx Model Forecast with Confidence Intervals', fontsize=18)\n",
    "# Adjust x-axis ticks and labels\n",
    "plt.xticks(combined_index, rotation=45)\n",
    "\n",
    "#plt.xlabel('Time', fontsize=16)\n",
    "plt.ylabel('Population', fontsize=20)\n",
    "plt.legend(fontsize=16)\n",
    "\n",
    "# Set x-axis and y-axis tick labels with fontsize\n",
    "plt.xticks(fontsize=10)\n",
    "plt.yticks(fontsize=10)\n",
    "\n",
    "# Add a vertical line at the x-axis for the year 2016\n",
    "plt.axvline(x=2016, color='green', linestyle='--', label='Year 2016 (X-axis)')\n",
    "\n",
    "#create a table to show the MAE and RMSE\n",
    "\n",
    "# Create a table inside the plot\n",
    "table_data = [['Test Metric', 'Value'], \n",
    "              ['MAE', f'{mae:.4f}'], \n",
    "              ['RMSE', f'{rmse:.4f}'], \n",
    "              ['MAPE', f'{mape:.4f}%']]\n",
    "table = plt.table(cellText=table_data, loc='lower left', cellLoc='center', bbox=[0.03, 0.03, 0.5, 0.2], colWidths=[0.2, 0.2, 0.8, 0.8])\n",
    "\n",
    "# Set font size for the table\n",
    "table.auto_set_font_size(False)\n",
    "table.set_fontsize(15)  # Adjust the font size as needed\n",
    "\n",
    "\n",
    "plt.savefig('../../../figures/Report-images/arimax-population-vmt.png', dpi=600, bbox_inches='tight')"
   ]
  },
  {
   "cell_type": "code",
   "execution_count": null,
   "id": "c03f1de3-532b-4898-b08f-dadb6de62d8f",
   "metadata": {
    "tags": []
   },
   "outputs": [],
   "source": [
    "extended_index = list(range(2022, 2051))\n",
    "\n",
    "extended_forecast = res.get_forecast(steps=len(extended_index))\n",
    "extended_forecast_mean = extended_forecast.predicted_mean\n",
    "\n",
    "extended_conf_int = extended_forecast.conf_int()\n",
    "extended_conf_int.index = extended_index\n",
    "\n",
    "extended_forecast_df = pd.DataFrame({'Year': extended_index, 'Population': extended_forecast_mean.values})\n",
    "extended_forecast_df.set_index('Year', inplace=True)\n",
    "exog_po = extended_forecast_df\n",
    "\n",
    "# Assuming you have a DataFrame named 'extended_forecast_df'\n",
    "exog_po.to_csv('../../../results/population-forecast-2022to2050.csv', index=True)"
   ]
  },
  {
   "cell_type": "code",
   "execution_count": null,
   "id": "61a0b76e-a385-43d4-b305-0c4c5545793e",
   "metadata": {
    "tags": []
   },
   "outputs": [],
   "source": [
    "exog_po"
   ]
  },
  {
   "cell_type": "code",
   "execution_count": null,
   "id": "200ffa94-267b-41c4-b0fe-7cc44b127c61",
   "metadata": {},
   "outputs": [],
   "source": []
  }
 ],
 "metadata": {
  "kernelspec": {
   "display_name": "Python 3 (ipykernel)",
   "language": "python",
   "name": "python3"
  },
  "language_info": {
   "codemirror_mode": {
    "name": "ipython",
    "version": 3
   },
   "file_extension": ".py",
   "mimetype": "text/x-python",
   "name": "python",
   "nbconvert_exporter": "python",
   "pygments_lexer": "ipython3",
   "version": "3.11.5"
  }
 },
 "nbformat": 4,
 "nbformat_minor": 5
}
