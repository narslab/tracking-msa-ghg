{
 "cells": [
  {
   "cell_type": "code",
   "execution_count": 1,
   "id": "a5d62a3e-e364-4724-8cc9-f92b537bcdc8",
   "metadata": {
    "tags": []
   },
   "outputs": [],
   "source": [
    "import pandas as pd\n",
    "import numpy as np\n",
    "import os\n",
    "import string\n",
    "import seaborn as sns\n",
    "import matplotlib.pyplot as plt\n",
    "from matplotlib.ticker import ScalarFormatter\n",
    "from matplotlib.ticker import StrMethodFormatter\n"
   ]
  },
  {
   "cell_type": "code",
   "execution_count": 2,
   "id": "1a3fabd0-f73e-45b2-860d-7cd37f7913e1",
   "metadata": {},
   "outputs": [],
   "source": [
    "df_fuel_statewide = pd.read_excel('../../../data/raw/ce2.1.st.xlsx', sheet_name=\"physical units\")\n",
    "df_household_fuel = pd.read_excel('../../../data/raw/ACSDP5Y2020.DP04-2023-10-24T140337.xlsx', sheet_name=\"Data\")\n",
    "df_household_fuel_five_towns = pd.read_excel('../../../data/raw/ACSDP5Y2020.DP04-2024-01-09T103316.xlsx', sheet_name=\"Data\")"
   ]
  },
  {
   "cell_type": "code",
   "execution_count": 3,
   "id": "32809245-c1db-4444-b639-53aeb1c4e9f2",
   "metadata": {
    "tags": []
   },
   "outputs": [],
   "source": [
    "fuel = df_fuel_statewide.iloc[12,:]\n",
    "name = df_fuel_statewide.iloc[2,:]"
   ]
  },
  {
   "cell_type": "code",
   "execution_count": 4,
   "id": "ec28ae71-2985-4874-8f8f-6640e91688f0",
   "metadata": {},
   "outputs": [],
   "source": [
    "name = df_fuel_statewide.iloc[2,:]"
   ]
  },
  {
   "cell_type": "code",
   "execution_count": 5,
   "id": "5793dcfc-c38e-4ef6-a187-a01c2139be8e",
   "metadata": {
    "tags": []
   },
   "outputs": [],
   "source": [
    "fuel_statewide = pd.concat([name, fuel], axis=1)\n",
    "# Extract the first 3 rows\n",
    "total_fuel = fuel_statewide.iloc[2:6]"
   ]
  },
  {
   "cell_type": "code",
   "execution_count": 6,
   "id": "75c8637f-7672-4333-a1a1-5c28fff7f6a2",
   "metadata": {
    "tags": []
   },
   "outputs": [
    {
     "data": {
      "text/html": [
       "<div>\n",
       "<style scoped>\n",
       "    .dataframe tbody tr th:only-of-type {\n",
       "        vertical-align: middle;\n",
       "    }\n",
       "\n",
       "    .dataframe tbody tr th {\n",
       "        vertical-align: top;\n",
       "    }\n",
       "\n",
       "    .dataframe thead th {\n",
       "        text-align: right;\n",
       "    }\n",
       "</style>\n",
       "<table border=\"1\" class=\"dataframe\">\n",
       "  <thead>\n",
       "    <tr style=\"text-align: right;\">\n",
       "      <th></th>\n",
       "      <th>2</th>\n",
       "      <th>12</th>\n",
       "    </tr>\n",
       "  </thead>\n",
       "  <tbody>\n",
       "    <tr>\n",
       "      <th>Unnamed: 2</th>\n",
       "      <td>Electricity (billion kWh)</td>\n",
       "      <td>10.8</td>\n",
       "    </tr>\n",
       "    <tr>\n",
       "      <th>Unnamed: 3</th>\n",
       "      <td>Natural gas (billion cf)</td>\n",
       "      <td>36.9</td>\n",
       "    </tr>\n",
       "    <tr>\n",
       "      <th>Unnamed: 4</th>\n",
       "      <td>Propane (million gallons)</td>\n",
       "      <td>54.3</td>\n",
       "    </tr>\n",
       "    <tr>\n",
       "      <th>Unnamed: 5</th>\n",
       "      <td>Fuel oil or kerosene (million gallons)</td>\n",
       "      <td>345.7</td>\n",
       "    </tr>\n",
       "  </tbody>\n",
       "</table>\n",
       "</div>"
      ],
      "text/plain": [
       "                                                2      12\n",
       "Unnamed: 2               Electricity (billion kWh)   10.8\n",
       "Unnamed: 3                Natural gas (billion cf)   36.9\n",
       "Unnamed: 4               Propane (million gallons)   54.3\n",
       "Unnamed: 5  Fuel oil or kerosene (million gallons)  345.7"
      ]
     },
     "execution_count": 6,
     "metadata": {},
     "output_type": "execute_result"
    }
   ],
   "source": [
    "total_fuel "
   ]
  },
  {
   "cell_type": "code",
   "execution_count": 7,
   "id": "83fee8a0-27d3-49d0-b91a-ccddcfb3fe76",
   "metadata": {
    "tags": []
   },
   "outputs": [],
   "source": [
    "total_fuel = total_fuel.reset_index(drop=True)"
   ]
  },
  {
   "cell_type": "code",
   "execution_count": 8,
   "id": "298bad62-3f54-431b-9888-2a5de43c6547",
   "metadata": {
    "tags": []
   },
   "outputs": [],
   "source": [
    "natural_gas_CT = total_fuel.iat[1,1]\n",
    "propane_CT = total_fuel.iat[2,1]\n",
    "oil_CT = total_fuel.iat[3,1]"
   ]
  },
  {
   "cell_type": "code",
   "execution_count": 9,
   "id": "865f457d-1962-4608-8e80-71b79c683350",
   "metadata": {
    "tags": []
   },
   "outputs": [],
   "source": [
    "#extract the number of household\n",
    "df_household_fuel = df_household_fuel.iloc[72:76]\n",
    "df_household_fuel = df_household_fuel[['Unnamed: 0', 'Connecticut', 'Bridgeport-Stamford-Norwalk, CT Metro Area', 'Hartford-East Hartford-Middletown, CT Metro Area','New Haven-Milford, CT Metro Area']]"
   ]
  },
  {
   "cell_type": "code",
   "execution_count": 10,
   "id": "351cbfbd-9c1a-49b0-9484-9f0779b653b4",
   "metadata": {
    "tags": []
   },
   "outputs": [],
   "source": [
    "df_household_fuel.columns = df_household_fuel.columns.str.replace('Unnamed: 0', 'Fuel type')\n",
    "df_household_fuel = df_household_fuel.reset_index(drop=True)"
   ]
  },
  {
   "cell_type": "code",
   "execution_count": 11,
   "id": "78209158-509a-4171-83f2-a2a89e164001",
   "metadata": {
    "tags": []
   },
   "outputs": [
    {
     "data": {
      "text/html": [
       "<div>\n",
       "<style scoped>\n",
       "    .dataframe tbody tr th:only-of-type {\n",
       "        vertical-align: middle;\n",
       "    }\n",
       "\n",
       "    .dataframe tbody tr th {\n",
       "        vertical-align: top;\n",
       "    }\n",
       "\n",
       "    .dataframe thead th {\n",
       "        text-align: right;\n",
       "    }\n",
       "</style>\n",
       "<table border=\"1\" class=\"dataframe\">\n",
       "  <thead>\n",
       "    <tr style=\"text-align: right;\">\n",
       "      <th></th>\n",
       "      <th>Fuel type</th>\n",
       "      <th>Connecticut</th>\n",
       "      <th>Bridgeport-Stamford-Norwalk, CT Metro Area</th>\n",
       "      <th>Hartford-East Hartford-Middletown, CT Metro Area</th>\n",
       "      <th>New Haven-Milford, CT Metro Area</th>\n",
       "    </tr>\n",
       "  </thead>\n",
       "  <tbody>\n",
       "    <tr>\n",
       "      <th>0</th>\n",
       "      <td>Utility gas</td>\n",
       "      <td>495,646</td>\n",
       "      <td>140,147</td>\n",
       "      <td>190,541</td>\n",
       "      <td>134,167</td>\n",
       "    </tr>\n",
       "    <tr>\n",
       "      <th>1</th>\n",
       "      <td>Bottled, tank, or LP gas</td>\n",
       "      <td>64,356</td>\n",
       "      <td>15,254</td>\n",
       "      <td>21,596</td>\n",
       "      <td>11,823</td>\n",
       "    </tr>\n",
       "    <tr>\n",
       "      <th>2</th>\n",
       "      <td>Electricity</td>\n",
       "      <td>232,659</td>\n",
       "      <td>57,830</td>\n",
       "      <td>72,985</td>\n",
       "      <td>60,650</td>\n",
       "    </tr>\n",
       "    <tr>\n",
       "      <th>3</th>\n",
       "      <td>Fuel oil, kerosene, etc.</td>\n",
       "      <td>551,817</td>\n",
       "      <td>125,962</td>\n",
       "      <td>178,163</td>\n",
       "      <td>119,116</td>\n",
       "    </tr>\n",
       "  </tbody>\n",
       "</table>\n",
       "</div>"
      ],
      "text/plain": [
       "                  Fuel type Connecticut  \\\n",
       "0               Utility gas     495,646   \n",
       "1  Bottled, tank, or LP gas      64,356   \n",
       "2               Electricity     232,659   \n",
       "3  Fuel oil, kerosene, etc.     551,817   \n",
       "\n",
       "  Bridgeport-Stamford-Norwalk, CT Metro Area  \\\n",
       "0                                    140,147   \n",
       "1                                     15,254   \n",
       "2                                     57,830   \n",
       "3                                    125,962   \n",
       "\n",
       "  Hartford-East Hartford-Middletown, CT Metro Area  \\\n",
       "0                                          190,541   \n",
       "1                                           21,596   \n",
       "2                                           72,985   \n",
       "3                                          178,163   \n",
       "\n",
       "  New Haven-Milford, CT Metro Area  \n",
       "0                          134,167  \n",
       "1                           11,823  \n",
       "2                           60,650  \n",
       "3                          119,116  "
      ]
     },
     "execution_count": 11,
     "metadata": {},
     "output_type": "execute_result"
    }
   ],
   "source": [
    "df_household_fuel"
   ]
  },
  {
   "cell_type": "code",
   "execution_count": 12,
   "id": "48b58722-2903-4224-bac8-380e31a4516c",
   "metadata": {
    "tags": []
   },
   "outputs": [],
   "source": [
    "#extract the number of household\n",
    "df_household_fuel_five_towns = df_household_fuel_five_towns.iloc[72:76]\n",
    "df_household_fuel_five_towns = df_household_fuel_five_towns[['Unnamed: 0', 'Bridgewater town, Litchfield County, Connecticut', 'New Milford town, Litchfield County, Connecticut', 'Colchester town, New London County, Connecticut','Lyme town, New London County, Connecticut','Old Lyme town, New London County, Connecticut']]\n",
    "df_household_fuel_five_towns.columns = df_household_fuel_five_towns.columns.str.replace('Unnamed: 0', 'Fuel type')\n",
    "df_household_fuel_five_towns = df_household_fuel_five_towns.reset_index(drop=True)\n",
    "df_household_fuel_five_towns = df_household_fuel_five_towns.drop(2)"
   ]
  },
  {
   "cell_type": "code",
   "execution_count": 13,
   "id": "4922218f-f11c-4f1d-a2b0-7926fa29ee19",
   "metadata": {
    "tags": []
   },
   "outputs": [
    {
     "data": {
      "text/html": [
       "<div>\n",
       "<style scoped>\n",
       "    .dataframe tbody tr th:only-of-type {\n",
       "        vertical-align: middle;\n",
       "    }\n",
       "\n",
       "    .dataframe tbody tr th {\n",
       "        vertical-align: top;\n",
       "    }\n",
       "\n",
       "    .dataframe thead th {\n",
       "        text-align: right;\n",
       "    }\n",
       "</style>\n",
       "<table border=\"1\" class=\"dataframe\">\n",
       "  <thead>\n",
       "    <tr style=\"text-align: right;\">\n",
       "      <th></th>\n",
       "      <th>Fuel type</th>\n",
       "      <th>Bridgewater town, Litchfield County, Connecticut</th>\n",
       "      <th>New Milford town, Litchfield County, Connecticut</th>\n",
       "      <th>Colchester town, New London County, Connecticut</th>\n",
       "      <th>Lyme town, New London County, Connecticut</th>\n",
       "      <th>Old Lyme town, New London County, Connecticut</th>\n",
       "    </tr>\n",
       "  </thead>\n",
       "  <tbody>\n",
       "    <tr>\n",
       "      <th>0</th>\n",
       "      <td>Utility gas</td>\n",
       "      <td>12</td>\n",
       "      <td>174</td>\n",
       "      <td>146</td>\n",
       "      <td>19</td>\n",
       "      <td>76</td>\n",
       "    </tr>\n",
       "    <tr>\n",
       "      <th>1</th>\n",
       "      <td>Bottled, tank, or LP gas</td>\n",
       "      <td>81</td>\n",
       "      <td>586</td>\n",
       "      <td>838</td>\n",
       "      <td>146</td>\n",
       "      <td>324</td>\n",
       "    </tr>\n",
       "    <tr>\n",
       "      <th>3</th>\n",
       "      <td>Fuel oil, kerosene, etc.</td>\n",
       "      <td>544</td>\n",
       "      <td>6133</td>\n",
       "      <td>4183</td>\n",
       "      <td>697</td>\n",
       "      <td>1933</td>\n",
       "    </tr>\n",
       "  </tbody>\n",
       "</table>\n",
       "</div>"
      ],
      "text/plain": [
       "                  Fuel type  Bridgewater town, Litchfield County, Connecticut  \\\n",
       "0               Utility gas                                                12   \n",
       "1  Bottled, tank, or LP gas                                                81   \n",
       "3  Fuel oil, kerosene, etc.                                               544   \n",
       "\n",
       "   New Milford town, Litchfield County, Connecticut  \\\n",
       "0                                               174   \n",
       "1                                               586   \n",
       "3                                              6133   \n",
       "\n",
       "   Colchester town, New London County, Connecticut  \\\n",
       "0                                              146   \n",
       "1                                              838   \n",
       "3                                             4183   \n",
       "\n",
       "   Lyme town, New London County, Connecticut  \\\n",
       "0                                         19   \n",
       "1                                        146   \n",
       "3                                        697   \n",
       "\n",
       "   Old Lyme town, New London County, Connecticut  \n",
       "0                                             76  \n",
       "1                                            324  \n",
       "3                                           1933  "
      ]
     },
     "execution_count": 13,
     "metadata": {},
     "output_type": "execute_result"
    }
   ],
   "source": [
    "df_household_fuel_five_towns\n",
    "# Convert string values to numeric in specified columns\n",
    "columns_to_convert = df_household_fuel_five_towns.columns[1:]\n",
    "df_household_fuel_five_towns[columns_to_convert] = df_household_fuel_five_towns[columns_to_convert].apply(lambda x: pd.to_numeric(x.str.replace(',', ''), errors='coerce'))\n",
    "df_household_fuel_five_towns"
   ]
  },
  {
   "cell_type": "code",
   "execution_count": 14,
   "id": "94152740-3aba-4606-acad-456745bbad92",
   "metadata": {
    "tags": []
   },
   "outputs": [
    {
     "data": {
      "text/html": [
       "<div>\n",
       "<style scoped>\n",
       "    .dataframe tbody tr th:only-of-type {\n",
       "        vertical-align: middle;\n",
       "    }\n",
       "\n",
       "    .dataframe tbody tr th {\n",
       "        vertical-align: top;\n",
       "    }\n",
       "\n",
       "    .dataframe thead th {\n",
       "        text-align: right;\n",
       "    }\n",
       "</style>\n",
       "<table border=\"1\" class=\"dataframe\">\n",
       "  <thead>\n",
       "    <tr style=\"text-align: right;\">\n",
       "      <th></th>\n",
       "      <th>Fuel type</th>\n",
       "      <th>Connecticut</th>\n",
       "      <th>Bridgeport-Stamford-Norwalk, CT Metro Area</th>\n",
       "      <th>Hartford-East Hartford-Middletown, CT Metro Area</th>\n",
       "      <th>New Haven-Milford, CT Metro Area</th>\n",
       "    </tr>\n",
       "  </thead>\n",
       "  <tbody>\n",
       "    <tr>\n",
       "      <th>0</th>\n",
       "      <td>Utility gas</td>\n",
       "      <td>495646</td>\n",
       "      <td>140147</td>\n",
       "      <td>190541</td>\n",
       "      <td>134167</td>\n",
       "    </tr>\n",
       "    <tr>\n",
       "      <th>1</th>\n",
       "      <td>Bottled, tank, or LP gas</td>\n",
       "      <td>64356</td>\n",
       "      <td>15254</td>\n",
       "      <td>21596</td>\n",
       "      <td>11823</td>\n",
       "    </tr>\n",
       "    <tr>\n",
       "      <th>2</th>\n",
       "      <td>Electricity</td>\n",
       "      <td>232659</td>\n",
       "      <td>57830</td>\n",
       "      <td>72985</td>\n",
       "      <td>60650</td>\n",
       "    </tr>\n",
       "    <tr>\n",
       "      <th>3</th>\n",
       "      <td>Fuel oil, kerosene, etc.</td>\n",
       "      <td>551817</td>\n",
       "      <td>125962</td>\n",
       "      <td>178163</td>\n",
       "      <td>119116</td>\n",
       "    </tr>\n",
       "  </tbody>\n",
       "</table>\n",
       "</div>"
      ],
      "text/plain": [
       "                  Fuel type Connecticut  \\\n",
       "0               Utility gas      495646   \n",
       "1  Bottled, tank, or LP gas       64356   \n",
       "2               Electricity      232659   \n",
       "3  Fuel oil, kerosene, etc.      551817   \n",
       "\n",
       "  Bridgeport-Stamford-Norwalk, CT Metro Area  \\\n",
       "0                                     140147   \n",
       "1                                      15254   \n",
       "2                                      57830   \n",
       "3                                     125962   \n",
       "\n",
       "  Hartford-East Hartford-Middletown, CT Metro Area  \\\n",
       "0                                           190541   \n",
       "1                                            21596   \n",
       "2                                            72985   \n",
       "3                                           178163   \n",
       "\n",
       "  New Haven-Milford, CT Metro Area  \n",
       "0                           134167  \n",
       "1                            11823  \n",
       "2                            60650  \n",
       "3                           119116  "
      ]
     },
     "execution_count": 14,
     "metadata": {},
     "output_type": "execute_result"
    }
   ],
   "source": [
    "df_household_fuel[\"Bridgeport-Stamford-Norwalk, CT Metro Area\"] = df_household_fuel[\"Bridgeport-Stamford-Norwalk, CT Metro Area\"].str.replace(',', '')\n",
    "df_household_fuel[\"Hartford-East Hartford-Middletown, CT Metro Area\"] = df_household_fuel[\"Hartford-East Hartford-Middletown, CT Metro Area\"].str.replace(',', '')\n",
    "df_household_fuel[\"New Haven-Milford, CT Metro Area\"] = df_household_fuel[\"New Haven-Milford, CT Metro Area\"].str.replace(',', '')\n",
    "df_household_fuel[\"Connecticut\"] = df_household_fuel[\"Connecticut\"].str.replace(',', '')\n",
    "\n",
    "df_household_fuel"
   ]
  },
  {
   "cell_type": "code",
   "execution_count": 15,
   "id": "a745b3b4-2290-4181-94af-9829df1fad28",
   "metadata": {
    "tags": []
   },
   "outputs": [
    {
     "data": {
      "text/html": [
       "<div>\n",
       "<style scoped>\n",
       "    .dataframe tbody tr th:only-of-type {\n",
       "        vertical-align: middle;\n",
       "    }\n",
       "\n",
       "    .dataframe tbody tr th {\n",
       "        vertical-align: top;\n",
       "    }\n",
       "\n",
       "    .dataframe thead th {\n",
       "        text-align: right;\n",
       "    }\n",
       "</style>\n",
       "<table border=\"1\" class=\"dataframe\">\n",
       "  <thead>\n",
       "    <tr style=\"text-align: right;\">\n",
       "      <th></th>\n",
       "      <th>Fuel type</th>\n",
       "      <th>Connecticut</th>\n",
       "      <th>Bridgeport-Stamford-Norwalk, CT Metro Area</th>\n",
       "      <th>Hartford-East Hartford-Middletown, CT Metro Area</th>\n",
       "      <th>New Haven-Milford, CT Metro Area</th>\n",
       "    </tr>\n",
       "  </thead>\n",
       "  <tbody>\n",
       "    <tr>\n",
       "      <th>0</th>\n",
       "      <td>Utility gas</td>\n",
       "      <td>495646</td>\n",
       "      <td>140147</td>\n",
       "      <td>190541</td>\n",
       "      <td>134167</td>\n",
       "    </tr>\n",
       "    <tr>\n",
       "      <th>1</th>\n",
       "      <td>Bottled, tank, or LP gas</td>\n",
       "      <td>64356</td>\n",
       "      <td>15254</td>\n",
       "      <td>21596</td>\n",
       "      <td>11823</td>\n",
       "    </tr>\n",
       "    <tr>\n",
       "      <th>3</th>\n",
       "      <td>Fuel oil, kerosene, etc.</td>\n",
       "      <td>551817</td>\n",
       "      <td>125962</td>\n",
       "      <td>178163</td>\n",
       "      <td>119116</td>\n",
       "    </tr>\n",
       "  </tbody>\n",
       "</table>\n",
       "</div>"
      ],
      "text/plain": [
       "                  Fuel type  Connecticut  \\\n",
       "0               Utility gas       495646   \n",
       "1  Bottled, tank, or LP gas        64356   \n",
       "3  Fuel oil, kerosene, etc.       551817   \n",
       "\n",
       "   Bridgeport-Stamford-Norwalk, CT Metro Area  \\\n",
       "0                                      140147   \n",
       "1                                       15254   \n",
       "3                                      125962   \n",
       "\n",
       "   Hartford-East Hartford-Middletown, CT Metro Area  \\\n",
       "0                                            190541   \n",
       "1                                             21596   \n",
       "3                                            178163   \n",
       "\n",
       "   New Haven-Milford, CT Metro Area  \n",
       "0                            134167  \n",
       "1                             11823  \n",
       "3                            119116  "
      ]
     },
     "execution_count": 15,
     "metadata": {},
     "output_type": "execute_result"
    }
   ],
   "source": [
    "df_household_fuel = df_household_fuel.drop(2)\n",
    "# Convert string values to numeric in specified columns\n",
    "columns_to_convert = df_household_fuel.columns[1:]\n",
    "df_household_fuel[columns_to_convert] = df_household_fuel[columns_to_convert].apply(lambda x: pd.to_numeric(x.str.replace(',', ''), errors='coerce'))\n",
    "df_household_fuel"
   ]
  },
  {
   "cell_type": "code",
   "execution_count": 16,
   "id": "6faf72fa-fd0d-4747-a1c8-412921a22880",
   "metadata": {
    "tags": []
   },
   "outputs": [
    {
     "data": {
      "text/html": [
       "<div>\n",
       "<style scoped>\n",
       "    .dataframe tbody tr th:only-of-type {\n",
       "        vertical-align: middle;\n",
       "    }\n",
       "\n",
       "    .dataframe tbody tr th {\n",
       "        vertical-align: top;\n",
       "    }\n",
       "\n",
       "    .dataframe thead th {\n",
       "        text-align: right;\n",
       "    }\n",
       "</style>\n",
       "<table border=\"1\" class=\"dataframe\">\n",
       "  <thead>\n",
       "    <tr style=\"text-align: right;\">\n",
       "      <th></th>\n",
       "      <th>Fuel type</th>\n",
       "      <th>Bridgewater town, Litchfield County, Connecticut</th>\n",
       "      <th>New Milford town, Litchfield County, Connecticut</th>\n",
       "      <th>Colchester town, New London County, Connecticut</th>\n",
       "      <th>Lyme town, New London County, Connecticut</th>\n",
       "      <th>Old Lyme town, New London County, Connecticut</th>\n",
       "      <th>Litchfield</th>\n",
       "      <th>New London</th>\n",
       "    </tr>\n",
       "  </thead>\n",
       "  <tbody>\n",
       "    <tr>\n",
       "      <th>0</th>\n",
       "      <td>Utility gas</td>\n",
       "      <td>12</td>\n",
       "      <td>174</td>\n",
       "      <td>146</td>\n",
       "      <td>19</td>\n",
       "      <td>76</td>\n",
       "      <td>186</td>\n",
       "      <td>241</td>\n",
       "    </tr>\n",
       "    <tr>\n",
       "      <th>1</th>\n",
       "      <td>Bottled, tank, or LP gas</td>\n",
       "      <td>81</td>\n",
       "      <td>586</td>\n",
       "      <td>838</td>\n",
       "      <td>146</td>\n",
       "      <td>324</td>\n",
       "      <td>667</td>\n",
       "      <td>1308</td>\n",
       "    </tr>\n",
       "    <tr>\n",
       "      <th>3</th>\n",
       "      <td>Fuel oil, kerosene, etc.</td>\n",
       "      <td>544</td>\n",
       "      <td>6133</td>\n",
       "      <td>4183</td>\n",
       "      <td>697</td>\n",
       "      <td>1933</td>\n",
       "      <td>6677</td>\n",
       "      <td>6813</td>\n",
       "    </tr>\n",
       "  </tbody>\n",
       "</table>\n",
       "</div>"
      ],
      "text/plain": [
       "                  Fuel type  Bridgewater town, Litchfield County, Connecticut  \\\n",
       "0               Utility gas                                                12   \n",
       "1  Bottled, tank, or LP gas                                                81   \n",
       "3  Fuel oil, kerosene, etc.                                               544   \n",
       "\n",
       "   New Milford town, Litchfield County, Connecticut  \\\n",
       "0                                               174   \n",
       "1                                               586   \n",
       "3                                              6133   \n",
       "\n",
       "   Colchester town, New London County, Connecticut  \\\n",
       "0                                              146   \n",
       "1                                              838   \n",
       "3                                             4183   \n",
       "\n",
       "   Lyme town, New London County, Connecticut  \\\n",
       "0                                         19   \n",
       "1                                        146   \n",
       "3                                        697   \n",
       "\n",
       "   Old Lyme town, New London County, Connecticut  Litchfield  New London  \n",
       "0                                             76         186         241  \n",
       "1                                            324         667        1308  \n",
       "3                                           1933        6677        6813  "
      ]
     },
     "execution_count": 16,
     "metadata": {},
     "output_type": "execute_result"
    }
   ],
   "source": [
    "df_household_fuel_five_towns['Litchfield']=df_household_fuel_five_towns['Bridgewater town, Litchfield County, Connecticut']+df_household_fuel_five_towns['New Milford town, Litchfield County, Connecticut']\n",
    "df_household_fuel_five_towns['New London']=df_household_fuel_five_towns['Colchester town, New London County, Connecticut']+df_household_fuel_five_towns['Lyme town, New London County, Connecticut']+df_household_fuel_five_towns['Old Lyme town, New London County, Connecticut']\n",
    "df_household_fuel_five_towns"
   ]
  },
  {
   "cell_type": "code",
   "execution_count": 17,
   "id": "f0873a43-e325-4796-9c20-c118cb148612",
   "metadata": {
    "tags": []
   },
   "outputs": [
    {
     "data": {
      "text/html": [
       "<div>\n",
       "<style scoped>\n",
       "    .dataframe tbody tr th:only-of-type {\n",
       "        vertical-align: middle;\n",
       "    }\n",
       "\n",
       "    .dataframe tbody tr th {\n",
       "        vertical-align: top;\n",
       "    }\n",
       "\n",
       "    .dataframe thead th {\n",
       "        text-align: right;\n",
       "    }\n",
       "</style>\n",
       "<table border=\"1\" class=\"dataframe\">\n",
       "  <thead>\n",
       "    <tr style=\"text-align: right;\">\n",
       "      <th></th>\n",
       "      <th>Fuel type</th>\n",
       "      <th>Connecticut</th>\n",
       "      <th>Bridgeport-Stamford-Norwalk, CT Metro Area</th>\n",
       "      <th>Hartford-East Hartford-Middletown, CT Metro Area</th>\n",
       "      <th>New Haven-Milford, CT Metro Area</th>\n",
       "    </tr>\n",
       "  </thead>\n",
       "  <tbody>\n",
       "    <tr>\n",
       "      <th>0</th>\n",
       "      <td>Utility gas</td>\n",
       "      <td>495646</td>\n",
       "      <td>140333</td>\n",
       "      <td>190782</td>\n",
       "      <td>134167</td>\n",
       "    </tr>\n",
       "    <tr>\n",
       "      <th>1</th>\n",
       "      <td>Bottled, tank, or LP gas</td>\n",
       "      <td>64356</td>\n",
       "      <td>15921</td>\n",
       "      <td>22904</td>\n",
       "      <td>11823</td>\n",
       "    </tr>\n",
       "    <tr>\n",
       "      <th>3</th>\n",
       "      <td>Fuel oil, kerosene, etc.</td>\n",
       "      <td>551817</td>\n",
       "      <td>132639</td>\n",
       "      <td>184976</td>\n",
       "      <td>119116</td>\n",
       "    </tr>\n",
       "  </tbody>\n",
       "</table>\n",
       "</div>"
      ],
      "text/plain": [
       "                  Fuel type  Connecticut  \\\n",
       "0               Utility gas       495646   \n",
       "1  Bottled, tank, or LP gas        64356   \n",
       "3  Fuel oil, kerosene, etc.       551817   \n",
       "\n",
       "   Bridgeport-Stamford-Norwalk, CT Metro Area  \\\n",
       "0                                      140333   \n",
       "1                                       15921   \n",
       "3                                      132639   \n",
       "\n",
       "   Hartford-East Hartford-Middletown, CT Metro Area  \\\n",
       "0                                            190782   \n",
       "1                                             22904   \n",
       "3                                            184976   \n",
       "\n",
       "   New Haven-Milford, CT Metro Area  \n",
       "0                            134167  \n",
       "1                             11823  \n",
       "3                            119116  "
      ]
     },
     "execution_count": 17,
     "metadata": {},
     "output_type": "execute_result"
    }
   ],
   "source": [
    "df_household_fuel['Bridgeport-Stamford-Norwalk, CT Metro Area']=df_household_fuel['Bridgeport-Stamford-Norwalk, CT Metro Area']+df_household_fuel_five_towns['Litchfield']\n",
    "df_household_fuel['Hartford-East Hartford-Middletown, CT Metro Area']=df_household_fuel['Hartford-East Hartford-Middletown, CT Metro Area']+df_household_fuel_five_towns['New London']\n",
    "df_household_fuel"
   ]
  },
  {
   "cell_type": "code",
   "execution_count": 18,
   "id": "75614449-b1de-41fc-aebf-38541662da9e",
   "metadata": {
    "tags": []
   },
   "outputs": [
    {
     "data": {
      "text/html": [
       "<div>\n",
       "<style scoped>\n",
       "    .dataframe tbody tr th:only-of-type {\n",
       "        vertical-align: middle;\n",
       "    }\n",
       "\n",
       "    .dataframe tbody tr th {\n",
       "        vertical-align: top;\n",
       "    }\n",
       "\n",
       "    .dataframe thead th {\n",
       "        text-align: right;\n",
       "    }\n",
       "</style>\n",
       "<table border=\"1\" class=\"dataframe\">\n",
       "  <thead>\n",
       "    <tr style=\"text-align: right;\">\n",
       "      <th></th>\n",
       "      <th>Fuel type</th>\n",
       "      <th>Connecticut</th>\n",
       "      <th>Bridgeport-Stamford-Norwalk, CT Metro Area</th>\n",
       "      <th>Hartford-East Hartford-Middletown, CT Metro Area</th>\n",
       "      <th>New Haven-Milford, CT Metro Area</th>\n",
       "      <th>BSN relative to the statewide</th>\n",
       "      <th>HEM relative to the statewide</th>\n",
       "      <th>NHM relative to the statewide</th>\n",
       "    </tr>\n",
       "  </thead>\n",
       "  <tbody>\n",
       "    <tr>\n",
       "      <th>0</th>\n",
       "      <td>Utility gas</td>\n",
       "      <td>495646</td>\n",
       "      <td>140333</td>\n",
       "      <td>190782</td>\n",
       "      <td>134167</td>\n",
       "      <td>0.283132</td>\n",
       "      <td>0.384916</td>\n",
       "      <td>0.270691</td>\n",
       "    </tr>\n",
       "    <tr>\n",
       "      <th>1</th>\n",
       "      <td>Bottled, tank, or LP gas</td>\n",
       "      <td>64356</td>\n",
       "      <td>15921</td>\n",
       "      <td>22904</td>\n",
       "      <td>11823</td>\n",
       "      <td>0.247390</td>\n",
       "      <td>0.355895</td>\n",
       "      <td>0.183712</td>\n",
       "    </tr>\n",
       "    <tr>\n",
       "      <th>3</th>\n",
       "      <td>Fuel oil, kerosene, etc.</td>\n",
       "      <td>551817</td>\n",
       "      <td>132639</td>\n",
       "      <td>184976</td>\n",
       "      <td>119116</td>\n",
       "      <td>0.240368</td>\n",
       "      <td>0.335213</td>\n",
       "      <td>0.215861</td>\n",
       "    </tr>\n",
       "  </tbody>\n",
       "</table>\n",
       "</div>"
      ],
      "text/plain": [
       "                  Fuel type  Connecticut  \\\n",
       "0               Utility gas       495646   \n",
       "1  Bottled, tank, or LP gas        64356   \n",
       "3  Fuel oil, kerosene, etc.       551817   \n",
       "\n",
       "   Bridgeport-Stamford-Norwalk, CT Metro Area  \\\n",
       "0                                      140333   \n",
       "1                                       15921   \n",
       "3                                      132639   \n",
       "\n",
       "   Hartford-East Hartford-Middletown, CT Metro Area  \\\n",
       "0                                            190782   \n",
       "1                                             22904   \n",
       "3                                            184976   \n",
       "\n",
       "   New Haven-Milford, CT Metro Area  BSN relative to the statewide  \\\n",
       "0                            134167                       0.283132   \n",
       "1                             11823                       0.247390   \n",
       "3                            119116                       0.240368   \n",
       "\n",
       "   HEM relative to the statewide  NHM relative to the statewide  \n",
       "0                       0.384916                       0.270691  \n",
       "1                       0.355895                       0.183712  \n",
       "3                       0.335213                       0.215861  "
      ]
     },
     "execution_count": 18,
     "metadata": {},
     "output_type": "execute_result"
    }
   ],
   "source": [
    "df_household_fuel[\"BSN relative to the statewide\"] = df_household_fuel[\"Bridgeport-Stamford-Norwalk, CT Metro Area\"].astype(int)/df_household_fuel[\"Connecticut\"].astype(int)\n",
    "df_household_fuel[\"HEM relative to the statewide\"] = df_household_fuel[\"Hartford-East Hartford-Middletown, CT Metro Area\"].astype(int)/df_household_fuel[\"Connecticut\"].astype(int)\n",
    "df_household_fuel[\"NHM relative to the statewide\"] = df_household_fuel[\"New Haven-Milford, CT Metro Area\"].astype(int)/df_household_fuel[\"Connecticut\"].astype(int)\n",
    "df_household_fuel"
   ]
  },
  {
   "cell_type": "code",
   "execution_count": 19,
   "id": "0faa8163-8366-4069-bac0-ce702cffb5a7",
   "metadata": {
    "tags": []
   },
   "outputs": [
    {
     "name": "stdout",
     "output_type": "stream",
     "text": [
      "                 Energy type       CO2   CH4   N2O\n",
      "0  Natural gas (g (Gas)/scf)     54.44  0.00  0.00\n",
      "1   Propane (g (Gas)/gallon)   5720.00  0.27  0.05\n",
      "2   Fuel oil (g (Gas)/gallon  10150.00  0.41  0.08\n"
     ]
    }
   ],
   "source": [
    "# Create a dictionary containing sample data\n",
    "data = {\n",
    "    'Energy type': ['Natural gas (g (Gas)/scf)','Propane (g (Gas)/gallon)', 'Fuel oil (g (Gas)/gallon'],\n",
    "    'CO2': [54.44, 5720, 10150],\n",
    "    'CH4': [0, 0.27, 0.41],\n",
    "    'N2O': [0,0.05,0.08]\n",
    "}\n",
    "\n",
    "# Create a DataFrame from the dictionary\n",
    "emissions_factor = pd.DataFrame(data)\n",
    "\n",
    "# Display the DataFrame\n",
    "print(emissions_factor)"
   ]
  },
  {
   "cell_type": "code",
   "execution_count": 20,
   "id": "ac02a509-ea3f-4e2c-8410-0ba8345d7ee1",
   "metadata": {
    "tags": []
   },
   "outputs": [],
   "source": [
    "# calculate the total amount of fuel consumption in each MSA\n",
    "natural_gas_CT = total_fuel.iat[1,1]\n",
    "propane_CT = total_fuel.iat[2,1]\n",
    "oil_CT = total_fuel.iat[3,1]\n",
    "df_household_fuel[\"Statewide Energy consumption\"]=[natural_gas_CT*1000,propane_CT,oil_CT]"
   ]
  },
  {
   "cell_type": "code",
   "execution_count": 21,
   "id": "d1e26a3a-eae2-46a7-b37f-c4f2c459b655",
   "metadata": {
    "tags": []
   },
   "outputs": [],
   "source": [
    "df_household_fuel[\"BSN Energy consumption\"] = df_household_fuel[\"Statewide Energy consumption\"]*df_household_fuel[\"BSN relative to the statewide\"]\n",
    "df_household_fuel[\"HEM Energy consumption\"] = df_household_fuel[\"Statewide Energy consumption\"]*df_household_fuel[\"HEM relative to the statewide\"]\n",
    "df_household_fuel[\"NHM Energy consumption\"] = df_household_fuel[\"Statewide Energy consumption\"]*df_household_fuel[\"NHM relative to the statewide\"]\n",
    "df_household_fuel [\"Energy consumption unit\"] = [\"million cf\",\"million gallons\",\"million gallons\"]"
   ]
  },
  {
   "cell_type": "code",
   "execution_count": 22,
   "id": "69010a16-bae2-427e-a2c7-a12d0727a865",
   "metadata": {
    "tags": []
   },
   "outputs": [
    {
     "data": {
      "text/html": [
       "<div>\n",
       "<style scoped>\n",
       "    .dataframe tbody tr th:only-of-type {\n",
       "        vertical-align: middle;\n",
       "    }\n",
       "\n",
       "    .dataframe tbody tr th {\n",
       "        vertical-align: top;\n",
       "    }\n",
       "\n",
       "    .dataframe thead th {\n",
       "        text-align: right;\n",
       "    }\n",
       "</style>\n",
       "<table border=\"1\" class=\"dataframe\">\n",
       "  <thead>\n",
       "    <tr style=\"text-align: right;\">\n",
       "      <th></th>\n",
       "      <th>Fuel type</th>\n",
       "      <th>Connecticut</th>\n",
       "      <th>Bridgeport-Stamford-Norwalk, CT Metro Area</th>\n",
       "      <th>Hartford-East Hartford-Middletown, CT Metro Area</th>\n",
       "      <th>New Haven-Milford, CT Metro Area</th>\n",
       "      <th>BSN relative to the statewide</th>\n",
       "      <th>HEM relative to the statewide</th>\n",
       "      <th>NHM relative to the statewide</th>\n",
       "      <th>Statewide Energy consumption</th>\n",
       "      <th>BSN Energy consumption</th>\n",
       "      <th>HEM Energy consumption</th>\n",
       "      <th>NHM Energy consumption</th>\n",
       "      <th>Energy consumption unit</th>\n",
       "    </tr>\n",
       "  </thead>\n",
       "  <tbody>\n",
       "    <tr>\n",
       "      <th>0</th>\n",
       "      <td>Utility gas</td>\n",
       "      <td>495646</td>\n",
       "      <td>140333</td>\n",
       "      <td>190782</td>\n",
       "      <td>134167</td>\n",
       "      <td>0.283132</td>\n",
       "      <td>0.384916</td>\n",
       "      <td>0.270691</td>\n",
       "      <td>36900.0</td>\n",
       "      <td>10447.552689</td>\n",
       "      <td>14203.394762</td>\n",
       "      <td>9988.504497</td>\n",
       "      <td>million cf</td>\n",
       "    </tr>\n",
       "    <tr>\n",
       "      <th>1</th>\n",
       "      <td>Bottled, tank, or LP gas</td>\n",
       "      <td>64356</td>\n",
       "      <td>15921</td>\n",
       "      <td>22904</td>\n",
       "      <td>11823</td>\n",
       "      <td>0.247390</td>\n",
       "      <td>0.355895</td>\n",
       "      <td>0.183712</td>\n",
       "      <td>54.3</td>\n",
       "      <td>13.433251</td>\n",
       "      <td>19.325117</td>\n",
       "      <td>9.975587</td>\n",
       "      <td>million gallons</td>\n",
       "    </tr>\n",
       "    <tr>\n",
       "      <th>3</th>\n",
       "      <td>Fuel oil, kerosene, etc.</td>\n",
       "      <td>551817</td>\n",
       "      <td>132639</td>\n",
       "      <td>184976</td>\n",
       "      <td>119116</td>\n",
       "      <td>0.240368</td>\n",
       "      <td>0.335213</td>\n",
       "      <td>0.215861</td>\n",
       "      <td>345.7</td>\n",
       "      <td>83.095124</td>\n",
       "      <td>115.882989</td>\n",
       "      <td>74.623292</td>\n",
       "      <td>million gallons</td>\n",
       "    </tr>\n",
       "  </tbody>\n",
       "</table>\n",
       "</div>"
      ],
      "text/plain": [
       "                  Fuel type  Connecticut  \\\n",
       "0               Utility gas       495646   \n",
       "1  Bottled, tank, or LP gas        64356   \n",
       "3  Fuel oil, kerosene, etc.       551817   \n",
       "\n",
       "   Bridgeport-Stamford-Norwalk, CT Metro Area  \\\n",
       "0                                      140333   \n",
       "1                                       15921   \n",
       "3                                      132639   \n",
       "\n",
       "   Hartford-East Hartford-Middletown, CT Metro Area  \\\n",
       "0                                            190782   \n",
       "1                                             22904   \n",
       "3                                            184976   \n",
       "\n",
       "   New Haven-Milford, CT Metro Area  BSN relative to the statewide  \\\n",
       "0                            134167                       0.283132   \n",
       "1                             11823                       0.247390   \n",
       "3                            119116                       0.240368   \n",
       "\n",
       "   HEM relative to the statewide  NHM relative to the statewide  \\\n",
       "0                       0.384916                       0.270691   \n",
       "1                       0.355895                       0.183712   \n",
       "3                       0.335213                       0.215861   \n",
       "\n",
       "   Statewide Energy consumption  BSN Energy consumption  \\\n",
       "0                       36900.0            10447.552689   \n",
       "1                          54.3               13.433251   \n",
       "3                         345.7               83.095124   \n",
       "\n",
       "   HEM Energy consumption  NHM Energy consumption Energy consumption unit  \n",
       "0            14203.394762             9988.504497              million cf  \n",
       "1               19.325117                9.975587         million gallons  \n",
       "3              115.882989               74.623292         million gallons  "
      ]
     },
     "execution_count": 22,
     "metadata": {},
     "output_type": "execute_result"
    }
   ],
   "source": [
    "df_household_fuel"
   ]
  },
  {
   "cell_type": "code",
   "execution_count": 23,
   "id": "8e6d3c49-91bb-436b-9446-6f5a6f6fb7c3",
   "metadata": {
    "tags": []
   },
   "outputs": [],
   "source": [
    "df_household_fuel[\"Emissions factor unit\"] = [\"g (Gas)/scf\",\"g (Gas)/gallon\",\"g (Gas)/gallon\"]\n",
    "df_household_fuel[\"CO2\"] = [54.44,5720,10150]\n",
    "df_household_fuel[\"CH4\"] = [0,0.27,0.41]\n",
    "df_household_fuel [\"N2O\"] = [0,0.05,0.08]"
   ]
  },
  {
   "cell_type": "code",
   "execution_count": 24,
   "id": "57640ef2-ff7c-4490-81c5-f2fa1e8e286c",
   "metadata": {
    "tags": []
   },
   "outputs": [
    {
     "data": {
      "text/html": [
       "<div>\n",
       "<style scoped>\n",
       "    .dataframe tbody tr th:only-of-type {\n",
       "        vertical-align: middle;\n",
       "    }\n",
       "\n",
       "    .dataframe tbody tr th {\n",
       "        vertical-align: top;\n",
       "    }\n",
       "\n",
       "    .dataframe thead th {\n",
       "        text-align: right;\n",
       "    }\n",
       "</style>\n",
       "<table border=\"1\" class=\"dataframe\">\n",
       "  <thead>\n",
       "    <tr style=\"text-align: right;\">\n",
       "      <th></th>\n",
       "      <th>Fuel type</th>\n",
       "      <th>Connecticut</th>\n",
       "      <th>Bridgeport-Stamford-Norwalk, CT Metro Area</th>\n",
       "      <th>Hartford-East Hartford-Middletown, CT Metro Area</th>\n",
       "      <th>New Haven-Milford, CT Metro Area</th>\n",
       "      <th>BSN relative to the statewide</th>\n",
       "      <th>HEM relative to the statewide</th>\n",
       "      <th>NHM relative to the statewide</th>\n",
       "      <th>Statewide Energy consumption</th>\n",
       "      <th>BSN Energy consumption</th>\n",
       "      <th>HEM Energy consumption</th>\n",
       "      <th>NHM Energy consumption</th>\n",
       "      <th>Energy consumption unit</th>\n",
       "      <th>Emissions factor unit</th>\n",
       "      <th>CO2</th>\n",
       "      <th>CH4</th>\n",
       "      <th>N2O</th>\n",
       "    </tr>\n",
       "  </thead>\n",
       "  <tbody>\n",
       "    <tr>\n",
       "      <th>0</th>\n",
       "      <td>Utility gas</td>\n",
       "      <td>495646</td>\n",
       "      <td>140333</td>\n",
       "      <td>190782</td>\n",
       "      <td>134167</td>\n",
       "      <td>0.283132</td>\n",
       "      <td>0.384916</td>\n",
       "      <td>0.270691</td>\n",
       "      <td>36900.0</td>\n",
       "      <td>10447.552689</td>\n",
       "      <td>14203.394762</td>\n",
       "      <td>9988.504497</td>\n",
       "      <td>million cf</td>\n",
       "      <td>g (Gas)/scf</td>\n",
       "      <td>54.44</td>\n",
       "      <td>0.00</td>\n",
       "      <td>0.00</td>\n",
       "    </tr>\n",
       "    <tr>\n",
       "      <th>1</th>\n",
       "      <td>Bottled, tank, or LP gas</td>\n",
       "      <td>64356</td>\n",
       "      <td>15921</td>\n",
       "      <td>22904</td>\n",
       "      <td>11823</td>\n",
       "      <td>0.247390</td>\n",
       "      <td>0.355895</td>\n",
       "      <td>0.183712</td>\n",
       "      <td>54.3</td>\n",
       "      <td>13.433251</td>\n",
       "      <td>19.325117</td>\n",
       "      <td>9.975587</td>\n",
       "      <td>million gallons</td>\n",
       "      <td>g (Gas)/gallon</td>\n",
       "      <td>5720.00</td>\n",
       "      <td>0.27</td>\n",
       "      <td>0.05</td>\n",
       "    </tr>\n",
       "    <tr>\n",
       "      <th>2</th>\n",
       "      <td>Fuel oil, kerosene, etc.</td>\n",
       "      <td>551817</td>\n",
       "      <td>132639</td>\n",
       "      <td>184976</td>\n",
       "      <td>119116</td>\n",
       "      <td>0.240368</td>\n",
       "      <td>0.335213</td>\n",
       "      <td>0.215861</td>\n",
       "      <td>345.7</td>\n",
       "      <td>83.095124</td>\n",
       "      <td>115.882989</td>\n",
       "      <td>74.623292</td>\n",
       "      <td>million gallons</td>\n",
       "      <td>g (Gas)/gallon</td>\n",
       "      <td>10150.00</td>\n",
       "      <td>0.41</td>\n",
       "      <td>0.08</td>\n",
       "    </tr>\n",
       "  </tbody>\n",
       "</table>\n",
       "</div>"
      ],
      "text/plain": [
       "                  Fuel type  Connecticut  \\\n",
       "0               Utility gas       495646   \n",
       "1  Bottled, tank, or LP gas        64356   \n",
       "2  Fuel oil, kerosene, etc.       551817   \n",
       "\n",
       "   Bridgeport-Stamford-Norwalk, CT Metro Area  \\\n",
       "0                                      140333   \n",
       "1                                       15921   \n",
       "2                                      132639   \n",
       "\n",
       "   Hartford-East Hartford-Middletown, CT Metro Area  \\\n",
       "0                                            190782   \n",
       "1                                             22904   \n",
       "2                                            184976   \n",
       "\n",
       "   New Haven-Milford, CT Metro Area  BSN relative to the statewide  \\\n",
       "0                            134167                       0.283132   \n",
       "1                             11823                       0.247390   \n",
       "2                            119116                       0.240368   \n",
       "\n",
       "   HEM relative to the statewide  NHM relative to the statewide  \\\n",
       "0                       0.384916                       0.270691   \n",
       "1                       0.355895                       0.183712   \n",
       "2                       0.335213                       0.215861   \n",
       "\n",
       "   Statewide Energy consumption  BSN Energy consumption  \\\n",
       "0                       36900.0            10447.552689   \n",
       "1                          54.3               13.433251   \n",
       "2                         345.7               83.095124   \n",
       "\n",
       "   HEM Energy consumption  NHM Energy consumption Energy consumption unit  \\\n",
       "0            14203.394762             9988.504497              million cf   \n",
       "1               19.325117                9.975587         million gallons   \n",
       "2              115.882989               74.623292         million gallons   \n",
       "\n",
       "  Emissions factor unit       CO2   CH4   N2O  \n",
       "0           g (Gas)/scf     54.44  0.00  0.00  \n",
       "1        g (Gas)/gallon   5720.00  0.27  0.05  \n",
       "2        g (Gas)/gallon  10150.00  0.41  0.08  "
      ]
     },
     "execution_count": 24,
     "metadata": {},
     "output_type": "execute_result"
    }
   ],
   "source": [
    "df_household_fuel.reset_index(drop=True, inplace=True)\n",
    "df_household_fuel"
   ]
  },
  {
   "cell_type": "code",
   "execution_count": 25,
   "id": "8cf042da-e9b0-4a14-9486-bcbf5505bd67",
   "metadata": {
    "tags": []
   },
   "outputs": [
    {
     "data": {
      "image/png": "[encoded data removed]",
      "text/plain": [
       "<Figure size 600x600 with 1 Axes>"
      ]
     },
     "metadata": {},
     "output_type": "display_data"
    }
   ],
   "source": [
    "BSN = df_household_fuel['Bridgeport-Stamford-Norwalk, CT Metro Area']\n",
    "plt.figure(figsize=(6, 6))\n",
    "\n",
    "# Plot a pie chart from the Series with labels\n",
    "plt.pie(BSN, labels=df_household_fuel['Fuel type'], autopct='%1.1f%%', startangle=90, textprops={'fontsize': 15})\n",
    "plt.savefig('../../../figures/BSN-household-fuel.png', dpi=600, bbox_inches='tight')\n"
   ]
  },
  {
   "cell_type": "code",
   "execution_count": 26,
   "id": "1a453763-4a05-4df8-8bfe-4311775b37d8",
   "metadata": {
    "tags": []
   },
   "outputs": [
    {
     "data": {
      "image/png": "[encoded data removed]",
      "text/plain": [
       "<Figure size 600x600 with 1 Axes>"
      ]
     },
     "metadata": {},
     "output_type": "display_data"
    }
   ],
   "source": [
    "HEM = df_household_fuel['Hartford-East Hartford-Middletown, CT Metro Area']\n",
    "plt.figure(figsize=(6, 6))\n",
    "\n",
    "# Plot a pie chart from the Series with labels\n",
    "plt.pie(HEM, labels=df_household_fuel['Fuel type'], autopct='%1.1f%%', startangle=90, textprops={'fontsize': 15})\n",
    "\n",
    "plt.savefig('../../../figures/HEM-household-fuel.png', dpi=600, bbox_inches='tight')"
   ]
  },
  {
   "cell_type": "code",
   "execution_count": 27,
   "id": "1d3e2691-2848-4d9a-a9c6-a6ecbf1a3b4a",
   "metadata": {
    "tags": []
   },
   "outputs": [
    {
     "data": {
      "image/png": "[encoded data removed]",
      "text/plain": [
       "<Figure size 600x600 with 1 Axes>"
      ]
     },
     "metadata": {},
     "output_type": "display_data"
    }
   ],
   "source": [
    "NHM = df_household_fuel['New Haven-Milford, CT Metro Area']\n",
    "plt.figure(figsize=(6, 6))\n",
    "\n",
    "# Plot a pie chart from the Series with labels\n",
    "plt.pie(NHM, labels=df_household_fuel['Fuel type'], autopct='%1.1f%%', startangle=90, textprops={'fontsize': 15})\n",
    "plt.savefig('../../../figures/NHM-household-fuel.png', dpi=600, bbox_inches='tight')\n"
   ]
  },
  {
   "cell_type": "code",
   "execution_count": 28,
   "id": "0fc13949-6a9e-42d1-bedb-094013785cce",
   "metadata": {},
   "outputs": [
    {
     "data": {
      "image/png": "[encoded data removed]",
      "text/plain": [
       "<Figure size 700x600 with 1 Axes>"
      ]
     },
     "metadata": {},
     "output_type": "display_data"
    }
   ],
   "source": [
    "import numpy as np\n",
    "import matplotlib.pyplot as plt\n",
    "\n",
    "plt.figure(figsize=(7, 6)) \n",
    "# Sample data\n",
    "utility_gas = df_household_fuel.iloc[0][2:5]   # NH, HH, BSN\n",
    "propane = df_household_fuel.iloc[1][2:5] \n",
    "fuel_oil = df_household_fuel.iloc[2][2:5]    # Add your third set of data\n",
    "\n",
    "X = ['Bridgeport-Stamford-Norwalk','Hartford-East Hartford-Middletown', 'New Haven-Milford']\n",
    "\n",
    "utility_gas = pd.to_numeric(utility_gas, errors='coerce')\n",
    "propane = pd.to_numeric(propane, errors='coerce')\n",
    "fuel_oil = pd.to_numeric(fuel_oil, errors='coerce')\n",
    "\n",
    "Y_axis = np.arange(len(X))\n",
    "\n",
    "# Set the width of the bars\n",
    "bar_width = 0.2\n",
    "\n",
    "\n",
    "# Normalize data\n",
    "utility_gas_normalized = utility_gas / float(utility_gas.sum())\n",
    "propane_normalized = propane / float(propane.sum())\n",
    "fuel_oil_normalized = fuel_oil / float(fuel_oil.sum())\n",
    "\n",
    "# Plot normalized data\n",
    "plt.barh(Y_axis - bar_width, utility_gas_normalized, bar_width, label='Utility gas')\n",
    "plt.barh(Y_axis, propane_normalized, bar_width, label='Liquid petroleum gas')\n",
    "plt.barh(Y_axis + bar_width, fuel_oil_normalized, bar_width, label='Fuel oil')\n",
    "\n",
    "\n",
    "X = ['Bridgeport-Stamford-Norwalk','Hartford-East Hartford-Middletown', 'New Haven-Milford']\n",
    "\n",
    "\n",
    "\n",
    "plt.yticks(Y_axis, X)\n",
    "plt.xlabel(\"Household Number\", fontsize=15, labelpad=20)\n",
    "plt.xticks(fontsize=10)\n",
    "plt.yticks(fontsize=16)\n",
    "plt.legend(loc='lower right')\n",
    "\n",
    "# Uncomment the following line to display the plot\n",
    "# plt.show()\n",
    "\n",
    "# Save the plot\n",
    "plt.savefig('../../../figures/Report-images/household-fuel.png', dpi=600, bbox_inches='tight')\n"
   ]
  },
  {
   "cell_type": "code",
   "execution_count": 29,
   "id": "430aea9c-be3c-47eb-aafa-f65bee2c3347",
   "metadata": {
    "tags": []
   },
   "outputs": [],
   "source": [
    "df_household_fuel.to_csv('../../../data/tidy/residential-energy-emissions.csv')"
   ]
  },
  {
   "cell_type": "code",
   "execution_count": 30,
   "id": "0206d8be-1639-4324-9437-38b807dfece5",
   "metadata": {
    "tags": []
   },
   "outputs": [],
   "source": [
    "df_household_fuel\n",
    "\n",
    "#calculate the residential emissions in each MSA\n",
    "BSN_total_emissions = df_household_fuel[\"BSN Energy consumption\"]*(df_household_fuel[\"CO2\"]+df_household_fuel[\"CH4\"]*25+df_household_fuel[\"N2O\"]*298)\n",
    "HEM_total_emissions = df_household_fuel[\"HEM Energy consumption\"]*(df_household_fuel[\"CO2\"]+df_household_fuel[\"CH4\"]*25+df_household_fuel[\"N2O\"]*298)\n",
    "NHM_total_emissions = df_household_fuel[\"NHM Energy consumption\"]*(df_household_fuel[\"CO2\"]+df_household_fuel[\"CH4\"]*25+df_household_fuel[\"N2O\"]*298)"
   ]
  },
  {
   "cell_type": "code",
   "execution_count": 31,
   "id": "d6d2f1ac-d699-45ca-b688-bbdafcf9d3ab",
   "metadata": {
    "tags": []
   },
   "outputs": [
    {
     "data": {
      "text/plain": [
       "1361020.8392503595"
      ]
     },
     "execution_count": 31,
     "metadata": {},
     "output_type": "execute_result"
    }
   ],
   "source": [
    "BSN_total_emissions.sum() #MTCO2e\n",
    "HEM_total_emissions.sum()\n",
    "NHM_total_emissions.sum()"
   ]
  },
  {
   "cell_type": "code",
   "execution_count": 32,
   "id": "507f4ee9-a0d9-4867-96ad-a3564069aa54",
   "metadata": {
    "tags": []
   },
   "outputs": [],
   "source": [
    "# Create a DataFrame from the Series\n",
    "residential_emissions = pd.DataFrame({\n",
    "    'GHG emissions (MMTCO2e)': [\n",
    "        NHM_total_emissions.sum()/1000000,\n",
    "        HEM_total_emissions.sum()/1000000,\n",
    "        BSN_total_emissions.sum()/1000000\n",
    "    ]\n",
    "})\n",
    "# Create a new index with the same number of elements as the original DataFrame\n",
    "new_index = ['New Haven-Milford', 'Hartford-east Hartford-Middletown','Bridgeport-Stamford-Norwalk']\n",
    "\n",
    "# Rename the row index\n",
    "residential_emissions= residential_emissions.rename(index=dict(zip(residential_emissions.index, new_index)))\n",
    "residential_emissions['CO2 emissions (MMTCO2e)']=[(df_household_fuel[\"NHM Energy consumption\"]*df_household_fuel[\"CO2\"]).sum()/1000000, (df_household_fuel[\"HEM Energy consumption\"]*df_household_fuel[\"CO2\"]).sum()/1000000, (df_household_fuel[\"BSN Energy consumption\"]*df_household_fuel[\"CO2\"]).sum()/1000000]\n",
    "residential_emissions['CH4 emissions (MMTCO2e)']=[(df_household_fuel[\"NHM Energy consumption\"]*df_household_fuel[\"CH4\"]).sum()*25/1000000, (df_household_fuel[\"HEM Energy consumption\"]*df_household_fuel[\"CH4\"]).sum()*25/1000000, (df_household_fuel[\"BSN Energy consumption\"]*df_household_fuel[\"CH4\"]).sum()*25/1000000]\n",
    "residential_emissions['N2O emissions (MMTCO2e)']=[(df_household_fuel[\"NHM Energy consumption\"]*df_household_fuel[\"N2O\"]).sum()*298/1000000, (df_household_fuel[\"HEM Energy consumption\"]*df_household_fuel[\"N2O\"]).sum()*298/1000000, (df_household_fuel[\"BSN Energy consumption\"]*df_household_fuel[\"N2O\"]).sum()*298/1000000]\n",
    "residential_emissions\n",
    "residential_emissions.to_csv('../../../data/tidy/residential-energy-emissions-breakdown.csv')"
   ]
  },
  {
   "cell_type": "code",
   "execution_count": 33,
   "id": "341a5fe3-dcb9-47ca-92b0-c177a0a854fa",
   "metadata": {
    "tags": []
   },
   "outputs": [],
   "source": [
    "# Create a DataFrame from the Series\n",
    "emissions = pd.DataFrame({'BSN': BSN_total_emissions/1000000, 'HEM': HEM_total_emissions/1000000, 'NHM':NHM_total_emissions/1000000})\n",
    "\n",
    "# Create a new index with the same number of elements as the original DataFrame\n",
    "new_index = ['Natural gas', 'Propane','Fuel oil','Fuel oil']\n",
    "\n",
    "# Rename the row index\n",
    "emissions= emissions.rename(index=dict(zip(emissions.index, new_index)))\n"
   ]
  },
  {
   "cell_type": "code",
   "execution_count": 34,
   "id": "cc1175fb-c38a-45cf-8d0a-f2b8a1679bbb",
   "metadata": {
    "tags": []
   },
   "outputs": [],
   "source": [
    "residential_emissions\n",
    "residential_emissions.to_csv('../../../data/tidy/residential-emissions-breakdown.csv')"
   ]
  },
  {
   "cell_type": "code",
   "execution_count": 35,
   "id": "6927bac0-0e71-4349-b99a-9998a76c9388",
   "metadata": {
    "tags": []
   },
   "outputs": [],
   "source": [
    "column_sums = emissions.sum()\n",
    "\n",
    "# If you want to add a new row with the column sums to the DataFrame\n",
    "total_row = pd.DataFrame(column_sums).T.rename(index={0: 'Total (MMTCO2e)'})"
   ]
  },
  {
   "cell_type": "code",
   "execution_count": 36,
   "id": "22053274-ebb1-49f1-8282-d619d9e8cbd1",
   "metadata": {
    "tags": []
   },
   "outputs": [],
   "source": [
    "emissions = pd.concat([emissions, total_row])"
   ]
  },
  {
   "cell_type": "code",
   "execution_count": 41,
   "id": "120f5fac-0929-4cab-915d-0891c107d1dd",
   "metadata": {
    "tags": []
   },
   "outputs": [],
   "source": [
    "emissions\n",
    "emissions.to_csv('../../../results/residential-emissions-breakdown-fuel.csv')"
   ]
  },
  {
   "cell_type": "code",
   "execution_count": 42,
   "id": "182e884b-fa9d-4ebb-8376-ccbdbd31a2c3",
   "metadata": {
    "tags": []
   },
   "outputs": [
    {
     "data": {
      "text/html": [
       "<div>\n",
       "<style scoped>\n",
       "    .dataframe tbody tr th:only-of-type {\n",
       "        vertical-align: middle;\n",
       "    }\n",
       "\n",
       "    .dataframe tbody tr th {\n",
       "        vertical-align: top;\n",
       "    }\n",
       "\n",
       "    .dataframe thead th {\n",
       "        text-align: right;\n",
       "    }\n",
       "</style>\n",
       "<table border=\"1\" class=\"dataframe\">\n",
       "  <thead>\n",
       "    <tr style=\"text-align: right;\">\n",
       "      <th></th>\n",
       "      <th>BSN</th>\n",
       "      <th>HEM</th>\n",
       "      <th>NHM</th>\n",
       "    </tr>\n",
       "  </thead>\n",
       "  <tbody>\n",
       "    <tr>\n",
       "      <th>Natural gas</th>\n",
       "      <td>0.568765</td>\n",
       "      <td>0.773233</td>\n",
       "      <td>0.543774</td>\n",
       "    </tr>\n",
       "    <tr>\n",
       "      <th>Propane</th>\n",
       "      <td>0.077129</td>\n",
       "      <td>0.110958</td>\n",
       "      <td>0.057276</td>\n",
       "    </tr>\n",
       "    <tr>\n",
       "      <th>Fuel oil</th>\n",
       "      <td>0.846248</td>\n",
       "      <td>1.180163</td>\n",
       "      <td>0.759970</td>\n",
       "    </tr>\n",
       "    <tr>\n",
       "      <th>Total (MMTCO2e)</th>\n",
       "      <td>1.492142</td>\n",
       "      <td>2.064354</td>\n",
       "      <td>1.361021</td>\n",
       "    </tr>\n",
       "  </tbody>\n",
       "</table>\n",
       "</div>"
      ],
      "text/plain": [
       "                      BSN       HEM       NHM\n",
       "Natural gas      0.568765  0.773233  0.543774\n",
       "Propane          0.077129  0.110958  0.057276\n",
       "Fuel oil         0.846248  1.180163  0.759970\n",
       "Total (MMTCO2e)  1.492142  2.064354  1.361021"
      ]
     },
     "execution_count": 42,
     "metadata": {},
     "output_type": "execute_result"
    }
   ],
   "source": [
    "emissions"
   ]
  },
  {
   "cell_type": "code",
   "execution_count": 38,
   "id": "4ae9f246-bc15-4214-bc2f-ce32e3e9172f",
   "metadata": {},
   "outputs": [
    {
     "data": {
      "text/plain": [
       "<Figure size 1000x600 with 0 Axes>"
      ]
     },
     "metadata": {},
     "output_type": "display_data"
    },
    {
     "data": {
      "image/png": "[encoded data removed]",
      "text/plain": [
       "<Figure size 800x600 with 1 Axes>"
      ]
     },
     "metadata": {},
     "output_type": "display_data"
    }
   ],
   "source": [
    "\n",
    "plt.figure(figsize=(10, 6))\n",
    "X = ['Bridgeport-Stamford-Norwalk','Hartford-East Hartford-Middletown', 'New Haven-Milford']\n",
    "\n",
    "NG = emissions.iloc[0][0:3]#NH, HH, BSN\n",
    "Propane = emissions.iloc[1][0:3]\n",
    "Fuel = emissions.iloc[2][0:3]\n",
    "\n",
    "Y_axis = np.arange(len(X))\n",
    "bar_width = 0.3  # Width of each bar\n",
    "\n",
    "plt.figure(figsize=(8, 6))\n",
    "\n",
    "# Plot the bars for Natural gas emissions\n",
    "plt.barh(Y_axis , NG, bar_width, label='Natural gas emissions')\n",
    "\n",
    "\n",
    "\n",
    "plt.barh(Y_axis + bar_width, Fuel , bar_width, label='Fuel oil emissions')\n",
    "\n",
    "# Plot the bars for Propane emissions\n",
    "plt.barh(Y_axis - bar_width, Propane, bar_width, label='Propane emissions')\n",
    "\n",
    "\n",
    "\n",
    "plt.yticks(Y_axis, X)  # Use yticks instead of xticks\n",
    "\n",
    "plt.xlabel(\"Greenhouse gas emissions (MMTCO2e)\",fontsize=15, labelpad=20)\n",
    "plt.xticks(fontsize=16)  # Adjust the font size as needed\n",
    "plt.yticks(fontsize=16)\n",
    "plt.legend(loc='upper left', bbox_to_anchor=(0.48, 1.25),fontsize=15)\n",
    "#plt.show()\n",
    "plt.savefig('../../../figures/Report-images/residential-emissions.png', dpi=600,bbox_inches='tight')"
   ]
  },
  {
   "cell_type": "code",
   "execution_count": 39,
   "id": "c6d59eb2-3afd-4bb0-aa84-5cac95094b5d",
   "metadata": {},
   "outputs": [
    {
     "data": {
      "image/png": "[encoded data removed]",
      "text/plain": [
       "<Figure size 600x400 with 1 Axes>"
      ]
     },
     "metadata": {},
     "output_type": "display_data"
    }
   ],
   "source": [
    "X = ['Bridgeport-Stamford-Norwalk','Hartford-East Hartford-Middletown', 'New Haven-Milford']\n",
    "values = emissions.iloc[3]\n",
    "\n",
    "# Create a bar chart\n",
    "plt.figure(figsize=(6, 4))\n",
    "plt.barh(X, values, 0.5,color='skyblue')\n",
    "\n",
    "# Adding labels and title\n",
    "\n",
    "plt.xlabel('Residential combustion emissions (MMTCO2e)', fontsize=15,labelpad=20)\n",
    "\n",
    "# Show the chart\n",
    "  # Rotate the x-axis labels for better readability\n",
    "plt.xticks(fontsize=14)  # Adjust the font size as needed\n",
    "plt.yticks(fontsize=16)\n",
    "#plt.show()\n",
    "plt.savefig('../../../figures/Report-images/residential-MSA-emissions.png', dpi=600,bbox_inches='tight')"
   ]
  },
  {
   "cell_type": "code",
   "execution_count": 40,
   "id": "9adc69d9-a293-4e85-9c09-7f5473586e12",
   "metadata": {
    "tags": []
   },
   "outputs": [
    {
     "data": {
      "image/png": "[encoded data removed]",
      "text/plain": [
       "<Figure size 800x600 with 1 Axes>"
      ]
     },
     "metadata": {},
     "output_type": "display_data"
    }
   ],
   "source": [
    "import numpy as np\n",
    "import matplotlib.pyplot as plt\n",
    "\n",
    "plt.figure(figsize=(8, 6))\n",
    "\n",
    "X = ['Bridgeport-Stamford-Norwalk', 'Hartford-East Hartford-Middletown', 'New Haven-Milford']\n",
    "\n",
    "NG = emissions.iloc[0][0:3]  # NH, HH, BSN\n",
    "Propane = emissions.iloc[1][0:3]\n",
    "Fuel = emissions.iloc[2][0:3]\n",
    "\n",
    "Y_axis = np.arange(len(X))\n",
    "bar_width = 0.4  # Width of each bar\n",
    "\n",
    "plt.barh(Y_axis, NG, bar_width, label='Natural gas emissions')\n",
    "plt.barh(Y_axis, Propane, bar_width, left=NG, label='Propane emissions')\n",
    "plt.barh(Y_axis, Fuel, bar_width, left=NG + Propane, label='Fuel oil emissions')\n",
    "\n",
    "plt.yticks(Y_axis, X)  # Use yticks instead of xticks\n",
    "\n",
    "plt.xlabel(\"Greenhouse gas emissions (MMTCO2e)\", fontsize=15, labelpad=20)\n",
    "plt.xticks(fontsize=18)  # Adjust the font size as needed\n",
    "plt.yticks(fontsize=18)\n",
    "plt.legend(loc='upper left', bbox_to_anchor=(0.48, 1.25), fontsize=15)\n",
    "\n",
    "#plt.show()\n",
    "plt.savefig('../../../figures/Report-images/residential-emissions.png', dpi=600,bbox_inches='tight')"
   ]
  },
  {
   "cell_type": "code",
   "execution_count": null,
   "id": "b5a82280-29c8-4e66-b0f1-144d1393f0a9",
   "metadata": {},
   "outputs": [],
   "source": []
  },
  {
   "cell_type": "code",
   "execution_count": null,
   "id": "12dcca9a-690c-4647-b082-9bb1dc6bd5b0",
   "metadata": {},
   "outputs": [],
   "source": []
  }
 ],
 "metadata": {
  "kernelspec": {
   "display_name": "Python 3 (ipykernel)",
   "language": "python",
   "name": "python3"
  },
  "language_info": {
   "codemirror_mode": {
    "name": "ipython",
    "version": 3
   },
   "file_extension": ".py",
   "mimetype": "text/x-python",
   "name": "python",
   "nbconvert_exporter": "python",
   "pygments_lexer": "ipython3",
   "version": "3.11.5"
  }
 },
 "nbformat": 4,
 "nbformat_minor": 5
}
