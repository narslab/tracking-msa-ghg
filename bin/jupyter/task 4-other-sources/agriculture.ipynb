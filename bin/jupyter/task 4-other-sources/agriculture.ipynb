{
 "cells": [
  {
   "cell_type": "code",
   "execution_count": 41,
   "id": "d84b62b6-bf4b-4245-afbd-dfdb15066ef5",
   "metadata": {
    "tags": []
   },
   "outputs": [],
   "source": [
    "import pandas as pd\n",
    "import numpy as np\n",
    "import os\n",
    "import string\n",
    "import seaborn as sns\n",
    "import matplotlib.pyplot as plt\n",
    "from matplotlib.ticker import ScalarFormatter\n",
    "from matplotlib.ticker import StrMethodFormatter\n",
    "%matplotlib inline"
   ]
  },
  {
   "cell_type": "code",
   "execution_count": 42,
   "id": "e67aa900-d850-4374-bb18-3bf1d5b2e098",
   "metadata": {},
   "outputs": [],
   "source": [
    "fertilizer_land = pd.read_csv('../../../data/raw/56A7F8EB-EF55-3D48-B789-7B4EE6E3EE0C.csv')\n",
    "EF = pd.read_excel('../../../data/raw/community_ghg_inventorytool.xlsm', sheet_name='Factors - FormulaText' )"
   ]
  },
  {
   "cell_type": "code",
   "execution_count": 43,
   "id": "de2a4f7a-a9be-4094-b9a4-35573432e192",
   "metadata": {
    "tags": []
   },
   "outputs": [
    {
     "name": "stderr",
     "output_type": "stream",
     "text": [
      "C:\\Users\\peiyaozhao\\AppData\\Local\\Temp\\ipykernel_14140\\694780144.py:3: SettingWithCopyWarning: \n",
      "A value is trying to be set on a copy of a slice from a DataFrame.\n",
      "Try using .loc[row_indexer,col_indexer] = value instead\n",
      "\n",
      "See the caveats in the documentation: https://pandas.pydata.org/pandas-docs/stable/user_guide/indexing.html#returning-a-view-versus-a-copy\n",
      "  selected_rows['Value'] = selected_rows['Value'].str.replace(',', '')\n",
      "C:\\Users\\peiyaozhao\\AppData\\Local\\Temp\\ipykernel_14140\\694780144.py:4: SettingWithCopyWarning: \n",
      "A value is trying to be set on a copy of a slice from a DataFrame.\n",
      "Try using .loc[row_indexer,col_indexer] = value instead\n",
      "\n",
      "See the caveats in the documentation: https://pandas.pydata.org/pandas-docs/stable/user_guide/indexing.html#returning-a-view-versus-a-copy\n",
      "  selected_rows['Value'] = pd.to_numeric(selected_rows['Value'])\n"
     ]
    }
   ],
   "source": [
    "selected_rows = fertilizer_land.loc[fertilizer_land['Domain Category'] == 'FERTILIZER: (TOTAL)']\n",
    "\n",
    "selected_rows['Value'] = selected_rows['Value'].str.replace(',', '')\n",
    "selected_rows['Value'] = pd.to_numeric(selected_rows['Value'])\n",
    "\n",
    "# Sum the numeric values for the selected rows\n",
    "Total_land = selected_rows['Value'].sum()"
   ]
  },
  {
   "cell_type": "code",
   "execution_count": 44,
   "id": "2da452e3-b99d-45e4-ac96-cdadd357c513",
   "metadata": {
    "tags": []
   },
   "outputs": [],
   "source": [
    "N_volatile = EF.iloc[353:357]"
   ]
  },
  {
   "cell_type": "code",
   "execution_count": 45,
   "id": "0c700414-dfc7-465c-8dc7-95f427561cb4",
   "metadata": {
    "tags": []
   },
   "outputs": [
    {
     "data": {
      "text/plain": [
       "0.9225092250922509"
      ]
     },
     "execution_count": 45,
     "metadata": {},
     "output_type": "execute_result"
    }
   ],
   "source": [
    "N_lost = N_volatile['Unnamed: 1']*N_volatile['Unnamed: 2']\n",
    "\n",
    "#the percentage of N lost from a fertilizer of all the fertilizer\n",
    "syn = N_lost.iloc[0]/N_lost.sum()\n",
    "org = N_lost.iloc[1]/N_lost.sum()\n",
    "man = N_lost.iloc[2]/N_lost.sum()\n",
    "\n",
    "syn"
   ]
  },
  {
   "cell_type": "code",
   "execution_count": 46,
   "id": "548b94b0-4b0e-4bda-bfd2-145c249597e4",
   "metadata": {
    "tags": []
   },
   "outputs": [
    {
     "data": {
      "text/plain": [
       "0.06826568265682656"
      ]
     },
     "execution_count": 46,
     "metadata": {},
     "output_type": "execute_result"
    }
   ],
   "source": [
    "org"
   ]
  },
  {
   "cell_type": "code",
   "execution_count": 47,
   "id": "3b97c816-cba6-4d30-b210-a87eba8a1fa7",
   "metadata": {
    "tags": []
   },
   "outputs": [
    {
     "data": {
      "text/plain": [
       "0.00922509225092251"
      ]
     },
     "execution_count": 47,
     "metadata": {},
     "output_type": "execute_result"
    }
   ],
   "source": [
    "man"
   ]
  },
  {
   "cell_type": "code",
   "execution_count": 48,
   "id": "ddc8ab0b-aa37-40dd-917b-e785b0cbce38",
   "metadata": {
    "tags": []
   },
   "outputs": [],
   "source": [
    "fertilizer_land \n",
    "\n",
    "# Specify the columns you want to extract\n",
    "selected_columns = ['Year', 'County', 'Data Item','Domain', 'Domain Category', 'Value']\n",
    "\n",
    "# Create a new DataFrame with the selected columns\n",
    "new_df = fertilizer_land[selected_columns].copy()\n",
    "new_df\n",
    "\n",
    "new_df['Value'] = new_df['Value'].str.replace(',', '')\n",
    "new_df['Value'] = pd.to_numeric(new_df['Value'])\n",
    "\n",
    "result_values = []\n",
    "    \n",
    "    \n",
    "for i in range(2,24,3):\n",
    "    result_value = (new_df.iloc[i]['Value'] - new_df.iloc[i-1]['Value']-new_df.iloc[i-2]['Value'])*syn + new_df.iloc[i-2]['Value']*man + new_df.iloc[i-1]['Value']*org\n",
    "    result_values.append(result_value)"
   ]
  },
  {
   "cell_type": "code",
   "execution_count": 49,
   "id": "0bd8c58f-389f-4a54-9e59-1fed78632e30",
   "metadata": {
    "tags": []
   },
   "outputs": [],
   "source": [
    "new_df\n",
    "new_df.to_csv('../../../data/tidy/agricultural-land.csv')"
   ]
  },
  {
   "cell_type": "code",
   "execution_count": 50,
   "id": "94f54c13-fd36-46eb-b7ee-34d65e30cc6e",
   "metadata": {
    "tags": []
   },
   "outputs": [
    {
     "data": {
      "text/html": [
       "<div>\n",
       "<style scoped>\n",
       "    .dataframe tbody tr th:only-of-type {\n",
       "        vertical-align: middle;\n",
       "    }\n",
       "\n",
       "    .dataframe tbody tr th {\n",
       "        vertical-align: top;\n",
       "    }\n",
       "\n",
       "    .dataframe thead th {\n",
       "        text-align: right;\n",
       "    }\n",
       "</style>\n",
       "<table border=\"1\" class=\"dataframe\">\n",
       "  <thead>\n",
       "    <tr style=\"text-align: right;\">\n",
       "      <th></th>\n",
       "      <th>Year</th>\n",
       "      <th>County</th>\n",
       "      <th>Data Item</th>\n",
       "      <th>Domain</th>\n",
       "      <th>Domain Category</th>\n",
       "      <th>Value</th>\n",
       "    </tr>\n",
       "  </thead>\n",
       "  <tbody>\n",
       "    <tr>\n",
       "      <th>0</th>\n",
       "      <td>2017</td>\n",
       "      <td>FAIRFIELD</td>\n",
       "      <td>AG LAND - TREATED, MEASURED IN ACRES</td>\n",
       "      <td>FERTILIZER</td>\n",
       "      <td>FERTILIZER: (MANURE)</td>\n",
       "      <td>288</td>\n",
       "    </tr>\n",
       "    <tr>\n",
       "      <th>1</th>\n",
       "      <td>2017</td>\n",
       "      <td>FAIRFIELD</td>\n",
       "      <td>AG LAND - TREATED, MEASURED IN ACRES</td>\n",
       "      <td>FERTILIZER</td>\n",
       "      <td>FERTILIZER: (ORGANIC)</td>\n",
       "      <td>188</td>\n",
       "    </tr>\n",
       "    <tr>\n",
       "      <th>2</th>\n",
       "      <td>2017</td>\n",
       "      <td>FAIRFIELD</td>\n",
       "      <td>AG LAND - TREATED, MEASURED IN ACRES</td>\n",
       "      <td>FERTILIZER</td>\n",
       "      <td>FERTILIZER: (TOTAL)</td>\n",
       "      <td>2269</td>\n",
       "    </tr>\n",
       "    <tr>\n",
       "      <th>3</th>\n",
       "      <td>2017</td>\n",
       "      <td>HARTFORD</td>\n",
       "      <td>AG LAND - TREATED, MEASURED IN ACRES</td>\n",
       "      <td>FERTILIZER</td>\n",
       "      <td>FERTILIZER: (MANURE)</td>\n",
       "      <td>1436</td>\n",
       "    </tr>\n",
       "    <tr>\n",
       "      <th>4</th>\n",
       "      <td>2017</td>\n",
       "      <td>HARTFORD</td>\n",
       "      <td>AG LAND - TREATED, MEASURED IN ACRES</td>\n",
       "      <td>FERTILIZER</td>\n",
       "      <td>FERTILIZER: (ORGANIC)</td>\n",
       "      <td>459</td>\n",
       "    </tr>\n",
       "    <tr>\n",
       "      <th>5</th>\n",
       "      <td>2017</td>\n",
       "      <td>HARTFORD</td>\n",
       "      <td>AG LAND - TREATED, MEASURED IN ACRES</td>\n",
       "      <td>FERTILIZER</td>\n",
       "      <td>FERTILIZER: (TOTAL)</td>\n",
       "      <td>16157</td>\n",
       "    </tr>\n",
       "    <tr>\n",
       "      <th>6</th>\n",
       "      <td>2017</td>\n",
       "      <td>LITCHFIELD</td>\n",
       "      <td>AG LAND - TREATED, MEASURED IN ACRES</td>\n",
       "      <td>FERTILIZER</td>\n",
       "      <td>FERTILIZER: (MANURE)</td>\n",
       "      <td>4812</td>\n",
       "    </tr>\n",
       "    <tr>\n",
       "      <th>7</th>\n",
       "      <td>2017</td>\n",
       "      <td>LITCHFIELD</td>\n",
       "      <td>AG LAND - TREATED, MEASURED IN ACRES</td>\n",
       "      <td>FERTILIZER</td>\n",
       "      <td>FERTILIZER: (ORGANIC)</td>\n",
       "      <td>2596</td>\n",
       "    </tr>\n",
       "    <tr>\n",
       "      <th>8</th>\n",
       "      <td>2017</td>\n",
       "      <td>LITCHFIELD</td>\n",
       "      <td>AG LAND - TREATED, MEASURED IN ACRES</td>\n",
       "      <td>FERTILIZER</td>\n",
       "      <td>FERTILIZER: (TOTAL)</td>\n",
       "      <td>15090</td>\n",
       "    </tr>\n",
       "    <tr>\n",
       "      <th>9</th>\n",
       "      <td>2017</td>\n",
       "      <td>MIDDLESEX</td>\n",
       "      <td>AG LAND - TREATED, MEASURED IN ACRES</td>\n",
       "      <td>FERTILIZER</td>\n",
       "      <td>FERTILIZER: (MANURE)</td>\n",
       "      <td>949</td>\n",
       "    </tr>\n",
       "    <tr>\n",
       "      <th>10</th>\n",
       "      <td>2017</td>\n",
       "      <td>MIDDLESEX</td>\n",
       "      <td>AG LAND - TREATED, MEASURED IN ACRES</td>\n",
       "      <td>FERTILIZER</td>\n",
       "      <td>FERTILIZER: (ORGANIC)</td>\n",
       "      <td>79</td>\n",
       "    </tr>\n",
       "    <tr>\n",
       "      <th>11</th>\n",
       "      <td>2017</td>\n",
       "      <td>MIDDLESEX</td>\n",
       "      <td>AG LAND - TREATED, MEASURED IN ACRES</td>\n",
       "      <td>FERTILIZER</td>\n",
       "      <td>FERTILIZER: (TOTAL)</td>\n",
       "      <td>3342</td>\n",
       "    </tr>\n",
       "    <tr>\n",
       "      <th>12</th>\n",
       "      <td>2017</td>\n",
       "      <td>NEW HAVEN</td>\n",
       "      <td>AG LAND - TREATED, MEASURED IN ACRES</td>\n",
       "      <td>FERTILIZER</td>\n",
       "      <td>FERTILIZER: (MANURE)</td>\n",
       "      <td>1125</td>\n",
       "    </tr>\n",
       "    <tr>\n",
       "      <th>13</th>\n",
       "      <td>2017</td>\n",
       "      <td>NEW HAVEN</td>\n",
       "      <td>AG LAND - TREATED, MEASURED IN ACRES</td>\n",
       "      <td>FERTILIZER</td>\n",
       "      <td>FERTILIZER: (ORGANIC)</td>\n",
       "      <td>173</td>\n",
       "    </tr>\n",
       "    <tr>\n",
       "      <th>14</th>\n",
       "      <td>2017</td>\n",
       "      <td>NEW HAVEN</td>\n",
       "      <td>AG LAND - TREATED, MEASURED IN ACRES</td>\n",
       "      <td>FERTILIZER</td>\n",
       "      <td>FERTILIZER: (TOTAL)</td>\n",
       "      <td>5062</td>\n",
       "    </tr>\n",
       "    <tr>\n",
       "      <th>15</th>\n",
       "      <td>2017</td>\n",
       "      <td>NEW LONDON</td>\n",
       "      <td>AG LAND - TREATED, MEASURED IN ACRES</td>\n",
       "      <td>FERTILIZER</td>\n",
       "      <td>FERTILIZER: (MANURE)</td>\n",
       "      <td>6100</td>\n",
       "    </tr>\n",
       "    <tr>\n",
       "      <th>16</th>\n",
       "      <td>2017</td>\n",
       "      <td>NEW LONDON</td>\n",
       "      <td>AG LAND - TREATED, MEASURED IN ACRES</td>\n",
       "      <td>FERTILIZER</td>\n",
       "      <td>FERTILIZER: (ORGANIC)</td>\n",
       "      <td>176</td>\n",
       "    </tr>\n",
       "    <tr>\n",
       "      <th>17</th>\n",
       "      <td>2017</td>\n",
       "      <td>NEW LONDON</td>\n",
       "      <td>AG LAND - TREATED, MEASURED IN ACRES</td>\n",
       "      <td>FERTILIZER</td>\n",
       "      <td>FERTILIZER: (TOTAL)</td>\n",
       "      <td>13486</td>\n",
       "    </tr>\n",
       "    <tr>\n",
       "      <th>18</th>\n",
       "      <td>2017</td>\n",
       "      <td>TOLLAND</td>\n",
       "      <td>AG LAND - TREATED, MEASURED IN ACRES</td>\n",
       "      <td>FERTILIZER</td>\n",
       "      <td>FERTILIZER: (MANURE)</td>\n",
       "      <td>5882</td>\n",
       "    </tr>\n",
       "    <tr>\n",
       "      <th>19</th>\n",
       "      <td>2017</td>\n",
       "      <td>TOLLAND</td>\n",
       "      <td>AG LAND - TREATED, MEASURED IN ACRES</td>\n",
       "      <td>FERTILIZER</td>\n",
       "      <td>FERTILIZER: (ORGANIC)</td>\n",
       "      <td>54</td>\n",
       "    </tr>\n",
       "    <tr>\n",
       "      <th>20</th>\n",
       "      <td>2017</td>\n",
       "      <td>TOLLAND</td>\n",
       "      <td>AG LAND - TREATED, MEASURED IN ACRES</td>\n",
       "      <td>FERTILIZER</td>\n",
       "      <td>FERTILIZER: (TOTAL)</td>\n",
       "      <td>10857</td>\n",
       "    </tr>\n",
       "    <tr>\n",
       "      <th>21</th>\n",
       "      <td>2017</td>\n",
       "      <td>WINDHAM</td>\n",
       "      <td>AG LAND - TREATED, MEASURED IN ACRES</td>\n",
       "      <td>FERTILIZER</td>\n",
       "      <td>FERTILIZER: (MANURE)</td>\n",
       "      <td>7824</td>\n",
       "    </tr>\n",
       "    <tr>\n",
       "      <th>22</th>\n",
       "      <td>2017</td>\n",
       "      <td>WINDHAM</td>\n",
       "      <td>AG LAND - TREATED, MEASURED IN ACRES</td>\n",
       "      <td>FERTILIZER</td>\n",
       "      <td>FERTILIZER: (ORGANIC)</td>\n",
       "      <td>132</td>\n",
       "    </tr>\n",
       "    <tr>\n",
       "      <th>23</th>\n",
       "      <td>2017</td>\n",
       "      <td>WINDHAM</td>\n",
       "      <td>AG LAND - TREATED, MEASURED IN ACRES</td>\n",
       "      <td>FERTILIZER</td>\n",
       "      <td>FERTILIZER: (TOTAL)</td>\n",
       "      <td>9653</td>\n",
       "    </tr>\n",
       "  </tbody>\n",
       "</table>\n",
       "</div>"
      ],
      "text/plain": [
       "    Year      County                             Data Item      Domain  \\\n",
       "0   2017   FAIRFIELD  AG LAND - TREATED, MEASURED IN ACRES  FERTILIZER   \n",
       "1   2017   FAIRFIELD  AG LAND - TREATED, MEASURED IN ACRES  FERTILIZER   \n",
       "2   2017   FAIRFIELD  AG LAND - TREATED, MEASURED IN ACRES  FERTILIZER   \n",
       "3   2017    HARTFORD  AG LAND - TREATED, MEASURED IN ACRES  FERTILIZER   \n",
       "4   2017    HARTFORD  AG LAND - TREATED, MEASURED IN ACRES  FERTILIZER   \n",
       "5   2017    HARTFORD  AG LAND - TREATED, MEASURED IN ACRES  FERTILIZER   \n",
       "6   2017  LITCHFIELD  AG LAND - TREATED, MEASURED IN ACRES  FERTILIZER   \n",
       "7   2017  LITCHFIELD  AG LAND - TREATED, MEASURED IN ACRES  FERTILIZER   \n",
       "8   2017  LITCHFIELD  AG LAND - TREATED, MEASURED IN ACRES  FERTILIZER   \n",
       "9   2017   MIDDLESEX  AG LAND - TREATED, MEASURED IN ACRES  FERTILIZER   \n",
       "10  2017   MIDDLESEX  AG LAND - TREATED, MEASURED IN ACRES  FERTILIZER   \n",
       "11  2017   MIDDLESEX  AG LAND - TREATED, MEASURED IN ACRES  FERTILIZER   \n",
       "12  2017   NEW HAVEN  AG LAND - TREATED, MEASURED IN ACRES  FERTILIZER   \n",
       "13  2017   NEW HAVEN  AG LAND - TREATED, MEASURED IN ACRES  FERTILIZER   \n",
       "14  2017   NEW HAVEN  AG LAND - TREATED, MEASURED IN ACRES  FERTILIZER   \n",
       "15  2017  NEW LONDON  AG LAND - TREATED, MEASURED IN ACRES  FERTILIZER   \n",
       "16  2017  NEW LONDON  AG LAND - TREATED, MEASURED IN ACRES  FERTILIZER   \n",
       "17  2017  NEW LONDON  AG LAND - TREATED, MEASURED IN ACRES  FERTILIZER   \n",
       "18  2017     TOLLAND  AG LAND - TREATED, MEASURED IN ACRES  FERTILIZER   \n",
       "19  2017     TOLLAND  AG LAND - TREATED, MEASURED IN ACRES  FERTILIZER   \n",
       "20  2017     TOLLAND  AG LAND - TREATED, MEASURED IN ACRES  FERTILIZER   \n",
       "21  2017     WINDHAM  AG LAND - TREATED, MEASURED IN ACRES  FERTILIZER   \n",
       "22  2017     WINDHAM  AG LAND - TREATED, MEASURED IN ACRES  FERTILIZER   \n",
       "23  2017     WINDHAM  AG LAND - TREATED, MEASURED IN ACRES  FERTILIZER   \n",
       "\n",
       "          Domain Category  Value  \n",
       "0    FERTILIZER: (MANURE)    288  \n",
       "1   FERTILIZER: (ORGANIC)    188  \n",
       "2     FERTILIZER: (TOTAL)   2269  \n",
       "3    FERTILIZER: (MANURE)   1436  \n",
       "4   FERTILIZER: (ORGANIC)    459  \n",
       "5     FERTILIZER: (TOTAL)  16157  \n",
       "6    FERTILIZER: (MANURE)   4812  \n",
       "7   FERTILIZER: (ORGANIC)   2596  \n",
       "8     FERTILIZER: (TOTAL)  15090  \n",
       "9    FERTILIZER: (MANURE)    949  \n",
       "10  FERTILIZER: (ORGANIC)     79  \n",
       "11    FERTILIZER: (TOTAL)   3342  \n",
       "12   FERTILIZER: (MANURE)   1125  \n",
       "13  FERTILIZER: (ORGANIC)    173  \n",
       "14    FERTILIZER: (TOTAL)   5062  \n",
       "15   FERTILIZER: (MANURE)   6100  \n",
       "16  FERTILIZER: (ORGANIC)    176  \n",
       "17    FERTILIZER: (TOTAL)  13486  \n",
       "18   FERTILIZER: (MANURE)   5882  \n",
       "19  FERTILIZER: (ORGANIC)     54  \n",
       "20    FERTILIZER: (TOTAL)  10857  \n",
       "21   FERTILIZER: (MANURE)   7824  \n",
       "22  FERTILIZER: (ORGANIC)    132  \n",
       "23    FERTILIZER: (TOTAL)   9653  "
      ]
     },
     "execution_count": 50,
     "metadata": {},
     "output_type": "execute_result"
    }
   ],
   "source": [
    "new_df"
   ]
  },
  {
   "cell_type": "code",
   "execution_count": 51,
   "id": "03ddb72f-6120-4f3d-9c59-463273106bff",
   "metadata": {
    "tags": []
   },
   "outputs": [],
   "source": [
    "NHM = new_df.at[14,'Value']\n",
    "HEM = new_df.at[5,'Value']+new_df.at[11,'Value']+new_df.at[20,'Value']\n",
    "BSN = new_df.at[2,'Value']"
   ]
  },
  {
   "cell_type": "code",
   "execution_count": 52,
   "id": "a51f5bfe-4154-4350-80d1-0cb6252369b2",
   "metadata": {
    "tags": []
   },
   "outputs": [],
   "source": [
    "result_values\n",
    "unique_counties = new_df['County'].unique()"
   ]
  },
  {
   "cell_type": "code",
   "execution_count": 53,
   "id": "a71a4cd1-1a32-46c2-a4d5-d3c672e86c59",
   "metadata": {
    "tags": []
   },
   "outputs": [
    {
     "data": {
      "text/plain": [
       "[1793, 14262, 7682, 2314, 3764, 7210, 4921, 1697]"
      ]
     },
     "execution_count": 53,
     "metadata": {},
     "output_type": "execute_result"
    }
   ],
   "source": [
    "syn_amount = []\n",
    "\n",
    "for i in range(2,24,3):\n",
    "    synthetic = new_df.iloc[i]['Value'] - new_df.iloc[i-1]['Value']-new_df.iloc[i-2]['Value']\n",
    "    syn_amount.append(synthetic)\n",
    "    \n",
    "syn_amount"
   ]
  },
  {
   "cell_type": "code",
   "execution_count": 54,
   "id": "e7edc62d-27ee-4261-b9c8-a92983b6ac94",
   "metadata": {
    "tags": []
   },
   "outputs": [
    {
     "data": {
      "text/html": [
       "<div>\n",
       "<style scoped>\n",
       "    .dataframe tbody tr th:only-of-type {\n",
       "        vertical-align: middle;\n",
       "    }\n",
       "\n",
       "    .dataframe tbody tr th {\n",
       "        vertical-align: top;\n",
       "    }\n",
       "\n",
       "    .dataframe thead th {\n",
       "        text-align: right;\n",
       "    }\n",
       "</style>\n",
       "<table border=\"1\" class=\"dataframe\">\n",
       "  <thead>\n",
       "    <tr style=\"text-align: right;\">\n",
       "      <th></th>\n",
       "      <th>Value</th>\n",
       "      <th>County</th>\n",
       "      <th>Ratio</th>\n",
       "    </tr>\n",
       "  </thead>\n",
       "  <tbody>\n",
       "    <tr>\n",
       "      <th>0</th>\n",
       "      <td>1669.549815</td>\n",
       "      <td>FAIRFIELD</td>\n",
       "      <td>0.040934</td>\n",
       "    </tr>\n",
       "    <tr>\n",
       "      <th>1</th>\n",
       "      <td>13201.407749</td>\n",
       "      <td>HARTFORD</td>\n",
       "      <td>0.323671</td>\n",
       "    </tr>\n",
       "    <tr>\n",
       "      <th>2</th>\n",
       "      <td>7308.324723</td>\n",
       "      <td>LITCHFIELD</td>\n",
       "      <td>0.179185</td>\n",
       "    </tr>\n",
       "    <tr>\n",
       "      <th>3</th>\n",
       "      <td>2148.833948</td>\n",
       "      <td>MIDDLESEX</td>\n",
       "      <td>0.052685</td>\n",
       "    </tr>\n",
       "    <tr>\n",
       "      <th>4</th>\n",
       "      <td>3494.512915</td>\n",
       "      <td>NEW HAVEN</td>\n",
       "      <td>0.085678</td>\n",
       "    </tr>\n",
       "    <tr>\n",
       "      <th>5</th>\n",
       "      <td>6719.579336</td>\n",
       "      <td>NEW LONDON</td>\n",
       "      <td>0.164750</td>\n",
       "    </tr>\n",
       "    <tr>\n",
       "      <th>6</th>\n",
       "      <td>4597.616236</td>\n",
       "      <td>TOLLAND</td>\n",
       "      <td>0.112724</td>\n",
       "    </tr>\n",
       "    <tr>\n",
       "      <th>7</th>\n",
       "      <td>1646.686347</td>\n",
       "      <td>WINDHAM</td>\n",
       "      <td>0.040373</td>\n",
       "    </tr>\n",
       "  </tbody>\n",
       "</table>\n",
       "</div>"
      ],
      "text/plain": [
       "          Value      County     Ratio\n",
       "0   1669.549815   FAIRFIELD  0.040934\n",
       "1  13201.407749    HARTFORD  0.323671\n",
       "2   7308.324723  LITCHFIELD  0.179185\n",
       "3   2148.833948   MIDDLESEX  0.052685\n",
       "4   3494.512915   NEW HAVEN  0.085678\n",
       "5   6719.579336  NEW LONDON  0.164750\n",
       "6   4597.616236     TOLLAND  0.112724\n",
       "7   1646.686347     WINDHAM  0.040373"
      ]
     },
     "execution_count": 54,
     "metadata": {},
     "output_type": "execute_result"
    }
   ],
   "source": [
    "combined_df = pd.DataFrame({'Value': result_values, 'County': unique_counties})\n",
    "combined_df\n",
    "total= combined_df['Value'].sum()\n",
    "combined_df['Ratio']=combined_df['Value']/total\n",
    "combined_df"
   ]
  },
  {
   "cell_type": "code",
   "execution_count": 55,
   "id": "cfaf3eb8-566c-41a5-9b06-79ac877ae923",
   "metadata": {
    "tags": []
   },
   "outputs": [],
   "source": [
    "import pandas as pd\n",
    "ct_emissions = pd.read_excel('../../../data/raw/Public GHG data 1990-2021.xlsx', sheet_name=\"Emission Totals\")"
   ]
  },
  {
   "cell_type": "code",
   "execution_count": 56,
   "id": "df0ce82e-53d3-4fce-9304-5eb345734f45",
   "metadata": {
    "tags": []
   },
   "outputs": [
    {
     "data": {
      "text/html": [
       "<div>\n",
       "<style scoped>\n",
       "    .dataframe tbody tr th:only-of-type {\n",
       "        vertical-align: middle;\n",
       "    }\n",
       "\n",
       "    .dataframe tbody tr th {\n",
       "        vertical-align: top;\n",
       "    }\n",
       "\n",
       "    .dataframe thead th {\n",
       "        text-align: right;\n",
       "    }\n",
       "</style>\n",
       "<table border=\"1\" class=\"dataframe\">\n",
       "  <thead>\n",
       "    <tr style=\"text-align: right;\">\n",
       "      <th></th>\n",
       "      <th>Value</th>\n",
       "      <th>County</th>\n",
       "      <th>Ratio</th>\n",
       "      <th>GHG Emissions (MMTCO2e)</th>\n",
       "    </tr>\n",
       "  </thead>\n",
       "  <tbody>\n",
       "    <tr>\n",
       "      <th>0</th>\n",
       "      <td>1669.549815</td>\n",
       "      <td>FAIRFIELD</td>\n",
       "      <td>0.040934</td>\n",
       "      <td>0.013970</td>\n",
       "    </tr>\n",
       "    <tr>\n",
       "      <th>1</th>\n",
       "      <td>13201.407749</td>\n",
       "      <td>HARTFORD</td>\n",
       "      <td>0.323671</td>\n",
       "      <td>0.110466</td>\n",
       "    </tr>\n",
       "    <tr>\n",
       "      <th>2</th>\n",
       "      <td>7308.324723</td>\n",
       "      <td>LITCHFIELD</td>\n",
       "      <td>0.179185</td>\n",
       "      <td>0.061154</td>\n",
       "    </tr>\n",
       "    <tr>\n",
       "      <th>3</th>\n",
       "      <td>2148.833948</td>\n",
       "      <td>MIDDLESEX</td>\n",
       "      <td>0.052685</td>\n",
       "      <td>0.017981</td>\n",
       "    </tr>\n",
       "    <tr>\n",
       "      <th>4</th>\n",
       "      <td>3494.512915</td>\n",
       "      <td>NEW HAVEN</td>\n",
       "      <td>0.085678</td>\n",
       "      <td>0.029241</td>\n",
       "    </tr>\n",
       "    <tr>\n",
       "      <th>5</th>\n",
       "      <td>6719.579336</td>\n",
       "      <td>NEW LONDON</td>\n",
       "      <td>0.164750</td>\n",
       "      <td>0.056228</td>\n",
       "    </tr>\n",
       "    <tr>\n",
       "      <th>6</th>\n",
       "      <td>4597.616236</td>\n",
       "      <td>TOLLAND</td>\n",
       "      <td>0.112724</td>\n",
       "      <td>0.038472</td>\n",
       "    </tr>\n",
       "    <tr>\n",
       "      <th>7</th>\n",
       "      <td>1646.686347</td>\n",
       "      <td>WINDHAM</td>\n",
       "      <td>0.040373</td>\n",
       "      <td>0.013779</td>\n",
       "    </tr>\n",
       "  </tbody>\n",
       "</table>\n",
       "</div>"
      ],
      "text/plain": [
       "          Value      County     Ratio  GHG Emissions (MMTCO2e)\n",
       "0   1669.549815   FAIRFIELD  0.040934                 0.013970\n",
       "1  13201.407749    HARTFORD  0.323671                 0.110466\n",
       "2   7308.324723  LITCHFIELD  0.179185                 0.061154\n",
       "3   2148.833948   MIDDLESEX  0.052685                 0.017981\n",
       "4   3494.512915   NEW HAVEN  0.085678                 0.029241\n",
       "5   6719.579336  NEW LONDON  0.164750                 0.056228\n",
       "6   4597.616236     TOLLAND  0.112724                 0.038472\n",
       "7   1646.686347     WINDHAM  0.040373                 0.013779"
      ]
     },
     "execution_count": 56,
     "metadata": {},
     "output_type": "execute_result"
    }
   ],
   "source": [
    "agri =  ct_emissions.at[0,2017]\n",
    "combined_df['GHG Emissions (MMTCO2e)'] = agri*combined_df['Ratio']\n",
    "combined_df"
   ]
  },
  {
   "cell_type": "code",
   "execution_count": 57,
   "id": "1a61cfe0-1cdd-4c73-a902-7b4e7d6f1820",
   "metadata": {
    "tags": []
   },
   "outputs": [],
   "source": [
    "NewH = combined_df.at[4,'GHG Emissions (MMTCO2e)']\n",
    "Hart = combined_df.at[1,'GHG Emissions (MMTCO2e)']+combined_df.at[3,'GHG Emissions (MMTCO2e)']+combined_df.at[6,'GHG Emissions (MMTCO2e)']\n",
    "Bridge = combined_df.at[0,'GHG Emissions (MMTCO2e)']"
   ]
  },
  {
   "cell_type": "code",
   "execution_count": 58,
   "id": "e41f9733-2b8b-4397-b5a4-98e25d26e875",
   "metadata": {
    "tags": []
   },
   "outputs": [
    {
     "data": {
      "text/plain": [
       "0.21012984560660664"
      ]
     },
     "execution_count": 58,
     "metadata": {},
     "output_type": "execute_result"
    }
   ],
   "source": [
    "agri_emissions_1 = pd.DataFrame({\n",
    "        'MSA': ['New Haven-Milford','Hartford-East Hartford-Middletown','Bridgeport-Stamford-Norwalk'],\n",
    "        'GHG Emissions (MMTCO2e)': [NewH,Hart,Bridge]\n",
    "    })\n",
    "\n",
    "agri_emissions_1['GHG Emissions (MMTCO2e)'].sum()"
   ]
  },
  {
   "cell_type": "code",
   "execution_count": 59,
   "id": "19e0d668-c3c9-4072-bef6-fb5a7e0b7f49",
   "metadata": {
    "tags": []
   },
   "outputs": [],
   "source": [
    "agri_emissions_1\n",
    "\n",
    "agri_emissions_1['Emissions per capita/tCO2e']=agri_emissions_1['GHG Emissions (MMTCO2e)']*1000000/[NHM,HEM,BSN]"
   ]
  },
  {
   "cell_type": "code",
   "execution_count": 60,
   "id": "7fe3d4db-909e-48c9-bd64-37a28dc801d0",
   "metadata": {
    "tags": []
   },
   "outputs": [
    {
     "data": {
      "text/html": [
       "<div>\n",
       "<style scoped>\n",
       "    .dataframe tbody tr th:only-of-type {\n",
       "        vertical-align: middle;\n",
       "    }\n",
       "\n",
       "    .dataframe tbody tr th {\n",
       "        vertical-align: top;\n",
       "    }\n",
       "\n",
       "    .dataframe thead th {\n",
       "        text-align: right;\n",
       "    }\n",
       "</style>\n",
       "<table border=\"1\" class=\"dataframe\">\n",
       "  <thead>\n",
       "    <tr style=\"text-align: right;\">\n",
       "      <th></th>\n",
       "      <th>MSA</th>\n",
       "      <th>GHG Emissions (MMTCO2e)</th>\n",
       "      <th>Emissions per capita/tCO2e</th>\n",
       "    </tr>\n",
       "  </thead>\n",
       "  <tbody>\n",
       "    <tr>\n",
       "      <th>0</th>\n",
       "      <td>New Haven-Milford</td>\n",
       "      <td>0.029241</td>\n",
       "      <td>5.776600</td>\n",
       "    </tr>\n",
       "    <tr>\n",
       "      <th>1</th>\n",
       "      <td>Hartford-East Hartford-Middletown</td>\n",
       "      <td>0.166918</td>\n",
       "      <td>5.498694</td>\n",
       "    </tr>\n",
       "    <tr>\n",
       "      <th>2</th>\n",
       "      <td>Bridgeport-Stamford-Norwalk</td>\n",
       "      <td>0.013970</td>\n",
       "      <td>6.157050</td>\n",
       "    </tr>\n",
       "  </tbody>\n",
       "</table>\n",
       "</div>"
      ],
      "text/plain": [
       "                                 MSA  GHG Emissions (MMTCO2e)  \\\n",
       "0                  New Haven-Milford                 0.029241   \n",
       "1  Hartford-East Hartford-Middletown                 0.166918   \n",
       "2        Bridgeport-Stamford-Norwalk                 0.013970   \n",
       "\n",
       "   Emissions per capita/tCO2e  \n",
       "0                    5.776600  \n",
       "1                    5.498694  \n",
       "2                    6.157050  "
      ]
     },
     "execution_count": 60,
     "metadata": {},
     "output_type": "execute_result"
    }
   ],
   "source": [
    "agri_emissions_1\n",
    "\n"
   ]
  },
  {
   "cell_type": "code",
   "execution_count": 61,
   "id": "aaa5c8e2-92ee-4f34-afcd-b1c49e9360b4",
   "metadata": {
    "tags": []
   },
   "outputs": [
    {
     "data": {
      "image/png": "[encoded data removed]",
      "text/plain": [
       "<Figure size 640x480 with 1 Axes>"
      ]
     },
     "metadata": {},
     "output_type": "display_data"
    }
   ],
   "source": [
    "msa = agri_emissions_1.iloc[0:3,0]\n",
    "values = agri_emissions_1.iloc[0:3,2]\n",
    "plt.barh(msa, values, 0.4, color=\"violet\")\n",
    "plt.xlabel(\"GHG Emissions per acres (tCO2e)\",fontsize=15, labelpad=20)\n",
    "\n",
    "plt.xticks(fontsize=16)  # Adjust the font size as needed\n",
    "plt.yticks(fontsize=16)\n",
    "\n",
    "#plt.show() \n",
    "\n",
    "plt.savefig('../../../figures/Report-images/ghg-emissions-agriculture-per-acres.png', dpi=600,bbox_inches='tight')"
   ]
  },
  {
   "cell_type": "code",
   "execution_count": 63,
   "id": "6901442d-8daa-4008-a568-6aa5a8b8b57d",
   "metadata": {
    "tags": []
   },
   "outputs": [],
   "source": [
    "\n",
    "agri_emissions = pd.DataFrame({\n",
    "        'MSA': ['New Haven-Milford','Hartford-East Hartford-Middletown','Bridgeport-Stamford-Norwalk'],\n",
    "        'Manure fertilizer land area (acres)': [new_df.at[12,'Value'],new_df.at[3,'Value']+new_df.at[9,'Value']+new_df.at[18,'Value'],new_df.at[0,'Value']],\n",
    "        'Organic fertilizer land area (acres)': [new_df.at[13,'Value'],new_df.at[4,'Value']+new_df.at[10,'Value']+new_df.at[19,'Value'],new_df.at[1,'Value']],\n",
    "        'Synthetic fertilizer land area (acres)': [syn_amount[4],syn_amount[1]+syn_amount[3]+syn_amount[6],syn_amount[0]]\n",
    "    })\n",
    "agri_emissions \n",
    "\n",
    "agri_emissions['Manure fertilizer'] = agri_emissions['Manure fertilizer land area (acres)']*man\n",
    "agri_emissions['Organic fertilizer'] = agri_emissions['Organic fertilizer land area (acres)']*org\n",
    "agri_emissions['Synthetic fertilizer'] = agri_emissions['Synthetic fertilizer land area (acres)']*syn\n",
    "\n",
    "agri_emissions['Manure fertilizer emissions (MMTCO2e)'] = agri_emissions['Manure fertilizer']/total*agri\n",
    "agri_emissions['Organic fertilizer emissions (MMTCO2e)'] = agri_emissions['Organic fertilizer']/total*agri\n",
    "agri_emissions['Synthetic fertilizer emissions (MMTCO2e)'] = agri_emissions['Synthetic fertilizer']/total*agri"
   ]
  },
  {
   "cell_type": "code",
   "execution_count": 64,
   "id": "bdf6038e-64ee-4867-b6d5-171d234c9840",
   "metadata": {
    "tags": []
   },
   "outputs": [],
   "source": [
    "agri_emissions\n",
    "agri_emissions.to_csv('../../../data/tidy/agriculture-emissions.csv')"
   ]
  },
  {
   "cell_type": "code",
   "execution_count": 65,
   "id": "e42077cc-ced4-44cd-91d3-0d2dd19224af",
   "metadata": {
    "tags": []
   },
   "outputs": [
    {
     "data": {
      "text/plain": [
       "0.21012984560660666"
      ]
     },
     "execution_count": 65,
     "metadata": {},
     "output_type": "execute_result"
    }
   ],
   "source": [
    "agri_emissions\n",
    "\n",
    "a=agri_emissions['Manure fertilizer emissions (MMTCO2e)'].sum()\n",
    "s=agri_emissions['Organic fertilizer emissions (MMTCO2e)'].sum()\n",
    "d=agri_emissions['Synthetic fertilizer emissions (MMTCO2e)'].sum()\n",
    "h=a+s+d\n",
    "h"
   ]
  },
  {
   "cell_type": "code",
   "execution_count": 67,
   "id": "3dc16517-ebd6-4619-a23c-1c6dd5b3493e",
   "metadata": {},
   "outputs": [
    {
     "data": {
      "text/html": [
       "<div>\n",
       "<style scoped>\n",
       "    .dataframe tbody tr th:only-of-type {\n",
       "        vertical-align: middle;\n",
       "    }\n",
       "\n",
       "    .dataframe tbody tr th {\n",
       "        vertical-align: top;\n",
       "    }\n",
       "\n",
       "    .dataframe thead th {\n",
       "        text-align: right;\n",
       "    }\n",
       "</style>\n",
       "<table border=\"1\" class=\"dataframe\">\n",
       "  <thead>\n",
       "    <tr style=\"text-align: right;\">\n",
       "      <th></th>\n",
       "      <th>MSA</th>\n",
       "      <th>Manure fertilizer land area (acres)</th>\n",
       "      <th>Organic fertilizer land area (acres)</th>\n",
       "      <th>Synthetic fertilizer land area (acres)</th>\n",
       "      <th>Manure fertilizer</th>\n",
       "      <th>Organic fertilizer</th>\n",
       "      <th>Synthetic fertilizer</th>\n",
       "      <th>Manure fertilizer emissions (MMTCO2e)</th>\n",
       "      <th>Organic fertilizer emissions (MMTCO2e)</th>\n",
       "      <th>Synthetic fertilizer emissions (MMTCO2e)</th>\n",
       "      <th>GHG Emissions (MMTCO2e)</th>\n",
       "    </tr>\n",
       "  </thead>\n",
       "  <tbody>\n",
       "    <tr>\n",
       "      <th>0</th>\n",
       "      <td>New Haven-Milford</td>\n",
       "      <td>1125</td>\n",
       "      <td>173</td>\n",
       "      <td>3764</td>\n",
       "      <td>10.378229</td>\n",
       "      <td>11.809963</td>\n",
       "      <td>3472.324723</td>\n",
       "      <td>0.000087</td>\n",
       "      <td>0.000099</td>\n",
       "      <td>0.029055</td>\n",
       "      <td>0.029241</td>\n",
       "    </tr>\n",
       "    <tr>\n",
       "      <th>1</th>\n",
       "      <td>Hartford-East Hartford-Middletown</td>\n",
       "      <td>8267</td>\n",
       "      <td>592</td>\n",
       "      <td>21497</td>\n",
       "      <td>76.263838</td>\n",
       "      <td>40.413284</td>\n",
       "      <td>19831.180812</td>\n",
       "      <td>0.000638</td>\n",
       "      <td>0.000338</td>\n",
       "      <td>0.165942</td>\n",
       "      <td>0.166918</td>\n",
       "    </tr>\n",
       "    <tr>\n",
       "      <th>2</th>\n",
       "      <td>Bridgeport-Stamford-Norwalk</td>\n",
       "      <td>288</td>\n",
       "      <td>188</td>\n",
       "      <td>1793</td>\n",
       "      <td>2.656827</td>\n",
       "      <td>12.833948</td>\n",
       "      <td>1654.059041</td>\n",
       "      <td>0.000022</td>\n",
       "      <td>0.000107</td>\n",
       "      <td>0.013841</td>\n",
       "      <td>0.013970</td>\n",
       "    </tr>\n",
       "  </tbody>\n",
       "</table>\n",
       "</div>"
      ],
      "text/plain": [
       "                                 MSA  Manure fertilizer land area (acres)  \\\n",
       "0                  New Haven-Milford                                 1125   \n",
       "1  Hartford-East Hartford-Middletown                                 8267   \n",
       "2        Bridgeport-Stamford-Norwalk                                  288   \n",
       "\n",
       "   Organic fertilizer land area (acres)  \\\n",
       "0                                   173   \n",
       "1                                   592   \n",
       "2                                   188   \n",
       "\n",
       "   Synthetic fertilizer land area (acres)  Manure fertilizer  \\\n",
       "0                                    3764          10.378229   \n",
       "1                                   21497          76.263838   \n",
       "2                                    1793           2.656827   \n",
       "\n",
       "   Organic fertilizer  Synthetic fertilizer  \\\n",
       "0           11.809963           3472.324723   \n",
       "1           40.413284          19831.180812   \n",
       "2           12.833948           1654.059041   \n",
       "\n",
       "   Manure fertilizer emissions (MMTCO2e)  \\\n",
       "0                               0.000087   \n",
       "1                               0.000638   \n",
       "2                               0.000022   \n",
       "\n",
       "   Organic fertilizer emissions (MMTCO2e)  \\\n",
       "0                                0.000099   \n",
       "1                                0.000338   \n",
       "2                                0.000107   \n",
       "\n",
       "   Synthetic fertilizer emissions (MMTCO2e)  GHG Emissions (MMTCO2e)  \n",
       "0                                  0.029055                 0.029241  \n",
       "1                                  0.165942                 0.166918  \n",
       "2                                  0.013841                 0.013970  "
      ]
     },
     "execution_count": 67,
     "metadata": {},
     "output_type": "execute_result"
    }
   ],
   "source": [
    "agri_emissions['GHG Emissions (MMTCO2e)'] = agri_emissions_1['GHG Emissions (MMTCO2e)']\n",
    "agri_emissions"
   ]
  },
  {
   "cell_type": "code",
   "execution_count": 68,
   "id": "42fcd74a-22be-41b3-a36c-ce312ed282e9",
   "metadata": {
    "tags": []
   },
   "outputs": [
    {
     "name": "stderr",
     "output_type": "stream",
     "text": [
      "C:\\Users\\peiyaozhao\\AppData\\Local\\Temp\\ipykernel_14140\\1324050488.py:11: FutureWarning: Series.__getitem__ treating keys as positions is deprecated. In a future version, integer keys will always be treated as labels (consistent with DataFrame behavior). To access a value by position, use `ser.iloc[pos]`\n",
      "  ratio_NHM = population_five_towns_21[0]/numeric_pop_21[0]\n",
      "C:\\Users\\peiyaozhao\\AppData\\Local\\Temp\\ipykernel_14140\\1324050488.py:12: FutureWarning: Series.__getitem__ treating keys as positions is deprecated. In a future version, integer keys will always be treated as labels (consistent with DataFrame behavior). To access a value by position, use `ser.iloc[pos]`\n",
      "  ratio_HHM = population_five_towns_21[1]/numeric_pop_21[1]\n",
      "C:\\Users\\peiyaozhao\\AppData\\Local\\Temp\\ipykernel_14140\\1324050488.py:13: FutureWarning: Series.__getitem__ treating keys as positions is deprecated. In a future version, integer keys will always be treated as labels (consistent with DataFrame behavior). To access a value by position, use `ser.iloc[pos]`\n",
      "  ratio_BSN = population_five_towns_21[2]/numeric_pop_21[2]\n"
     ]
    },
    {
     "data": {
      "text/html": [
       "<div>\n",
       "<style scoped>\n",
       "    .dataframe tbody tr th:only-of-type {\n",
       "        vertical-align: middle;\n",
       "    }\n",
       "\n",
       "    .dataframe tbody tr th {\n",
       "        vertical-align: top;\n",
       "    }\n",
       "\n",
       "    .dataframe thead th {\n",
       "        text-align: right;\n",
       "    }\n",
       "</style>\n",
       "<table border=\"1\" class=\"dataframe\">\n",
       "  <thead>\n",
       "    <tr style=\"text-align: right;\">\n",
       "      <th></th>\n",
       "      <th>MSA</th>\n",
       "      <th>Manure fertilizer land area (acres)</th>\n",
       "      <th>Organic fertilizer land area (acres)</th>\n",
       "      <th>Synthetic fertilizer land area (acres)</th>\n",
       "      <th>Manure fertilizer</th>\n",
       "      <th>Organic fertilizer</th>\n",
       "      <th>Synthetic fertilizer</th>\n",
       "      <th>Manure fertilizer emissions (MMTCO2e)</th>\n",
       "      <th>Organic fertilizer emissions (MMTCO2e)</th>\n",
       "      <th>Synthetic fertilizer emissions (MMTCO2e)</th>\n",
       "      <th>GHG Emissions (MMTCO2e)</th>\n",
       "    </tr>\n",
       "  </thead>\n",
       "  <tbody>\n",
       "    <tr>\n",
       "      <th>0</th>\n",
       "      <td>New Haven-Milford</td>\n",
       "      <td>1125.000000</td>\n",
       "      <td>173.000000</td>\n",
       "      <td>3764.000000</td>\n",
       "      <td>10.378229</td>\n",
       "      <td>11.809963</td>\n",
       "      <td>3472.324723</td>\n",
       "      <td>0.000087</td>\n",
       "      <td>0.000099</td>\n",
       "      <td>0.029055</td>\n",
       "      <td>0.029241</td>\n",
       "    </tr>\n",
       "    <tr>\n",
       "      <th>1</th>\n",
       "      <td>Hartford-East Hartford-Middletown</td>\n",
       "      <td>8441.180671</td>\n",
       "      <td>604.473081</td>\n",
       "      <td>21949.928738</td>\n",
       "      <td>76.263838</td>\n",
       "      <td>40.413284</td>\n",
       "      <td>19831.180812</td>\n",
       "      <td>0.000652</td>\n",
       "      <td>0.000345</td>\n",
       "      <td>0.169438</td>\n",
       "      <td>0.170435</td>\n",
       "    </tr>\n",
       "    <tr>\n",
       "      <th>2</th>\n",
       "      <td>Bridgeport-Stamford-Norwalk</td>\n",
       "      <td>297.002729</td>\n",
       "      <td>193.876781</td>\n",
       "      <td>1849.048239</td>\n",
       "      <td>2.656827</td>\n",
       "      <td>12.833948</td>\n",
       "      <td>1654.059041</td>\n",
       "      <td>0.000023</td>\n",
       "      <td>0.000111</td>\n",
       "      <td>0.014273</td>\n",
       "      <td>0.014407</td>\n",
       "    </tr>\n",
       "  </tbody>\n",
       "</table>\n",
       "</div>"
      ],
      "text/plain": [
       "                                 MSA  Manure fertilizer land area (acres)  \\\n",
       "0                  New Haven-Milford                          1125.000000   \n",
       "1  Hartford-East Hartford-Middletown                          8441.180671   \n",
       "2        Bridgeport-Stamford-Norwalk                           297.002729   \n",
       "\n",
       "   Organic fertilizer land area (acres)  \\\n",
       "0                            173.000000   \n",
       "1                            604.473081   \n",
       "2                            193.876781   \n",
       "\n",
       "   Synthetic fertilizer land area (acres)  Manure fertilizer  \\\n",
       "0                             3764.000000          10.378229   \n",
       "1                            21949.928738          76.263838   \n",
       "2                             1849.048239           2.656827   \n",
       "\n",
       "   Organic fertilizer  Synthetic fertilizer  \\\n",
       "0           11.809963           3472.324723   \n",
       "1           40.413284          19831.180812   \n",
       "2           12.833948           1654.059041   \n",
       "\n",
       "   Manure fertilizer emissions (MMTCO2e)  \\\n",
       "0                               0.000087   \n",
       "1                               0.000652   \n",
       "2                               0.000023   \n",
       "\n",
       "   Organic fertilizer emissions (MMTCO2e)  \\\n",
       "0                                0.000099   \n",
       "1                                0.000345   \n",
       "2                                0.000111   \n",
       "\n",
       "   Synthetic fertilizer emissions (MMTCO2e)  GHG Emissions (MMTCO2e)  \n",
       "0                                  0.029055                 0.029241  \n",
       "1                                  0.169438                 0.170435  \n",
       "2                                  0.014273                 0.014407  "
      ]
     },
     "execution_count": 68,
     "metadata": {},
     "output_type": "execute_result"
    }
   ],
   "source": [
    "#scale up the emissions by population to incorporate the new towns\n",
    "population_five_towns = pd.read_csv('../../../results/population_five_towns.csv')\n",
    "population_five_towns = population_five_towns[['Year', 'New Haven-Milford, CT Metro Area', 'Hartford-East Hartford-Middletown, CT Metro Area', 'Bridgeport-Stamford-Norwalk, CT Metro Area', 'Connecticut']]\n",
    "population_five_towns_21 = population_five_towns.iloc[0,1:4]\n",
    "\n",
    "population = pd.read_csv('../../../data/tidy/population.csv')\n",
    "population = population[['Year', 'New Haven-Milford, CT Metro Area', 'Hartford-East Hartford-Middletown, CT Metro Area', 'Bridgeport-Stamford-Norwalk, CT Metro Area', 'Connecticut']]\n",
    "population_21 = population.iloc[0,1:4]\n",
    "numeric_pop_21 = pd.to_numeric(population_21.str.replace(',', ''), errors='coerce')\n",
    "\n",
    "ratio_NHM = population_five_towns_21[0]/numeric_pop_21[0]\n",
    "ratio_HHM = population_five_towns_21[1]/numeric_pop_21[1]\n",
    "ratio_BSN = population_five_towns_21[2]/numeric_pop_21[2]\n",
    "\n",
    "# Define the numbers to multiply for each MSA\n",
    "multipliers = {'New Haven-Milford': ratio_NHM, 'Hartford-East Hartford-Middletown': ratio_HHM, 'Bridgeport-Stamford-Norwalk': ratio_BSN}\n",
    "\n",
    "# Multiply the values in the specified column by the respective multipliers\n",
    "agri_emissions['GHG Emissions (MMTCO2e)'] = agri_emissions.apply(lambda row: row['GHG Emissions (MMTCO2e)'] * multipliers.get(row['MSA'], 1), axis=1)\n",
    "agri_emissions['Manure fertilizer land area (acres)']=agri_emissions.apply(lambda row: row['Manure fertilizer land area (acres)'] * multipliers.get(row['MSA'], 1), axis=1)\n",
    "agri_emissions['Organic fertilizer land area (acres)']=agri_emissions.apply(lambda row: row['Organic fertilizer land area (acres)'] * multipliers.get(row['MSA'], 1), axis=1)\n",
    "agri_emissions['Synthetic fertilizer land area (acres)']=agri_emissions.apply(lambda row: row['Synthetic fertilizer land area (acres)'] * multipliers.get(row['MSA'], 1), axis=1)\n",
    "\n",
    "agri_emissions['Manure fertilizer emissions (MMTCO2e)']=agri_emissions.apply(lambda row: row['Manure fertilizer emissions (MMTCO2e)'] * multipliers.get(row['MSA'], 1), axis=1)\n",
    "agri_emissions['Organic fertilizer emissions (MMTCO2e)']=agri_emissions.apply(lambda row: row['Organic fertilizer emissions (MMTCO2e)'] * multipliers.get(row['MSA'], 1), axis=1)\n",
    "agri_emissions['Synthetic fertilizer emissions (MMTCO2e)']=agri_emissions.apply(lambda row: row['Synthetic fertilizer emissions (MMTCO2e)'] * multipliers.get(row['MSA'], 1), axis=1)\n",
    "\n",
    "agri_emissions"
   ]
  },
  {
   "cell_type": "code",
   "execution_count": 69,
   "id": "dceeb58e-b067-4fe6-adb2-24a558b52681",
   "metadata": {
    "tags": []
   },
   "outputs": [],
   "source": [
    "agri_emissions.to_csv('../../../data/tidy/agriculture-emissions.csv')"
   ]
  },
  {
   "cell_type": "code",
   "execution_count": 70,
   "id": "38b82d36-633a-42de-8483-b97c40314590",
   "metadata": {
    "tags": []
   },
   "outputs": [
    {
     "data": {
      "text/html": [
       "<div>\n",
       "<style scoped>\n",
       "    .dataframe tbody tr th:only-of-type {\n",
       "        vertical-align: middle;\n",
       "    }\n",
       "\n",
       "    .dataframe tbody tr th {\n",
       "        vertical-align: top;\n",
       "    }\n",
       "\n",
       "    .dataframe thead th {\n",
       "        text-align: right;\n",
       "    }\n",
       "</style>\n",
       "<table border=\"1\" class=\"dataframe\">\n",
       "  <thead>\n",
       "    <tr style=\"text-align: right;\">\n",
       "      <th></th>\n",
       "      <th>MSA</th>\n",
       "      <th>Manure fertilizer land area (acres)</th>\n",
       "      <th>Organic fertilizer land area (acres)</th>\n",
       "      <th>Synthetic fertilizer land area (acres)</th>\n",
       "      <th>Manure fertilizer</th>\n",
       "      <th>Organic fertilizer</th>\n",
       "      <th>Synthetic fertilizer</th>\n",
       "      <th>Manure fertilizer emissions (MMTCO2e)</th>\n",
       "      <th>Organic fertilizer emissions (MMTCO2e)</th>\n",
       "      <th>Synthetic fertilizer emissions (MMTCO2e)</th>\n",
       "      <th>GHG Emissions (MMTCO2e)</th>\n",
       "    </tr>\n",
       "  </thead>\n",
       "  <tbody>\n",
       "    <tr>\n",
       "      <th>0</th>\n",
       "      <td>New Haven-Milford</td>\n",
       "      <td>1125.000000</td>\n",
       "      <td>173.000000</td>\n",
       "      <td>3764.000000</td>\n",
       "      <td>10.378229</td>\n",
       "      <td>11.809963</td>\n",
       "      <td>3472.324723</td>\n",
       "      <td>0.000087</td>\n",
       "      <td>0.000099</td>\n",
       "      <td>0.029055</td>\n",
       "      <td>0.029241</td>\n",
       "    </tr>\n",
       "    <tr>\n",
       "      <th>1</th>\n",
       "      <td>Hartford-East Hartford-Middletown</td>\n",
       "      <td>8441.180671</td>\n",
       "      <td>604.473081</td>\n",
       "      <td>21949.928738</td>\n",
       "      <td>76.263838</td>\n",
       "      <td>40.413284</td>\n",
       "      <td>19831.180812</td>\n",
       "      <td>0.000652</td>\n",
       "      <td>0.000345</td>\n",
       "      <td>0.169438</td>\n",
       "      <td>0.170435</td>\n",
       "    </tr>\n",
       "    <tr>\n",
       "      <th>2</th>\n",
       "      <td>Bridgeport-Stamford-Norwalk</td>\n",
       "      <td>297.002729</td>\n",
       "      <td>193.876781</td>\n",
       "      <td>1849.048239</td>\n",
       "      <td>2.656827</td>\n",
       "      <td>12.833948</td>\n",
       "      <td>1654.059041</td>\n",
       "      <td>0.000023</td>\n",
       "      <td>0.000111</td>\n",
       "      <td>0.014273</td>\n",
       "      <td>0.014407</td>\n",
       "    </tr>\n",
       "  </tbody>\n",
       "</table>\n",
       "</div>"
      ],
      "text/plain": [
       "                                 MSA  Manure fertilizer land area (acres)  \\\n",
       "0                  New Haven-Milford                          1125.000000   \n",
       "1  Hartford-East Hartford-Middletown                          8441.180671   \n",
       "2        Bridgeport-Stamford-Norwalk                           297.002729   \n",
       "\n",
       "   Organic fertilizer land area (acres)  \\\n",
       "0                            173.000000   \n",
       "1                            604.473081   \n",
       "2                            193.876781   \n",
       "\n",
       "   Synthetic fertilizer land area (acres)  Manure fertilizer  \\\n",
       "0                             3764.000000          10.378229   \n",
       "1                            21949.928738          76.263838   \n",
       "2                             1849.048239           2.656827   \n",
       "\n",
       "   Organic fertilizer  Synthetic fertilizer  \\\n",
       "0           11.809963           3472.324723   \n",
       "1           40.413284          19831.180812   \n",
       "2           12.833948           1654.059041   \n",
       "\n",
       "   Manure fertilizer emissions (MMTCO2e)  \\\n",
       "0                               0.000087   \n",
       "1                               0.000652   \n",
       "2                               0.000023   \n",
       "\n",
       "   Organic fertilizer emissions (MMTCO2e)  \\\n",
       "0                                0.000099   \n",
       "1                                0.000345   \n",
       "2                                0.000111   \n",
       "\n",
       "   Synthetic fertilizer emissions (MMTCO2e)  GHG Emissions (MMTCO2e)  \n",
       "0                                  0.029055                 0.029241  \n",
       "1                                  0.169438                 0.170435  \n",
       "2                                  0.014273                 0.014407  "
      ]
     },
     "execution_count": 70,
     "metadata": {},
     "output_type": "execute_result"
    }
   ],
   "source": [
    "agri_emissions"
   ]
  },
  {
   "cell_type": "code",
   "execution_count": 71,
   "id": "fa4d8827-e868-4c80-9cac-1efa8f42f320",
   "metadata": {},
   "outputs": [
    {
     "data": {
      "image/png": "[encoded data removed]",
      "text/plain": [
       "<Figure size 640x480 with 1 Axes>"
      ]
     },
     "metadata": {},
     "output_type": "display_data"
    }
   ],
   "source": [
    "msa = agri_emissions.iloc[0:3,0]\n",
    "values = agri_emissions.iloc[0:3,10]\n",
    "plt.barh(msa, values, 0.4, color=\"salmon\")\n",
    "plt.xlabel(\"Greenhouse Gas Emissions (MMTCO2e)\",fontsize=15, labelpad=20)\n",
    "\n",
    "plt.xticks(fontsize=16)  # Adjust the font size as needed\n",
    "plt.yticks(fontsize=16)\n",
    "\n",
    "#plt.show() \n",
    "\n",
    "plt.savefig('../../../figures/Report-images/ghg-emissions-agriculture-mobile.png', dpi=600,bbox_inches='tight')"
   ]
  },
  {
   "cell_type": "code",
   "execution_count": 73,
   "id": "694d1d27-4c83-422d-b1a8-6512f8f877b4",
   "metadata": {},
   "outputs": [
    {
     "data": {
      "text/plain": [
       "<Figure size 1000x600 with 0 Axes>"
      ]
     },
     "metadata": {},
     "output_type": "display_data"
    },
    {
     "data": {
      "image/png": "[encoded data removed]",
      "text/plain": [
       "<Figure size 800x600 with 1 Axes>"
      ]
     },
     "metadata": {},
     "output_type": "display_data"
    }
   ],
   "source": [
    "plt.figure(figsize=(10, 6))\n",
    "X = ['New Haven-Milford','Hartford-East Hartford-Middletown','Bridgeport-Stamford-Norwalk']\n",
    "\n",
    "manure = agri_emissions ['Manure fertilizer land area (acres)']\n",
    "organic = agri_emissions ['Organic fertilizer land area (acres)']\n",
    "synthetic = agri_emissions ['Synthetic fertilizer land area (acres)']\n",
    "\n",
    "Y_axis = np.arange(len(X))\n",
    "bar_width = 0.3  # Width of each bar\n",
    "\n",
    "plt.figure(figsize=(8, 6))\n",
    "\n",
    "# Plot the bars for Natural gas emissions\n",
    "plt.barh(Y_axis , manure, bar_width, label='Manure fertilizer')\n",
    "\n",
    "\n",
    "\n",
    "plt.barh(Y_axis + bar_width, organic , bar_width, label='Organic fertilizer')\n",
    "\n",
    "# Plot the bars for Propane emissions\n",
    "plt.barh(Y_axis - bar_width, synthetic, bar_width, label='Synthetic fertilizer')\n",
    "\n",
    "\n",
    "\n",
    "plt.yticks(Y_axis, X)  # Use yticks instead of xticks\n",
    "\n",
    "plt.xlabel(\"Land area treated by fertilizer/acres\",fontsize=20, labelpad=20)\n",
    "plt.xticks(fontsize=20)  # Adjust the font size as needed\n",
    "plt.yticks(fontsize=20)\n",
    "plt.legend(loc='upper left', bbox_to_anchor=(0.48, 0.3),fontsize=17)\n",
    "#plt.show()\n",
    "plt.savefig('../../../figures/Report-images/AG-land-area.png', dpi=600,bbox_inches='tight')"
   ]
  },
  {
   "cell_type": "code",
   "execution_count": 74,
   "id": "d8ed0efa-c82f-4089-8f65-b5e46074d1cf",
   "metadata": {
    "tags": []
   },
   "outputs": [
    {
     "data": {
      "image/png": "[encoded data removed]",
      "text/plain": [
       "<Figure size 640x480 with 1 Axes>"
      ]
     },
     "metadata": {},
     "output_type": "display_data"
    }
   ],
   "source": [
    "agri_emissions['Emissions per capita/tCO2e']=agri_emissions_1['GHG Emissions (MMTCO2e)']*1000000/[862127,1239055,976389]\n",
    "\n",
    "msa = agri_emissions_1.iloc[0:3,0]\n",
    "values = agri_emissions_1.iloc[0:3,2]\n",
    "plt.barh(msa, values, 0.4, color=\"violet\")\n",
    "plt.xlabel(\"GHG Emissions per acres (tCO2e)\",fontsize=15, labelpad=20)\n",
    "\n",
    "plt.xticks(fontsize=16)  # Adjust the font size as needed\n",
    "plt.yticks(fontsize=16)\n",
    "\n",
    "#plt.show() \n",
    "\n",
    "plt.savefig('../../../figures/Report-images/ghg-emissions-agriculture-per-acres.png', dpi=600,bbox_inches='tight')"
   ]
  },
  {
   "cell_type": "code",
   "execution_count": null,
   "id": "f81b81dd-6dcc-4ff5-bce4-dc602ebca00a",
   "metadata": {},
   "outputs": [],
   "source": []
  }
 ],
 "metadata": {
  "kernelspec": {
   "display_name": "Python 3 (ipykernel)",
   "language": "python",
   "name": "python3"
  },
  "language_info": {
   "codemirror_mode": {
    "name": "ipython",
    "version": 3
   },
   "file_extension": ".py",
   "mimetype": "text/x-python",
   "name": "python",
   "nbconvert_exporter": "python",
   "pygments_lexer": "ipython3",
   "version": "3.11.5"
  }
 },
 "nbformat": 4,
 "nbformat_minor": 5
}
