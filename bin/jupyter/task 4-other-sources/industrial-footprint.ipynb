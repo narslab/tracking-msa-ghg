{
 "cells": [
  {
   "cell_type": "code",
   "execution_count": 2,
   "id": "15663d7c-f1b3-4f8c-be04-a6d3bd73718d",
   "metadata": {
    "tags": []
   },
   "outputs": [],
   "source": [
    "import networkx as nx\n",
    "import cenpy\n",
    "import osmnx as ox\n",
    "import matplotlib.pyplot as plt\n",
    "import pandas as pd\n",
    "import geopandas as gpd\n",
    "import numpy as np\n",
    "import matplotlib\n",
    "from mpl_toolkits.axes_grid1 import make_axes_locatable\n",
    "import contextily"
   ]
  },
  {
   "cell_type": "code",
   "execution_count": 3,
   "id": "a7053dd5-c545-401e-b744-a48582fdf7f2",
   "metadata": {
    "tags": []
   },
   "outputs": [],
   "source": [
    "ct = \"Connecticut, USA\"\n",
    "ct_NewH = ['New Haven County, Connecticut, USA']\n",
    "ct_Mids = ['Middlesex County, Connecticut, USA']\n",
    "ct_Tola = ['Tolland County, Connecticut, USA']\n",
    "ct_Hart = ['Hartford County, Connecticut, USA']\n",
    "ct_Fair = ['Fairfield County, Connecticut, USA']\n",
    "          #{'city':'Los Altos Hills', 'state':'California'},\n",
    "          #'Loyola, California']\n",
    "\n",
    "desired_building_types = ['industrial','manufacture','factory']"
   ]
  },
  {
   "cell_type": "code",
   "execution_count": 4,
   "id": "f3739960-8e8a-4375-8c4e-0c31971b52e7",
   "metadata": {
    "tags": []
   },
   "outputs": [],
   "source": [
    "def footprint_squarefeet(place_name, building_types):\n",
    "    graph = ox.graph_from_place(place_name, network_type='all')\n",
    "    area = ox.geocode_to_gdf(place_name)\n",
    "    bldgs = ox.geometries_from_place(place_name, tags={'building': building_types})\n",
    "\n",
    "    building_geometries_series = gpd.GeoSeries(bldgs.geometry)\n",
    "    total_footprint_area = building_geometries_series.area.sum()\n",
    "    projected_crs = 'EPSG:6433'\n",
    "    building_geometries_projected = bldgs.to_crs(projected_crs)\n",
    "    total_footprint_area_projected = building_geometries_projected.area.sum()\n",
    "    \n",
    "    #print(\"Total Building Footprint Area:\", total_footprint_area)\n",
    "    #print(\"Total Building Footprint Area (Projected):\", total_footprint_area_projected) #square feet\n",
    "    return total_footprint_area_projected"
   ]
  },
  {
   "cell_type": "code",
   "execution_count": 5,
   "id": "331904be-10b1-4fb0-9034-e100a956ac75",
   "metadata": {
    "tags": []
   },
   "outputs": [
    {
     "name": "stderr",
     "output_type": "stream",
     "text": [
      "C:\\Users\\peiyaozhao\\AppData\\Local\\Temp\\ipykernel_3636\\4126494917.py:4: UserWarning: The `geometries` module and `geometries_from_X` functions have been renamed the `features` module and `features_from_X` functions. Use these instead. The `geometries` module and function names are deprecated and will be removed in a future release.\n",
      "  bldgs = ox.geometries_from_place(place_name, tags={'building': building_types})\n",
      "C:\\Users\\peiyaozhao\\AppData\\Local\\Temp\\ipykernel_3636\\4126494917.py:7: UserWarning: Geometry is in a geographic CRS. Results from 'area' are likely incorrect. Use 'GeoSeries.to_crs()' to re-project geometries to a projected CRS before this operation.\n",
      "\n",
      "  total_footprint_area = building_geometries_series.area.sum()\n",
      "C:\\Users\\peiyaozhao\\AppData\\Local\\Temp\\ipykernel_3636\\4126494917.py:4: UserWarning: The `geometries` module and `geometries_from_X` functions have been renamed the `features` module and `features_from_X` functions. Use these instead. The `geometries` module and function names are deprecated and will be removed in a future release.\n",
      "  bldgs = ox.geometries_from_place(place_name, tags={'building': building_types})\n",
      "C:\\Users\\peiyaozhao\\AppData\\Local\\Temp\\ipykernel_3636\\4126494917.py:7: UserWarning: Geometry is in a geographic CRS. Results from 'area' are likely incorrect. Use 'GeoSeries.to_crs()' to re-project geometries to a projected CRS before this operation.\n",
      "\n",
      "  total_footprint_area = building_geometries_series.area.sum()\n",
      "C:\\Users\\peiyaozhao\\AppData\\Local\\Temp\\ipykernel_3636\\4126494917.py:4: UserWarning: The `geometries` module and `geometries_from_X` functions have been renamed the `features` module and `features_from_X` functions. Use these instead. The `geometries` module and function names are deprecated and will be removed in a future release.\n",
      "  bldgs = ox.geometries_from_place(place_name, tags={'building': building_types})\n",
      "C:\\Users\\peiyaozhao\\AppData\\Local\\Temp\\ipykernel_3636\\4126494917.py:7: UserWarning: Geometry is in a geographic CRS. Results from 'area' are likely incorrect. Use 'GeoSeries.to_crs()' to re-project geometries to a projected CRS before this operation.\n",
      "\n",
      "  total_footprint_area = building_geometries_series.area.sum()\n",
      "C:\\Users\\peiyaozhao\\AppData\\Local\\Temp\\ipykernel_3636\\4126494917.py:4: UserWarning: The `geometries` module and `geometries_from_X` functions have been renamed the `features` module and `features_from_X` functions. Use these instead. The `geometries` module and function names are deprecated and will be removed in a future release.\n",
      "  bldgs = ox.geometries_from_place(place_name, tags={'building': building_types})\n",
      "C:\\Users\\peiyaozhao\\AppData\\Local\\Temp\\ipykernel_3636\\4126494917.py:7: UserWarning: Geometry is in a geographic CRS. Results from 'area' are likely incorrect. Use 'GeoSeries.to_crs()' to re-project geometries to a projected CRS before this operation.\n",
      "\n",
      "  total_footprint_area = building_geometries_series.area.sum()\n",
      "C:\\Users\\peiyaozhao\\AppData\\Local\\Temp\\ipykernel_3636\\4126494917.py:4: UserWarning: The `geometries` module and `geometries_from_X` functions have been renamed the `features` module and `features_from_X` functions. Use these instead. The `geometries` module and function names are deprecated and will be removed in a future release.\n",
      "  bldgs = ox.geometries_from_place(place_name, tags={'building': building_types})\n",
      "C:\\Users\\peiyaozhao\\AppData\\Local\\Temp\\ipykernel_3636\\4126494917.py:7: UserWarning: Geometry is in a geographic CRS. Results from 'area' are likely incorrect. Use 'GeoSeries.to_crs()' to re-project geometries to a projected CRS before this operation.\n",
      "\n",
      "  total_footprint_area = building_geometries_series.area.sum()\n",
      "C:\\Users\\peiyaozhao\\AppData\\Local\\Temp\\ipykernel_3636\\4126494917.py:4: UserWarning: The `geometries` module and `geometries_from_X` functions have been renamed the `features` module and `features_from_X` functions. Use these instead. The `geometries` module and function names are deprecated and will be removed in a future release.\n",
      "  bldgs = ox.geometries_from_place(place_name, tags={'building': building_types})\n",
      "C:\\Users\\peiyaozhao\\AppData\\Local\\Temp\\ipykernel_3636\\4126494917.py:7: UserWarning: Geometry is in a geographic CRS. Results from 'area' are likely incorrect. Use 'GeoSeries.to_crs()' to re-project geometries to a projected CRS before this operation.\n",
      "\n",
      "  total_footprint_area = building_geometries_series.area.sum()\n"
     ]
    }
   ],
   "source": [
    "ct = footprint_squarefeet(ct, desired_building_types)\n",
    "NewH = footprint_squarefeet(ct_NewH, desired_building_types)\n",
    "Mids = footprint_squarefeet(ct_Mids, desired_building_types)\n",
    "Tola = footprint_squarefeet(ct_Tola, desired_building_types)\n",
    "Hart = footprint_squarefeet(ct_Hart, desired_building_types)\n",
    "Fair = footprint_squarefeet(ct_Fair, desired_building_types)"
   ]
  },
  {
   "cell_type": "code",
   "execution_count": 6,
   "id": "01893025-a512-4259-abe8-ed1fb1afef1a",
   "metadata": {
    "tags": []
   },
   "outputs": [
    {
     "data": {
      "text/html": [
       "<div>\n",
       "<style scoped>\n",
       "    .dataframe tbody tr th:only-of-type {\n",
       "        vertical-align: middle;\n",
       "    }\n",
       "\n",
       "    .dataframe tbody tr th {\n",
       "        vertical-align: top;\n",
       "    }\n",
       "\n",
       "    .dataframe thead th {\n",
       "        text-align: right;\n",
       "    }\n",
       "</style>\n",
       "<table border=\"1\" class=\"dataframe\">\n",
       "  <thead>\n",
       "    <tr style=\"text-align: right;\">\n",
       "      <th></th>\n",
       "      <th>County</th>\n",
       "      <th>Total Footprint Area (square feet)</th>\n",
       "      <th>Ratio</th>\n",
       "      <th>GHG Emissions/MMTCO2e</th>\n",
       "    </tr>\n",
       "  </thead>\n",
       "  <tbody>\n",
       "    <tr>\n",
       "      <th>0</th>\n",
       "      <td>New Haven-Milford</td>\n",
       "      <td>2.953017e+05</td>\n",
       "      <td>0.142529</td>\n",
       "      <td>0.445960</td>\n",
       "    </tr>\n",
       "    <tr>\n",
       "      <th>1</th>\n",
       "      <td>Bridgeport-Stamford-Norwalk</td>\n",
       "      <td>2.530338e+05</td>\n",
       "      <td>0.122128</td>\n",
       "      <td>0.382128</td>\n",
       "    </tr>\n",
       "    <tr>\n",
       "      <th>2</th>\n",
       "      <td>Hartford-East Hartford-Middletown</td>\n",
       "      <td>9.784619e+05</td>\n",
       "      <td>0.472261</td>\n",
       "      <td>1.477657</td>\n",
       "    </tr>\n",
       "    <tr>\n",
       "      <th>3</th>\n",
       "      <td>Rest of the state</td>\n",
       "      <td>5.450696e+05</td>\n",
       "      <td>0.263081</td>\n",
       "      <td>0.823155</td>\n",
       "    </tr>\n",
       "    <tr>\n",
       "      <th>4</th>\n",
       "      <td>Statewide</td>\n",
       "      <td>2.071867e+06</td>\n",
       "      <td>1.000000</td>\n",
       "      <td>3.128899</td>\n",
       "    </tr>\n",
       "  </tbody>\n",
       "</table>\n",
       "</div>"
      ],
      "text/plain": [
       "                              County  Total Footprint Area (square feet)  \\\n",
       "0                  New Haven-Milford                        2.953017e+05   \n",
       "1        Bridgeport-Stamford-Norwalk                        2.530338e+05   \n",
       "2  Hartford-East Hartford-Middletown                        9.784619e+05   \n",
       "3                  Rest of the state                        5.450696e+05   \n",
       "4                          Statewide                        2.071867e+06   \n",
       "\n",
       "      Ratio  GHG Emissions/MMTCO2e  \n",
       "0  0.142529               0.445960  \n",
       "1  0.122128               0.382128  \n",
       "2  0.472261               1.477657  \n",
       "3  0.263081               0.823155  \n",
       "4  1.000000               3.128899  "
      ]
     },
     "execution_count": 6,
     "metadata": {},
     "output_type": "execute_result"
    }
   ],
   "source": [
    "footprint = pd.DataFrame({\n",
    "        'County': ['New Haven','Hartford','Middlesex','Tolland','Fairfield','Statewide'],\n",
    "        'Total Footprint Area (square feet)': [NewH,Hart,Mids,Tola,Fair,ct]\n",
    "    })\n",
    "\n",
    "footprint['Ratio'] = footprint['Total Footprint Area (square feet)']/ct\n",
    "\n",
    "import pandas as pd\n",
    "ct_emissions = pd.read_excel('C:/Users/peiyaozhao/Documents/GitHub/tracking-msa-ghg/data/raw/Public GHG data 1990-2021.xlsx', sheet_name=\"Emission Totals\")\n",
    "\n",
    "emi = ct_emissions.at[9,'2020 est']\n",
    "footprint['GHG Emissions/MMTCO2e'] = footprint['Ratio']*emi\n",
    "rows_to_sum = [1, 2, 3]\n",
    "\n",
    "# Calculate the sum of the selected rows\n",
    "sum_result = footprint.iloc[rows_to_sum].sum()\n",
    "newH_footprint = footprint.iloc[0]\n",
    "Fair_footprint = footprint.iloc[4]\n",
    "state_footprint = footprint.iloc[5]\n",
    "\n",
    "\n",
    "# Choose two rows by label (index)\n",
    "rows_to_extract = [0, 4,5]\n",
    "\n",
    "# Extract the selected rows into a new DataFrame\n",
    "footprint_msa = footprint.loc[rows_to_extract].copy()\n",
    "\n",
    "# Remove the selected rows from the original DataFrame\n",
    "#footprint_msa = footprint.drop(rows_to_extract)\n",
    "position_to_add = 2\n",
    "\n",
    "# Concatenate the DataFrame before and after the new row\n",
    "footprint_msa = pd.concat([footprint_msa.iloc[:position_to_add], pd.DataFrame([sum_result]), footprint_msa.iloc[position_to_add:]]).reset_index(drop=True)\n",
    "\n",
    "footprint_msa.loc[0, 'County'] = 'New Haven-Milford'\n",
    "footprint_msa.loc[1, 'County'] = 'Bridgeport-Stamford-Norwalk'\n",
    "footprint_msa.loc[2, 'County'] = 'Hartford-East Hartford-Middletown'\n",
    "\n",
    "\n",
    "new_row = {\n",
    "    'County': 'Rest of the state',\n",
    "    'Total Footprint Area (square feet)': footprint_msa.iloc[3]['Total Footprint Area (square feet)'] - footprint_msa.iloc[:3]['Total Footprint Area (square feet)'].sum(),\n",
    "    'Ratio': footprint_msa.iloc[3]['Ratio'] - footprint_msa.iloc[:3]['Ratio'].sum(),\n",
    "    'GHG Emissions/MMTCO2e': footprint_msa.iloc[3]['GHG Emissions/MMTCO2e'] - footprint_msa.iloc[:3]['GHG Emissions/MMTCO2e'].sum()\n",
    "}\n",
    "\n",
    "footprint_msa = pd.concat([footprint_msa.iloc[:3], pd.DataFrame([new_row]), footprint_msa.iloc[3:]]).reset_index(drop=True)\n",
    "\n",
    "msa = footprint_msa.iloc[0:3,0]\n",
    "values = footprint_msa.iloc[0:3,-1]\n",
    "Footprint_ratio = footprint_msa.iloc[0:4,2]\n",
    "categories = footprint_msa.iloc[0:4,1]\n",
    "\n",
    "footprint_msa "
   ]
  },
  {
   "cell_type": "code",
   "execution_count": 8,
   "id": "224e5864-b031-4195-bae4-06382ea70932",
   "metadata": {
    "tags": []
   },
   "outputs": [
    {
     "data": {
      "image/png": "[encoded data removed]",
      "text/plain": [
       "<Figure size 640x480 with 1 Axes>"
      ]
     },
     "metadata": {},
     "output_type": "display_data"
    }
   ],
   "source": [
    "plt.barh(msa, values, 0.4, color=\"salmon\")\n",
    "plt.xlabel(\"Greenhouse Gas Emissions (MMTCO2e)\",fontsize=15, labelpad=20)\n",
    "\n",
    "plt.xticks(fontsize=16)  # Adjust the font size as needed\n",
    "plt.yticks(fontsize=16)\n",
    "\n",
    "#plt.show() \n",
    "\n",
    "plt.savefig('C:/Users/peiyaozhao/Documents/GitHub/tracking-msa-ghg/figures/industrial-emissions-osmnx.png', dpi=100,bbox_inches='tight')"
   ]
  },
  {
   "cell_type": "code",
   "execution_count": null,
   "id": "70ddf504-fb00-4e1c-ac49-973abfbca348",
   "metadata": {},
   "outputs": [],
   "source": []
  }
 ],
 "metadata": {
  "kernelspec": {
   "display_name": "Python 3 (ipykernel)",
   "language": "python",
   "name": "python3"
  },
  "language_info": {
   "codemirror_mode": {
    "name": "ipython",
    "version": 3
   },
   "file_extension": ".py",
   "mimetype": "text/x-python",
   "name": "python",
   "nbconvert_exporter": "python",
   "pygments_lexer": "ipython3",
   "version": "3.11.5"
  }
 },
 "nbformat": 4,
 "nbformat_minor": 5
}
