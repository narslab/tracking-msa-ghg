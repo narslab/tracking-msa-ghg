{
 "cells": [
  {
   "cell_type": "code",
   "execution_count": 1,
   "id": "b58ec35e-8f2c-4e03-ae8f-ba6b72fbfa56",
   "metadata": {
    "tags": []
   },
   "outputs": [],
   "source": [
    "import pandas as pd\n",
    "import numpy as np\n",
    "import os\n",
    "import string\n",
    "import seaborn as sns\n",
    "import matplotlib.pyplot as plt\n",
    "from matplotlib.ticker import ScalarFormatter\n",
    "from matplotlib.ticker import StrMethodFormatter\n",
    "os.getcwd()\n",
    "os.chdir('C:/Users/peiyaozhao/Documents/GitHub/tracking-msa-ghg/bin/jupyter')"
   ]
  },
  {
   "cell_type": "code",
   "execution_count": 2,
   "id": "65d691da-fab0-46cb-9b18-a7834ff4e938",
   "metadata": {
    "tags": []
   },
   "outputs": [],
   "source": [
    "residence = pd.read_csv('C:/Users/peiyaozhao/Documents/GitHub/tracking-msa-ghg/data/raw/residence_clean.txt', delimiter = \"\\t\")"
   ]
  },
  {
   "cell_type": "code",
   "execution_count": 3,
   "id": "f938f6aa-5fad-4112-97fd-f95a3ee8b9ca",
   "metadata": {
    "tags": []
   },
   "outputs": [
    {
     "data": {
      "text/html": [
       "<div>\n",
       "<style scoped>\n",
       "    .dataframe tbody tr th:only-of-type {\n",
       "        vertical-align: middle;\n",
       "    }\n",
       "\n",
       "    .dataframe tbody tr th {\n",
       "        vertical-align: top;\n",
       "    }\n",
       "\n",
       "    .dataframe thead th {\n",
       "        text-align: right;\n",
       "    }\n",
       "</style>\n",
       "<table border=\"1\" class=\"dataframe\">\n",
       "  <thead>\n",
       "    <tr style=\"text-align: right;\">\n",
       "      <th></th>\n",
       "      <th>Status,Score,Match_type,Match_Street, March_Town, March_State, March_post,Addr_type,VEHICLE_YEAR,VIN,MAKE,MODEL,VEHICLE_TYPE,FUEL_TYPE,PLATE_CLASS,REGISTRATION_STATUS,DOMICILE_TOWN,DOMICILE_ZIP,DOMICILE_STATE,VEHICLE_OWNERSHIP_ID,RESIDENTIAL_CITY,RESIDENTIAL_ZIP,RESIDENTIAL_STATE,STATEFP10,COUNTYFP10,TRACTCE10,BLOCKCE10,GEOID10,NAME10</th>\n",
       "    </tr>\n",
       "  </thead>\n",
       "  <tbody>\n",
       "    <tr>\n",
       "      <th>0</th>\n",
       "      <td>M,100.00,A,39 Stony Brook, STAMFORD, CT, 06902...</td>\n",
       "    </tr>\n",
       "    <tr>\n",
       "      <th>1</th>\n",
       "      <td>M,89.04,A,163 MacGregor, STAMFORD, CT, 06902,S...</td>\n",
       "    </tr>\n",
       "    <tr>\n",
       "      <th>2</th>\n",
       "      <td>M,89.04,A,525 Westover, STAMFORD, CT, 06902,St...</td>\n",
       "    </tr>\n",
       "    <tr>\n",
       "      <th>3</th>\n",
       "      <td>M,89.04,A,3 Alfred, STAMFORD, CT, 06902,Street...</td>\n",
       "    </tr>\n",
       "    <tr>\n",
       "      <th>4</th>\n",
       "      <td>M,89.04,A,1021 Westover, STAMFORD, CT, 06902,S...</td>\n",
       "    </tr>\n",
       "    <tr>\n",
       "      <th>...</th>\n",
       "      <td>...</td>\n",
       "    </tr>\n",
       "    <tr>\n",
       "      <th>3062970</th>\n",
       "      <td>U,.00,A,,,1999,2GTEK19V2X1566373,GMC,Sierra K1...</td>\n",
       "    </tr>\n",
       "    <tr>\n",
       "      <th>3062971</th>\n",
       "      <td>U,.00,A,,,2005,YV1CM592251153901,Volvo,XC90,Pa...</td>\n",
       "    </tr>\n",
       "    <tr>\n",
       "      <th>3062972</th>\n",
       "      <td>U,.00,A,,,1999,3B7KF2368XG191188,Dodge,RAM 250...</td>\n",
       "    </tr>\n",
       "    <tr>\n",
       "      <th>3062973</th>\n",
       "      <td>U,.00,A,,,2002,1GCCS145028233710,Chevrolet,S10...</td>\n",
       "    </tr>\n",
       "    <tr>\n",
       "      <th>3062974</th>\n",
       "      <td>U,.00,A,,,1998,1HD1CHP10WY213998,Harley-davids...</td>\n",
       "    </tr>\n",
       "  </tbody>\n",
       "</table>\n",
       "<p>3062975 rows × 1 columns</p>\n",
       "</div>"
      ],
      "text/plain": [
       "        Status,Score,Match_type,Match_Street, March_Town, March_State, March_post,Addr_type,VEHICLE_YEAR,VIN,MAKE,MODEL,VEHICLE_TYPE,FUEL_TYPE,PLATE_CLASS,REGISTRATION_STATUS,DOMICILE_TOWN,DOMICILE_ZIP,DOMICILE_STATE,VEHICLE_OWNERSHIP_ID,RESIDENTIAL_CITY,RESIDENTIAL_ZIP,RESIDENTIAL_STATE,STATEFP10,COUNTYFP10,TRACTCE10,BLOCKCE10,GEOID10,NAME10\n",
       "0        M,100.00,A,39 Stony Brook, STAMFORD, CT, 06902...                                                                                                                                                                                                                                                                                              \n",
       "1        M,89.04,A,163 MacGregor, STAMFORD, CT, 06902,S...                                                                                                                                                                                                                                                                                              \n",
       "2        M,89.04,A,525 Westover, STAMFORD, CT, 06902,St...                                                                                                                                                                                                                                                                                              \n",
       "3        M,89.04,A,3 Alfred, STAMFORD, CT, 06902,Street...                                                                                                                                                                                                                                                                                              \n",
       "4        M,89.04,A,1021 Westover, STAMFORD, CT, 06902,S...                                                                                                                                                                                                                                                                                              \n",
       "...                                                    ...                                                                                                                                                                                                                                                                                              \n",
       "3062970  U,.00,A,,,1999,2GTEK19V2X1566373,GMC,Sierra K1...                                                                                                                                                                                                                                                                                              \n",
       "3062971  U,.00,A,,,2005,YV1CM592251153901,Volvo,XC90,Pa...                                                                                                                                                                                                                                                                                              \n",
       "3062972  U,.00,A,,,1999,3B7KF2368XG191188,Dodge,RAM 250...                                                                                                                                                                                                                                                                                              \n",
       "3062973  U,.00,A,,,2002,1GCCS145028233710,Chevrolet,S10...                                                                                                                                                                                                                                                                                              \n",
       "3062974  U,.00,A,,,1998,1HD1CHP10WY213998,Harley-davids...                                                                                                                                                                                                                                                                                              \n",
       "\n",
       "[3062975 rows x 1 columns]"
      ]
     },
     "execution_count": 3,
     "metadata": {},
     "output_type": "execute_result"
    }
   ],
   "source": [
    "residence"
   ]
  },
  {
   "cell_type": "code",
   "execution_count": 4,
   "id": "a3b29d60-99bc-4483-9fe8-c21695d7e1e5",
   "metadata": {
    "tags": []
   },
   "outputs": [
    {
     "data": {
      "text/plain": [
       "Index(['Status,Score,Match_type,Match_Street, March_Town, March_State, March_post,Addr_type,VEHICLE_YEAR,VIN,MAKE,MODEL,VEHICLE_TYPE,FUEL_TYPE,PLATE_CLASS,REGISTRATION_STATUS,DOMICILE_TOWN,DOMICILE_ZIP,DOMICILE_STATE,VEHICLE_OWNERSHIP_ID,RESIDENTIAL_CITY,RESIDENTIAL_ZIP,RESIDENTIAL_STATE,STATEFP10,COUNTYFP10,TRACTCE10,BLOCKCE10,GEOID10,NAME10'], dtype='object')"
      ]
     },
     "execution_count": 4,
     "metadata": {},
     "output_type": "execute_result"
    }
   ],
   "source": [
    "residence.columns"
   ]
  },
  {
   "cell_type": "code",
   "execution_count": null,
   "id": "9f656f59-4c21-4103-a012-d96d4ec5c999",
   "metadata": {
    "tags": []
   },
   "outputs": [],
   "source": [
    "# Define the column names for the new columns\n",
    "new_columns = ['Status', 'Score', 'Match_type', 'Match_Street', 'March_Town', 'March_State', 'March_post', 'Addr_type', 'VEHICLE_YEAR', 'VIN', 'MAKE', 'MODEL', 'VEHICLE_TYPE', 'FUEL_TYPE', 'PLATE_CLASS', 'REGISTRATION_STATUS', 'DOMICILE_TOWN', 'DOMICILE_ZIP', 'DOMICILE_STATE', 'VEHICLE_OWNERSHIP_ID', 'RESIDENTIAL_CITY', 'RESIDENTIAL_ZIP', 'RESIDENTIAL_STATE', 'STATEFP10', 'COUNTYFP10', 'TRACTCE10', 'BLOCKCE10', 'GEOID10', 'NAME10','n']\n",
    "\n",
    "# Split the 'Status,Score,Match_type,...' column and assign it to new columns\n",
    "residence[new_columns] = residence['Status,Score,Match_type,Match_Street, March_Town, March_State, March_post,Addr_type,VEHICLE_YEAR,VIN,MAKE,MODEL,VEHICLE_TYPE,FUEL_TYPE,PLATE_CLASS,REGISTRATION_STATUS,DOMICILE_TOWN,DOMICILE_ZIP,DOMICILE_STATE,VEHICLE_OWNERSHIP_ID,RESIDENTIAL_CITY,RESIDENTIAL_ZIP,RESIDENTIAL_STATE,STATEFP10,COUNTYFP10,TRACTCE10,BLOCKCE10,GEOID10,NAME10'].str.split(',', expand=True)"
   ]
  },
  {
   "cell_type": "code",
   "execution_count": null,
   "id": "dde1f2f0-d6c3-4aad-a10b-415cfbab484a",
   "metadata": {
    "tags": []
   },
   "outputs": [],
   "source": [
    "names =residence.columns"
   ]
  },
  {
   "cell_type": "code",
   "execution_count": null,
   "id": "7dc06f30-7ccf-4abb-b532-651964613194",
   "metadata": {
    "tags": []
   },
   "outputs": [],
   "source": [
    "names"
   ]
  },
  {
   "cell_type": "code",
   "execution_count": null,
   "id": "59ec2821-4ea7-47e7-8131-38bf67e37680",
   "metadata": {
    "tags": []
   },
   "outputs": [],
   "source": [
    "# Save the DataFrame to a new file if needed\n",
    "domicile.to_csv('C:/Users/peiyaozhao/Documents/GitHub/tracking-msa-ghg/data/raw/residence-new.csv', index=False)"
   ]
  },
  {
   "cell_type": "code",
   "execution_count": null,
   "id": "2a9c786f-a207-4c80-a511-06b6629e8b8a",
   "metadata": {},
   "outputs": [],
   "source": [
    "# missing data in the end"
   ]
  },
  {
   "cell_type": "code",
   "execution_count": null,
   "id": "c3986ed7-4bfc-438a-95e8-2beda8a26d8f",
   "metadata": {},
   "outputs": [],
   "source": []
  }
 ],
 "metadata": {
  "kernelspec": {
   "display_name": "Python 3 (ipykernel)",
   "language": "python",
   "name": "python3"
  },
  "language_info": {
   "codemirror_mode": {
    "name": "ipython",
    "version": 3
   },
   "file_extension": ".py",
   "mimetype": "text/x-python",
   "name": "python",
   "nbconvert_exporter": "python",
   "pygments_lexer": "ipython3",
   "version": "3.11.5"
  }
 },
 "nbformat": 4,
 "nbformat_minor": 5
}
