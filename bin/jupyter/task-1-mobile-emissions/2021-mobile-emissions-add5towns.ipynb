{
 "cells": [
  {
   "cell_type": "code",
   "execution_count": 1,
   "id": "42d92f1f-39b0-413d-9850-cd4e457c7638",
   "metadata": {
    "tags": []
   },
   "outputs": [],
   "source": [
    "import pandas as pd\n",
    "import numpy as np\n",
    "import os\n",
    "import string\n",
    "import matplotlib.pyplot as plt\n",
    "import seaborn as sns"
   ]
  },
  {
   "cell_type": "code",
   "execution_count": 2,
   "id": "ca4ec22b-9cb5-41eb-b6b8-81e319dc5b3b",
   "metadata": {},
   "outputs": [
    {
     "data": {
      "text/html": [
       "<div>\n",
       "<style scoped>\n",
       "    .dataframe tbody tr th:only-of-type {\n",
       "        vertical-align: middle;\n",
       "    }\n",
       "\n",
       "    .dataframe tbody tr th {\n",
       "        vertical-align: top;\n",
       "    }\n",
       "\n",
       "    .dataframe thead th {\n",
       "        text-align: right;\n",
       "    }\n",
       "</style>\n",
       "<table border=\"1\" class=\"dataframe\">\n",
       "  <thead>\n",
       "    <tr style=\"text-align: right;\">\n",
       "      <th></th>\n",
       "      <th>Unnamed: 0</th>\n",
       "      <th>Year</th>\n",
       "      <th>Connecticut</th>\n",
       "      <th>Bridgeport-Stamford-Norwalk, CT Metro Area</th>\n",
       "      <th>Hartford-East Hartford-Middletown, CT Metro Area</th>\n",
       "      <th>New Haven-Milford, CT Metro Area</th>\n",
       "    </tr>\n",
       "  </thead>\n",
       "  <tbody>\n",
       "    <tr>\n",
       "      <th>0</th>\n",
       "      <td>0</td>\n",
       "      <td>2021</td>\n",
       "      <td>3605330</td>\n",
       "      <td>986344</td>\n",
       "      <td>1238888</td>\n",
       "      <td>864751</td>\n",
       "    </tr>\n",
       "    <tr>\n",
       "      <th>1</th>\n",
       "      <td>1</td>\n",
       "      <td>2020</td>\n",
       "      <td>3570549</td>\n",
       "      <td>972981</td>\n",
       "      <td>1231523</td>\n",
       "      <td>855733</td>\n",
       "    </tr>\n",
       "    <tr>\n",
       "      <th>2</th>\n",
       "      <td>2</td>\n",
       "      <td>2017</td>\n",
       "      <td>3594478</td>\n",
       "      <td>976389</td>\n",
       "      <td>1239055</td>\n",
       "      <td>862127</td>\n",
       "    </tr>\n",
       "    <tr>\n",
       "      <th>3</th>\n",
       "      <td>3</td>\n",
       "      <td>2015</td>\n",
       "      <td>3593222</td>\n",
       "      <td>969332</td>\n",
       "      <td>1240217</td>\n",
       "      <td>862224</td>\n",
       "    </tr>\n",
       "  </tbody>\n",
       "</table>\n",
       "</div>"
      ],
      "text/plain": [
       "   Unnamed: 0  Year  Connecticut  Bridgeport-Stamford-Norwalk, CT Metro Area  \\\n",
       "0           0  2021      3605330                                      986344   \n",
       "1           1  2020      3570549                                      972981   \n",
       "2           2  2017      3594478                                      976389   \n",
       "3           3  2015      3593222                                      969332   \n",
       "\n",
       "   Hartford-East Hartford-Middletown, CT Metro Area  \\\n",
       "0                                           1238888   \n",
       "1                                           1231523   \n",
       "2                                           1239055   \n",
       "3                                           1240217   \n",
       "\n",
       "   New Haven-Milford, CT Metro Area  \n",
       "0                            864751  \n",
       "1                            855733  \n",
       "2                            862127  \n",
       "3                            862224  "
      ]
     },
     "execution_count": 2,
     "metadata": {},
     "output_type": "execute_result"
    }
   ],
   "source": [
    "#import all the files needed\n",
    "df_vehicle_re = pd.read_csv('../../../data/raw/mv1.csv')\n",
    "df_MSA_DVMT = pd.read_csv('../../../data/raw/Miles-and-DVMT-by-County-and-Functional-Class-2022.csv')#this generate lsit, list has no following function but have to convert it to dataframe\n",
    "df_town_DVMT = pd.read_excel('../../../data/raw/Town-DVMT.xlsx')\n",
    "df_population = pd.read_csv('../../../data/tidy/population_five_towns.csv')\n",
    "df_population"
   ]
  },
  {
   "cell_type": "code",
   "execution_count": 3,
   "id": "d17885e2-b392-4b1d-9bd0-272f72ff5054",
   "metadata": {
    "tags": []
   },
   "outputs": [],
   "source": [
    "#DVMT in the five selected towns\n",
    "Bridgewater = df_town_DVMT[df_town_DVMT['Town'] =='Bridgewater']['DVMT']\n",
    "NewMilford = df_town_DVMT[df_town_DVMT['Town'] =='New Milford']['DVMT']\n",
    "Lyme = df_town_DVMT[df_town_DVMT['Town'] =='Lyme']['DVMT']\n",
    "oldLyme = df_town_DVMT[df_town_DVMT['Town'] =='Old Lyme']['DVMT']\n",
    "Lyme = df_town_DVMT[df_town_DVMT['Town'] =='Colchester']['DVMT']"
   ]
  },
  {
   "cell_type": "code",
   "execution_count": 4,
   "id": "a55077e8-472c-4b0d-b184-ee5960524458",
   "metadata": {
    "tags": []
   },
   "outputs": [
    {
     "name": "stderr",
     "output_type": "stream",
     "text": [
      "C:\\Users\\peiyaozhao\\AppData\\Local\\Temp\\ipykernel_17500\\705948198.py:4: FutureWarning: Series.__getitem__ treating keys as positions is deprecated. In a future version, integer keys will always be treated as labels (consistent with DataFrame behavior). To access a value by position, use `ser.iloc[pos]`\n",
      "  statewide_automobile=statewide_vehicle[3]\n",
      "C:\\Users\\peiyaozhao\\AppData\\Local\\Temp\\ipykernel_17500\\705948198.py:5: FutureWarning: Series.__getitem__ treating keys as positions is deprecated. In a future version, integer keys will always be treated as labels (consistent with DataFrame behavior). To access a value by position, use `ser.iloc[pos]`\n",
      "  statewide_buses=statewide_vehicle[6]\n",
      "C:\\Users\\peiyaozhao\\AppData\\Local\\Temp\\ipykernel_17500\\705948198.py:6: FutureWarning: Series.__getitem__ treating keys as positions is deprecated. In a future version, integer keys will always be treated as labels (consistent with DataFrame behavior). To access a value by position, use `ser.iloc[pos]`\n",
      "  statewide_trucks=statewide_vehicle[9]\n",
      "C:\\Users\\peiyaozhao\\AppData\\Local\\Temp\\ipykernel_17500\\705948198.py:7: FutureWarning: Series.__getitem__ treating keys as positions is deprecated. In a future version, integer keys will always be treated as labels (consistent with DataFrame behavior). To access a value by position, use `ser.iloc[pos]`\n",
      "  statewide_motorcycle=statewide_vehicle[12]\n",
      "C:\\Users\\peiyaozhao\\AppData\\Local\\Temp\\ipykernel_17500\\705948198.py:8: FutureWarning: Series.__getitem__ treating keys as positions is deprecated. In a future version, integer keys will always be treated as labels (consistent with DataFrame behavior). To access a value by position, use `ser.iloc[pos]`\n",
      "  statewide_total=statewide_vehicle[15]\n"
     ]
    },
    {
     "data": {
      "text/plain": [
       "array(['Connecticut (2)', '1,118,807', '471', '1,119,278', '10,191', '31',\n",
       "       '10,222', '1,539,460', '4,305', '1,543,765', '83,220', '— ',\n",
       "       '83,220', '2,751,678', '4,807', '2,756,485'], dtype=object)"
      ]
     },
     "execution_count": 4,
     "metadata": {},
     "output_type": "execute_result"
    }
   ],
   "source": [
    "statewide_vehicle=df_vehicle_re.iloc[14,:]\n",
    "\n",
    "#the total number of each vehicle type\n",
    "statewide_automobile=statewide_vehicle[3]\n",
    "statewide_buses=statewide_vehicle[6]\n",
    "statewide_trucks=statewide_vehicle[9]\n",
    "statewide_motorcycle=statewide_vehicle[12]\n",
    "statewide_total=statewide_vehicle[15]\n",
    "\n",
    "#ratio of each vehicle type to the total\n",
    "statewide_automobile=int(statewide_automobile.translate(str.maketrans('','',string.punctuation)))\n",
    "statewide_buses=int(statewide_buses.translate(str.maketrans('','',string.punctuation)))\n",
    "statewide_trucks=int(statewide_trucks.translate(str.maketrans('','',string.punctuation)))\n",
    "statewide_motorcycle=int(statewide_motorcycle.translate(str.maketrans('','',string.punctuation)))\n",
    "statewide_total=int(statewide_total.translate(str.maketrans('','',string.punctuation)))\n",
    "\n",
    "automobile_rat=statewide_automobile/statewide_total\n",
    "buses_rat=statewide_buses/statewide_total\n",
    "trucks_rat=statewide_trucks/statewide_total\n",
    "motorcycle_rat=statewide_motorcycle/statewide_total\n",
    "\n",
    "statewide_vehicle=statewide_vehicle.to_numpy()\n",
    "\n",
    "statewide_vehicle"
   ]
  },
  {
   "cell_type": "code",
   "execution_count": 5,
   "id": "4b1185a4-d1a3-4706-b6a3-c09992ede775",
   "metadata": {
    "tags": []
   },
   "outputs": [
    {
     "data": {
      "text/html": [
       "<div>\n",
       "<style scoped>\n",
       "    .dataframe tbody tr th:only-of-type {\n",
       "        vertical-align: middle;\n",
       "    }\n",
       "\n",
       "    .dataframe tbody tr th {\n",
       "        vertical-align: top;\n",
       "    }\n",
       "\n",
       "    .dataframe thead th {\n",
       "        text-align: right;\n",
       "    }\n",
       "</style>\n",
       "<table border=\"1\" class=\"dataframe\">\n",
       "  <thead>\n",
       "    <tr style=\"text-align: right;\">\n",
       "      <th></th>\n",
       "      <th></th>\n",
       "      <th>0</th>\n",
       "    </tr>\n",
       "  </thead>\n",
       "  <tbody>\n",
       "    <tr>\n",
       "      <th>State</th>\n",
       "      <th></th>\n",
       "      <td>Connecticut (2)</td>\n",
       "    </tr>\n",
       "    <tr>\n",
       "      <th rowspan=\"3\" valign=\"top\">Automobile</th>\n",
       "      <th>Private and Commercial</th>\n",
       "      <td>1,118,807</td>\n",
       "    </tr>\n",
       "    <tr>\n",
       "      <th>Publicly Owned</th>\n",
       "      <td>471</td>\n",
       "    </tr>\n",
       "    <tr>\n",
       "      <th>Total</th>\n",
       "      <td>1,119,278</td>\n",
       "    </tr>\n",
       "    <tr>\n",
       "      <th rowspan=\"3\" valign=\"top\">Buses</th>\n",
       "      <th>Private and Commercial</th>\n",
       "      <td>10,191</td>\n",
       "    </tr>\n",
       "    <tr>\n",
       "      <th>Publicly Owned</th>\n",
       "      <td>31</td>\n",
       "    </tr>\n",
       "    <tr>\n",
       "      <th>Total</th>\n",
       "      <td>10,222</td>\n",
       "    </tr>\n",
       "    <tr>\n",
       "      <th rowspan=\"3\" valign=\"top\">Trucks</th>\n",
       "      <th>Private and Commercial</th>\n",
       "      <td>1,539,460</td>\n",
       "    </tr>\n",
       "    <tr>\n",
       "      <th>Publicly Owned</th>\n",
       "      <td>4,305</td>\n",
       "    </tr>\n",
       "    <tr>\n",
       "      <th>Total</th>\n",
       "      <td>1,543,765</td>\n",
       "    </tr>\n",
       "    <tr>\n",
       "      <th rowspan=\"3\" valign=\"top\">Motorcycles</th>\n",
       "      <th>Private and Commercial</th>\n",
       "      <td>83,220</td>\n",
       "    </tr>\n",
       "    <tr>\n",
       "      <th>Publicly Owned</th>\n",
       "      <td>—</td>\n",
       "    </tr>\n",
       "    <tr>\n",
       "      <th>Total</th>\n",
       "      <td>83,220</td>\n",
       "    </tr>\n",
       "    <tr>\n",
       "      <th rowspan=\"3\" valign=\"top\">All Motor Vehicles</th>\n",
       "      <th>Private and Commercial</th>\n",
       "      <td>2,751,678</td>\n",
       "    </tr>\n",
       "    <tr>\n",
       "      <th>Publicly Owned</th>\n",
       "      <td>4,807</td>\n",
       "    </tr>\n",
       "    <tr>\n",
       "      <th>Total</th>\n",
       "      <td>2,756,485</td>\n",
       "    </tr>\n",
       "  </tbody>\n",
       "</table>\n",
       "</div>"
      ],
      "text/plain": [
       "                                                         0\n",
       "State                                      Connecticut (2)\n",
       "Automobile         Private and Commercial        1,118,807\n",
       "                   Publicly Owned                      471\n",
       "                   Total                         1,119,278\n",
       "Buses              Private and Commercial           10,191\n",
       "                   Publicly Owned                       31\n",
       "                   Total                            10,222\n",
       "Trucks             Private and Commercial        1,539,460\n",
       "                   Publicly Owned                    4,305\n",
       "                   Total                         1,543,765\n",
       "Motorcycles        Private and Commercial           83,220\n",
       "                   Publicly Owned                       — \n",
       "                   Total                            83,220\n",
       "All Motor Vehicles Private and Commercial        2,751,678\n",
       "                   Publicly Owned                    4,807\n",
       "                   Total                         2,756,485"
      ]
     },
     "execution_count": 5,
     "metadata": {},
     "output_type": "execute_result"
    }
   ],
   "source": [
    "#plot the vehicle distribution in CT\n",
    "array = [ [\"State\", \"Automobile\",\"Automobile\",\"Automobile\",\"Buses\",\"Buses\",\"Buses\",\"Trucks\",\n",
    "            \"Trucks\",\"Trucks\",\"Motorcycles\",\"Motorcycles\",\"Motorcycles\", \"All Motor Vehicles\",\n",
    "            \"All Motor Vehicles\",\"All Motor Vehicles\"],[\" \",\"Private and Commercial\",\"Publicly Owned\",\n",
    "            \"Total\",\"Private and Commercial\",\"Publicly Owned\",\"Total\", \"Private and Commercial\",\"Publicly Owned\",\n",
    "            \"Total\", \"Private and Commercial\",\"Publicly Owned\",\"Total\", \"Private and Commercial\",\"Publicly Owned\",\"Total\"]]\n",
    "tuples=list(zip(*array))\n",
    "index = pd.MultiIndex.from_tuples(tuples)\n",
    "statewide_vehicle=pd.Series(statewide_vehicle,index=index)\n",
    "statewide_vehicle.to_frame()"
   ]
  },
  {
   "cell_type": "code",
   "execution_count": 6,
   "id": "cd9dcb6a-e7a5-4064-895b-dd87643cbd34",
   "metadata": {
    "tags": []
   },
   "outputs": [
    {
     "name": "stdout",
     "output_type": "stream",
     "text": [
      "                                            0\n",
      "State                                     NaN\n",
      "Automobile         Private and Commercial NaN\n",
      "                   Publicly Owned         NaN\n",
      "                   Total                  NaN\n",
      "Buses              Private and Commercial NaN\n",
      "                   Publicly Owned         NaN\n",
      "                   Total                  NaN\n",
      "Trucks             Private and Commercial NaN\n",
      "                   Publicly Owned         NaN\n",
      "                   Total                  NaN\n",
      "Motorcycles        Private and Commercial NaN\n",
      "                   Publicly Owned         NaN\n",
      "                   Total                  NaN\n",
      "All Motor Vehicles Private and Commercial NaN\n",
      "                   Publicly Owned         NaN\n",
      "                   Total                  NaN\n"
     ]
    }
   ],
   "source": [
    "import pandas as pd\n",
    "\n",
    "# Simplified array\n",
    "array = [\n",
    "    [\"State\"] * 1 + [\"Automobile\"] * 3 + [\"Buses\"] * 3 + [\"Trucks\"] * 3 + [\"Motorcycles\"] * 3 + [\"All Motor Vehicles\"] * 3,\n",
    "    [\" \"] + [\"Private and Commercial\", \"Publicly Owned\", \"Total\"] * 5\n",
    "]\n",
    "\n",
    "# Create MultiIndex directly\n",
    "index = pd.MultiIndex.from_arrays(array)\n",
    "\n",
    "# Create a Series\n",
    "statewide_vehicle = pd.Series(index=index)\n",
    "\n",
    "# Convert to DataFrame\n",
    "statewide_vehicle_df = statewide_vehicle.to_frame()\n",
    "\n",
    "print(statewide_vehicle_df)\n"
   ]
  },
  {
   "cell_type": "code",
   "execution_count": 7,
   "id": "6832da76-29ad-493e-a13a-fc58d578d07a",
   "metadata": {
    "tags": []
   },
   "outputs": [
    {
     "data": {
      "text/plain": [
       "County              DVMT\n",
       "Fairfield     19,552,833\n",
       "Hartford      20,232,219\n",
       "Litchfield     3,989,256\n",
       "Middlesex      4,841,784\n",
       "New Haven     18,936,670\n",
       "New London     7,301,505\n",
       "Tolland        3,609,319\n",
       "Windham        2,813,990\n",
       "Total         81,277,576\n",
       "Name: Unnamed: 16, dtype: object"
      ]
     },
     "execution_count": 7,
     "metadata": {},
     "output_type": "execute_result"
    }
   ],
   "source": [
    "df_MSA_DVMT_row_index=df_MSA_DVMT.iloc[0:10,0].to_numpy()\n",
    "df_MSA_DVMT=df_MSA_DVMT.iloc[0:10,16]\n",
    "df_MSA_DVMT.index =['County', 'Fairfield', 'Hartford', 'Litchfield', 'Middlesex',\n",
    "       'New Haven', 'New London', 'Tolland', 'Windham', 'Total']\n",
    "\n",
    "#Fairfield_dvmt=df_MSA_DVMT.iat[1,16]\n",
    "#Hartford_dvmt=df_MSA_DVMT.iat[1,16]\n",
    "df_MSA_DVMT"
   ]
  },
  {
   "cell_type": "code",
   "execution_count": 8,
   "id": "25b94fd3-ca81-4801-bd61-f9eac71f5f38",
   "metadata": {
    "tags": []
   },
   "outputs": [],
   "source": [
    "#Calculate the total number of VMT in each MSAs\n",
    "\n",
    "New_haven_msa_vmt=int(df_MSA_DVMT.at['New Haven'].translate(str.maketrans('','',string.punctuation)))*365\n",
    "Hartford_msa_vmt=int(df_MSA_DVMT.at['Hartford'].translate(str.maketrans('','',string.punctuation)))*365+int(df_MSA_DVMT.at['Middlesex'].translate(str.maketrans('','',string.punctuation)))*365+int(df_MSA_DVMT.at['Tolland'].translate(str.maketrans('','',string.punctuation)))*365\n",
    "Bridgeport_msa_vmt=int(df_MSA_DVMT.at['Fairfield'].translate(str.maketrans('','',string.punctuation)))*365\n",
    "Statewide_vmt=int(df_MSA_DVMT.at['Total'].translate(str.maketrans('','',string.punctuation)))*365"
   ]
  },
  {
   "cell_type": "code",
   "execution_count": 9,
   "id": "426390a0-309c-4264-ad61-05638bfa5f35",
   "metadata": {
    "tags": []
   },
   "outputs": [],
   "source": [
    "#total_population=df_population.iloc[2,:].\n",
    "statewide_popu=df_population.at[0,\"Connecticut\"]\n",
    "Bri_MSA_popu=df_population.at[0,\"Bridgeport-Stamford-Norwalk, CT Metro Area\"]\n",
    "Hart_MSA_popu=df_population.at[0,\"Hartford-East Hartford-Middletown, CT Metro Area\"]\n",
    "NewH_MSA_popu=df_population.at[0,\"New Haven-Milford, CT Metro Area\"]\n",
    "\n",
    "#the ratio of the population of each MSA to the total population in Connecticut\n",
    "Bri_MSA_popu_per=Bri_MSA_popu/statewide_popu\n",
    "Hart_MSA_popu_per=Hart_MSA_popu/statewide_popu\n",
    "NewH_MSA_popu_per=NewH_MSA_popu/statewide_popu"
   ]
  },
  {
   "cell_type": "code",
   "execution_count": 10,
   "id": "60022b8f-c9a6-40d5-a3ff-a0b991b1daf8",
   "metadata": {
    "tags": []
   },
   "outputs": [],
   "source": [
    "#each types of vehicle in each MSAs\n",
    "NH_automobile_vmt=New_haven_msa_vmt*automobile_rat\n",
    "NH_buses_vmt=New_haven_msa_vmt*buses_rat\n",
    "NH_trucks_vmt=New_haven_msa_vmt*trucks_rat\n",
    "NH_motorcycle_vmt=New_haven_msa_vmt*motorcycle_rat\n",
    "\n",
    "BSN_automobile_vmt=Bridgeport_msa_vmt*automobile_rat\n",
    "BSN_buses_vmt=Bridgeport_msa_vmt*buses_rat\n",
    "BSN_trucks_vmt=Bridgeport_msa_vmt*trucks_rat\n",
    "BSN_motorcycle_vmt=Bridgeport_msa_vmt*motorcycle_rat\n",
    "\n",
    "HH_automobile_vmt=Hartford_msa_vmt*automobile_rat\n",
    "HH_buses_vmt=Hartford_msa_vmt*buses_rat\n",
    "HH_trucks_vmt=Hartford_msa_vmt*trucks_rat\n",
    "HH_motorcycle_vmt=Hartford_msa_vmt*motorcycle_rat"
   ]
  },
  {
   "cell_type": "code",
   "execution_count": 11,
   "id": "c06a59f8-27ae-45e4-8fbd-23fbb4b971aa",
   "metadata": {
    "tags": []
   },
   "outputs": [
    {
     "name": "stdout",
     "output_type": "stream",
     "text": [
      "2806588940.3914404 208674102.07238567 3870989848.4231734 25631659.113000795\n"
     ]
    }
   ],
   "source": [
    "print(NH_automobile_vmt,NH_motorcycle_vmt,NH_trucks_vmt,NH_buses_vmt)"
   ]
  },
  {
   "cell_type": "code",
   "execution_count": 12,
   "id": "8cfc820b-d057-4def-ad96-10ee96f300cc",
   "metadata": {},
   "outputs": [],
   "source": [
    "#average MPG for each vehicle type ( miles per gallons)\n",
    "passenger_car_gasoline=24.1#automobile\n",
    "passenger_car_diesel=32.4\n",
    "light_truck_gasoline=18.5\n",
    "light_truck_diesel=22.1#trucks\n",
    "heavy_duty_gasoline=10.13\n",
    "heavy_duty_diesel=12.96#buses\n",
    "motorcycle_gasoline=50#motorcycle\n",
    "\n",
    "#emission factor for different fuels (kg CO2/gallon)( referenced from the ghg tool community module)\n",
    "gasoline=8.78\n",
    "diesel=10.21"
   ]
  },
  {
   "cell_type": "code",
   "execution_count": 13,
   "id": "03a86421-ff0d-477f-9b32-b8ad4c052be4",
   "metadata": {
    "tags": []
   },
   "outputs": [],
   "source": [
    "#calculate the fuel consumption in NH MSA\n",
    "gaso_consump_NH= NH_automobile_vmt/passenger_car_gasoline+NH_motorcycle_vmt/motorcycle_gasoline\n",
    "dies_consump_NH= NH_buses_vmt/heavy_duty_diesel+NH_trucks_vmt/light_truck_diesel\n",
    "\n",
    "#calculate the fuel consumption in HH MSA\n",
    "gaso_consump_HH= HH_automobile_vmt/passenger_car_gasoline+HH_motorcycle_vmt/motorcycle_gasoline\n",
    "dies_consump_HH= HH_buses_vmt/heavy_duty_diesel+HH_trucks_vmt/light_truck_diesel\n",
    "\n",
    "#calculate the fuel consumption in BSN MSA\n",
    "gaso_consump_BSN= BSN_automobile_vmt/passenger_car_gasoline+BSN_motorcycle_vmt/motorcycle_gasoline\n",
    "dies_consump_BSN= BSN_buses_vmt/heavy_duty_diesel+BSN_trucks_vmt/light_truck_diesel\n",
    "\n",
    "#calculate the statewide fuel consumption\n",
    "gaso_consump=Statewide_vmt*automobile_rat/passenger_car_gasoline+Statewide_vmt*motorcycle_rat/motorcycle_gasoline\n",
    "dies_consump=Statewide_vmt*buses_rat/heavy_duty_diesel+Statewide_vmt*trucks_rat/light_truck_diesel\n",
    "\n",
    "#calcualte the gasoline and diesel emissions: carbon dioxide emissions only\n",
    "gaso_emissions_NH =gaso_consump_NH*gasoline/1000\n",
    "gaso_emissions_HH = gaso_consump_HH*gasoline/1000\n",
    "gaso_emissions_BSN= gaso_consump_BSN*gasoline/1000\n",
    "\n",
    "#calcualte the diesel consumption \n",
    "dies_emissions_NH =dies_consump_NH*diesel/1000\n",
    "dies_emissions_HH = dies_consump_HH*diesel/1000\n",
    "dies_emissions_BSN= dies_consump_BSN*diesel/1000\n",
    "\n",
    "#calculate the carbon dioxide consumption(metric tons):\n",
    "CO2_NH=gaso_consump_NH*gasoline/1000+dies_consump_NH*diesel/1000\n",
    "CO2_HH=gaso_consump_HH*gasoline/1000+dies_consump_HH*diesel/1000\n",
    "CO2_BSN=gaso_consump_BSN*gasoline/1000+dies_consump_BSN*diesel/1000\n",
    "CO2_statewide=gaso_consump*gasoline/1000+dies_consump*diesel/1000\n"
   ]
  },
  {
   "cell_type": "markdown",
   "id": "4a2062fc-af23-47e3-a0ea-da6c0d0f2d0f",
   "metadata": {
    "tags": []
   },
   "source": [
    "#calcualte the gasoline and diesel emissions: carbon dioxide emissions only\n",
    "gaso_emissions_NH =gaso_consump_NH*gasoline/1000+NH_automobile_vmt*CH4_gaso_passenger_car/1000000+NH_motorcycle_vmt*CH4_gaso_motorcycle/1000000+NH_automobile_vmt*N2O_gaso_passenger_car/1000000 + NH_motorcycle_vmt*N2O_gaso_motorcycle/1000000\n",
    "gaso_emissions_HH = gaso_consump_HH*gasoline/1000+HH_automobile_vmt*CH4_gaso_passenger_car/1000000+HH_motorcycle_vmt*CH4_gaso_motorcycle/1000000+HH_automobile_vmt*N2O_gaso_passenger_car/1000000 + HH_motorcycle_vmt*N2O_gaso_motorcycle/1000000\n",
    "gaso_emissions_BSN= gaso_consump_BSN*gasoline/1000+BSN_automobile_vmt*CH4_gaso_passenger_car/1000000+BSN_motorcycle_vmt*CH4_gaso_motorcycle/1000000+BSN_automobile_vmt*N2O_gaso_passenger_car/1000000+BSN_motorcycle_vmt*N2O_gaso_motorcycle/1000000\n",
    "\n",
    "#calcualte the diesel consumption \n",
    "dies_emissions_NH =dies_consump_NH*diesel/1000+NH_buses_vmt*CH4_buses/1000000+NH_trucks_vmt*CH4_trucks/1000000+NH_buses_vmt*N2O_buses/1000000+NH_trucks_vmt*N2O_trucks/1000000\n",
    "dies_emissions_HH = dies_consump_HH*diesel/1000+HH_buses_vmt*CH4_buses/1000000+HH_trucks_vmt*CH4_trucks/1000000+HH_buses_vmt*N2O_buses/1000000+HH_trucks_vmt*N2O_trucks/1000000\n",
    "dies_emissions_BSN= dies_consump_BSN*diesel/1000+BSN_buses_vmt*CH4_buses/1000000+BSN_trucks_vmt*CH4_trucks/1000000+BSN_buses_vmt*N2O_buses/1000000+BSN_trucks_vmt*N2O_trucks/1000000\n"
   ]
  },
  {
   "cell_type": "code",
   "execution_count": 14,
   "id": "d07a2207-4520-4f91-b436-4839a21f4feb",
   "metadata": {
    "tags": []
   },
   "outputs": [
    {
     "name": "stdout",
     "output_type": "stream",
     "text": [
      "176395541.65434167 6321561.777021097 265311207.40595376 2995694.722818851\n"
     ]
    }
   ],
   "source": [
    "gaso_auto_NH=NH_automobile_vmt/passenger_car_gasoline\n",
    "gaso_motor_NH=NH_motorcycle_vmt/motorcycle_gasoline\n",
    "die_trucks_NH=NH_trucks_vmt/light_truck_diesel\n",
    "die_buses_NH=NH_buses_vmt/heavy_duty_diesel\n",
    "gaso_auto_BSN=BSN_automobile_vmt/passenger_car_gasoline\n",
    "die_buses_BSN=BSN_buses_vmt/heavy_duty_diesel\n",
    "die_trucks_BSN=BSN_trucks_vmt/light_truck_diesel\n",
    "gaso_auto_HH=HH_automobile_vmt/passenger_car_gasoline\n",
    "gaso_motor_HH=HH_motorcycle_vmt/motorcycle_gasoline\n",
    "die_trucks_HH=HH_trucks_vmt/light_truck_diesel\n",
    "die_buses_HH=HH_buses_vmt/heavy_duty_diesel\n",
    "print(gaso_auto_HH,gaso_motor_HH,die_trucks_HH,die_buses_HH)"
   ]
  },
  {
   "cell_type": "code",
   "execution_count": 15,
   "id": "d3c30a74-1447-4133-9ce0-ff0936779085",
   "metadata": {
    "tags": []
   },
   "outputs": [],
   "source": [
    "#emission factor for different vehicles : g/miles ( referenced from EPA emission hub)\n",
    "# based on year 2005\n",
    "CH4_gaso_passenger_car=0.008\n",
    "N2O_gaso_passenger_car=0.007\n",
    "\n",
    "CH4_gaso_motorcycle=0\n",
    "N2O_gaso_motorcycle=0\n",
    "\n",
    "CH4_buses=0.005\n",
    "N2O_buses=0.005 #( meidum- heavy-duty vehicles in year 2005)\n",
    "\n",
    "CH4_trucks=0.001 #( light-duty trucks)\n",
    "N2O_trucks=0.001"
   ]
  },
  {
   "cell_type": "code",
   "execution_count": 16,
   "id": "e48255c7-3a4b-425e-8989-68d99a6f5326",
   "metadata": {
    "tags": []
   },
   "outputs": [],
   "source": [
    "#calculate the CH4 emission (metric tons):\n",
    "CH4_NH=NH_automobile_vmt*CH4_gaso_passenger_car/1000000+NH_motorcycle_vmt*CH4_gaso_motorcycle/1000000+NH_buses_vmt*CH4_buses/1000000+NH_trucks_vmt*CH4_trucks/1000000\n",
    "CH4_HH=HH_automobile_vmt*CH4_gaso_passenger_car/1000000+HH_motorcycle_vmt*CH4_gaso_motorcycle/1000000+HH_buses_vmt*CH4_buses/1000000+HH_trucks_vmt*CH4_trucks/1000000\n",
    "CH4_BSN=BSN_automobile_vmt*CH4_gaso_passenger_car/1000000+BSN_motorcycle_vmt*CH4_gaso_motorcycle/1000000+BSN_buses_vmt*CH4_buses/1000000+BSN_trucks_vmt*CH4_trucks/1000000\n",
    "CH4_statewide=Statewide_vmt*automobile_rat*CH4_gaso_passenger_car/1000000000+Statewide_vmt*motorcycle_rat*CH4_gaso_motorcycle/1000000+Statewide_vmt*buses_rat*CH4_buses/1000000+Statewide_vmt*trucks_rat*CH4_trucks/1000000\n",
    "\n",
    "#convert to carbon dioxide equavelence:\n",
    "CO2_equ_NH_1=CH4_NH*25\n",
    "CO2_equ_HH_1=CH4_HH*25\n",
    "CO2_equ_BSN_1=CH4_BSN*25\n",
    "CO2_equ_state=CH4_statewide*25\n",
    "\n",
    "#calculate the N2O emission (metric tons):\n",
    "N2O_NH = NH_automobile_vmt*N2O_gaso_passenger_car/1000000 + NH_motorcycle_vmt*N2O_gaso_motorcycle/1000000+NH_buses_vmt*N2O_buses/1000000+NH_trucks_vmt*N2O_trucks/1000000\n",
    "N2O_HH=HH_automobile_vmt*N2O_gaso_passenger_car/1000000+HH_motorcycle_vmt*N2O_gaso_motorcycle/1000000+HH_buses_vmt*N2O_buses/1000000+HH_trucks_vmt*N2O_trucks/1000000\n",
    "N2O_BSN=BSN_automobile_vmt*N2O_gaso_passenger_car/1000000+BSN_motorcycle_vmt*N2O_gaso_motorcycle/1000000+BSN_buses_vmt*N2O_buses/1000000+BSN_trucks_vmt*N2O_trucks/1000000\n",
    "N2O_statewide=Statewide_vmt*automobile_rat*N2O_gaso_passenger_car/1000000+Statewide_vmt*motorcycle_rat*N2O_gaso_motorcycle/1000000+Statewide_vmt*buses_rat*N2O_buses/1000000+Statewide_vmt*trucks_rat*N2O_trucks/1000000\n",
    "\n",
    "#convert to carbon dioxide equavelence:\n",
    "CO2_equ_NH_2=N2O_NH*298#define the number \n",
    "CO2_equ_HH_2=N2O_HH*298\n",
    "CO2_equ_BSN_2=N2O_BSN*298\n",
    "CO2_equ_state=N2O_statewide*298"
   ]
  },
  {
   "cell_type": "code",
   "execution_count": 17,
   "id": "31d5d174-c091-4046-badd-14fce17fc416",
   "metadata": {
    "tags": []
   },
   "outputs": [],
   "source": [
    "#calculation of emissions from each types of vehicle,MMTCO2e(autombile, motorcycle, trucks, buses-NH,HH,BSN)\n",
    "NH_automobile = (NH_automobile_vmt/passenger_car_gasoline*gasoline/1000+NH_automobile_vmt*CH4_gaso_passenger_car/1000000*25+NH_automobile_vmt*N2O_gaso_passenger_car/1000000*298)/1000000\n",
    "NH_motorcycle = (NH_motorcycle_vmt/motorcycle_gasoline*gasoline/1000+NH_motorcycle_vmt*CH4_gaso_motorcycle/1000000*25+NH_motorcycle_vmt*N2O_gaso_motorcycle/1000000*298)/1000000\n",
    "NH_buses = (NH_buses_vmt/heavy_duty_diesel*diesel/1000+NH_buses_vmt*CH4_buses/1000000*25+NH_buses_vmt*N2O_buses/1000000*298)/1000000\n",
    "NH_trucks = (NH_trucks_vmt/light_truck_diesel*diesel/1000+NH_trucks_vmt*CH4_trucks/1000000*25+NH_trucks_vmt*N2O_trucks/1000000*298)/1000000\n",
    "\n",
    "HH_automobile = (HH_automobile_vmt/passenger_car_gasoline*gasoline/1000+HH_automobile_vmt*CH4_gaso_passenger_car/1000000*25+HH_automobile_vmt*N2O_gaso_passenger_car/1000000*298)/1000000\n",
    "HH_motorcycle = (HH_motorcycle_vmt/motorcycle_gasoline*gasoline/1000+HH_motorcycle_vmt*CH4_gaso_motorcycle/1000000*25+HH_motorcycle_vmt*N2O_gaso_motorcycle/1000000*298)/1000000\n",
    "HH_buses = (HH_buses_vmt/heavy_duty_diesel*diesel/1000+HH_buses_vmt*CH4_buses/1000000*25+HH_buses_vmt*N2O_buses/1000000*298)/1000000\n",
    "HH_trucks = (HH_trucks_vmt/light_truck_diesel*diesel/1000+HH_trucks_vmt*CH4_trucks/1000000*25+HH_trucks_vmt*N2O_trucks/1000000*298)/1000000\n",
    "\n",
    "BSN_automobile = (BSN_automobile_vmt/passenger_car_gasoline*gasoline/1000+BSN_automobile_vmt*CH4_gaso_passenger_car/1000000*25+BSN_automobile_vmt*N2O_gaso_passenger_car/1000000*298)/1000000\n",
    "BSN_motorcycle = (BSN_motorcycle_vmt/motorcycle_gasoline*gasoline/1000+BSN_motorcycle_vmt*CH4_gaso_motorcycle/1000000*25+BSN_motorcycle_vmt*N2O_gaso_motorcycle/1000000*298)/1000000\n",
    "BSN_buses = (BSN_buses_vmt/heavy_duty_diesel*diesel/1000+BSN_buses_vmt*CH4_buses/1000000*25+BSN_buses_vmt*N2O_buses/1000000*298)/1000000\n",
    "BSN_trucks = (BSN_trucks_vmt/light_truck_diesel*diesel/1000+BSN_trucks_vmt*CH4_trucks/1000000*25+BSN_trucks_vmt*N2O_trucks/1000000*298)/1000000\n",
    "\n",
    "total = BSN_automobile+BSN_motorcycle +BSN_buses+BSN_trucks"
   ]
  },
  {
   "cell_type": "code",
   "execution_count": 18,
   "id": "62bdee81-8257-499d-88c2-8b687e528685",
   "metadata": {
    "tags": []
   },
   "outputs": [],
   "source": [
    "#breakdown of greenhouse gasese from each type of vehicles\n",
    "#automobile\n",
    "\n",
    "data = np.array([['NH_automobile', NH_automobile_vmt/passenger_car_gasoline*gasoline/1000000000,NH_automobile_vmt*CH4_gaso_passenger_car/1000000000000*25, NH_automobile_vmt*N2O_gaso_passenger_car/1000000*298/1000000],\n",
    "                 ['HH_automobile',HH_automobile_vmt/passenger_car_gasoline*gasoline/1000000000,HH_automobile_vmt*CH4_gaso_passenger_car/1000000000000*25,HH_automobile_vmt*N2O_gaso_passenger_car/1000000000000*298],\n",
    "                 ['BSN_automobile', BSN_automobile_vmt/passenger_car_gasoline*gasoline/1000000000,BSN_automobile_vmt*CH4_gaso_passenger_car/1000000000000*25,BSN_automobile_vmt*N2O_gaso_passenger_car/1000000000000*298],['NH_motorcycle', NH_motorcycle_vmt/motorcycle_gasoline*gasoline/1000000000, NH_motorcycle_vmt*CH4_gaso_motorcycle/1000000000000*25, NH_motorcycle_vmt*N2O_gaso_motorcycle/1000000000000*298],\n",
    "                 ['HH_motorcycle',HH_motorcycle_vmt/motorcycle_gasoline*gasoline/1000000000, HH_motorcycle_vmt*CH4_gaso_motorcycle/1000000000000*25, HH_motorcycle_vmt*N2O_gaso_motorcycle/1000000000000*298],\n",
    "                 ['BSN_motorcycle', BSN_motorcycle_vmt/motorcycle_gasoline*gasoline/1000000000, BSN_motorcycle_vmt*CH4_gaso_motorcycle/1000000000000*25, BSN_motorcycle_vmt*N2O_gaso_motorcycle/1000000000000*298],['NH_trucks', NH_trucks_vmt/light_truck_diesel*diesel/1000000000, NH_trucks_vmt*CH4_trucks/1000000000000*25, NH_trucks_vmt*N2O_trucks/1000000000000*298],\n",
    "                 ['HH_trucks',HH_trucks_vmt/light_truck_diesel*diesel/1000000000, HH_trucks_vmt*CH4_trucks/1000000000000*25, HH_trucks_vmt*N2O_trucks/1000000000000*298],\n",
    "                 ['BSN_trucks', BSN_trucks_vmt/light_truck_diesel*diesel/1000000000, BSN_trucks_vmt*CH4_trucks/1000000000000*25, BSN_trucks_vmt*N2O_trucks/1000000000000*298],['NH_buses', NH_buses_vmt/heavy_duty_diesel*diesel/1000000000,NH_buses_vmt*CH4_buses/1000000000000*25,NH_buses_vmt*N2O_buses/1000000000000*298],\n",
    "                 ['HH_buses',HH_buses_vmt/heavy_duty_diesel*diesel/1000000000,HH_buses_vmt*CH4_buses/1000000000000*25,HH_buses_vmt*N2O_buses/1000000000000*298],\n",
    "                 ['BSN_buses', BSN_buses_vmt/heavy_duty_diesel*diesel/1000000000,BSN_buses_vmt*CH4_buses/1000000000000*25,BSN_buses_vmt*N2O_buses/1000000000000*298],\n",
    "                ])\n",
    "\n",
    "df = pd.DataFrame(data, columns=['MSA', 'CO2 Emissions (MMTCO2e)','CH4 Emissions (MMTCO2e)','N2O Emissions (MMTCO2e)'])\n",
    "df\n",
    "df.to_csv('C:/Users/peiyaozhao/Documents/GitHub/tracking-msa-ghg/data/tidy/mobile-emissions-breakdown.csv')"
   ]
  },
  {
   "cell_type": "code",
   "execution_count": 19,
   "id": "c38bcdcb-b847-4e24-a556-5cde78063d52",
   "metadata": {
    "tags": []
   },
   "outputs": [
    {
     "name": "stdout",
     "output_type": "stream",
     "text": [
      "1022483.4396944748 561.3177880782881 5854.544529656545\n",
      "36643.17232391092 0.0 0.0\n",
      "20192.8425573872 3.2039573891250996 38.19117207837119\n",
      "1788362.2783891673 96.77474621057934 1153.5549748301057\n",
      "1548752.8557251198 850.226510773927 8867.862507372058\n",
      "55503.31240224523 0.0 0.0\n",
      "20192.8425573872 4.853025450966539 57.84806337552115\n",
      "1788362.2783891673 146.58444209178947 1747.2865497341304\n",
      "1055753.0939500788 579.581994628631 6045.040203976621\n",
      "37835.4710220779 0.0 0.0\n",
      "20192.8425573872 3.308208030698063 39.43383972592091\n",
      "1788362.2783891673 99.92361124066906 1191.0894459887752\n"
     ]
    }
   ],
   "source": [
    "print(NH_automobile_vmt/passenger_car_gasoline*gasoline/1000,NH_automobile_vmt*CH4_gaso_passenger_car/1000000*25,NH_automobile_vmt*N2O_gaso_passenger_car/1000000*298)\n",
    "print(NH_motorcycle_vmt/motorcycle_gasoline*gasoline/1000,NH_motorcycle_vmt*CH4_gaso_motorcycle/1000000*25,NH_motorcycle_vmt*N2O_gaso_motorcycle/1000000*298)\n",
    "print(NH_buses_vmt/heavy_duty_diesel*diesel/1000,NH_buses_vmt*CH4_buses/1000000*25,NH_buses_vmt*N2O_buses/1000000*298)\n",
    "print(NH_trucks_vmt/light_truck_diesel*diesel/1000,NH_trucks_vmt*CH4_trucks/1000000*25,NH_trucks_vmt*N2O_trucks/1000000*298)\n",
    "\n",
    "print(HH_automobile_vmt/passenger_car_gasoline*gasoline/1000,HH_automobile_vmt*CH4_gaso_passenger_car/1000000*25,HH_automobile_vmt*N2O_gaso_passenger_car/1000000*298)\n",
    "print(HH_motorcycle_vmt/motorcycle_gasoline*gasoline/1000,HH_motorcycle_vmt*CH4_gaso_motorcycle/1000000*25,HH_motorcycle_vmt*N2O_gaso_motorcycle/1000000*298)\n",
    "print(NH_buses_vmt/heavy_duty_diesel*diesel/1000,HH_buses_vmt*CH4_buses/1000000*25,HH_buses_vmt*N2O_buses/1000000*298)\n",
    "print(NH_trucks_vmt/light_truck_diesel*diesel/1000,HH_trucks_vmt*CH4_trucks/1000000*25,HH_trucks_vmt*N2O_trucks/1000000*298)\n",
    "\n",
    "print(BSN_automobile_vmt/passenger_car_gasoline*gasoline/1000,BSN_automobile_vmt*CH4_gaso_passenger_car/1000000*25,BSN_automobile_vmt*N2O_gaso_passenger_car/1000000*298)\n",
    "print(BSN_motorcycle_vmt/motorcycle_gasoline*gasoline/1000,BSN_motorcycle_vmt*CH4_gaso_motorcycle/1000000*25,BSN_motorcycle_vmt*N2O_gaso_motorcycle/1000000*298)\n",
    "print(NH_buses_vmt/heavy_duty_diesel*diesel/1000,BSN_buses_vmt*CH4_buses/1000000*25,BSN_buses_vmt*N2O_buses/1000000*298)\n",
    "print(NH_trucks_vmt/light_truck_diesel*diesel/1000,BSN_trucks_vmt*CH4_trucks/1000000*25,BSN_trucks_vmt*N2O_trucks/1000000*298)"
   ]
  },
  {
   "cell_type": "code",
   "execution_count": 20,
   "id": "b0c5d875-bc60-4d93-ad16-91db8b5bad34",
   "metadata": {
    "tags": []
   },
   "outputs": [],
   "source": [
    "# total greenhouse gas emission from mobile combustion\n",
    "\n",
    "#New Haven-Milford:\n",
    "GHG_NH=CO2_NH+CO2_equ_NH_1+CO2_equ_NH_2\n",
    "GHG_HH=CO2_HH+CO2_equ_HH_1+CO2_equ_HH_2\n",
    "GHG_BSN=CO2_BSN+CO2_equ_BSN_1+CO2_equ_BSN_2\n",
    "GHG_state=CO2_statewide+CO2_equ_state+CO2_equ_state"
   ]
  },
  {
   "cell_type": "code",
   "execution_count": 21,
   "id": "a35238bc-947b-4cfb-bcf9-e751dbfaa29d",
   "metadata": {
    "tags": []
   },
   "outputs": [
    {
     "data": {
      "text/html": [
       "<div>\n",
       "<style scoped>\n",
       "    .dataframe tbody tr th:only-of-type {\n",
       "        vertical-align: middle;\n",
       "    }\n",
       "\n",
       "    .dataframe tbody tr th {\n",
       "        vertical-align: top;\n",
       "    }\n",
       "\n",
       "    .dataframe thead th {\n",
       "        text-align: right;\n",
       "    }\n",
       "</style>\n",
       "<table border=\"1\" class=\"dataframe\">\n",
       "  <thead>\n",
       "    <tr style=\"text-align: right;\">\n",
       "      <th></th>\n",
       "      <th>MSA</th>\n",
       "      <th>County</th>\n",
       "      <th>Population</th>\n",
       "      <th>VMT (billion miles)</th>\n",
       "      <th>N2O Emissions(TMTCO2e)</th>\n",
       "      <th>CH4 Emissions (TMTCO2e)</th>\n",
       "      <th>CO2 Emissions(MMTCO2e)</th>\n",
       "      <th>GHG Emissions(MMTCO2e)</th>\n",
       "    </tr>\n",
       "  </thead>\n",
       "  <tbody>\n",
       "    <tr>\n",
       "      <th>0</th>\n",
       "      <td>New Haven-Milford</td>\n",
       "      <td>New Haven</td>\n",
       "      <td>864751</td>\n",
       "      <td>6.911885</td>\n",
       "      <td>7.046291</td>\n",
       "      <td>0.661296</td>\n",
       "      <td>2.867682</td>\n",
       "      <td>2.875389</td>\n",
       "    </tr>\n",
       "    <tr>\n",
       "      <th>1</th>\n",
       "      <td>Hartford-East Hartford-Middletown</td>\n",
       "      <td>Hartford, Middlesex,Tolland</td>\n",
       "      <td>1238888</td>\n",
       "      <td>10.469413</td>\n",
       "      <td>10.672997</td>\n",
       "      <td>1.001664</td>\n",
       "      <td>4.343670</td>\n",
       "      <td>4.355344</td>\n",
       "    </tr>\n",
       "    <tr>\n",
       "      <th>2</th>\n",
       "      <td>Bridgeport-Stamford-Norwalk</td>\n",
       "      <td>Fairfield</td>\n",
       "      <td>986344</td>\n",
       "      <td>7.136784</td>\n",
       "      <td>7.275563</td>\n",
       "      <td>0.682814</td>\n",
       "      <td>2.960991</td>\n",
       "      <td>2.968949</td>\n",
       "    </tr>\n",
       "    <tr>\n",
       "      <th>3</th>\n",
       "      <td>Total</td>\n",
       "      <td>Total</td>\n",
       "      <td>3605330</td>\n",
       "      <td>29.666315</td>\n",
       "      <td>30.243196</td>\n",
       "      <td>30.243196</td>\n",
       "      <td>12.308300</td>\n",
       "      <td>12.368787</td>\n",
       "    </tr>\n",
       "  </tbody>\n",
       "</table>\n",
       "</div>"
      ],
      "text/plain": [
       "                                 MSA                       County  Population  \\\n",
       "0                  New Haven-Milford                    New Haven      864751   \n",
       "1  Hartford-East Hartford-Middletown  Hartford, Middlesex,Tolland     1238888   \n",
       "2        Bridgeport-Stamford-Norwalk                    Fairfield      986344   \n",
       "3                              Total                        Total     3605330   \n",
       "\n",
       "   VMT (billion miles)  N2O Emissions(TMTCO2e)  CH4 Emissions (TMTCO2e)  \\\n",
       "0             6.911885                7.046291                 0.661296   \n",
       "1            10.469413               10.672997                 1.001664   \n",
       "2             7.136784                7.275563                 0.682814   \n",
       "3            29.666315               30.243196                30.243196   \n",
       "\n",
       "   CO2 Emissions(MMTCO2e)  GHG Emissions(MMTCO2e)  \n",
       "0                2.867682                2.875389  \n",
       "1                4.343670                4.355344  \n",
       "2                2.960991                2.968949  \n",
       "3               12.308300               12.368787  "
      ]
     },
     "execution_count": 21,
     "metadata": {},
     "output_type": "execute_result"
    }
   ],
   "source": [
    "data={'MSA':['New Haven-Milford','Hartford-East Hartford-Middletown','Bridgeport-Stamford-Norwalk','Total'],'County':['New Haven','Hartford, Middlesex,Tolland','Fairfield','Total'],\n",
    "      'Population':[NewH_MSA_popu,Hart_MSA_popu,Bri_MSA_popu,statewide_popu], 'VMT (billion miles)':[New_haven_msa_vmt/1000000000,Hartford_msa_vmt/1000000000,Bridgeport_msa_vmt/1000000000,Statewide_vmt/1000000000],'N2O Emissions(TMTCO2e)':[CO2_equ_NH_2/1000,CO2_equ_HH_2/1000,CO2_equ_BSN_2/1000,CO2_equ_state/1000],\n",
    "     'CH4 Emissions (TMTCO2e)':[CO2_equ_NH_1/1000,CO2_equ_HH_1/1000,CO2_equ_BSN_1/1000,CO2_equ_state/1000],'CO2 Emissions(MMTCO2e)':[CO2_NH/1000000,CO2_HH/1000000,CO2_BSN/1000000,CO2_statewide/1000000],'GHG Emissions(MMTCO2e)':[GHG_NH/1000000,GHG_HH/1000000,GHG_BSN/1000000,GHG_state/1000000]}\n",
    "\n",
    "df = pd.DataFrame(data)\n",
    "df"
   ]
  },
  {
   "cell_type": "code",
   "execution_count": 22,
   "id": "5a48a326-2096-44b9-b7c6-107ee175a78f",
   "metadata": {
    "tags": []
   },
   "outputs": [
    {
     "data": {
      "text/plain": [
       "2.8753893201331833"
      ]
     },
     "execution_count": 22,
     "metadata": {},
     "output_type": "execute_result"
    }
   ],
   "source": [
    "df[\"GHG Emissions(MMTCO2e)\"][0]"
   ]
  },
  {
   "cell_type": "code",
   "execution_count": 23,
   "id": "6d6dc6d2-d160-412b-a48c-9dc52fe6ab51",
   "metadata": {
    "tags": []
   },
   "outputs": [],
   "source": [
    "#calculate the emissions per person\n",
    "#MTCO2e\n",
    "NH_emissions_capita=df[\"GHG Emissions(MMTCO2e)\"][0]/NewH_MSA_popu*1000000\n",
    "HH_emissions_capita=df[\"GHG Emissions(MMTCO2e)\"][1]/Hart_MSA_popu*1000000\n",
    "BSN_emissions_capita=df[\"GHG Emissions(MMTCO2e)\"][2]/Bri_MSA_popu*1000000\n",
    "\n",
    "#calculate the vmt per person( miles )\n",
    "NH_vmt_capita=df[\"VMT (billion miles)\"][0]/NewH_MSA_popu*1000000000\n",
    "HH_vmt_capita=df[\"VMT (billion miles)\"][1]/Hart_MSA_popu*1000000000\n",
    "BSN_vmt_capita=df[\"VMT (billion miles)\"][2]/Bri_MSA_popu*1000000000"
   ]
  },
  {
   "cell_type": "code",
   "execution_count": 24,
   "id": "bb04a5aa-7931-4b28-ad81-a9656b6ae41a",
   "metadata": {
    "tags": []
   },
   "outputs": [
    {
     "data": {
      "text/plain": [
       "3.3251066724793414"
      ]
     },
     "execution_count": 24,
     "metadata": {},
     "output_type": "execute_result"
    }
   ],
   "source": [
    "NH_emissions_capita"
   ]
  },
  {
   "cell_type": "code",
   "execution_count": 25,
   "id": "3e0315cb-2d71-4aed-b606-821c938cb311",
   "metadata": {
    "tags": []
   },
   "outputs": [],
   "source": [
    "df['VMT per capita (miles)']=[NH_vmt_capita,HH_vmt_capita,BSN_vmt_capita,\"NA\"]\n",
    "df['emissions per capita (MTCO2e)']=[NH_emissions_capita,HH_emissions_capita,BSN_emissions_capita,\"NA\"]\n",
    "\n",
    "df\n",
    "df.to_csv('../../../data/tidy/mobile-emissions-total.csv')"
   ]
  },
  {
   "cell_type": "code",
   "execution_count": 26,
   "id": "0acd2bb7-91f9-45c2-aa6c-8542462ecbc0",
   "metadata": {
    "tags": []
   },
   "outputs": [],
   "source": [
    "X = ['New Haven-Milford', 'Hartford-East Hartford-Middletown', 'Bridgeport-Stamford-Norwalk']\n",
    "Y_axis = np.arange(len(X))\n",
    "\n",
    "calcualted = df['VMT per capita (miles)'][:3]#NH, HH, BSN\n",
    "inventory = df['emissions per capita (MTCO2e)'][:3]"
   ]
  },
  {
   "cell_type": "code",
   "execution_count": 27,
   "id": "10d8ba79-7fc7-4d3d-a8a1-e2c6a975c871",
   "metadata": {
    "tags": []
   },
   "outputs": [
    {
     "data": {
      "text/plain": [
       "0    3.325107\n",
       "1    3.515527\n",
       "2    3.010054\n",
       "Name: emissions per capita (MTCO2e), dtype: object"
      ]
     },
     "execution_count": 27,
     "metadata": {},
     "output_type": "execute_result"
    }
   ],
   "source": [
    "inventory"
   ]
  },
  {
   "cell_type": "code",
   "execution_count": 28,
   "id": "8f1176d2-11e8-46b0-bb53-8f2ed14c0fd7",
   "metadata": {
    "tags": []
   },
   "outputs": [
    {
     "data": {
      "image/png": "[encoded data removed]",
      "text/plain": [
       "<Figure size 640x480 with 2 Axes>"
      ]
     },
     "metadata": {},
     "output_type": "display_data"
    }
   ],
   "source": [
    "# Create the first bar plot for Miles Per Capita\n",
    "fig, ax1 = plt.subplots()\n",
    "\n",
    "ax1.barh(Y_axis - 0.2, calcualted, 0.4, label='VMT Per Capita (Miles)', color='b')\n",
    "# Set labels and ticks for the first y-axis\n",
    "ax1.set_xlabel(\"VMT Per Capita (Miles)\", fontsize=15, labelpad=20)\n",
    "ax1.set_xticks(np.arange(0, max(calcualted) + 1, 2000))\n",
    "ax1.tick_params(axis='x', labelsize=16)\n",
    "ax1.tick_params(axis='y', labelsize=16)\n",
    "ax1.set_yticks(Y_axis)\n",
    "ax1.set_yticklabels(X)\n",
    "\n",
    "# Create the second y-axis for Emissions Per Capita\n",
    "ax2 = ax1.twiny()\n",
    "\n",
    "ax2.barh(Y_axis + 0.2, inventory, 0.4, label='Emissions Per Capita (MTCO2e)', color='g')\n",
    "# Set labels and ticks for the second y-axis\n",
    "ax2.set_xlabel(\"Emissions Per Capita (MTCO2e)\", fontsize=15, labelpad=20)\n",
    "ax2.set_xticks(np.arange(0, max(inventory) + 1, 0.5))\n",
    "ax2.tick_params(axis='x', labelsize=16)\n",
    "ax2.tick_params(axis='y', labelsize=16)\n",
    "ax2.set_yticks(Y_axis)\n",
    "#ax2.set_yticklabels([])  # Remove y-axis labels for the second y-axis\n",
    "\n",
    "# Add legends\n",
    "ax1.legend(loc='upper left',bbox_to_anchor=(1, 0.9))\n",
    "ax2.legend(loc='upper left',bbox_to_anchor=(1, 1))\n",
    "\n",
    "# Save or display the plot\n",
    "plt.savefig('../../../figures/Report-images/emissions-capita--vmt-capita.png', dpi=600, bbox_inches='tight')\n",
    "#plt.show()"
   ]
  },
  {
   "cell_type": "code",
   "execution_count": 29,
   "id": "df6b90f4-ea53-4387-a923-78ec491bf347",
   "metadata": {
    "tags": []
   },
   "outputs": [
    {
     "data": {
      "image/png": "[encoded data removed]",
      "text/plain": [
       "<Figure size 640x480 with 1 Axes>"
      ]
     },
     "metadata": {},
     "output_type": "display_data"
    }
   ],
   "source": [
    "\n",
    "msa = df.iloc[0:3,0]\n",
    "values = df.iloc[0:3,7]*1000000\n",
    "plt.barh(msa, values, 0.4, color=\"salmon\")\n",
    "plt.xlabel(\"Greenhouse Gas Emissions (MMTCO2e)\",fontsize=15, labelpad=20)\n",
    "\n",
    "plt.xticks(fontsize=16)  # Adjust the font size as needed\n",
    "plt.yticks(fontsize=16)\n",
    "\n",
    "#plt.show() \n",
    "\n",
    "plt.savefig('../../../figures/Report-images/ghg-emissions-mobile.png', dpi=600,bbox_inches='tight')"
   ]
  },
  {
   "cell_type": "code",
   "execution_count": 30,
   "id": "f1619724-7c48-41ba-81bb-253a86738693",
   "metadata": {
    "tags": []
   },
   "outputs": [
    {
     "data": {
      "image/png": "[encoded data removed]",
      "text/plain": [
       "<Figure size 640x480 with 1 Axes>"
      ]
     },
     "metadata": {},
     "output_type": "display_data"
    }
   ],
   "source": [
    "#compare the result with the inventory tool\n",
    "calcualted = df['GHG Emissions(MMTCO2e)'][:3]#NH, HH, BSN\n",
    "inventory = [2886344/1000000, 4371937/1000000, 2980260/1000000]\n",
    "\n",
    "X = ['New Haven-Milford', 'Hartford-East Hartford-Middletown', 'Bridgeport-Stamford-Norwalk']\n",
    "\n",
    "\n",
    "Y_axis = np.arange(len(X))\n",
    "\n",
    "plt.barh(Y_axis - 0.2, calcualted, 0.4, label='Our Model')\n",
    "plt.barh(Y_axis + 0.2, inventory, 0.4, label='Inventory Tool')\n",
    "\n",
    "plt.yticks(Y_axis, X)  # Use yticks instead of xticks\n",
    "\n",
    "plt.xlabel(\"Greenhouse Gas Emissions (MMTCO2e)\",fontsize=15, labelpad=20)\n",
    "plt.xticks(fontsize=16)  # Adjust the font size as needed\n",
    "plt.yticks(fontsize=16)\n",
    "plt.legend()\n",
    "#plt.show()\n",
    "plt.savefig('../../../figures/our-model-vs-lggit-mobile.png', dpi=600,bbox_inches='tight')"
   ]
  },
  {
   "cell_type": "code",
   "execution_count": null,
   "id": "d9867db3-2c3f-4f37-a18f-901a7be6c3a8",
   "metadata": {
    "tags": []
   },
   "outputs": [],
   "source": []
  },
  {
   "cell_type": "code",
   "execution_count": 31,
   "id": "0e5353ea-1d5e-4b39-9176-6f7e524634e8",
   "metadata": {
    "tags": []
   },
   "outputs": [],
   "source": [
    "#calcualte the gasoline and diesel emissions: carbon dioxide emissions only\n",
    "gaso_emissions_NH =gaso_consump_NH*gasoline/1000+NH_automobile_vmt*CH4_gaso_passenger_car/1000000+NH_motorcycle_vmt*CH4_gaso_motorcycle/1000000+NH_automobile_vmt*N2O_gaso_passenger_car/1000000 + NH_motorcycle_vmt*N2O_gaso_motorcycle/1000000\n",
    "gaso_emissions_HH = gaso_consump_HH*gasoline/1000+HH_automobile_vmt*CH4_gaso_passenger_car/1000000+HH_motorcycle_vmt*CH4_gaso_motorcycle/1000000+HH_automobile_vmt*N2O_gaso_passenger_car/1000000 + HH_motorcycle_vmt*N2O_gaso_motorcycle/1000000\n",
    "gaso_emissions_BSN= gaso_consump_BSN*gasoline/1000+BSN_automobile_vmt*CH4_gaso_passenger_car/1000000+BSN_motorcycle_vmt*CH4_gaso_motorcycle/1000000+BSN_automobile_vmt*N2O_gaso_passenger_car/1000000+BSN_motorcycle_vmt*N2O_gaso_motorcycle/1000000\n",
    "\n",
    "#calcualte the diesel consumption \n",
    "dies_emissions_NH =dies_consump_NH*diesel/1000+NH_buses_vmt*CH4_buses/1000000+NH_trucks_vmt*CH4_trucks/1000000+NH_buses_vmt*N2O_buses/1000000+NH_trucks_vmt*N2O_trucks/1000000\n",
    "dies_emissions_HH = dies_consump_HH*diesel/1000+HH_buses_vmt*CH4_buses/1000000+HH_trucks_vmt*CH4_trucks/1000000+HH_buses_vmt*N2O_buses/1000000+HH_trucks_vmt*N2O_trucks/1000000\n",
    "dies_emissions_BSN= dies_consump_BSN*diesel/1000+BSN_buses_vmt*CH4_buses/1000000+BSN_trucks_vmt*CH4_trucks/1000000+BSN_buses_vmt*N2O_buses/1000000+BSN_trucks_vmt*N2O_trucks/1000000\n",
    "\n",
    "\n"
   ]
  },
  {
   "cell_type": "code",
   "execution_count": 32,
   "id": "7005c537-c69b-477f-a50c-9eac91f52314",
   "metadata": {
    "tags": []
   },
   "outputs": [
    {
     "data": {
      "image/png": "[encoded data removed]",
      "text/plain": [
       "<Figure size 640x480 with 1 Axes>"
      ]
     },
     "metadata": {},
     "output_type": "display_data"
    }
   ],
   "source": [
    "X = ['New Haven-Milford', 'Hartford-East Hartford-Middletown', 'Bridgeport-Stamford-Norwalk']\n",
    "gasol = [gaso_emissions_NH/1000000, gaso_emissions_HH/1000000, gaso_emissions_BSN/1000000]\n",
    "die = [dies_emissions_NH/1000000, dies_emissions_HH/1000000, dies_emissions_BSN/1000000]\n",
    "\n",
    "Y_axis = np.arange(len(X))\n",
    "\n",
    "plt.barh(Y_axis - 0.2, gasol, 0.4, label='Gasoline Emissions')\n",
    "plt.barh(Y_axis + 0.2, die, 0.4, label='Diesel Emissions')\n",
    "\n",
    "plt.yticks(Y_axis, X)  # Use yticks instead of xticks\n",
    "\n",
    "plt.xlabel(\"Greenhouse Gas Emissions (MMTCO2e)\",fontsize=15, labelpad=20)\n",
    "plt.xticks(fontsize=16)  # Adjust the font size as needed\n",
    "plt.yticks(fontsize=16)\n",
    "plt.legend()\n",
    "#plt.show()\n",
    "plt.savefig('../../../figures/Report-images/die-gaso-msa-emissions-comparison.png', dpi=600,bbox_inches='tight')"
   ]
  },
  {
   "cell_type": "code",
   "execution_count": 33,
   "id": "9661e751-bad3-4bc3-8b2d-281de68b9916",
   "metadata": {},
   "outputs": [
    {
     "data": {
      "text/html": [
       "<div>\n",
       "<style scoped>\n",
       "    .dataframe tbody tr th:only-of-type {\n",
       "        vertical-align: middle;\n",
       "    }\n",
       "\n",
       "    .dataframe tbody tr th {\n",
       "        vertical-align: top;\n",
       "    }\n",
       "\n",
       "    .dataframe thead th {\n",
       "        text-align: right;\n",
       "    }\n",
       "</style>\n",
       "<table border=\"1\" class=\"dataframe\">\n",
       "  <thead>\n",
       "    <tr style=\"text-align: right;\">\n",
       "      <th></th>\n",
       "      <th>MSA</th>\n",
       "      <th>GHG Emissions(MMTCO2e)</th>\n",
       "      <th>CO2 Emissions(MMTCO2e)</th>\n",
       "      <th>CH4 Emissions (TMTCO2e)</th>\n",
       "      <th>N2O Emissions(TMTCO2e)</th>\n",
       "      <th>emissions per capita (MTCO2e)</th>\n",
       "      <th>Gasoline Emissions (MMTCO2e)</th>\n",
       "      <th>Diesel Emissions (MMTCO2e)</th>\n",
       "      <th>Automobile (MMTCO2e)</th>\n",
       "      <th>Motorcycle (MMTCO2e)</th>\n",
       "      <th>Buses (MMTCO2e)</th>\n",
       "      <th>Trucks (MMTCO2e)</th>\n",
       "    </tr>\n",
       "  </thead>\n",
       "  <tbody>\n",
       "    <tr>\n",
       "      <th>0</th>\n",
       "      <td>New Haven-Milford</td>\n",
       "      <td>2.875389</td>\n",
       "      <td>2.867682</td>\n",
       "      <td>0.661296</td>\n",
       "      <td>7.046291</td>\n",
       "      <td>3.325107</td>\n",
       "      <td>1.059169</td>\n",
       "      <td>1.808563</td>\n",
       "      <td>1.028899</td>\n",
       "      <td>0.036643</td>\n",
       "      <td>0.020234</td>\n",
       "      <td>1.789613</td>\n",
       "    </tr>\n",
       "    <tr>\n",
       "      <th>1</th>\n",
       "      <td>Hartford-East Hartford-Middletown</td>\n",
       "      <td>4.355344</td>\n",
       "      <td>4.343670</td>\n",
       "      <td>1.001664</td>\n",
       "      <td>10.672997</td>\n",
       "      <td>3.515527</td>\n",
       "      <td>1.604320</td>\n",
       "      <td>2.739426</td>\n",
       "      <td>1.558471</td>\n",
       "      <td>0.055503</td>\n",
       "      <td>0.030649</td>\n",
       "      <td>2.710721</td>\n",
       "    </tr>\n",
       "    <tr>\n",
       "      <th>2</th>\n",
       "      <td>Bridgeport-Stamford-Norwalk</td>\n",
       "      <td>2.968949</td>\n",
       "      <td>2.960991</td>\n",
       "      <td>0.682814</td>\n",
       "      <td>7.275563</td>\n",
       "      <td>3.010054</td>\n",
       "      <td>1.093632</td>\n",
       "      <td>1.867410</td>\n",
       "      <td>1.062378</td>\n",
       "      <td>0.037835</td>\n",
       "      <td>0.020893</td>\n",
       "      <td>1.847843</td>\n",
       "    </tr>\n",
       "  </tbody>\n",
       "</table>\n",
       "</div>"
      ],
      "text/plain": [
       "                                 MSA  GHG Emissions(MMTCO2e)  \\\n",
       "0                  New Haven-Milford                2.875389   \n",
       "1  Hartford-East Hartford-Middletown                4.355344   \n",
       "2        Bridgeport-Stamford-Norwalk                2.968949   \n",
       "\n",
       "   CO2 Emissions(MMTCO2e)  CH4 Emissions (TMTCO2e)  N2O Emissions(TMTCO2e)  \\\n",
       "0                2.867682                 0.661296                7.046291   \n",
       "1                4.343670                 1.001664               10.672997   \n",
       "2                2.960991                 0.682814                7.275563   \n",
       "\n",
       "  emissions per capita (MTCO2e)  Gasoline Emissions (MMTCO2e)  \\\n",
       "0                      3.325107                      1.059169   \n",
       "1                      3.515527                      1.604320   \n",
       "2                      3.010054                      1.093632   \n",
       "\n",
       "   Diesel Emissions (MMTCO2e)  Automobile (MMTCO2e)  Motorcycle (MMTCO2e)  \\\n",
       "0                    1.808563              1.028899              0.036643   \n",
       "1                    2.739426              1.558471              0.055503   \n",
       "2                    1.867410              1.062378              0.037835   \n",
       "\n",
       "   Buses (MMTCO2e)  Trucks (MMTCO2e)  \n",
       "0         0.020234          1.789613  \n",
       "1         0.030649          2.710721  \n",
       "2         0.020893          1.847843  "
      ]
     },
     "execution_count": 33,
     "metadata": {},
     "output_type": "execute_result"
    }
   ],
   "source": [
    "result=df[['MSA', 'GHG Emissions(MMTCO2e)','CO2 Emissions(MMTCO2e)','CH4 Emissions (TMTCO2e)','N2O Emissions(TMTCO2e)','emissions per capita (MTCO2e)']][0:3]\n",
    "\n",
    "NH_automobile = (NH_automobile_vmt/passenger_car_gasoline*gasoline/1000+NH_automobile_vmt*CH4_gaso_passenger_car/1000000*25+NH_automobile_vmt*N2O_gaso_passenger_car/1000000*298)/1000000\n",
    "NH_motorcycle = (NH_motorcycle_vmt/motorcycle_gasoline*gasoline/1000+NH_motorcycle_vmt*CH4_gaso_motorcycle/1000000*25+NH_motorcycle_vmt*N2O_gaso_motorcycle/1000000*298)/1000000\n",
    "NH_buses = (NH_buses_vmt/heavy_duty_diesel*diesel/1000+NH_buses_vmt*CH4_buses/1000000*25+NH_buses_vmt*N2O_buses/1000000*298)/1000000\n",
    "NH_trucks = (NH_trucks_vmt/light_truck_diesel*diesel/1000+NH_trucks_vmt*CH4_trucks/1000000*25+NH_trucks_vmt*N2O_trucks/1000000*298)/1000000\n",
    "\n",
    "\n",
    "\n",
    "#add the emissions from different fuel\n",
    "result['Gasoline Emissions (MMTCO2e)'] = gasol\n",
    "result['Diesel Emissions (MMTCO2e)'] = die\n",
    "result['Automobile (MMTCO2e)']=[NH_automobile,HH_automobile,BSN_automobile]\n",
    "result['Motorcycle (MMTCO2e)']=[NH_motorcycle,HH_motorcycle,BSN_motorcycle]\n",
    "result['Buses (MMTCO2e)']=[NH_buses,HH_buses,BSN_buses]\n",
    "result['Trucks (MMTCO2e)']=[NH_trucks,HH_trucks,BSN_trucks]\n",
    "\n",
    "#emissions from different fuel\n",
    "result"
   ]
  },
  {
   "cell_type": "code",
   "execution_count": 34,
   "id": "cec4deeb-fd5d-41c1-84da-742b5cfa03c7",
   "metadata": {
    "tags": []
   },
   "outputs": [
    {
     "data": {
      "text/plain": [
       "['CH4 emissions (TMTCO2e)',\n",
       " 0.5613177880782881,\n",
       " 0.8502265107739269,\n",
       " 0.579581994628631,\n",
       " 0.0,\n",
       " 0.0,\n",
       " 0.0,\n",
       " 0.09677474621057934,\n",
       " 0.0032039573891250997,\n",
       " 0.14658444209178947,\n",
       " 0.00485302545096654,\n",
       " 0.09992361124066906,\n",
       " 0.003308208030698063,\n",
       " 0.6612964916779925,\n",
       " 1.001663978316683,\n",
       " 0.6828138138999982]"
      ]
     },
     "execution_count": 34,
     "metadata": {},
     "output_type": "execute_result"
    }
   ],
   "source": [
    "CO2 = ['CO2 emissions (TMMTCO2e)',NH_automobile_vmt/passenger_car_gasoline*gasoline/1000000000,HH_automobile_vmt/passenger_car_gasoline*gasoline/1000000000,BSN_automobile_vmt/passenger_car_gasoline*gasoline/1000000000,NH_motorcycle_vmt/motorcycle_gasoline*gasoline/1000000000,\n",
    "      HH_motorcycle_vmt/motorcycle_gasoline*gasoline/1000000000,BSN_motorcycle_vmt/motorcycle_gasoline*gasoline/1000000000,NH_trucks_vmt/light_truck_diesel*diesel/1000000000,HH_trucks_vmt/light_truck_diesel*diesel/1000000000,BSN_trucks_vmt/light_truck_diesel*diesel/1000000000,\n",
    "      NH_buses_vmt/heavy_duty_diesel*diesel/1000000000,HH_buses_vmt/heavy_duty_diesel*diesel/1000000000,BSN_buses_vmt/heavy_duty_diesel*diesel/1000000000,result['CO2 Emissions(MMTCO2e)'][0],result['CO2 Emissions(MMTCO2e)'][1],result['CO2 Emissions(MMTCO2e)'][2]]#MMTCO2e\n",
    "CH4 = ['CH4 emissions (TMTCO2e)',NH_automobile_vmt*CH4_gaso_passenger_car/1000000000*25,HH_automobile_vmt*CH4_gaso_passenger_car/1000000000*25,BSN_automobile_vmt*CH4_gaso_passenger_car/1000000000*25,NH_motorcycle_vmt*CH4_gaso_motorcycle/1000000000*25,\n",
    "       HH_motorcycle_vmt*CH4_gaso_motorcycle/1000000000*25,BSN_motorcycle_vmt*CH4_gaso_motorcycle/1000000000*25,NH_trucks_vmt*CH4_trucks/1000000000*25,NH_buses_vmt*CH4_buses/1000000000*25,HH_trucks_vmt*CH4_trucks/1000000000*25,HH_buses_vmt*CH4_buses/1000000000*25,\n",
    "       BSN_trucks_vmt*CH4_trucks/1000000000*25,BSN_buses_vmt*CH4_buses/1000000000*25,result['CH4 Emissions (TMTCO2e)'][0],result['CH4 Emissions (TMTCO2e)'][1],result['CH4 Emissions (TMTCO2e)'][2]]#MTCO2e\n",
    "#N2O = result['N2O emissions (MMTCO2e)']=\n",
    "N2O = ['N2O emissions (TMTCO2e)',NH_automobile_vmt*N2O_gaso_passenger_car/1000000000*298,HH_automobile_vmt*N2O_gaso_passenger_car/1000000000*298,BSN_automobile_vmt*N2O_gaso_passenger_car/1000000000*298,NH_motorcycle_vmt*N2O_gaso_motorcycle/1000000000*298,\n",
    "       HH_motorcycle_vmt*N2O_gaso_motorcycle/1000000000*298,BSN_motorcycle_vmt*N2O_gaso_motorcycle/1000000000*298,NH_trucks_vmt*N2O_trucks/1000000000*298,NH_buses_vmt*N2O_buses/1000000000*298,HH_trucks_vmt*N2O_trucks/1000000000*298,HH_buses_vmt*N2O_buses/1000000000*298,\n",
    "       BSN_trucks_vmt*N2O_trucks/1000000000*298,BSN_buses_vmt*N2O_buses/1000000000*298,result['N2O Emissions(TMTCO2e)'][0],result['N2O Emissions(TMTCO2e)'][1],result['N2O Emissions(TMTCO2e)'][2]]#MTCO2e\n",
    "       \n",
    "       \n",
    "       \n",
    "      \n",
    "CH4"
   ]
  },
  {
   "cell_type": "code",
   "execution_count": 42,
   "id": "aad25c83-0991-4387-a800-84227e3f9e37",
   "metadata": {},
   "outputs": [],
   "source": [
    "def result_from_mobile_combustion():\n",
    "    return result\n",
    "\n",
    "def CO2_emissions():\n",
    "    return CO2\n",
    "\n",
    "def CH4_emissions():\n",
    "    return CH4\n",
    "\n",
    "def N2O_emissions():\n",
    "    return N2O"
   ]
  },
  {
   "cell_type": "code",
   "execution_count": 44,
   "id": "98779b5d-2eae-4878-8305-709db5a83c91",
   "metadata": {
    "tags": []
   },
   "outputs": [
    {
     "data": {
      "text/plain": [
       "['CO2 emissions (TMMTCO2e)',\n",
       " 1.0224834396944749,\n",
       " 1.5487528557251198,\n",
       " 1.0557530939500788,\n",
       " 0.03664317232391092,\n",
       " 0.05550331240224523,\n",
       " 0.037835471022077904,\n",
       " 1.7883622783891673,\n",
       " 2.708827427614788,\n",
       " 1.8465521642845812,\n",
       " 0.020192842557387198,\n",
       " 0.030586043119980474,\n",
       " 0.02084987900828841,\n",
       " 2.8676817329649404,\n",
       " 4.343669638862134,\n",
       " 2.9609906082650266]"
      ]
     },
     "execution_count": 44,
     "metadata": {},
     "output_type": "execute_result"
    }
   ],
   "source": [
    "CO2"
   ]
  },
  {
   "cell_type": "code",
   "execution_count": 46,
   "id": "d9e3347b-7146-45ca-8875-1534e8e98257",
   "metadata": {
    "tags": []
   },
   "outputs": [],
   "source": [
    "CO2_df = pd.DataFrame({'CO2': CO2})\n",
    "CH4_df = pd.DataFrame({'CH4': CH4})\n",
    "N2O_df = pd.DataFrame({'N2O': N2O})\n",
    "\n",
    "\n",
    "result.to_csv('../../../results/mobile-emissions-automated-sheet.csv')\n",
    "# Save to CSV files\n",
    "CO2_df.to_csv('../../../results/CO2-automated-sheet.csv', index=False)\n",
    "CH4_df.to_csv('../../../results/CH4-automated-sheet.csv', index=False)\n",
    "N2O_df.to_csv('../../../results/N2O-automated-sheet.csv', index=False)"
   ]
  },
  {
   "cell_type": "code",
   "execution_count": 37,
   "id": "a5da9816-6032-42a9-bc40-f084c938b7d5",
   "metadata": {
    "tags": []
   },
   "outputs": [],
   "source": [
    "result.to_csv('C:/Users/peiyaozhao/Documents/GitHub/tracking-msa-ghg/data/tidy/Mobile-combustion-emissions.csv')"
   ]
  },
  {
   "cell_type": "code",
   "execution_count": 38,
   "id": "685c59e5-7886-4592-9a2d-42f73e3dd137",
   "metadata": {
    "tags": []
   },
   "outputs": [],
   "source": [
    "result.to_csv('C:/Users/peiyaozhao/NARS Dropbox/Projects/CT-GHG-Inventories/Results/2021-Mobile-combustion-emissions.csv')"
   ]
  },
  {
   "cell_type": "code",
   "execution_count": 39,
   "id": "6440b591-f379-4136-b935-a80bbfeab9a8",
   "metadata": {},
   "outputs": [
    {
     "name": "stdout",
     "output_type": "stream",
     "text": [
      "1022483.4396944748 561.3177880782881 5854.544529656545\n",
      "36643.17232391092 0.0 0.0\n",
      "20192.8425573872 3.2039573891250996 38.19117207837119\n",
      "1788362.2783891673 96.77474621057934 1153.5549748301057\n",
      "1548752.8557251198 850.226510773927 8867.862507372058\n",
      "55503.31240224523 0.0 0.0\n",
      "20192.8425573872 4.853025450966539 57.84806337552115\n",
      "1788362.2783891673 146.58444209178947 1747.2865497341304\n",
      "1055753.0939500788 579.581994628631 6045.040203976621\n",
      "37835.4710220779 0.0 0.0\n",
      "20192.8425573872 3.308208030698063 39.43383972592091\n",
      "1788362.2783891673 99.92361124066906 1191.0894459887752\n"
     ]
    }
   ],
   "source": [
    "print(NH_automobile_vmt/passenger_car_gasoline*gasoline/1000,NH_automobile_vmt*CH4_gaso_passenger_car/1000000*25,NH_automobile_vmt*N2O_gaso_passenger_car/1000000*298)\n",
    "print(NH_motorcycle_vmt/motorcycle_gasoline*gasoline/1000,NH_motorcycle_vmt*CH4_gaso_motorcycle/1000000*25,NH_motorcycle_vmt*N2O_gaso_motorcycle/1000000*298)\n",
    "print(NH_buses_vmt/heavy_duty_diesel*diesel/1000,NH_buses_vmt*CH4_buses/1000000*25,NH_buses_vmt*N2O_buses/1000000*298)\n",
    "print(NH_trucks_vmt/light_truck_diesel*diesel/1000,NH_trucks_vmt*CH4_trucks/1000000*25,NH_trucks_vmt*N2O_trucks/1000000*298)\n",
    "\n",
    "print(HH_automobile_vmt/passenger_car_gasoline*gasoline/1000,HH_automobile_vmt*CH4_gaso_passenger_car/1000000*25,HH_automobile_vmt*N2O_gaso_passenger_car/1000000*298)\n",
    "print(HH_motorcycle_vmt/motorcycle_gasoline*gasoline/1000,HH_motorcycle_vmt*CH4_gaso_motorcycle/1000000*25,HH_motorcycle_vmt*N2O_gaso_motorcycle/1000000*298)\n",
    "print(NH_buses_vmt/heavy_duty_diesel*diesel/1000,HH_buses_vmt*CH4_buses/1000000*25,HH_buses_vmt*N2O_buses/1000000*298)\n",
    "print(NH_trucks_vmt/light_truck_diesel*diesel/1000,HH_trucks_vmt*CH4_trucks/1000000*25,HH_trucks_vmt*N2O_trucks/1000000*298)\n",
    "\n",
    "print(BSN_automobile_vmt/passenger_car_gasoline*gasoline/1000,BSN_automobile_vmt*CH4_gaso_passenger_car/1000000*25,BSN_automobile_vmt*N2O_gaso_passenger_car/1000000*298)\n",
    "print(BSN_motorcycle_vmt/motorcycle_gasoline*gasoline/1000,BSN_motorcycle_vmt*CH4_gaso_motorcycle/1000000*25,BSN_motorcycle_vmt*N2O_gaso_motorcycle/1000000*298)\n",
    "print(NH_buses_vmt/heavy_duty_diesel*diesel/1000,BSN_buses_vmt*CH4_buses/1000000*25,BSN_buses_vmt*N2O_buses/1000000*298)\n",
    "print(NH_trucks_vmt/light_truck_diesel*diesel/1000,BSN_trucks_vmt*CH4_trucks/1000000*25,BSN_trucks_vmt*N2O_trucks/1000000*298)"
   ]
  },
  {
   "cell_type": "code",
   "execution_count": null,
   "id": "4470705a-7d69-4a7e-9cf5-7d51c5d9cdbd",
   "metadata": {},
   "outputs": [],
   "source": []
  },
  {
   "cell_type": "code",
   "execution_count": null,
   "id": "f41f9463-0fc8-465c-8e73-ba1611ab4b35",
   "metadata": {},
   "outputs": [],
   "source": []
  },
  {
   "cell_type": "code",
   "execution_count": null,
   "id": "8df6bc33-50ee-4453-9222-f231efb5d1e0",
   "metadata": {},
   "outputs": [],
   "source": []
  }
 ],
 "metadata": {
  "kernelspec": {
   "display_name": "Python 3 (ipykernel)",
   "language": "python",
   "name": "python3"
  },
  "language_info": {
   "codemirror_mode": {
    "name": "ipython",
    "version": 3
   },
   "file_extension": ".py",
   "mimetype": "text/x-python",
   "name": "python",
   "nbconvert_exporter": "python",
   "pygments_lexer": "ipython3",
   "version": "3.11.5"
  }
 },
 "nbformat": 4,
 "nbformat_minor": 5
}
