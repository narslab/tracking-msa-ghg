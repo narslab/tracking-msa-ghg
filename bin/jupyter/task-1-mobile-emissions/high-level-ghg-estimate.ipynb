{
 "cells": [
  {
   "cell_type": "code",
   "execution_count": 180,
   "id": "38060766-fbd7-4ef5-9757-4e738024b21a",
   "metadata": {
    "tags": []
   },
   "outputs": [],
   "source": [
    "import pandas as pd"
   ]
  },
  {
   "cell_type": "code",
   "execution_count": 181,
   "id": "c12702ce-35b3-49c9-a6bc-974c582c1cf8",
   "metadata": {
    "tags": []
   },
   "outputs": [],
   "source": [
    "df_population = pd.read_excel(r'Documents/Python Scripts/population 2020.xlsx', sheet_name=['Data'])\n",
    "df_emission = pd.read_excel(r'Documents/Python Scripts/Public GHG data 1990-2021.xlsx', sheet_name=['Emission Totals'])#this generate lsit, list has no following function but have to convert it to dataframe"
   ]
  },
  {
   "cell_type": "code",
   "execution_count": 182,
   "id": "9a713b5c-23e7-406f-b381-60b60a40845f",
   "metadata": {
    "tags": []
   },
   "outputs": [
    {
     "data": {
      "text/plain": [
       "pandas.core.frame.DataFrame"
      ]
     },
     "execution_count": 182,
     "metadata": {},
     "output_type": "execute_result"
    }
   ],
   "source": [
    "Population_data=df_population.get('Data')\n",
    "Emission_data=df_emission.get('Emission Totals')\n",
    "type(Emission_data)"
   ]
  },
  {
   "cell_type": "code",
   "execution_count": 183,
   "id": "0344ecc9-f493-4508-adc5-702a073dc03b",
   "metadata": {
    "tags": []
   },
   "outputs": [
    {
     "data": {
      "text/plain": [
       "Index(['Unnamed: 0', 'Connecticut', 'Unnamed: 2', 'Unnamed: 3', 'Unnamed: 4',\n",
       "       'Bridgeport-Stamford-Norwalk, CT Metro Area', 'Unnamed: 6',\n",
       "       'Unnamed: 7', 'Unnamed: 8',\n",
       "       'Hartford-East Hartford-Middletown, CT Metro Area', 'Unnamed: 10',\n",
       "       'Unnamed: 11', 'Unnamed: 12', 'New Haven-Milford, CT Metro Area',\n",
       "       'Unnamed: 14', 'Unnamed: 15', 'Unnamed: 16',\n",
       "       'Norwich-New London, CT Metro Area', 'Unnamed: 18', 'Unnamed: 19',\n",
       "       'Unnamed: 20', 'Torrington, CT Micro Area', 'Unnamed: 22',\n",
       "       'Unnamed: 23', 'Unnamed: 24',\n",
       "       'Connecticut (part); Worcester, MA-CT Metro Area', 'Unnamed: 26',\n",
       "       'Unnamed: 27', 'Unnamed: 28'],\n",
       "      dtype='object')"
      ]
     },
     "execution_count": 183,
     "metadata": {},
     "output_type": "execute_result"
    }
   ],
   "source": [
    "Population_data.columns"
   ]
  },
  {
   "cell_type": "code",
   "execution_count": 184,
   "id": "5720ee03-2e1a-4b98-a9ce-cd3254b89bd7",
   "metadata": {
    "tags": []
   },
   "outputs": [
    {
     "data": {
      "text/html": [
       "<div>\n",
       "<style scoped>\n",
       "    .dataframe tbody tr th:only-of-type {\n",
       "        vertical-align: middle;\n",
       "    }\n",
       "\n",
       "    .dataframe tbody tr th {\n",
       "        vertical-align: top;\n",
       "    }\n",
       "\n",
       "    .dataframe thead th {\n",
       "        text-align: right;\n",
       "    }\n",
       "</style>\n",
       "<table border=\"1\" class=\"dataframe\">\n",
       "  <thead>\n",
       "    <tr style=\"text-align: right;\">\n",
       "      <th></th>\n",
       "      <th>Unnamed: 0</th>\n",
       "      <th>Connecticut</th>\n",
       "      <th>Bridgeport-Stamford-Norwalk, CT Metro Area</th>\n",
       "      <th>Hartford-East Hartford-Middletown, CT Metro Area</th>\n",
       "      <th>Torrington, CT Micro Area</th>\n",
       "      <th>Connecticut (part); Worcester, MA-CT Metro Area</th>\n",
       "      <th>New Haven-Milford, CT Metro Area</th>\n",
       "      <th>Norwich-New London, CT Metro Area</th>\n",
       "    </tr>\n",
       "  </thead>\n",
       "  <tbody>\n",
       "    <tr>\n",
       "      <th>0</th>\n",
       "      <td>Label</td>\n",
       "      <td>Estimate</td>\n",
       "      <td>Estimate</td>\n",
       "      <td>Estimate</td>\n",
       "      <td>Estimate</td>\n",
       "      <td>Estimate</td>\n",
       "      <td>Estimate</td>\n",
       "      <td>Estimate</td>\n",
       "    </tr>\n",
       "    <tr>\n",
       "      <th>1</th>\n",
       "      <td>SEX AND AGE</td>\n",
       "      <td>NaN</td>\n",
       "      <td>NaN</td>\n",
       "      <td>NaN</td>\n",
       "      <td>NaN</td>\n",
       "      <td>NaN</td>\n",
       "      <td>NaN</td>\n",
       "      <td>NaN</td>\n",
       "    </tr>\n",
       "    <tr>\n",
       "      <th>2</th>\n",
       "      <td>Total population</td>\n",
       "      <td>3,570,549</td>\n",
       "      <td>944,306</td>\n",
       "      <td>1,205,842</td>\n",
       "      <td>181,143</td>\n",
       "      <td>116,657</td>\n",
       "      <td>855,733</td>\n",
       "      <td>266,868</td>\n",
       "    </tr>\n",
       "    <tr>\n",
       "      <th>3</th>\n",
       "      <td>Male</td>\n",
       "      <td>1,741,688</td>\n",
       "      <td>459,827</td>\n",
       "      <td>588,448</td>\n",
       "      <td>89,565</td>\n",
       "      <td>57,726</td>\n",
       "      <td>412,404</td>\n",
       "      <td>133,718</td>\n",
       "    </tr>\n",
       "    <tr>\n",
       "      <th>4</th>\n",
       "      <td>Female</td>\n",
       "      <td>1,828,861</td>\n",
       "      <td>484,479</td>\n",
       "      <td>617,394</td>\n",
       "      <td>91,578</td>\n",
       "      <td>58,931</td>\n",
       "      <td>443,329</td>\n",
       "      <td>133,150</td>\n",
       "    </tr>\n",
       "  </tbody>\n",
       "</table>\n",
       "</div>"
      ],
      "text/plain": [
       "         Unnamed: 0 Connecticut Bridgeport-Stamford-Norwalk, CT Metro Area  \\\n",
       "0             Label    Estimate                                   Estimate   \n",
       "1       SEX AND AGE         NaN                                        NaN   \n",
       "2  Total population   3,570,549                                    944,306   \n",
       "3              Male   1,741,688                                    459,827   \n",
       "4            Female   1,828,861                                    484,479   \n",
       "\n",
       "  Hartford-East Hartford-Middletown, CT Metro Area Torrington, CT Micro Area  \\\n",
       "0                                         Estimate                  Estimate   \n",
       "1                                              NaN                       NaN   \n",
       "2                                        1,205,842                   181,143   \n",
       "3                                          588,448                    89,565   \n",
       "4                                          617,394                    91,578   \n",
       "\n",
       "  Connecticut (part); Worcester, MA-CT Metro Area  \\\n",
       "0                                        Estimate   \n",
       "1                                             NaN   \n",
       "2                                         116,657   \n",
       "3                                          57,726   \n",
       "4                                          58,931   \n",
       "\n",
       "  New Haven-Milford, CT Metro Area Norwich-New London, CT Metro Area  \n",
       "0                         Estimate                          Estimate  \n",
       "1                              NaN                               NaN  \n",
       "2                          855,733                           266,868  \n",
       "3                          412,404                           133,718  \n",
       "4                          443,329                           133,150  "
      ]
     },
     "execution_count": 184,
     "metadata": {},
     "output_type": "execute_result"
    }
   ],
   "source": [
    "Population_data=Population_data[['Unnamed: 0','Connecticut','Bridgeport-Stamford-Norwalk, CT Metro Area','Hartford-East Hartford-Middletown, CT Metro Area','Torrington, CT Micro Area',\n",
    "                                 'Connecticut (part); Worcester, MA-CT Metro Area','New Haven-Milford, CT Metro Area','Norwich-New London, CT Metro Area']]\n",
    "Population_data.head()                        "
   ]
  },
  {
   "cell_type": "code",
   "execution_count": 185,
   "id": "94c9f45b-b726-465e-8cc7-0b900fd91998",
   "metadata": {
    "tags": []
   },
   "outputs": [
    {
     "data": {
      "text/html": [
       "<div>\n",
       "<style scoped>\n",
       "    .dataframe tbody tr th:only-of-type {\n",
       "        vertical-align: middle;\n",
       "    }\n",
       "\n",
       "    .dataframe tbody tr th {\n",
       "        vertical-align: top;\n",
       "    }\n",
       "\n",
       "    .dataframe thead th {\n",
       "        text-align: right;\n",
       "    }\n",
       "</style>\n",
       "<table border=\"1\" class=\"dataframe\">\n",
       "  <thead>\n",
       "    <tr style=\"text-align: right;\">\n",
       "      <th></th>\n",
       "      <th>Unnamed: 0</th>\n",
       "      <th>Connecticut</th>\n",
       "      <th>Bridgeport-Stamford-Norwalk, CT Metro Area</th>\n",
       "      <th>Hartford-East Hartford-Middletown, CT Metro Area</th>\n",
       "      <th>Torrington, CT Micro Area</th>\n",
       "      <th>Connecticut (part); Worcester, MA-CT Metro Area</th>\n",
       "      <th>New Haven-Milford, CT Metro Area</th>\n",
       "      <th>Norwich-New London, CT Metro Area</th>\n",
       "    </tr>\n",
       "  </thead>\n",
       "  <tbody>\n",
       "    <tr>\n",
       "      <th>2</th>\n",
       "      <td>Total population</td>\n",
       "      <td>3,570,549</td>\n",
       "      <td>944,306</td>\n",
       "      <td>1,205,842</td>\n",
       "      <td>181,143</td>\n",
       "      <td>116,657</td>\n",
       "      <td>855,733</td>\n",
       "      <td>266,868</td>\n",
       "    </tr>\n",
       "    <tr>\n",
       "      <th>90</th>\n",
       "      <td>Total housing units</td>\n",
       "      <td>1,521,199</td>\n",
       "      <td>374,329</td>\n",
       "      <td>516,829</td>\n",
       "      <td>88,362</td>\n",
       "      <td>49,840</td>\n",
       "      <td>367,990</td>\n",
       "      <td>123,849</td>\n",
       "    </tr>\n",
       "  </tbody>\n",
       "</table>\n",
       "</div>"
      ],
      "text/plain": [
       "             Unnamed: 0 Connecticut  \\\n",
       "2      Total population   3,570,549   \n",
       "90  Total housing units   1,521,199   \n",
       "\n",
       "   Bridgeport-Stamford-Norwalk, CT Metro Area  \\\n",
       "2                                     944,306   \n",
       "90                                    374,329   \n",
       "\n",
       "   Hartford-East Hartford-Middletown, CT Metro Area Torrington, CT Micro Area  \\\n",
       "2                                         1,205,842                   181,143   \n",
       "90                                          516,829                    88,362   \n",
       "\n",
       "   Connecticut (part); Worcester, MA-CT Metro Area  \\\n",
       "2                                          116,657   \n",
       "90                                          49,840   \n",
       "\n",
       "   New Haven-Milford, CT Metro Area Norwich-New London, CT Metro Area  \n",
       "2                           855,733                           266,868  \n",
       "90                          367,990                           123,849  "
      ]
     },
     "execution_count": 185,
     "metadata": {},
     "output_type": "execute_result"
    }
   ],
   "source": [
    "Population_data.iloc[[2,90],:]"
   ]
  },
  {
   "cell_type": "code",
   "execution_count": 186,
   "id": "00dbbc59-64ab-4554-8fba-018a02fd6e21",
   "metadata": {
    "tags": []
   },
   "outputs": [
    {
     "data": {
      "text/html": [
       "<div>\n",
       "<style scoped>\n",
       "    .dataframe tbody tr th:only-of-type {\n",
       "        vertical-align: middle;\n",
       "    }\n",
       "\n",
       "    .dataframe tbody tr th {\n",
       "        vertical-align: top;\n",
       "    }\n",
       "\n",
       "    .dataframe thead th {\n",
       "        text-align: right;\n",
       "    }\n",
       "</style>\n",
       "<table border=\"1\" class=\"dataframe\">\n",
       "  <thead>\n",
       "    <tr style=\"text-align: right;\">\n",
       "      <th></th>\n",
       "      <th>Sector Emissions (MMTCO2e)</th>\n",
       "      <th>2020 est</th>\n",
       "    </tr>\n",
       "  </thead>\n",
       "  <tbody>\n",
       "    <tr>\n",
       "      <th>0</th>\n",
       "      <td>Agriculture</td>\n",
       "      <td>0.346028</td>\n",
       "    </tr>\n",
       "    <tr>\n",
       "      <th>1</th>\n",
       "      <td>Natural Gas Leakage</td>\n",
       "      <td>0.240000</td>\n",
       "    </tr>\n",
       "    <tr>\n",
       "      <th>2</th>\n",
       "      <td>Commercial</td>\n",
       "      <td>3.824505</td>\n",
       "    </tr>\n",
       "    <tr>\n",
       "      <th>3</th>\n",
       "      <td>Commercial (CO2FFC)</td>\n",
       "      <td>3.803173</td>\n",
       "    </tr>\n",
       "    <tr>\n",
       "      <th>4</th>\n",
       "      <td>Commercial (Stationary)</td>\n",
       "      <td>0.021332</td>\n",
       "    </tr>\n",
       "  </tbody>\n",
       "</table>\n",
       "</div>"
      ],
      "text/plain": [
       "  Sector Emissions (MMTCO2e)  2020 est\n",
       "0                Agriculture  0.346028\n",
       "1        Natural Gas Leakage  0.240000\n",
       "2                 Commercial  3.824505\n",
       "3        Commercial (CO2FFC)  3.803173\n",
       "4    Commercial (Stationary)  0.021332"
      ]
     },
     "execution_count": 186,
     "metadata": {},
     "output_type": "execute_result"
    }
   ],
   "source": [
    "Emission_data=Emission_data[['Sector Emissions (MMTCO2e)',   '2020 est']]# question to ask: why numbers is not in the index\n",
    "Emission_data.head()  "
   ]
  },
  {
   "cell_type": "code",
   "execution_count": 187,
   "id": "f37d8f15-c803-4049-9409-e4d6c1405de0",
   "metadata": {
    "tags": []
   },
   "outputs": [],
   "source": [
    "# hypothesis one: each MSA emission is positively proportional to the total population\n",
    "import string"
   ]
  },
  {
   "cell_type": "code",
   "execution_count": 188,
   "id": "9ff0b7bd-740f-4f13-ae8e-6dab78f973f7",
   "metadata": {
    "tags": []
   },
   "outputs": [],
   "source": [
    "#population data at year 2020\n",
    "Num_CT=Population_data.at[2,'Connecticut']\n",
    "Num_BSN=Population_data.at[2,'Bridgeport-Stamford-Norwalk, CT Metro Area']\n",
    "Num_HEHM=Population_data.at[2,'Hartford-East Hartford-Middletown, CT Metro Area']\n",
    "Num_Tor=Population_data.at[2,'Torrington, CT Micro Area']\n",
    "Num_Wor_CT=Population_data.at[2,'Connecticut (part); Worcester, MA-CT Metro Area']\n",
    "Num_NHM=Population_data.at[2,'New Haven-Milford, CT Metro Area']\n",
    "Num_NNL=Population_data.at[2,'Norwich-New London, CT Metro Area']\n",
    "\n",
    "Num_CT=int(Num_CT.translate(str.maketrans('','',string.punctuation)))#delete all the punctuation in the string)\n",
    "Num_BSN=int(Num_BSN.translate(str.maketrans('','',string.punctuation)))\n",
    "Num_HEHM=int(Num_HEHM.translate(str.maketrans('','',string.punctuation)))\n",
    "Num_Tor=int(Num_Tor.translate(str.maketrans('','',string.punctuation)))\n",
    "Num_Wor_CT=int(Num_Wor_CT.translate(str.maketrans('','',string.punctuation)))\n",
    "Num_NHM=int(Num_NHM.translate(str.maketrans('','',string.punctuation)))\n",
    "Num_NNL=int(Num_NNL.translate(str.maketrans('','',string.punctuation)))\n",
    "\n",
    "#ratio of the MSA population to the state population\n",
    "ra_BSN=Num_BSN/Num_CT\n",
    "ra_HEHM=Num_HEHM/Num_CT\n",
    "ra_Tor=Num_Tor/Num_CT\n",
    "ra_Wor_CT=Num_Wor_CT/Num_CT\n",
    "ra_NHM=Num_NHM/Num_CT\n",
    "ra_NNL=Num_NNL/Num_CT"
   ]
  },
  {
   "cell_type": "code",
   "execution_count": 189,
   "id": "9f79e6af-f87e-49fa-aa2c-1c988a09a352",
   "metadata": {
    "tags": []
   },
   "outputs": [],
   "source": [
    "#total emission data at year 2020\n",
    "Em_CT=Emission_data.at[22,'2020 est']"
   ]
  },
  {
   "cell_type": "code",
   "execution_count": 203,
   "id": "659e2c85-3fd8-4cfb-bc18-5d803d9b67ca",
   "metadata": {
    "tags": []
   },
   "outputs": [],
   "source": [
    "#calculation of the total emission\n",
    "Em_BSN=Em_CT*ra_BSN\n",
    "Em_HEHM=Em_CT*ra_HEHM\n",
    "Em_Tor=Em_CT*ra_Tor\n",
    "Em_Wor_CT=Em_CT*ra_Wor_CT\n",
    "Em_NHM=Em_CT*ra_NHM\n",
    "Em_NNL=Em_CT*ra_NNL"
   ]
  },
  {
   "cell_type": "code",
   "execution_count": 191,
   "id": "cdc641a5-7948-424f-94cc-491e2fcf20f2",
   "metadata": {
    "tags": []
   },
   "outputs": [],
   "source": [
    "Population_data=Population_data.iloc[[2],:]\n",
    "#Population_data.iloc[[2],:].loc[3,:]=['2','MSA emission','ra_BSN','ra_HEHM','ra_Tor','ra_Wor_CT','ra_NHM','ra_NNL']"
   ]
  },
  {
   "cell_type": "code",
   "execution_count": 207,
   "id": "35de2151-ee9f-4c96-b136-525053ffb84d",
   "metadata": {
    "tags": []
   },
   "outputs": [],
   "source": [
    "Population_data.loc[3,:]=['GHG emission',Em_CT,Em_BSN,Em_HEHM,Em_Tor,Em_Wor_CT,Em_NHM,Em_NNL]"
   ]
  },
  {
   "cell_type": "code",
   "execution_count": 223,
   "id": "94db3bab-55f0-4cce-9431-2e796c9ec36b",
   "metadata": {
    "tags": []
   },
   "outputs": [
    {
     "data": {
      "text/html": [
       "<div>\n",
       "<style scoped>\n",
       "    .dataframe tbody tr th:only-of-type {\n",
       "        vertical-align: middle;\n",
       "    }\n",
       "\n",
       "    .dataframe tbody tr th {\n",
       "        vertical-align: top;\n",
       "    }\n",
       "\n",
       "    .dataframe thead th {\n",
       "        text-align: right;\n",
       "    }\n",
       "</style>\n",
       "<table border=\"1\" class=\"dataframe\">\n",
       "  <thead>\n",
       "    <tr style=\"text-align: right;\">\n",
       "      <th></th>\n",
       "      <th>Unnamed: 0</th>\n",
       "      <th>Connecticut</th>\n",
       "      <th>Bridgeport-Stamford-Norwalk, CT Metro Area</th>\n",
       "      <th>Hartford-East Hartford-Middletown, CT Metro Area</th>\n",
       "      <th>Torrington, CT Micro Area</th>\n",
       "      <th>Connecticut (part); Worcester, MA-CT Metro Area</th>\n",
       "      <th>New Haven-Milford, CT Metro Area</th>\n",
       "      <th>Norwich-New London, CT Metro Area</th>\n",
       "    </tr>\n",
       "  </thead>\n",
       "  <tbody>\n",
       "    <tr>\n",
       "      <th>2</th>\n",
       "      <td>Total population</td>\n",
       "      <td>3,570,549</td>\n",
       "      <td>944,306</td>\n",
       "      <td>1,205,842</td>\n",
       "      <td>181,143</td>\n",
       "      <td>116,657</td>\n",
       "      <td>855,733</td>\n",
       "      <td>266,868</td>\n",
       "    </tr>\n",
       "    <tr>\n",
       "      <th>3</th>\n",
       "      <td>GHG emission</td>\n",
       "      <td>32.711162</td>\n",
       "      <td>8.651148</td>\n",
       "      <td>11.047179</td>\n",
       "      <td>1.65952</td>\n",
       "      <td>1.068739</td>\n",
       "      <td>7.839696</td>\n",
       "      <td>2.44488</td>\n",
       "    </tr>\n",
       "  </tbody>\n",
       "</table>\n",
       "</div>"
      ],
      "text/plain": [
       "         Unnamed: 0 Connecticut Bridgeport-Stamford-Norwalk, CT Metro Area  \\\n",
       "2  Total population   3,570,549                                    944,306   \n",
       "3      GHG emission   32.711162                                   8.651148   \n",
       "\n",
       "  Hartford-East Hartford-Middletown, CT Metro Area Torrington, CT Micro Area  \\\n",
       "2                                        1,205,842                   181,143   \n",
       "3                                        11.047179                   1.65952   \n",
       "\n",
       "  Connecticut (part); Worcester, MA-CT Metro Area  \\\n",
       "2                                         116,657   \n",
       "3                                        1.068739   \n",
       "\n",
       "  New Haven-Milford, CT Metro Area Norwich-New London, CT Metro Area  \n",
       "2                          855,733                           266,868  \n",
       "3                         7.839696                           2.44488  "
      ]
     },
     "execution_count": 223,
     "metadata": {},
     "output_type": "execute_result"
    }
   ],
   "source": [
    "Population_data"
   ]
  },
  {
   "cell_type": "code",
   "execution_count": 224,
   "id": "3e799b11-5502-4757-b259-7b7631ab3567",
   "metadata": {
    "tags": []
   },
   "outputs": [],
   "source": [
    "ghg_pop=Population_data.rename(columns={'Unnamed: 0':''}, index={2:1,3:2})"
   ]
  },
  {
   "cell_type": "code",
   "execution_count": 225,
   "id": "1f5fd370-a39a-450d-95c6-42d8b89becb0",
   "metadata": {
    "tags": []
   },
   "outputs": [
    {
     "data": {
      "text/html": [
       "<div>\n",
       "<style scoped>\n",
       "    .dataframe tbody tr th:only-of-type {\n",
       "        vertical-align: middle;\n",
       "    }\n",
       "\n",
       "    .dataframe tbody tr th {\n",
       "        vertical-align: top;\n",
       "    }\n",
       "\n",
       "    .dataframe thead th {\n",
       "        text-align: right;\n",
       "    }\n",
       "</style>\n",
       "<table border=\"1\" class=\"dataframe\">\n",
       "  <thead>\n",
       "    <tr style=\"text-align: right;\">\n",
       "      <th></th>\n",
       "      <th></th>\n",
       "      <th>Connecticut</th>\n",
       "      <th>Bridgeport-Stamford-Norwalk, CT Metro Area</th>\n",
       "      <th>Hartford-East Hartford-Middletown, CT Metro Area</th>\n",
       "      <th>Torrington, CT Micro Area</th>\n",
       "      <th>Connecticut (part); Worcester, MA-CT Metro Area</th>\n",
       "      <th>New Haven-Milford, CT Metro Area</th>\n",
       "      <th>Norwich-New London, CT Metro Area</th>\n",
       "    </tr>\n",
       "  </thead>\n",
       "  <tbody>\n",
       "    <tr>\n",
       "      <th>1</th>\n",
       "      <td>Total population</td>\n",
       "      <td>3,570,549</td>\n",
       "      <td>944,306</td>\n",
       "      <td>1,205,842</td>\n",
       "      <td>181,143</td>\n",
       "      <td>116,657</td>\n",
       "      <td>855,733</td>\n",
       "      <td>266,868</td>\n",
       "    </tr>\n",
       "    <tr>\n",
       "      <th>2</th>\n",
       "      <td>GHG emission</td>\n",
       "      <td>32.711162</td>\n",
       "      <td>8.651148</td>\n",
       "      <td>11.047179</td>\n",
       "      <td>1.65952</td>\n",
       "      <td>1.068739</td>\n",
       "      <td>7.839696</td>\n",
       "      <td>2.44488</td>\n",
       "    </tr>\n",
       "  </tbody>\n",
       "</table>\n",
       "</div>"
      ],
      "text/plain": [
       "                    Connecticut Bridgeport-Stamford-Norwalk, CT Metro Area  \\\n",
       "1  Total population   3,570,549                                    944,306   \n",
       "2      GHG emission   32.711162                                   8.651148   \n",
       "\n",
       "  Hartford-East Hartford-Middletown, CT Metro Area Torrington, CT Micro Area  \\\n",
       "1                                        1,205,842                   181,143   \n",
       "2                                        11.047179                   1.65952   \n",
       "\n",
       "  Connecticut (part); Worcester, MA-CT Metro Area  \\\n",
       "1                                         116,657   \n",
       "2                                        1.068739   \n",
       "\n",
       "  New Haven-Milford, CT Metro Area Norwich-New London, CT Metro Area  \n",
       "1                          855,733                           266,868  \n",
       "2                         7.839696                           2.44488  "
      ]
     },
     "execution_count": 225,
     "metadata": {},
     "output_type": "execute_result"
    }
   ],
   "source": [
    "ghg_pop"
   ]
  },
  {
   "cell_type": "code",
   "execution_count": 279,
   "id": "3fd745c4-1844-4cce-b647-f4830e50170c",
   "metadata": {
    "tags": []
   },
   "outputs": [
    {
     "data": {
      "text/plain": [
       "Text(0.5, 1.0, 'Statewide and MSA Greenhouse gas emission in year 2020')"
      ]
     },
     "execution_count": 279,
     "metadata": {},
     "output_type": "execute_result"
    },
    {
     "data": {
      "image/png": "[encoded data removed]",
      "text/plain": [
       "<Figure size 1000x500 with 1 Axes>"
      ]
     },
     "metadata": {},
     "output_type": "display_data"
    }
   ],
   "source": [
    "#creating a bar plot\n",
    "import numpy as np\n",
    "import matplotlib.pyplot as plt\n",
    "\n",
    "regions=list(ghg_pop.keys())[1:]\n",
    "values=list(ghg_pop.loc[2,:])[1:]\n",
    "\n",
    "fig = plt.figure(figsize=(10,5))\n",
    "plt.bar(regions,values,color ='maroon',)\n",
    "\n",
    "plt.xticks(rotation=45)\n",
    "plt.xlabel(\"Regions\")\n",
    "plt.ylabel(\"Greenhouse gas emission/MMTCO2e\")\n",
    "plt.title(\"Statewide and MSA Greenhouse gas emission in year 2020\")"
   ]
  },
  {
   "cell_type": "code",
   "execution_count": null,
   "id": "2a8f25a8-76ad-42a4-ae8a-f8a4198c404c",
   "metadata": {
    "tags": []
   },
   "outputs": [],
   "source": []
  },
  {
   "cell_type": "code",
   "execution_count": 277,
   "id": "27362c3f-c6e3-4cda-a127-3e689a64643e",
   "metadata": {
    "tags": []
   },
   "outputs": [
    {
     "data": {
      "text/plain": [
       "6"
      ]
     },
     "execution_count": 277,
     "metadata": {},
     "output_type": "execute_result"
    }
   ],
   "source": []
  },
  {
   "cell_type": "code",
   "execution_count": null,
   "id": "704e7b22-8c38-41ff-853a-6c02d5f4630c",
   "metadata": {},
   "outputs": [],
   "source": []
  },
  {
   "cell_type": "code",
   "execution_count": 278,
   "id": "8b67140d-104b-40fa-83f8-f9c8ba77ab84",
   "metadata": {
    "tags": []
   },
   "outputs": [
    {
     "data": {
      "text/plain": [
       "6"
      ]
     },
     "execution_count": 278,
     "metadata": {},
     "output_type": "execute_result"
    }
   ],
   "source": []
  },
  {
   "cell_type": "code",
   "execution_count": null,
   "id": "2f2c132c-9c7a-4f18-b3a4-f904579be99a",
   "metadata": {},
   "outputs": [],
   "source": []
  }
 ],
 "metadata": {
  "kernelspec": {
   "display_name": "Python 3 (ipykernel)",
   "language": "python",
   "name": "python3"
  },
  "language_info": {
   "codemirror_mode": {
    "name": "ipython",
    "version": 3
   },
   "file_extension": ".py",
   "mimetype": "text/x-python",
   "name": "python",
   "nbconvert_exporter": "python",
   "pygments_lexer": "ipython3",
   "version": "3.11.5"
  }
 },
 "nbformat": 4,
 "nbformat_minor": 5
}
