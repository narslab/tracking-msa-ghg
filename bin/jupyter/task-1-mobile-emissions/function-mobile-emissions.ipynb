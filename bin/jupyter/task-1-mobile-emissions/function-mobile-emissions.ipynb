{
 "cells": [
  {
   "cell_type": "code",
   "execution_count": 1,
   "id": "c5ac2bf3-051e-4596-be39-fc6c10637799",
   "metadata": {
    "tags": []
   },
   "outputs": [],
   "source": [
    "import pandas as pd\n",
    "import numpy as np\n",
    "import os\n",
    "import string\n",
    "import seaborn as sns\n",
    "import matplotlib.pyplot as plt\n",
    "from matplotlib.ticker import ScalarFormatter\n",
    "from matplotlib.ticker import StrMethodFormatter"
   ]
  },
  {
   "cell_type": "code",
   "execution_count": 2,
   "id": "6429d582-3b25-4c77-af1f-198d3b28b3a1",
   "metadata": {
    "tags": []
   },
   "outputs": [],
   "source": [
    "#import all the files needed\n",
    "df_vehicle_re = pd.read_csv('../../../data/raw/mv1.csv')\n",
    "df_MSA_DVMT = pd.read_csv('../../../data/raw/Miles-and-DVMT-by-County-and-Functional-Class-2022.csv')#this generate lsit, list has no following function but have to convert it to dataframe\n",
    "df_population = pd.read_excel('../../../data/raw/ACSDP5Y2021.DP05-2023-09-11T201858.xlsx', sheet_name='Data')"
   ]
  },
  {
   "cell_type": "code",
   "execution_count": 3,
   "id": "7029798a-be64-4ae6-b845-74e2dcc1ddd0",
   "metadata": {
    "tags": []
   },
   "outputs": [
    {
     "name": "stderr",
     "output_type": "stream",
     "text": [
      "C:\\Users\\peiyaozhao\\AppData\\Local\\Temp\\ipykernel_23080\\408193047.py:10: FutureWarning: Series.__getitem__ treating keys as positions is deprecated. In a future version, integer keys will always be treated as labels (consistent with DataFrame behavior). To access a value by position, use `ser.iloc[pos]`\n",
      "  j=statewide_vehicle[i]\n"
     ]
    },
    {
     "data": {
      "text/html": [
       "<div>\n",
       "<style scoped>\n",
       "    .dataframe tbody tr th:only-of-type {\n",
       "        vertical-align: middle;\n",
       "    }\n",
       "\n",
       "    .dataframe tbody tr th {\n",
       "        vertical-align: top;\n",
       "    }\n",
       "\n",
       "    .dataframe thead th {\n",
       "        text-align: right;\n",
       "    }\n",
       "</style>\n",
       "<table border=\"1\" class=\"dataframe\">\n",
       "  <thead>\n",
       "    <tr style=\"text-align: right;\">\n",
       "      <th></th>\n",
       "      <th>Statewide number of vehicles</th>\n",
       "      <th>Each types relative to the total</th>\n",
       "    </tr>\n",
       "  </thead>\n",
       "  <tbody>\n",
       "    <tr>\n",
       "      <th>Automobiles</th>\n",
       "      <td>1119278</td>\n",
       "      <td>0.40605</td>\n",
       "    </tr>\n",
       "    <tr>\n",
       "      <th>Trucks</th>\n",
       "      <td>1543765</td>\n",
       "      <td>0.56005</td>\n",
       "    </tr>\n",
       "    <tr>\n",
       "      <th>Buses</th>\n",
       "      <td>10222</td>\n",
       "      <td>0.00371</td>\n",
       "    </tr>\n",
       "    <tr>\n",
       "      <th>Motorcycle</th>\n",
       "      <td>83220</td>\n",
       "      <td>0.03019</td>\n",
       "    </tr>\n",
       "    <tr>\n",
       "      <th>All Motor Vehicles</th>\n",
       "      <td>2756485</td>\n",
       "      <td>1.00000</td>\n",
       "    </tr>\n",
       "  </tbody>\n",
       "</table>\n",
       "</div>"
      ],
      "text/plain": [
       "                    Statewide number of vehicles  \\\n",
       "Automobiles                              1119278   \n",
       "Trucks                                   1543765   \n",
       "Buses                                      10222   \n",
       "Motorcycle                                 83220   \n",
       "All Motor Vehicles                       2756485   \n",
       "\n",
       "                    Each types relative to the total  \n",
       "Automobiles                                  0.40605  \n",
       "Trucks                                       0.56005  \n",
       "Buses                                        0.00371  \n",
       "Motorcycle                                   0.03019  \n",
       "All Motor Vehicles                           1.00000  "
      ]
     },
     "execution_count": 3,
     "metadata": {},
     "output_type": "execute_result"
    }
   ],
   "source": [
    "#1. the number of statewide vehicle and its distributions\n",
    "statewide_vehicle=df_vehicle_re.iloc[14,:]\n",
    "rows = []\n",
    "\n",
    "#int(statewide_vehicle.translate(str.maketrans('','',string.punctuation)))\n",
    "# using for loop to append values in rows\n",
    "for i in [3,6,9,12,15]:   \n",
    "\n",
    "    #if (i % ) != 0:\n",
    "        j=statewide_vehicle[i]\n",
    "        j=int(j.translate(str.maketrans('','',string.punctuation)))\n",
    "\n",
    "        #j=str(j)\n",
    "        rows.append(j)\n",
    "\n",
    "        \n",
    "# converting the list into DataFrame\n",
    "df_vehicle = pd.DataFrame(rows, columns=[\"Statewide number of vehicles\"]) \n",
    "df_vehicle.index =[\"Automobiles\",\" Buses\", \"Trucks\", \"Motorcycle\", \"All Motor Vehicles\"]\n",
    "\n",
    "#ratio of each statewide vehicle to that of total\n",
    "ra=0\n",
    "rows = []\n",
    "def ratio(local, state):\n",
    "    return round(local/state,5)\n",
    "    \n",
    "for i in range(0,5):\n",
    "    ra=ratio(df_vehicle.iloc[i,0],df_vehicle.iloc[4,0])\n",
    "    rows.append(ra)\n",
    "    \n",
    "#add a list directly to the dataframe\n",
    "df_vehicle['Each types relative to the total'] = rows\n",
    "\n",
    "\n",
    "#swapping the rows of buses and trucks\n",
    "# Strip leading and trailing whitespace from row labels\n",
    "df_vehicle.index = df_vehicle.index.str.strip()\n",
    "\n",
    "# Swap the indices and rows\n",
    "df_vehicle = df_vehicle.reindex([\"Automobiles\", \"Trucks\", \"Buses\", \"Motorcycle\", \"All Motor Vehicles\"])\n",
    "\n",
    "# Display the updated DataFrame\n",
    "df_vehicle\n",
    "df_vehicle.to_csv('C:/Users/peiyaozhao/Documents/GitHub/tracking-msa-ghg/data/tidy/vehicle-number-distribution.csv')\n",
    "\n",
    "df_vehicle"
   ]
  },
  {
   "cell_type": "code",
   "execution_count": 8,
   "id": "0ebe83dc-1687-4905-b44d-51ec8ad2bb02",
   "metadata": {
    "tags": []
   },
   "outputs": [
    {
     "name": "stderr",
     "output_type": "stream",
     "text": [
      "C:\\Users\\peiyaozhao\\AppData\\Local\\anaconda3\\Lib\\site-packages\\seaborn\\_oldcore.py:1498: FutureWarning: is_categorical_dtype is deprecated and will be removed in a future version. Use isinstance(dtype, CategoricalDtype) instead\n",
      "  if pd.api.types.is_categorical_dtype(vector):\n",
      "C:\\Users\\peiyaozhao\\AppData\\Local\\anaconda3\\Lib\\site-packages\\seaborn\\_oldcore.py:1498: FutureWarning: is_categorical_dtype is deprecated and will be removed in a future version. Use isinstance(dtype, CategoricalDtype) instead\n",
      "  if pd.api.types.is_categorical_dtype(vector):\n",
      "C:\\Users\\peiyaozhao\\AppData\\Local\\anaconda3\\Lib\\site-packages\\seaborn\\_oldcore.py:1498: FutureWarning: is_categorical_dtype is deprecated and will be removed in a future version. Use isinstance(dtype, CategoricalDtype) instead\n",
      "  if pd.api.types.is_categorical_dtype(vector):\n"
     ]
    },
    {
     "data": {
      "image/png": "[encoded data removed]",
      "text/plain": [
       "<Figure size 640x480 with 1 Axes>"
      ]
     },
     "metadata": {},
     "output_type": "display_data"
    }
   ],
   "source": [
    "data = [['Automobiles', 1119278], ['Trucks', 1543765], ['Buses', 10222],['Motorcycle', 83220]]\n",
    "df_vehicle_0 = pd.DataFrame(data, columns=['Vehicle Types', 'Number of Vehicles'])\n",
    "\n",
    "g1=sns.barplot(data=df_vehicle_0, x=\"Vehicle Types\", y=\"Number of Vehicles\")\n",
    "sns.set(font_scale=1.5)\n",
    "g1.set(ylabel=\"Vehicle Number\")\n",
    "g1.yaxis.set_label_coords(-0.2, 0.5) \n",
    "g1.set_xlabel(None)\n",
    "#g1.set_xticklabels(g1.get_xticklabels(),rotation=0, fontsize=12)\n",
    "g1.xaxis.labelpad = 15  # Adjust the padding value as needed\n",
    "g1.yaxis.set_major_formatter(StrMethodFormatter('{x:.0f}'))\n",
    "g1.yaxis.set_major_formatter(ScalarFormatter(useMathText=True))#formatting the y-axis large number\n",
    "\n",
    "\n",
    "# Show the plot\n",
    "#plt.show()\n",
    "plt.savefig('../../../figures/vehicle-number-distribution.png', dpi=600,bbox_inches='tight')"
   ]
  },
  {
   "cell_type": "code",
   "execution_count": 9,
   "id": "794a4e9a-7484-4f47-8e00-86a810880a0d",
   "metadata": {
    "tags": []
   },
   "outputs": [],
   "source": [
    "df_MSA_DVMT_0=df_MSA_DVMT.iloc[0:10,16]\n",
    "df_MSA_DVMT_1=df_MSA_DVMT.iloc[1:10,16]\n",
    "\n",
    "df_MSA_DVMT_1=df_MSA_DVMT_1.to_frame()\n",
    "# Renaming columns\n",
    "df_MSA_DVMT_1.rename(columns={'Unnamed: 16': 'DVMT'}, inplace=True)\n",
    "\n",
    "# Renaming index\n",
    "df_MSA_DVMT_1.rename(index={0:'County', 1:'Fairfield', 2:'Hartford', 3:'Litchfield', 4:'Middlesex',\n",
    "       5:'New Haven', 6:'New London', 7:'Tolland', 8:'Windham', 9: 'Total'}, inplace=True)\n",
    "df_MSA_DVMT_1['MSA']=['Bridgeport-Stamford-Norwalk','Hartford-East Hartford-Middletown','Torrington','Hartford-East Hartford-Middletown','New Haven-Milford','Norwich-New London',\n",
    "                    'Hartford-East Hartford-Middletown','Worcester','Statewide']\n",
    "df_MSA_DVMT_1 = df_MSA_DVMT_1[['MSA', 'DVMT']].rename_axis(columns={'MSA': 'DVMT', 'DVMT': 'MSA'})#swap the columm while column index also swap\n",
    "df_MSA_DVMT_1.to_csv('C:/Users/peiyaozhao/Documents/GitHub/tracking-msa-ghg/data/tidy/DMV.csv')\n",
    "\n",
    "# Remove commas and convert the column to numeric\n",
    "df_MSA_DVMT_1['DVMT'] = df_MSA_DVMT_1['DVMT'].str.replace(',', '').astype(float)\n",
    "\n",
    "# Convert the column to numeric\n",
    "df_MSA_DVMT_1['DVMT (miles)'] = pd.to_numeric(df_MSA_DVMT_1['DVMT'], errors='coerce')\n",
    "df_MSA_DVMT_1['VMT (billion miles)'] = df_MSA_DVMT_1['DVMT']*365/1000000000 #billion miles as the unit\n",
    "df_MSA_DVMT_1\n",
    "df_MSA_DVMT_1.to_csv('../../../data/tidy/vmt-dvmt.csv')"
   ]
  },
  {
   "cell_type": "code",
   "execution_count": 12,
   "id": "ae3246c5-6930-440e-9dd5-3b569b6a9fc7",
   "metadata": {
    "tags": []
   },
   "outputs": [
    {
     "name": "stderr",
     "output_type": "stream",
     "text": [
      "C:\\Users\\peiyaozhao\\AppData\\Local\\anaconda3\\Lib\\site-packages\\seaborn\\_oldcore.py:1498: FutureWarning: is_categorical_dtype is deprecated and will be removed in a future version. Use isinstance(dtype, CategoricalDtype) instead\n",
      "  if pd.api.types.is_categorical_dtype(vector):\n",
      "C:\\Users\\peiyaozhao\\AppData\\Local\\anaconda3\\Lib\\site-packages\\seaborn\\_oldcore.py:1498: FutureWarning: is_categorical_dtype is deprecated and will be removed in a future version. Use isinstance(dtype, CategoricalDtype) instead\n",
      "  if pd.api.types.is_categorical_dtype(vector):\n",
      "C:\\Users\\peiyaozhao\\AppData\\Local\\anaconda3\\Lib\\site-packages\\seaborn\\_oldcore.py:1498: FutureWarning: is_categorical_dtype is deprecated and will be removed in a future version. Use isinstance(dtype, CategoricalDtype) instead\n",
      "  if pd.api.types.is_categorical_dtype(vector):\n"
     ]
    },
    {
     "data": {
      "image/png": "[encoded data removed]",
      "text/plain": [
       "<Figure size 600x400 with 1 Axes>"
      ]
     },
     "metadata": {},
     "output_type": "display_data"
    }
   ],
   "source": [
    "#remove the comma and convert the string to the int for all the data in that vmt list\n",
    "rows=[]\n",
    "\n",
    "for i in range(1,10):\n",
    "    j=int(df_MSA_DVMT_0[i].translate(str.maketrans('','',string.punctuation)))\n",
    "    rows.append(j)\n",
    "    \n",
    "#Calculate the total number of VMT in each MSAs\n",
    "New_haven_msa_dvmt=rows[4]\n",
    "Hartford_msa_dvmt=rows[1]+rows[3]+rows[6]\n",
    "Bridgeport_msa_dvmt=rows[1]\n",
    "\n",
    "#annual vmt\n",
    "\n",
    "def vmt(dvmt):\n",
    "    return dvmt*365\n",
    "\n",
    "New_haven_msa_vmt=vmt(New_haven_msa_dvmt)\n",
    "Hartford_msa_vmt=vmt(Hartford_msa_dvmt)\n",
    "Bridgeport_msa_vmt=vmt(Bridgeport_msa_dvmt)\n",
    "\n",
    "Total=New_haven_msa_vmt+Hartford_msa_vmt+Bridgeport_msa_vmt\n",
    "New_haven_msa_re=round(New_haven_msa_vmt/Total*100,2)\n",
    "Hartford_msa_re=round(Hartford_msa_vmt/Total*100,2)\n",
    "Bridgeport_msa_re=round(Bridgeport_msa_vmt/Total*100,2)\n",
    "\n",
    "data = [['New Haven-Milford', New_haven_msa_vmt/1000000000], ['Hartford-East Hartford-Middletown', Hartford_msa_vmt/1000000000], ['Bridgeport-Stamford-Norwalk', Bridgeport_msa_vmt/1000000000]]\n",
    "df_vmt = pd.DataFrame(data, columns=['MSA', 'VMT(billion miles)'])\n",
    "ratio = [New_haven_msa_re,Hartford_msa_re,Bridgeport_msa_re]\n",
    "\n",
    "# set the size of the image\n",
    "plt.figure(figsize=(6, 4)) \n",
    "#plot the MSA and vmt data\n",
    "g1=sns.barplot(data=df_vmt, x=\"VMT(billion miles)\", y=\"MSA\")\n",
    "\n",
    "#for i, row in enumerate(df_vmt.itertuples()):\n",
    "    #plt.annotate(f' {ratio[i]}%',  # Text to display\n",
    "                 #(row._2, i),  # Position of the text (x, y)\n",
    "                 #textcoords=\"offset points\",  # Offset text position\n",
    "                 #xytext=(10, 0),  # Offset in points (tune this for better placement)\n",
    "                 #ha='left')  # Horizontal alignment ('center' for centered text)\n",
    "sns.set(font_scale=1.5)\n",
    "g1.set(ylabel=None)\n",
    "g1.set_xlabel(\"VMT (billion miles)\")\n",
    "#g1.set_xticklabels(g1.get_xticklabels(),rotation=0, fontsize=12)\n",
    "g1.xaxis.labelpad = 15  # Adjust the padding value as needed\n",
    "plt.savefig('../../../figures/VMT-MSA.png', dpi=600,bbox_inches='tight')"
   ]
  },
  {
   "cell_type": "code",
   "execution_count": 13,
   "id": "e7f60637-a2af-497e-94d4-c5902d914247",
   "metadata": {
    "tags": []
   },
   "outputs": [
    {
     "name": "stderr",
     "output_type": "stream",
     "text": [
      "C:\\Users\\peiyaozhao\\AppData\\Local\\Temp\\ipykernel_23080\\1633536096.py:8: FutureWarning: Series.__getitem__ treating keys as positions is deprecated. In a future version, integer keys will always be treated as labels (consistent with DataFrame behavior). To access a value by position, use `ser.iloc[pos]`\n",
      "  msa_type_vmt=veh_msa(df_vehicle['Each types relative to the total'][j],df_vmt['VMT(billion miles)'][i])\n"
     ]
    }
   ],
   "source": [
    "def veh_msa(veh_type,vmt):\n",
    "    return veh_type*vmt\n",
    "\n",
    "rows=[]\n",
    "\n",
    "for i in range(0,3):\n",
    "    for j in range (0,4):\n",
    "        msa_type_vmt=veh_msa(df_vehicle['Each types relative to the total'][j],df_vmt['VMT(billion miles)'][i])\n",
    "        rows.append(msa_type_vmt)"
   ]
  },
  {
   "cell_type": "code",
   "execution_count": 15,
   "id": "87af648d-112a-4577-ac03-5bbdf2a0901c",
   "metadata": {
    "tags": []
   },
   "outputs": [],
   "source": [
    "data = []\n",
    "\n",
    "# Define the repetitive names and the number of times you want to repeat them\n",
    "names = [\"New Haven-Milford\", \"Hartford-East Hartford-Middletown\", \"Bridgeport-Stamford-Norwalk\"]\n",
    "repeat_times = 4  # You can change this to the desired number of repetitions\n",
    "\n",
    "        \n",
    "# Use a for loop to construct dictionaries and append them to the list\n",
    "for name in names:\n",
    "    for _ in range(repeat_times):\n",
    "        data.append({\"MSA\": name})\n",
    "\n",
    "# Create DataFrame from the list of dictionaries\n",
    "df_msa_veh_vmt = pd.DataFrame(data)\n",
    "\n",
    "# List of names to add to the new column\n",
    "names = [\"Automobiles\",\" Trucks\", \"Buses\", \"Motorcycle\"]\n",
    "total_rows = 12\n",
    "\n",
    "# Use a for loop to add names into a new column and repeat them\n",
    "name_column = []\n",
    "for i in range(total_rows):\n",
    "    name = names[i % len(names)]  # Use modulo to cycle through the names list\n",
    "    name_column.append(name)\n",
    "\n",
    "df_msa_veh_vmt['Vehicle Type'] = name_column\n",
    "\n",
    "#attach the vmt list to the dataframe\n",
    "df_msa_veh_vmt['VMT(billion miles)']=rows"
   ]
  },
  {
   "cell_type": "code",
   "execution_count": 16,
   "id": "7541cd25-2dfe-436e-97b8-2872b4c1a4f0",
   "metadata": {
    "tags": []
   },
   "outputs": [
    {
     "data": {
      "text/html": [
       "<div>\n",
       "<style scoped>\n",
       "    .dataframe tbody tr th:only-of-type {\n",
       "        vertical-align: middle;\n",
       "    }\n",
       "\n",
       "    .dataframe tbody tr th {\n",
       "        vertical-align: top;\n",
       "    }\n",
       "\n",
       "    .dataframe thead th {\n",
       "        text-align: right;\n",
       "    }\n",
       "</style>\n",
       "<table border=\"1\" class=\"dataframe\">\n",
       "  <thead>\n",
       "    <tr style=\"text-align: right;\">\n",
       "      <th></th>\n",
       "      <th>MSA</th>\n",
       "      <th>Vehicle Type</th>\n",
       "      <th>VMT(billion miles)</th>\n",
       "    </tr>\n",
       "  </thead>\n",
       "  <tbody>\n",
       "    <tr>\n",
       "      <th>0</th>\n",
       "      <td>New Haven-Milford</td>\n",
       "      <td>Automobiles</td>\n",
       "      <td>2.806571</td>\n",
       "    </tr>\n",
       "    <tr>\n",
       "      <th>1</th>\n",
       "      <td>New Haven-Milford</td>\n",
       "      <td>Trucks</td>\n",
       "      <td>3.871001</td>\n",
       "    </tr>\n",
       "    <tr>\n",
       "      <th>2</th>\n",
       "      <td>New Haven-Milford</td>\n",
       "      <td>Buses</td>\n",
       "      <td>0.025643</td>\n",
       "    </tr>\n",
       "    <tr>\n",
       "      <th>3</th>\n",
       "      <td>New Haven-Milford</td>\n",
       "      <td>Motorcycle</td>\n",
       "      <td>0.208670</td>\n",
       "    </tr>\n",
       "    <tr>\n",
       "      <th>4</th>\n",
       "      <td>Hartford-East Hartford-Middletown</td>\n",
       "      <td>Automobiles</td>\n",
       "      <td>4.251105</td>\n",
       "    </tr>\n",
       "    <tr>\n",
       "      <th>5</th>\n",
       "      <td>Hartford-East Hartford-Middletown</td>\n",
       "      <td>Trucks</td>\n",
       "      <td>5.863394</td>\n",
       "    </tr>\n",
       "    <tr>\n",
       "      <th>6</th>\n",
       "      <td>Hartford-East Hartford-Middletown</td>\n",
       "      <td>Buses</td>\n",
       "      <td>0.038842</td>\n",
       "    </tr>\n",
       "    <tr>\n",
       "      <th>7</th>\n",
       "      <td>Hartford-East Hartford-Middletown</td>\n",
       "      <td>Motorcycle</td>\n",
       "      <td>0.316072</td>\n",
       "    </tr>\n",
       "    <tr>\n",
       "      <th>8</th>\n",
       "      <td>Bridgeport-Stamford-Norwalk</td>\n",
       "      <td>Automobiles</td>\n",
       "      <td>2.998582</td>\n",
       "    </tr>\n",
       "    <tr>\n",
       "      <th>9</th>\n",
       "      <td>Bridgeport-Stamford-Norwalk</td>\n",
       "      <td>Trucks</td>\n",
       "      <td>4.135835</td>\n",
       "    </tr>\n",
       "    <tr>\n",
       "      <th>10</th>\n",
       "      <td>Bridgeport-Stamford-Norwalk</td>\n",
       "      <td>Buses</td>\n",
       "      <td>0.027397</td>\n",
       "    </tr>\n",
       "    <tr>\n",
       "      <th>11</th>\n",
       "      <td>Bridgeport-Stamford-Norwalk</td>\n",
       "      <td>Motorcycle</td>\n",
       "      <td>0.222946</td>\n",
       "    </tr>\n",
       "  </tbody>\n",
       "</table>\n",
       "</div>"
      ],
      "text/plain": [
       "                                  MSA Vehicle Type  VMT(billion miles)\n",
       "0                   New Haven-Milford  Automobiles            2.806571\n",
       "1                   New Haven-Milford       Trucks            3.871001\n",
       "2                   New Haven-Milford        Buses            0.025643\n",
       "3                   New Haven-Milford   Motorcycle            0.208670\n",
       "4   Hartford-East Hartford-Middletown  Automobiles            4.251105\n",
       "5   Hartford-East Hartford-Middletown       Trucks            5.863394\n",
       "6   Hartford-East Hartford-Middletown        Buses            0.038842\n",
       "7   Hartford-East Hartford-Middletown   Motorcycle            0.316072\n",
       "8         Bridgeport-Stamford-Norwalk  Automobiles            2.998582\n",
       "9         Bridgeport-Stamford-Norwalk       Trucks            4.135835\n",
       "10        Bridgeport-Stamford-Norwalk        Buses            0.027397\n",
       "11        Bridgeport-Stamford-Norwalk   Motorcycle            0.222946"
      ]
     },
     "execution_count": 16,
     "metadata": {},
     "output_type": "execute_result"
    }
   ],
   "source": [
    "df_msa_veh_vmt"
   ]
  },
  {
   "cell_type": "code",
   "execution_count": 18,
   "id": "e43126ac-e875-410f-81dc-f7e6b02e398e",
   "metadata": {
    "tags": []
   },
   "outputs": [
    {
     "name": "stderr",
     "output_type": "stream",
     "text": [
      "C:\\Users\\peiyaozhao\\AppData\\Local\\anaconda3\\Lib\\site-packages\\seaborn\\_oldcore.py:1498: FutureWarning: is_categorical_dtype is deprecated and will be removed in a future version. Use isinstance(dtype, CategoricalDtype) instead\n",
      "  if pd.api.types.is_categorical_dtype(vector):\n",
      "C:\\Users\\peiyaozhao\\AppData\\Local\\anaconda3\\Lib\\site-packages\\seaborn\\_oldcore.py:1498: FutureWarning: is_categorical_dtype is deprecated and will be removed in a future version. Use isinstance(dtype, CategoricalDtype) instead\n",
      "  if pd.api.types.is_categorical_dtype(vector):\n",
      "C:\\Users\\peiyaozhao\\AppData\\Local\\anaconda3\\Lib\\site-packages\\seaborn\\_oldcore.py:1498: FutureWarning: is_categorical_dtype is deprecated and will be removed in a future version. Use isinstance(dtype, CategoricalDtype) instead\n",
      "  if pd.api.types.is_categorical_dtype(vector):\n",
      "C:\\Users\\peiyaozhao\\AppData\\Local\\anaconda3\\Lib\\site-packages\\seaborn\\_oldcore.py:1498: FutureWarning: is_categorical_dtype is deprecated and will be removed in a future version. Use isinstance(dtype, CategoricalDtype) instead\n",
      "  if pd.api.types.is_categorical_dtype(vector):\n"
     ]
    },
    {
     "data": {
      "image/png": "[encoded data removed]",
      "text/plain": [
       "<Figure size 1000x800 with 1 Axes>"
      ]
     },
     "metadata": {},
     "output_type": "display_data"
    }
   ],
   "source": [
    "# Create a multiple bar plot using Seaborn\n",
    "plt.figure(figsize=(10, 8))\n",
    "sns.set(font_scale=1.5)\n",
    "sns.barplot(x='VMT(billion miles)', y='MSA', hue='Vehicle Type', data=df_msa_veh_vmt)\n",
    "\n",
    "# Add labels and a legend\n",
    "plt.xlabel('VMT (billion miles)',labelpad=20)\n",
    "plt.gca().set_ylabel('')# delete ylabel\n",
    "plt.legend(title='Vehicle Type')\n",
    "plt.savefig('../../../figures/vehicle-type-number.png', dpi=600,bbox_inches='tight')"
   ]
  },
  {
   "cell_type": "code",
   "execution_count": 19,
   "id": "6c5e7fd2-3b7b-479d-ab4f-a3932700a527",
   "metadata": {
    "tags": []
   },
   "outputs": [
    {
     "name": "stderr",
     "output_type": "stream",
     "text": [
      "C:\\Users\\peiyaozhao\\AppData\\Local\\Temp\\ipykernel_23080\\1509200751.py:11: FutureWarning: Styler.applymap has been deprecated. Use Styler.map instead.\n",
      "  styled_car_mpg = car_mpg.style.applymap(center_align)\n"
     ]
    },
    {
     "data": {
      "text/html": [
       "<style type=\"text/css\">\n",
       "#T_fb17f_row0_col0, #T_fb17f_row0_col1, #T_fb17f_row0_col2, #T_fb17f_row0_col3, #T_fb17f_row0_col4, #T_fb17f_row1_col0, #T_fb17f_row1_col1, #T_fb17f_row1_col2, #T_fb17f_row1_col3, #T_fb17f_row1_col4 {\n",
       "  text-align: center;\n",
       "}\n",
       "</style>\n",
       "<table id=\"T_fb17f\">\n",
       "  <thead>\n",
       "    <tr>\n",
       "      <th class=\"blank level0\" >&nbsp;</th>\n",
       "      <th id=\"T_fb17f_level0_col0\" class=\"col_heading level0 col0\" >Passenger_car</th>\n",
       "      <th id=\"T_fb17f_level0_col1\" class=\"col_heading level0 col1\" >Light_truck</th>\n",
       "      <th id=\"T_fb17f_level0_col2\" class=\"col_heading level0 col2\" >Heavy_duty</th>\n",
       "      <th id=\"T_fb17f_level0_col3\" class=\"col_heading level0 col3\" >Motorcycle</th>\n",
       "      <th id=\"T_fb17f_level0_col4\" class=\"col_heading level0 col4\" >Emission_factor (kg CO2/gallon)</th>\n",
       "    </tr>\n",
       "  </thead>\n",
       "  <tbody>\n",
       "    <tr>\n",
       "      <th id=\"T_fb17f_level0_row0\" class=\"row_heading level0 row0\" >Gasoline</th>\n",
       "      <td id=\"T_fb17f_row0_col0\" class=\"data row0 col0\" >24.1</td>\n",
       "      <td id=\"T_fb17f_row0_col1\" class=\"data row0 col1\" >18.5</td>\n",
       "      <td id=\"T_fb17f_row0_col2\" class=\"data row0 col2\" >10.13</td>\n",
       "      <td id=\"T_fb17f_row0_col3\" class=\"data row0 col3\" >50</td>\n",
       "      <td id=\"T_fb17f_row0_col4\" class=\"data row0 col4\" >8.78</td>\n",
       "    </tr>\n",
       "    <tr>\n",
       "      <th id=\"T_fb17f_level0_row1\" class=\"row_heading level0 row1\" >Diesel</th>\n",
       "      <td id=\"T_fb17f_row1_col0\" class=\"data row1 col0\" >32.4</td>\n",
       "      <td id=\"T_fb17f_row1_col1\" class=\"data row1 col1\" >22.1</td>\n",
       "      <td id=\"T_fb17f_row1_col2\" class=\"data row1 col2\" >12.96</td>\n",
       "      <td id=\"T_fb17f_row1_col3\" class=\"data row1 col3\" >NA</td>\n",
       "      <td id=\"T_fb17f_row1_col4\" class=\"data row1 col4\" >10.21</td>\n",
       "    </tr>\n",
       "  </tbody>\n",
       "</table>\n"
      ],
      "text/plain": [
       "<pandas.io.formats.style.Styler at 0x23018ff2dd0>"
      ]
     },
     "execution_count": 19,
     "metadata": {},
     "output_type": "execute_result"
    }
   ],
   "source": [
    "#this table comes from the LGGIT TOOL: community module\n",
    "car_mpg = pd.DataFrame(np.array([[24.1, 18.5, 10.13, 50, 8.78], [32.4, 22.1, 12.96, 'NA', 10.21]]),\n",
    "                   columns=['Passenger_car', 'Light_truck', 'Heavy_duty', 'Motorcycle', 'Emission_factor (kg CO2/gallon)'])\n",
    "car_mpg.index = ['Gasoline', 'Diesel']\n",
    "\n",
    "# Define a function to center-align the text\n",
    "def center_align(val):\n",
    "    return 'text-align: center'\n",
    "\n",
    "# Apply the center-align style to the entire DataFrame\n",
    "styled_car_mpg = car_mpg.style.applymap(center_align)\n",
    "\n",
    "# Display the centered DataFrame\n",
    "styled_car_mpg"
   ]
  },
  {
   "cell_type": "code",
   "execution_count": 20,
   "id": "59da4239-b0ac-421d-bbf1-f141ce89c4dd",
   "metadata": {
    "tags": []
   },
   "outputs": [],
   "source": [
    "car_mpg.to_csv('../../../data/tidy/mpg.csv')"
   ]
  },
  {
   "cell_type": "code",
   "execution_count": 32,
   "id": "8beb4537-1e44-4bd6-a7a3-f872d890c2c7",
   "metadata": {},
   "outputs": [
    {
     "name": "stderr",
     "output_type": "stream",
     "text": [
      "C:\\Users\\peiyaozhao\\AppData\\Local\\Temp\\ipykernel_23080\\2341391479.py:13: FutureWarning: Styler.applymap has been deprecated. Use Styler.map instead.\n",
      "  styled_car_mpg = car_mpg.style.applymap(center_align)\n"
     ]
    }
   ],
   "source": [
    "#Calculate the fuel consumption using existing vmt data\n",
    "#Assumptions: passenger car represents automobile; light-trucks represents trucks; heavy-duty\n",
    "#represents buses\n",
    "car_mpg = pd.DataFrame(np.array([[24.1, 18.5, 10.13, 50, 8.78], [32.4, 22.1, 12.96, 'NA', 10.21]]),\n",
    "                   columns=['Automobiles', 'Trucks', 'Buses', 'Motorcycle', 'Emission_factor (kg CO2/gallon)'])\n",
    "car_mpg.index = ['gasoline', 'diesel']\n",
    "\n",
    "# Define a function to center-align the text\n",
    "def center_align(val):\n",
    "    return 'text-align: center'\n",
    "\n",
    "# Apply the center-align style to the entire DataFrame\n",
    "styled_car_mpg = car_mpg.style.applymap(center_align)\n"
   ]
  },
  {
   "cell_type": "code",
   "execution_count": 33,
   "id": "0f3f9ed4-245c-43ed-9e96-514b5339da39",
   "metadata": {
    "tags": []
   },
   "outputs": [],
   "source": [
    "# List of names to add to the new column\n",
    "gasoline_mpg = [24.1, 18.5, 10.13, 50]\n",
    "total_rows = 12\n",
    "\n",
    "# Use a for loop to add names into a new column and repeat them\n",
    "gasompg_column = []\n",
    "for i in range(total_rows):\n",
    "    gaso_mpg = gasoline_mpg[i % len(gasoline_mpg)]  # Use modulo to cycle through the names list\n",
    "    gasompg_column.append(gaso_mpg)\n",
    "\n",
    "df_msa_veh_vmt['Gasoline MPG (miles per gallon)'] = gasompg_column\n",
    "\n",
    "# List of names to add to the new column\n",
    "diesel_mpg = [32.4, 22.1, 12.96, 0]\n",
    "total_rows = 12\n",
    "\n",
    "# Use a for loop to add names into a new column and repeat them\n",
    "diempg_column = []\n",
    "for i in range(total_rows):\n",
    "    dies_mpg = diesel_mpg[i % len(gasoline_mpg)]  # Use modulo to cycle through the names list\n",
    "    diempg_column.append(dies_mpg)\n",
    "\n",
    "df_msa_veh_vmt['Diesel MPG (miles per gallon)'] = diempg_column\n",
    "\n",
    "\n",
    "df_msa_veh_vmt['CO2 Gasoline Emission Factor (kg CO2/gallon)'] = 8.78\n",
    "df_msa_veh_vmt['CO2 Diesel Emission Factor (kg CO2/gallon)'] = 10.21\n",
    "\n",
    "#obtain from the emission hub\n",
    "emi_fac = pd.DataFrame(np.array([[8.78,0,0,0],[10.21,0,0,0],[0.0075, 0.0105, 0.0297, 0], [0.0067, 0.0064, 0.0083, 0],[0.0005,0.0009,0.0051,0],[0.001,0.0014,0.0048,0]]),\n",
    "                   columns=['Automobiles', 'Trucks', 'Buses', 'Motorcycle'])\n",
    "emi_fac.index = ['gasoline_CO2','diesel_CO2','gasoline_CH4', 'gasoline_N2O','diesel_CH4', 'diesel_N2O']"
   ]
  },
  {
   "cell_type": "code",
   "execution_count": 34,
   "id": "808f4ba1-0f0f-4082-a0f8-e7821584ea9d",
   "metadata": {
    "tags": []
   },
   "outputs": [],
   "source": [
    "emi_fac = pd.DataFrame(np.array([[8.78, 8.78, 8.78, 8.78], [0.0075, 0.0105, 0.0297, 'NA'], [0.0067, 0.0064, 0.0083, 'NA'],[10.21, 10.21, 10.21, 'NA'], [0.0005, 0.0009, 0.0051, 'NA'], [0.001, 0.0014, 0.0048, 'NA']]),\n",
    "                   columns=['Automobiles', 'Trucks', 'Buses', 'Motorcycle'])\n",
    "emi_fac.index = ['Gasoline_CO2', 'Gasoline_CH4', 'Gasoline_N2O', 'Diesel_CO2','Diesel_CH4', 'Diesel_N2O']\n",
    "emi_fac=emi_fac.transpose()\n",
    "emi_fac.to_csv('../../../data/tidy/vehicle-fuel-emission-factor.csv')"
   ]
  },
  {
   "cell_type": "code",
   "execution_count": 35,
   "id": "d775a579-48d4-4d39-9c71-5c5b7f03fac0",
   "metadata": {
    "tags": []
   },
   "outputs": [
    {
     "data": {
      "text/html": [
       "<div>\n",
       "<style scoped>\n",
       "    .dataframe tbody tr th:only-of-type {\n",
       "        vertical-align: middle;\n",
       "    }\n",
       "\n",
       "    .dataframe tbody tr th {\n",
       "        vertical-align: top;\n",
       "    }\n",
       "\n",
       "    .dataframe thead th {\n",
       "        text-align: right;\n",
       "    }\n",
       "</style>\n",
       "<table border=\"1\" class=\"dataframe\">\n",
       "  <thead>\n",
       "    <tr style=\"text-align: right;\">\n",
       "      <th></th>\n",
       "      <th>Gasoline_CO2</th>\n",
       "      <th>Gasoline_CH4</th>\n",
       "      <th>Gasoline_N2O</th>\n",
       "      <th>Diesel_CO2</th>\n",
       "      <th>Diesel_CH4</th>\n",
       "      <th>Diesel_N2O</th>\n",
       "    </tr>\n",
       "  </thead>\n",
       "  <tbody>\n",
       "    <tr>\n",
       "      <th>Automobiles</th>\n",
       "      <td>8.78</td>\n",
       "      <td>0.0075</td>\n",
       "      <td>0.0067</td>\n",
       "      <td>10.21</td>\n",
       "      <td>0.0005</td>\n",
       "      <td>0.001</td>\n",
       "    </tr>\n",
       "    <tr>\n",
       "      <th>Trucks</th>\n",
       "      <td>8.78</td>\n",
       "      <td>0.0105</td>\n",
       "      <td>0.0064</td>\n",
       "      <td>10.21</td>\n",
       "      <td>0.0009</td>\n",
       "      <td>0.0014</td>\n",
       "    </tr>\n",
       "    <tr>\n",
       "      <th>Buses</th>\n",
       "      <td>8.78</td>\n",
       "      <td>0.0297</td>\n",
       "      <td>0.0083</td>\n",
       "      <td>10.21</td>\n",
       "      <td>0.0051</td>\n",
       "      <td>0.0048</td>\n",
       "    </tr>\n",
       "    <tr>\n",
       "      <th>Motorcycle</th>\n",
       "      <td>8.78</td>\n",
       "      <td>NA</td>\n",
       "      <td>NA</td>\n",
       "      <td>NA</td>\n",
       "      <td>NA</td>\n",
       "      <td>NA</td>\n",
       "    </tr>\n",
       "  </tbody>\n",
       "</table>\n",
       "</div>"
      ],
      "text/plain": [
       "            Gasoline_CO2 Gasoline_CH4 Gasoline_N2O Diesel_CO2 Diesel_CH4  \\\n",
       "Automobiles         8.78       0.0075       0.0067      10.21     0.0005   \n",
       "Trucks              8.78       0.0105       0.0064      10.21     0.0009   \n",
       "Buses               8.78       0.0297       0.0083      10.21     0.0051   \n",
       "Motorcycle          8.78           NA           NA         NA         NA   \n",
       "\n",
       "            Diesel_N2O  \n",
       "Automobiles      0.001  \n",
       "Trucks          0.0014  \n",
       "Buses           0.0048  \n",
       "Motorcycle          NA  "
      ]
     },
     "execution_count": 35,
     "metadata": {},
     "output_type": "execute_result"
    }
   ],
   "source": [
    "emi_fac"
   ]
  },
  {
   "cell_type": "code",
   "execution_count": 37,
   "id": "08d919a7-42c0-417d-bde4-89bd499c5d70",
   "metadata": {
    "tags": []
   },
   "outputs": [],
   "source": [
    "# List of names to add to the new column\n",
    "gasoline_ch4 = [0.0075,0.0105,0.0297,0.0]\n",
    "total_rows = 12\n",
    "\n",
    "# Use a for loop to add names into a new column and repeat them\n",
    "gasoline_ch4_column = []\n",
    "for i in range(total_rows):\n",
    "    gasoline_ch4_emi = gasoline_ch4[i % len(gasoline_mpg)]  # Use modulo to cycle through the names list\n",
    "    gasoline_ch4_column.append(gasoline_ch4_emi)\n",
    "\n",
    "df_msa_veh_vmt['CH4 Gasoline Emission Factor (g/mile)'] = gasoline_ch4_column\n",
    "\n",
    "# List of names to add to the new column\n",
    "gasoline_n20 = [0.0067,0.0064,0.0083,0.0]\n",
    "total_rows = 12\n",
    "\n",
    "# Use a for loop to add names into a new column and repeat them\n",
    "gasoline_n20_column = []\n",
    "for i in range(total_rows):\n",
    "    gasoline_n20_emi = gasoline_n20[i % len(gasoline_mpg)]  # Use modulo to cycle through the names list\n",
    "    gasoline_n20_column.append(gasoline_n20_emi)\n",
    "\n",
    "df_msa_veh_vmt['N2O Gasoline Emission Factor (g/mile)'] = gasoline_n20_column\n",
    "\n",
    "# List of names to add to the new column\n",
    "diesel_ch4 = [0.0005,0.0009,0.0051,0.0]\n",
    "total_rows = 12\n",
    "\n",
    "# Use a for loop to add names into a new column and repeat them\n",
    "diesel_ch4_column = []\n",
    "for i in range(total_rows):\n",
    "    diesel_ch4_emi = diesel_ch4[i % len(diesel_ch4)]  # Use modulo to cycle through the names list\n",
    "    diesel_ch4_column.append(diesel_ch4_emi)\n",
    "\n",
    "df_msa_veh_vmt['CH4 Diesel Emission Factor (g/mile)'] = diesel_ch4_column\n",
    "\n",
    "# List of names to add to the new column\n",
    "diesel_n20 = [0.0010,0.0014,0.0048,0.0]\n",
    "total_rows = 12\n",
    "\n",
    "# Use a for loop to add names into a new column and repeat them\n",
    "diesel_n20_column = []\n",
    "for i in range(total_rows):\n",
    "    diesel_n20_emi = diesel_n20[i % len(diesel_n20)]  # Use modulo to cycle through the names list\n",
    "    diesel_n20_column.append(diesel_n20_emi)\n",
    "\n",
    "df_msa_veh_vmt['N2O Diesel Emission Factor (g/mile)'] = diesel_n20_column"
   ]
  },
  {
   "cell_type": "code",
   "execution_count": 39,
   "id": "2515f72e-16b4-4559-bec1-b6985e279008",
   "metadata": {
    "tags": []
   },
   "outputs": [],
   "source": [
    "#assuming all the car use the gasoline as the fuel\n",
    "#carbon dioxide emission calculation: VMT/Gasoline MPG*Emission factor\n",
    "#CH4/N2O Calculation: VMT*emissionn factor/1000000\n",
    "df_msa_veh_vmt['CO2 Emission from Gasoline (metric ton)']=df_msa_veh_vmt['VMT(billion miles)']*10**9/df_msa_veh_vmt['Gasoline MPG (miles per gallon)']*df_msa_veh_vmt['CO2 Gasoline Emission Factor (kg CO2/gallon)']/1000\n",
    "df_msa_veh_vmt['CH4 Emission from Gasoline (metric ton)']=(df_msa_veh_vmt['VMT(billion miles)']*10**9*df_msa_veh_vmt['CH4 Gasoline Emission Factor (g/mile)']/1000000)*25\n",
    "df_msa_veh_vmt['N2O Emission from Gasoline (metric ton)']=(df_msa_veh_vmt['VMT(billion miles)']*10**9*df_msa_veh_vmt['N2O Gasoline Emission Factor (g/mile)']/1000000)*298\n",
    "df_msa_veh_vmt['GHG Emissions_Gasoline ( MMTCO2e)']=(df_msa_veh_vmt['CO2 Emission from Gasoline (metric ton)']+df_msa_veh_vmt['CH4 Emission from Gasoline (metric ton)']+df_msa_veh_vmt['N2O Emission from Gasoline (metric ton)'])/1000000"
   ]
  },
  {
   "cell_type": "code",
   "execution_count": 40,
   "id": "0a423669-cf8f-4b9e-9d92-8611559c5958",
   "metadata": {
    "tags": []
   },
   "outputs": [],
   "source": [
    "#calculation of diesel\n",
    "df_msa_veh_vmt['CO2 Emission from Diesel (metric ton)']=df_msa_veh_vmt['VMT(billion miles)']*10**9/df_msa_veh_vmt['Diesel MPG (miles per gallon)']*df_msa_veh_vmt['CO2 Diesel Emission Factor (kg CO2/gallon)']/1000\n",
    "df_msa_veh_vmt['CH4 Emission from Diesel (metric ton)']=(df_msa_veh_vmt['VMT(billion miles)']*10**9*df_msa_veh_vmt['CH4 Diesel Emission Factor (g/mile)']/1000000)*25\n",
    "df_msa_veh_vmt['N2O Emission from Diesel (metric ton)']=(df_msa_veh_vmt['VMT(billion miles)']*10**9*df_msa_veh_vmt['N2O Diesel Emission Factor (g/mile)']/1000000)*298\n",
    "df_msa_veh_vmt['GHG Emissions_Diesel ( MMTCO2e)']=(df_msa_veh_vmt['CO2 Emission from Diesel (metric ton)']+df_msa_veh_vmt['CH4 Emission from Diesel (metric ton)']+df_msa_veh_vmt['N2O Emission from Diesel (metric ton)'])/1000000"
   ]
  },
  {
   "cell_type": "code",
   "execution_count": 44,
   "id": "1cb2a9ad-1aaa-4f0e-8207-ae66189e1653",
   "metadata": {
    "tags": []
   },
   "outputs": [],
   "source": [
    "df_msa_veh_vmt.replace([np.inf, -np.inf], 0, inplace=True)#replace all the inf into zero\n",
    "\n",
    "selected_columns = ['MSA', 'Vehicle Type', 'VMT(billion miles)','CO2 Emission from Gasoline (metric ton)', 'CH4 Emission from Gasoline (metric ton)',\n",
    "                   'N2O Emission from Gasoline (metric ton)','CO2 Emission from Diesel (metric ton)','CH4 Emission from Diesel (metric ton)','N2O Emission from Diesel (metric ton)',\n",
    "                   ]\n",
    "new_df_msa_veh_vmt = df_msa_veh_vmt[selected_columns]"
   ]
  },
  {
   "cell_type": "code",
   "execution_count": 46,
   "id": "618528aa-2148-4382-9367-b545754df2bc",
   "metadata": {
    "tags": []
   },
   "outputs": [],
   "source": [
    "# Define the rows you want to sum\n",
    "rows_to_sum_HM = [0, 1, 2, 3]  # Replace with the row indices you want to sum\n",
    "rows_to_sum_HH = [4, 5, 6, 7]\n",
    "rows_to_sum_BSN = [8, 9, 10, 11]\n",
    "\n",
    "# Specify the column you want to sum\n",
    "column_to_sum = 'GHG Emissions_Gasoline ( MMTCO2e)'\n",
    "\n",
    "# Calculate the sum of the selected rows in the specified column\n",
    "Total_GHG_GASO_NH = df_msa_veh_vmt.loc[rows_to_sum_HM, column_to_sum].sum()\n",
    "Total_GHG_GASO_HH = df_msa_veh_vmt.loc[rows_to_sum_HH, column_to_sum].sum()\n",
    "Total_GHG_GASO_BSN = df_msa_veh_vmt.loc[rows_to_sum_BSN, column_to_sum].sum()"
   ]
  },
  {
   "cell_type": "code",
   "execution_count": 47,
   "id": "f7398039-209e-4fc6-b730-9915c19d3115",
   "metadata": {
    "tags": []
   },
   "outputs": [],
   "source": [
    "# Specify the column you want to sum\n",
    "column_to_sum = 'GHG Emissions_Diesel ( MMTCO2e)'\n",
    "\n",
    "# Calculate the sum of the selected rows in the specified column\n",
    "Total_GHG_DIEL_NH = df_msa_veh_vmt.loc[rows_to_sum_HM, column_to_sum].sum()\n",
    "Total_GHG_DIEL_HH = df_msa_veh_vmt.loc[rows_to_sum_HH, column_to_sum].sum()\n",
    "Total_GHG_DIEL_BSN = df_msa_veh_vmt.loc[rows_to_sum_BSN, column_to_sum].sum()"
   ]
  },
  {
   "cell_type": "code",
   "execution_count": 48,
   "id": "fdcd9990-3747-4e24-9270-617762872a93",
   "metadata": {
    "tags": []
   },
   "outputs": [
    {
     "data": {
      "image/png": "[encoded data removed]",
      "text/plain": [
       "<Figure size 1000x600 with 1 Axes>"
      ]
     },
     "metadata": {},
     "output_type": "display_data"
    }
   ],
   "source": [
    "plt.figure(figsize=(10, 6))\n",
    "X = ['New Haven-Milford', 'Hartford-East Hartford-Middletown', 'Bridgeport-Stamford-Norwalk']\n",
    "Only_Gasoline = [Total_GHG_GASO_NH, Total_GHG_GASO_HH, Total_GHG_GASO_BSN]\n",
    "Only_Diesel = [Total_GHG_DIEL_NH, Total_GHG_DIEL_HH, Total_GHG_DIEL_BSN]\n",
    "\n",
    "Y_axis = np.arange(len(X))\n",
    "\n",
    "plt.barh(Y_axis -0.2, Only_Gasoline, 0.4, label='Only_Gasoline')\n",
    "plt.barh(Y_axis +0.2, Only_Diesel, 0.4, label='Only_Diesel')\n",
    "\n",
    "plt.yticks(Y_axis, X)  # Use yticks instead of xticks\n",
    "\n",
    "plt.xlabel(\"Greenhouse Gas Emissions (MMTCO2e)\",fontsize=15, labelpad=20)\n",
    "plt.xticks(fontsize=16)  # Adjust the font size as needed\n",
    "plt.yticks(fontsize=16)\n",
    "plt.legend()\n",
    "plt.show()\n"
   ]
  },
  {
   "cell_type": "code",
   "execution_count": 49,
   "id": "448ade08-3bef-4570-9725-cd183f52c42a",
   "metadata": {
    "tags": []
   },
   "outputs": [],
   "source": [
    "#calculate the emission per miles in gasoline\n",
    "emission_miles_NM=Total_GHG_GASO_NH/New_haven_msa_vmt\n",
    "emission_miles_HH=Total_GHG_GASO_HH/Hartford_msa_vmt\n",
    "emission_miles_BSN=Total_GHG_DIEL_BSN/Bridgeport_msa_vmt"
   ]
  },
  {
   "cell_type": "code",
   "execution_count": 52,
   "id": "b8930729-a532-4a10-a5fb-17cba20970bb",
   "metadata": {},
   "outputs": [],
   "source": [
    "CO2_gaso = df_msa_veh_vmt.groupby('MSA')['CO2 Emission from Gasoline (metric ton)'].sum()\n",
    "CH4_gaso = df_msa_veh_vmt.groupby('MSA')['CH4 Emission from Gasoline (metric ton)'].sum()\n",
    "N2O_gaso =df_msa_veh_vmt.groupby('MSA')['N2O Emission from Gasoline (metric ton)'].sum()\n",
    "\n",
    "CO2_diese = df_msa_veh_vmt.groupby('MSA')['CO2 Emission from Diesel (metric ton)'].sum()\n",
    "CH4_diese = df_msa_veh_vmt.groupby('MSA')['CH4 Emission from Diesel (metric ton)'].sum()\n",
    "N2O_diese =df_msa_veh_vmt.groupby('MSA')['N2O Emission from Diesel (metric ton)'].sum()"
   ]
  },
  {
   "cell_type": "code",
   "execution_count": null,
   "id": "af56192c-eb49-41cb-9b4d-5771249ac4ec",
   "metadata": {},
   "outputs": [],
   "source": []
  }
 ],
 "metadata": {
  "kernelspec": {
   "display_name": "Python 3 (ipykernel)",
   "language": "python",
   "name": "python3"
  },
  "language_info": {
   "codemirror_mode": {
    "name": "ipython",
    "version": 3
   },
   "file_extension": ".py",
   "mimetype": "text/x-python",
   "name": "python",
   "nbconvert_exporter": "python",
   "pygments_lexer": "ipython3",
   "version": "3.11.5"
  }
 },
 "nbformat": 4,
 "nbformat_minor": 5
}
