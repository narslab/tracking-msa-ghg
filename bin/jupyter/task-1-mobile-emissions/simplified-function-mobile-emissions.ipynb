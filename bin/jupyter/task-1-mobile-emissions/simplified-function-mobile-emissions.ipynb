{
 "cells": [
  {
   "cell_type": "code",
   "execution_count": 1,
   "id": "c5ac2bf3-051e-4596-be39-fc6c10637799",
   "metadata": {
    "tags": []
   },
   "outputs": [],
   "source": [
    "import pandas as pd\n",
    "import numpy as np\n",
    "import os\n",
    "import string\n",
    "import seaborn as sns\n",
    "import matplotlib.pyplot as plt\n",
    "from matplotlib.ticker import ScalarFormatter\n",
    "from matplotlib.ticker import StrMethodFormatter\n",
    "os.getcwd()\n",
    "os.chdir('C:/Users/peiyaozhao/Documents/GitHub/tracking-msa-ghg/bin/jupyter')"
   ]
  },
  {
   "cell_type": "code",
   "execution_count": 2,
   "id": "6429d582-3b25-4c77-af1f-198d3b28b3a1",
   "metadata": {
    "tags": []
   },
   "outputs": [],
   "source": [
    "#import all the files needed\n",
    "df_vehicle_re = pd.read_csv('C:/Users/peiyaozhao/Documents/GitHub/tracking-msa-ghg/data/raw/mv1.csv')\n",
    "df_MSA_DVMT = pd.read_csv('C:/Users/peiyaozhao/Documents/GitHub/tracking-msa-ghg/data/raw/Miles-and-DVMT-by-County-and-Functional-Class-2022.csv')#this generate lsit, list has no following function but have to convert it to dataframe\n",
    "df_population = pd.read_excel('C:/Users/peiyaozhao/Documents/GitHub/tracking-msa-ghg/data/raw/ACSDP5Y2021.DP05-2023-09-11T201858.xlsx', sheet_name='Data')"
   ]
  },
  {
   "cell_type": "code",
   "execution_count": 3,
   "id": "7029798a-be64-4ae6-b845-74e2dcc1ddd0",
   "metadata": {
    "tags": []
   },
   "outputs": [
    {
     "name": "stderr",
     "output_type": "stream",
     "text": [
      "C:\\Users\\peiyaozhao\\AppData\\Local\\Temp\\ipykernel_19476\\408193047.py:10: FutureWarning: Series.__getitem__ treating keys as positions is deprecated. In a future version, integer keys will always be treated as labels (consistent with DataFrame behavior). To access a value by position, use `ser.iloc[pos]`\n",
      "  j=statewide_vehicle[i]\n"
     ]
    },
    {
     "data": {
      "text/html": [
       "<div>\n",
       "<style scoped>\n",
       "    .dataframe tbody tr th:only-of-type {\n",
       "        vertical-align: middle;\n",
       "    }\n",
       "\n",
       "    .dataframe tbody tr th {\n",
       "        vertical-align: top;\n",
       "    }\n",
       "\n",
       "    .dataframe thead th {\n",
       "        text-align: right;\n",
       "    }\n",
       "</style>\n",
       "<table border=\"1\" class=\"dataframe\">\n",
       "  <thead>\n",
       "    <tr style=\"text-align: right;\">\n",
       "      <th></th>\n",
       "      <th>Statewide number of vehicles</th>\n",
       "      <th>Each types relative to the total</th>\n",
       "    </tr>\n",
       "  </thead>\n",
       "  <tbody>\n",
       "    <tr>\n",
       "      <th>Automobiles</th>\n",
       "      <td>1119278</td>\n",
       "      <td>0.40605</td>\n",
       "    </tr>\n",
       "    <tr>\n",
       "      <th>Trucks</th>\n",
       "      <td>1543765</td>\n",
       "      <td>0.56005</td>\n",
       "    </tr>\n",
       "    <tr>\n",
       "      <th>Buses</th>\n",
       "      <td>10222</td>\n",
       "      <td>0.00371</td>\n",
       "    </tr>\n",
       "    <tr>\n",
       "      <th>Motorcycle</th>\n",
       "      <td>83220</td>\n",
       "      <td>0.03019</td>\n",
       "    </tr>\n",
       "    <tr>\n",
       "      <th>All Motor Vehicles</th>\n",
       "      <td>2756485</td>\n",
       "      <td>1.00000</td>\n",
       "    </tr>\n",
       "  </tbody>\n",
       "</table>\n",
       "</div>"
      ],
      "text/plain": [
       "                    Statewide number of vehicles  \\\n",
       "Automobiles                              1119278   \n",
       "Trucks                                   1543765   \n",
       "Buses                                      10222   \n",
       "Motorcycle                                 83220   \n",
       "All Motor Vehicles                       2756485   \n",
       "\n",
       "                    Each types relative to the total  \n",
       "Automobiles                                  0.40605  \n",
       "Trucks                                       0.56005  \n",
       "Buses                                        0.00371  \n",
       "Motorcycle                                   0.03019  \n",
       "All Motor Vehicles                           1.00000  "
      ]
     },
     "execution_count": 3,
     "metadata": {},
     "output_type": "execute_result"
    }
   ],
   "source": [
    "#1. the number of statewide vehicle and its distributions\n",
    "statewide_vehicle=df_vehicle_re.iloc[14,:]\n",
    "rows = []\n",
    "\n",
    "#int(statewide_vehicle.translate(str.maketrans('','',string.punctuation)))\n",
    "# using for loop to append values in rows\n",
    "for i in [3,6,9,12,15]:   \n",
    "\n",
    "    #if (i % ) != 0:\n",
    "        j=statewide_vehicle[i]\n",
    "        j=int(j.translate(str.maketrans('','',string.punctuation)))\n",
    "\n",
    "        #j=str(j)\n",
    "        rows.append(j)\n",
    "\n",
    "        \n",
    "# converting the list into DataFrame\n",
    "df_vehicle = pd.DataFrame(rows, columns=[\"Statewide number of vehicles\"])\n",
    "df_vehicle.index =[\"Automobiles\",\" Buses\", \"Trucks\", \"Motorcycle\", \"All Motor Vehicles\"]\n",
    "\n",
    "#ratio of each statewide vehicle to that of total\n",
    "ra=0\n",
    "rows = []\n",
    "def ratio(local, state):\n",
    "    return round(local/state,5)\n",
    "    \n",
    "for i in range(0,5):\n",
    "    ra=ratio(df_vehicle.iloc[i,0],df_vehicle.iloc[4,0])\n",
    "    rows.append(ra)\n",
    "    \n",
    "#add a list directly to the dataframe\n",
    "df_vehicle['Each types relative to the total'] = rows\n",
    "\n",
    "\n",
    "#swapping the rows of buses and trucks\n",
    "# Strip leading and trailing whitespace from row labels\n",
    "df_vehicle.index = df_vehicle.index.str.strip()\n",
    "\n",
    "# Swap the indices and rows\n",
    "df_vehicle = df_vehicle.reindex([\"Automobiles\", \"Trucks\", \"Buses\", \"Motorcycle\", \"All Motor Vehicles\"])\n",
    "\n",
    "# Display the updated DataFrame\n",
    "df_vehicle\n",
    "df_vehicle.to_csv('C:/Users/peiyaozhao/Documents/GitHub/tracking-msa-ghg/data/tidy/vehicle-number-distribution.csv')\n",
    "\n",
    "df_vehicle"
   ]
  },
  {
   "cell_type": "code",
   "execution_count": 4,
   "id": "0ebe83dc-1687-4905-b44d-51ec8ad2bb02",
   "metadata": {
    "tags": []
   },
   "outputs": [
    {
     "name": "stderr",
     "output_type": "stream",
     "text": [
      "C:\\Users\\peiyaozhao\\AppData\\Local\\anaconda3\\Lib\\site-packages\\seaborn\\_oldcore.py:1498: FutureWarning: is_categorical_dtype is deprecated and will be removed in a future version. Use isinstance(dtype, CategoricalDtype) instead\n",
      "  if pd.api.types.is_categorical_dtype(vector):\n",
      "C:\\Users\\peiyaozhao\\AppData\\Local\\anaconda3\\Lib\\site-packages\\seaborn\\_oldcore.py:1498: FutureWarning: is_categorical_dtype is deprecated and will be removed in a future version. Use isinstance(dtype, CategoricalDtype) instead\n",
      "  if pd.api.types.is_categorical_dtype(vector):\n",
      "C:\\Users\\peiyaozhao\\AppData\\Local\\anaconda3\\Lib\\site-packages\\seaborn\\_oldcore.py:1498: FutureWarning: is_categorical_dtype is deprecated and will be removed in a future version. Use isinstance(dtype, CategoricalDtype) instead\n",
      "  if pd.api.types.is_categorical_dtype(vector):\n"
     ]
    },
    {
     "data": {
      "image/png": "[encoded data removed]",
      "text/plain": [
       "<Figure size 640x480 with 1 Axes>"
      ]
     },
     "metadata": {},
     "output_type": "display_data"
    }
   ],
   "source": [
    "data = [['Automobiles', 1119278], ['Trucks', 1543765], ['Buses', 10222],['Motorcycle', 83220]]\n",
    "df_vehicle_0 = pd.DataFrame(data, columns=['Vehicle Types', 'Number of Vehicles'])\n",
    "\n",
    "g1=sns.barplot(data=df_vehicle_0, x=\"Vehicle Types\", y=\"Number of Vehicles\")\n",
    "sns.set(font_scale=1.5)\n",
    "g1.set(ylabel=\"Vehicle Number\")\n",
    "g1.yaxis.set_label_coords(-0.2, 0.5) \n",
    "g1.set_xlabel(None)\n",
    "#g1.set_xticklabels(g1.get_xticklabels(),rotation=0, fontsize=12)\n",
    "g1.xaxis.labelpad = 15  # Adjust the padding value as needed\n",
    "g1.yaxis.set_major_formatter(StrMethodFormatter('{x:.0f}'))\n",
    "g1.yaxis.set_major_formatter(ScalarFormatter(useMathText=True))#formatting the y-axis large number\n",
    "\n",
    "\n",
    "# Show the plot\n",
    "#plt.show()\n",
    "plt.savefig('C:/Users/peiyaozhao/Documents/GitHub/tracking-msa-ghg/figures/vehicle-number-distribution.png', bbox_inches='tight')"
   ]
  },
  {
   "cell_type": "code",
   "execution_count": 5,
   "id": "794a4e9a-7484-4f47-8e00-86a810880a0d",
   "metadata": {
    "tags": []
   },
   "outputs": [],
   "source": [
    "df_MSA_DVMT_0=df_MSA_DVMT.iloc[0:10,16]\n",
    "df_MSA_DVMT_1=df_MSA_DVMT.iloc[1:10,16]\n",
    "\n",
    "df_MSA_DVMT_1=df_MSA_DVMT_1.to_frame()\n",
    "# Renaming columns\n",
    "df_MSA_DVMT_1.rename(columns={'Unnamed: 16': 'DVMT'}, inplace=True)\n",
    "\n",
    "# Renaming index\n",
    "df_MSA_DVMT_1.rename(index={0:'County', 1:'Fairfield', 2:'Hartford', 3:'Litchfield', 4:'Middlesex',\n",
    "       5:'New Haven', 6:'New London', 7:'Tolland', 8:'Windham', 9: 'Total'}, inplace=True)\n",
    "df_MSA_DVMT_1['MSA']=['Bridgeport-Stamford-Norwalk','Hartford-East Hartford-Middletown','Torrington','Hartford-East Hartford-Middletown','New Haven-Milford','Norwich-New London',\n",
    "                    'Hartford-East Hartford-Middletown','Worcester','Statewide']\n",
    "df_MSA_DVMT_1 = df_MSA_DVMT_1[['MSA', 'DVMT']].rename_axis(columns={'MSA': 'DVMT', 'DVMT': 'MSA'})#swap the columm while column index also swap\n",
    "df_MSA_DVMT_1.to_csv('C:/Users/peiyaozhao/Documents/GitHub/tracking-msa-ghg/data/tidy/DMV.csv')\n",
    "\n",
    "# Remove commas and convert the column to numeric\n",
    "df_MSA_DVMT_1['DVMT'] = df_MSA_DVMT_1['DVMT'].str.replace(',', '').astype(float)\n",
    "\n",
    "# Convert the column to numeric\n",
    "df_MSA_DVMT_1['DVMT (miles)'] = pd.to_numeric(df_MSA_DVMT_1['DVMT'], errors='coerce')\n",
    "df_MSA_DVMT_1['VMT (billion miles)'] = df_MSA_DVMT_1['DVMT']*365/1000000000 #billion miles as the unit\n",
    "df_MSA_DVMT_1\n",
    "df_MSA_DVMT_1.to_csv('C:/Users/peiyaozhao/Documents/GitHub/tracking-msa-ghg/data/tidy/vmt-dvmt.csv')"
   ]
  },
  {
   "cell_type": "code",
   "execution_count": 6,
   "id": "ae3246c5-6930-440e-9dd5-3b569b6a9fc7",
   "metadata": {
    "tags": []
   },
   "outputs": [
    {
     "name": "stderr",
     "output_type": "stream",
     "text": [
      "C:\\Users\\peiyaozhao\\AppData\\Local\\anaconda3\\Lib\\site-packages\\seaborn\\_oldcore.py:1498: FutureWarning: is_categorical_dtype is deprecated and will be removed in a future version. Use isinstance(dtype, CategoricalDtype) instead\n",
      "  if pd.api.types.is_categorical_dtype(vector):\n",
      "C:\\Users\\peiyaozhao\\AppData\\Local\\anaconda3\\Lib\\site-packages\\seaborn\\_oldcore.py:1498: FutureWarning: is_categorical_dtype is deprecated and will be removed in a future version. Use isinstance(dtype, CategoricalDtype) instead\n",
      "  if pd.api.types.is_categorical_dtype(vector):\n",
      "C:\\Users\\peiyaozhao\\AppData\\Local\\anaconda3\\Lib\\site-packages\\seaborn\\_oldcore.py:1498: FutureWarning: is_categorical_dtype is deprecated and will be removed in a future version. Use isinstance(dtype, CategoricalDtype) instead\n",
      "  if pd.api.types.is_categorical_dtype(vector):\n"
     ]
    },
    {
     "data": {
      "image/png": "[encoded data removed]",
      "text/plain": [
       "<Figure size 600x400 with 1 Axes>"
      ]
     },
     "metadata": {},
     "output_type": "display_data"
    }
   ],
   "source": [
    "#remove the comma and convert the string to the int for all the data in that vmt list\n",
    "rows=[]\n",
    "\n",
    "for i in range(1,10):\n",
    "    j=int(df_MSA_DVMT_0[i].translate(str.maketrans('','',string.punctuation)))\n",
    "    rows.append(j)\n",
    "    \n",
    "#Calculate the total number of VMT in each MSAs\n",
    "New_haven_msa_dvmt=rows[4]\n",
    "Hartford_msa_dvmt=rows[1]+rows[3]+rows[6]\n",
    "Bridgeport_msa_dvmt=rows[1]\n",
    "\n",
    "#annual vmt\n",
    "\n",
    "def vmt(dvmt):\n",
    "    return dvmt*365\n",
    "\n",
    "New_haven_msa_vmt=vmt(New_haven_msa_dvmt)\n",
    "Hartford_msa_vmt=vmt(Hartford_msa_dvmt)\n",
    "Bridgeport_msa_vmt=vmt(Bridgeport_msa_dvmt)\n",
    "\n",
    "Total=New_haven_msa_vmt+Hartford_msa_vmt+Bridgeport_msa_vmt\n",
    "New_haven_msa_re=round(New_haven_msa_vmt/Total*100,2)\n",
    "Hartford_msa_re=round(Hartford_msa_vmt/Total*100,2)\n",
    "Bridgeport_msa_re=round(Bridgeport_msa_vmt/Total*100,2)\n",
    "\n",
    "data = [['New Haven-Milford', New_haven_msa_vmt/1000000000], ['Hartford-East Hartford-Middletown', Hartford_msa_vmt/1000000000], ['Bridgeport-Stamford-Norwalk', Bridgeport_msa_vmt/1000000000]]\n",
    "df_vmt = pd.DataFrame(data, columns=['MSA', 'VMT(billion miles)'])\n",
    "ratio = [New_haven_msa_re,Hartford_msa_re,Bridgeport_msa_re]\n",
    "\n",
    "# set the size of the image\n",
    "plt.figure(figsize=(6, 4)) \n",
    "#plot the MSA and vmt data\n",
    "g1=sns.barplot(data=df_vmt, x=\"VMT(billion miles)\", y=\"MSA\")\n",
    "\n",
    "#for i, row in enumerate(df_vmt.itertuples()):\n",
    "    #plt.annotate(f' {ratio[i]}%',  # Text to display\n",
    "                 #(row._2, i),  # Position of the text (x, y)\n",
    "                 #textcoords=\"offset points\",  # Offset text position\n",
    "                 #xytext=(10, 0),  # Offset in points (tune this for better placement)\n",
    "                 #ha='left')  # Horizontal alignment ('center' for centered text)\n",
    "sns.set(font_scale=1.5)\n",
    "g1.set(ylabel=None)\n",
    "g1.set_xlabel(\"VMT (billion miles)\")\n",
    "#g1.set_xticklabels(g1.get_xticklabels(),rotation=0, fontsize=12)\n",
    "g1.xaxis.labelpad = 15  # Adjust the padding value as needed\n",
    "plt.savefig('C:/Users/peiyaozhao/Documents/GitHub/tracking-msa-ghg/figures/VMT-MSA.png', bbox_inches='tight')"
   ]
  },
  {
   "cell_type": "code",
   "execution_count": null,
   "id": "0bb4461d-57c1-4b36-91c0-1778858d5e9a",
   "metadata": {},
   "outputs": [],
   "source": []
  },
  {
   "cell_type": "code",
   "execution_count": 7,
   "id": "e4190249-7ec5-4fd6-bcf0-45bbc5af532e",
   "metadata": {
    "tags": []
   },
   "outputs": [
    {
     "name": "stdout",
     "output_type": "stream",
     "text": [
      "6911884550 10469412530 7384759935\n"
     ]
    }
   ],
   "source": [
    "print(New_haven_msa_vmt,Hartford_msa_vmt,Bridgeport_msa_vmt)"
   ]
  },
  {
   "cell_type": "code",
   "execution_count": 22,
   "id": "e7f60637-a2af-497e-94d4-c5902d914247",
   "metadata": {
    "tags": []
   },
   "outputs": [
    {
     "name": "stderr",
     "output_type": "stream",
     "text": [
      "C:\\Users\\peiyaozhao\\AppData\\Local\\Temp\\ipykernel_19476\\419700622.py:11: FutureWarning: Series.__getitem__ treating keys as positions is deprecated. In a future version, integer keys will always be treated as labels (consistent with DataFrame behavior). To access a value by position, use `ser.iloc[pos]`\n",
      "  msa_type_vmt=veh_msa(df_vehicle['Each types relative to the total'][j],df_vmt['VMT(billion miles)'][i])\n"
     ]
    },
    {
     "data": {
      "text/plain": [
       "[2.8065707215275,\n",
       " 3.8710009422275005,\n",
       " 0.0256430916805,\n",
       " 0.2086697945645,\n",
       " 4.2511049578065,\n",
       " 5.8633944874265005,\n",
       " 0.0388415204863,\n",
       " 0.3160715642807,\n",
       " 2.99858177160675,\n",
       " 4.13583480159675,\n",
       " 0.02739745935885,\n",
       " 0.22294590243765]"
      ]
     },
     "execution_count": 22,
     "metadata": {},
     "output_type": "execute_result"
    }
   ],
   "source": [
    "#if we assume the proportation of each vehicle type to the total vehicle is the same for MSAs and for the state; assume that the total vmt for each state\n",
    "#is aggregated by vmt from four different types of vehicles: Automobiles, Buses, Trucks, and motorcycles.\n",
    "\n",
    "def veh_msa(veh_type,vmt):\n",
    "    return veh_type*vmt\n",
    "\n",
    "rows=[]\n",
    "\n",
    "for i in range(0,3):\n",
    "    for j in range (0,4):\n",
    "        msa_type_vmt=veh_msa(df_vehicle['Each types relative to the total'][j],df_vmt['VMT(billion miles)'][i])\n",
    "        rows.append(msa_type_vmt)\n",
    "        \n",
    "rows"
   ]
  },
  {
   "cell_type": "code",
   "execution_count": 24,
   "id": "87af648d-112a-4577-ac03-5bbdf2a0901c",
   "metadata": {
    "tags": []
   },
   "outputs": [
    {
     "ename": "AttributeError",
     "evalue": "'DataFrame' object has no attribute 'append'",
     "output_type": "error",
     "traceback": [
      "\u001b[1;31m---------------------------------------------------------------------------\u001b[0m",
      "\u001b[1;31mAttributeError\u001b[0m                            Traceback (most recent call last)",
      "\u001b[1;32m~\\AppData\\Local\\Temp\\ipykernel_19476\\174124935.py\u001b[0m in \u001b[0;36m?\u001b[1;34m()\u001b[0m\n\u001b[0;32m      8\u001b[0m \u001b[1;33m\u001b[0m\u001b[0m\n\u001b[0;32m      9\u001b[0m \u001b[1;31m# Use a for loop to add repetitive names to the DataFrame\u001b[0m\u001b[1;33m\u001b[0m\u001b[1;33m\u001b[0m\u001b[0m\n\u001b[0;32m     10\u001b[0m \u001b[1;32mfor\u001b[0m \u001b[0mname\u001b[0m \u001b[1;32min\u001b[0m \u001b[0mnames\u001b[0m\u001b[1;33m:\u001b[0m\u001b[1;33m\u001b[0m\u001b[1;33m\u001b[0m\u001b[0m\n\u001b[0;32m     11\u001b[0m     \u001b[1;32mfor\u001b[0m \u001b[0m_\u001b[0m \u001b[1;32min\u001b[0m \u001b[0mrange\u001b[0m\u001b[1;33m(\u001b[0m\u001b[0mrepeat_times\u001b[0m\u001b[1;33m)\u001b[0m\u001b[1;33m:\u001b[0m\u001b[1;33m\u001b[0m\u001b[1;33m\u001b[0m\u001b[0m\n\u001b[1;32m---> 12\u001b[1;33m         \u001b[0mdf_msa_veh_vmt\u001b[0m \u001b[1;33m=\u001b[0m \u001b[0mdf_msa_veh_vmt\u001b[0m\u001b[1;33m.\u001b[0m\u001b[0mappend\u001b[0m\u001b[1;33m(\u001b[0m\u001b[1;33m{\u001b[0m\u001b[1;34m\"MSA\"\u001b[0m\u001b[1;33m:\u001b[0m \u001b[0mname\u001b[0m\u001b[1;33m}\u001b[0m\u001b[1;33m,\u001b[0m \u001b[0mignore_index\u001b[0m\u001b[1;33m=\u001b[0m\u001b[1;32mTrue\u001b[0m\u001b[1;33m)\u001b[0m\u001b[1;33m\u001b[0m\u001b[1;33m\u001b[0m\u001b[0m\n\u001b[0m\u001b[0;32m     13\u001b[0m \u001b[1;33m\u001b[0m\u001b[0m\n\u001b[0;32m     14\u001b[0m \u001b[1;31m# List of names to add to the new column\u001b[0m\u001b[1;33m\u001b[0m\u001b[1;33m\u001b[0m\u001b[0m\n\u001b[0;32m     15\u001b[0m \u001b[0mnames\u001b[0m \u001b[1;33m=\u001b[0m \u001b[1;33m[\u001b[0m\u001b[1;34m\"Automobiles\"\u001b[0m\u001b[1;33m,\u001b[0m\u001b[1;34m\" Trucks\"\u001b[0m\u001b[1;33m,\u001b[0m \u001b[1;34m\"Buses\"\u001b[0m\u001b[1;33m,\u001b[0m \u001b[1;34m\"Motorcycle\"\u001b[0m\u001b[1;33m]\u001b[0m\u001b[1;33m\u001b[0m\u001b[1;33m\u001b[0m\u001b[0m\n",
      "\u001b[1;32m~\\AppData\\Local\\anaconda3\\Lib\\site-packages\\pandas\\core\\generic.py\u001b[0m in \u001b[0;36m?\u001b[1;34m(self, name)\u001b[0m\n\u001b[0;32m   6200\u001b[0m             \u001b[1;32mand\u001b[0m \u001b[0mname\u001b[0m \u001b[1;32mnot\u001b[0m \u001b[1;32min\u001b[0m \u001b[0mself\u001b[0m\u001b[1;33m.\u001b[0m\u001b[0m_accessors\u001b[0m\u001b[1;33m\u001b[0m\u001b[1;33m\u001b[0m\u001b[0m\n\u001b[0;32m   6201\u001b[0m             \u001b[1;32mand\u001b[0m \u001b[0mself\u001b[0m\u001b[1;33m.\u001b[0m\u001b[0m_info_axis\u001b[0m\u001b[1;33m.\u001b[0m\u001b[0m_can_hold_identifiers_and_holds_name\u001b[0m\u001b[1;33m(\u001b[0m\u001b[0mname\u001b[0m\u001b[1;33m)\u001b[0m\u001b[1;33m\u001b[0m\u001b[1;33m\u001b[0m\u001b[0m\n\u001b[0;32m   6202\u001b[0m         ):\n\u001b[0;32m   6203\u001b[0m             \u001b[1;32mreturn\u001b[0m \u001b[0mself\u001b[0m\u001b[1;33m[\u001b[0m\u001b[0mname\u001b[0m\u001b[1;33m]\u001b[0m\u001b[1;33m\u001b[0m\u001b[1;33m\u001b[0m\u001b[0m\n\u001b[1;32m-> 6204\u001b[1;33m         \u001b[1;32mreturn\u001b[0m \u001b[0mobject\u001b[0m\u001b[1;33m.\u001b[0m\u001b[0m__getattribute__\u001b[0m\u001b[1;33m(\u001b[0m\u001b[0mself\u001b[0m\u001b[1;33m,\u001b[0m \u001b[0mname\u001b[0m\u001b[1;33m)\u001b[0m\u001b[1;33m\u001b[0m\u001b[1;33m\u001b[0m\u001b[0m\n\u001b[0m",
      "\u001b[1;31mAttributeError\u001b[0m: 'DataFrame' object has no attribute 'append'"
     ]
    }
   ],
   "source": [
    "\n",
    "\n",
    "#plot the VMTs for each MSAs and split it by different vehicle type\n",
    "# different vehicle type distributions\n",
    "df_msa_veh_vmt = pd.DataFrame(columns=[\"MSA\"])\n",
    "\n",
    "# Define the repetitive names and the number of times you want to repeat them\n",
    "names = [\"New Haven-Milford\", \"Hartford-East Hartford-Middletown\", \"Bridgeport-Stamford-Norwalk\"]\n",
    "repeat_times = 4  # You can change this to the desired number of repetitions\n",
    "\n",
    "# Use a for loop to add repetitive names to the DataFrame\n",
    "for name in names:\n",
    "    for _ in range(repeat_times):\n",
    "        df_msa_veh_vmt = df_msa_veh_vmt.append({\"MSA\": name}, ignore_index=True)\n",
    "\n",
    "# List of names to add to the new column\n",
    "names = [\"Automobiles\",\" Trucks\", \"Buses\", \"Motorcycle\"]\n",
    "total_rows = 12\n",
    "\n",
    "# Use a for loop to add names into a new column and repeat them\n",
    "name_column = []\n",
    "for i in range(total_rows):\n",
    "    name = names[i % len(names)]  # Use modulo to cycle through the names list\n",
    "    name_column.append(name)\n",
    "\n",
    "df_msa_veh_vmt['Vehicle Type'] = name_column\n",
    "\n",
    "#attach the vmt list to the dataframe\n",
    "df_msa_veh_vmt['VMT(billion miles)']=rows"
   ]
  },
  {
   "cell_type": "code",
   "execution_count": null,
   "id": "7541cd25-2dfe-436e-97b8-2872b4c1a4f0",
   "metadata": {
    "tags": []
   },
   "outputs": [],
   "source": [
    "df_msa_veh_vmt"
   ]
  },
  {
   "cell_type": "code",
   "execution_count": null,
   "id": "e43126ac-e875-410f-81dc-f7e6b02e398e",
   "metadata": {
    "tags": []
   },
   "outputs": [],
   "source": [
    "# Create a multiple bar plot using Seaborn\n",
    "plt.figure(figsize=(10, 8))\n",
    "sns.set(font_scale=1.5)\n",
    "sns.barplot(x='VMT(billion miles)', y='MSA', hue='Vehicle Type', data=df_msa_veh_vmt)\n",
    "\n",
    "# Add labels and a legend\n",
    "plt.xlabel('VMT (billion miles)',labelpad=20)\n",
    "plt.gca().set_ylabel('')# delete ylabel\n",
    "plt.legend(title='Vehicle Type')\n",
    "plt.savefig('C:/Users/peiyaozhao/Documents/GitHub/tracking-msa-ghg/figures/vehicle-type-number.png', dpi=100,bbox_inches='tight')\n",
    "# Show the plot\n",
    "#plt.show()"
   ]
  },
  {
   "cell_type": "code",
   "execution_count": null,
   "id": "6c5e7fd2-3b7b-479d-ab4f-a3932700a527",
   "metadata": {
    "tags": []
   },
   "outputs": [],
   "source": [
    "#this table comes from the LGGIT TOOL: community module\n",
    "car_mpg = pd.DataFrame(np.array([[24.1, 18.5, 10.13, 50, 8.78], [32.4, 22.1, 12.96, 'NA', 10.21]]),\n",
    "                   columns=['Passenger_car', 'Light_truck', 'Heavy_duty', 'Motorcycle', 'Emission_factor (kg CO2/gallon)'])\n",
    "car_mpg.index = ['Gasoline', 'Diesel']\n",
    "\n",
    "# Define a function to center-align the text\n",
    "def center_align(val):\n",
    "    return 'text-align: center'\n",
    "\n",
    "# Apply the center-align style to the entire DataFrame\n",
    "styled_car_mpg = car_mpg.style.applymap(center_align)\n",
    "\n",
    "# Display the centered DataFrame\n",
    "styled_car_mpg"
   ]
  },
  {
   "cell_type": "code",
   "execution_count": null,
   "id": "59da4239-b0ac-421d-bbf1-f141ce89c4dd",
   "metadata": {
    "tags": []
   },
   "outputs": [],
   "source": [
    "car_mpg.to_csv('C:/Users/peiyaozhao/Documents/GitHub/tracking-msa-ghg/data/tidy/mpg.csv')"
   ]
  },
  {
   "cell_type": "code",
   "execution_count": null,
   "id": "8beb4537-1e44-4bd6-a7a3-f872d890c2c7",
   "metadata": {},
   "outputs": [],
   "source": [
    "#Calculate the fuel consumption using existing vmt data\n",
    "#Assumptions: passenger car represents automobile; light-trucks represents trucks; heavy-duty\n",
    "#represents buses\n",
    "car_mpg = pd.DataFrame(np.array([[24.1, 18.5, 10.13, 50, 8.78], [32.4, 22.1, 12.96, 'NA', 10.21]]),\n",
    "                   columns=['Automobiles', 'Trucks', 'Buses', 'Motorcycle', 'Emission_factor (kg CO2/gallon)'])\n",
    "car_mpg.index = ['gasoline', 'diesel']\n",
    "\n",
    "# Define a function to center-align the text\n",
    "def center_align(val):\n",
    "    return 'text-align: center'\n",
    "\n",
    "# Apply the center-align style to the entire DataFrame\n",
    "styled_car_mpg = car_mpg.style.applymap(center_align)\n",
    "\n",
    "# Display the centered DataFrame\n",
    "styled_car_mpg"
   ]
  },
  {
   "cell_type": "code",
   "execution_count": null,
   "id": "0f3f9ed4-245c-43ed-9e96-514b5339da39",
   "metadata": {
    "tags": []
   },
   "outputs": [],
   "source": [
    "# List of names to add to the new column\n",
    "gasoline_mpg = [24.1, 18.5, 10.13, 50]\n",
    "total_rows = 12\n",
    "\n",
    "# Use a for loop to add names into a new column and repeat them\n",
    "gasompg_column = []\n",
    "for i in range(total_rows):\n",
    "    gaso_mpg = gasoline_mpg[i % len(gasoline_mpg)]  # Use modulo to cycle through the names list\n",
    "    gasompg_column.append(gaso_mpg)\n",
    "\n",
    "df_msa_veh_vmt['Gasoline MPG (miles per gallon)'] = gasompg_column\n",
    "\n",
    "# List of names to add to the new column\n",
    "diesel_mpg = [32.4, 22.1, 12.96, 0]\n",
    "total_rows = 12\n",
    "\n",
    "# Use a for loop to add names into a new column and repeat them\n",
    "diempg_column = []\n",
    "for i in range(total_rows):\n",
    "    dies_mpg = diesel_mpg[i % len(gasoline_mpg)]  # Use modulo to cycle through the names list\n",
    "    diempg_column.append(dies_mpg)\n",
    "\n",
    "df_msa_veh_vmt['Diesel MPG (miles per gallon)'] = diempg_column\n",
    "\n",
    "\n",
    "df_msa_veh_vmt['CO2 Gasoline Emission Factor (kg CO2/gallon)'] = 8.78\n",
    "df_msa_veh_vmt['CO2 Diesel Emission Factor (kg CO2/gallon)'] = 10.21\n",
    "\n",
    "#obtain from the emission hub\n",
    "emi_fac = pd.DataFrame(np.array([[8.78,0,0,0],[10.21,0,0,0],[0.0075, 0.0105, 0.0297, 0], [0.0067, 0.0064, 0.0083, 0],[0.0005,0.0009,0.0051,0],[0.001,0.0014,0.0048,0]]),\n",
    "                   columns=['Automobiles', 'Trucks', 'Buses', 'Motorcycle'])\n",
    "emi_fac.index = ['gasoline_CO2','diesel_CO2','gasoline_CH4', 'gasoline_N2O','diesel_CH4', 'diesel_N2O']\n",
    "\n",
    "\n",
    "\n",
    "# Define a function to center-align the text\n",
    "\n",
    "#def center_align(val):\n",
    "    #return 'text-align: center'\n",
    "\n",
    "# Apply the center-align style to the entire DataFrame\n",
    "#styled_emi_fac= emi_fac.style.applymap(center_align)\n",
    "\n",
    "# Display the centered DataFrame\n",
    "#styled_emi_fac\n"
   ]
  },
  {
   "cell_type": "code",
   "execution_count": 17,
   "id": "808f4ba1-0f0f-4082-a0f8-e7821584ea9d",
   "metadata": {
    "tags": []
   },
   "outputs": [],
   "source": [
    "emi_fac = pd.DataFrame(np.array([[8.78, 8.78, 8.78, 8.78], [0.0075, 0.0105, 0.0297, 'NA'], [0.0067, 0.0064, 0.0083, 'NA'],[10.21, 10.21, 10.21, 'NA'], [0.0005, 0.0009, 0.0051, 'NA'], [0.001, 0.0014, 0.0048, 'NA']]),\n",
    "                   columns=['Automobiles', 'Trucks', 'Buses', 'Motorcycle'])\n",
    "emi_fac.index = ['Gasoline_CO2', 'Gasoline_CH4', 'Gasoline_N2O', 'Diesel_CO2','Diesel_CH4', 'Diesel_N2O']\n",
    "emi_fac=emi_fac.transpose()\n",
    "emi_fac.to_csv('C:/Users/peiyaozhao/Documents/GitHub/tracking-msa-ghg/data/tidy/emission-factor.csv')"
   ]
  },
  {
   "cell_type": "code",
   "execution_count": 18,
   "id": "d775a579-48d4-4d39-9c71-5c5b7f03fac0",
   "metadata": {
    "tags": []
   },
   "outputs": [
    {
     "data": {
      "text/html": [
       "<div>\n",
       "<style scoped>\n",
       "    .dataframe tbody tr th:only-of-type {\n",
       "        vertical-align: middle;\n",
       "    }\n",
       "\n",
       "    .dataframe tbody tr th {\n",
       "        vertical-align: top;\n",
       "    }\n",
       "\n",
       "    .dataframe thead th {\n",
       "        text-align: right;\n",
       "    }\n",
       "</style>\n",
       "<table border=\"1\" class=\"dataframe\">\n",
       "  <thead>\n",
       "    <tr style=\"text-align: right;\">\n",
       "      <th></th>\n",
       "      <th>Gasoline_CO2</th>\n",
       "      <th>Gasoline_CH4</th>\n",
       "      <th>Gasoline_N2O</th>\n",
       "      <th>Diesel_CO2</th>\n",
       "      <th>Diesel_CH4</th>\n",
       "      <th>Diesel_N2O</th>\n",
       "    </tr>\n",
       "  </thead>\n",
       "  <tbody>\n",
       "    <tr>\n",
       "      <th>Automobiles</th>\n",
       "      <td>8.78</td>\n",
       "      <td>0.0075</td>\n",
       "      <td>0.0067</td>\n",
       "      <td>10.21</td>\n",
       "      <td>0.0005</td>\n",
       "      <td>0.001</td>\n",
       "    </tr>\n",
       "    <tr>\n",
       "      <th>Trucks</th>\n",
       "      <td>8.78</td>\n",
       "      <td>0.0105</td>\n",
       "      <td>0.0064</td>\n",
       "      <td>10.21</td>\n",
       "      <td>0.0009</td>\n",
       "      <td>0.0014</td>\n",
       "    </tr>\n",
       "    <tr>\n",
       "      <th>Buses</th>\n",
       "      <td>8.78</td>\n",
       "      <td>0.0297</td>\n",
       "      <td>0.0083</td>\n",
       "      <td>10.21</td>\n",
       "      <td>0.0051</td>\n",
       "      <td>0.0048</td>\n",
       "    </tr>\n",
       "    <tr>\n",
       "      <th>Motorcycle</th>\n",
       "      <td>8.78</td>\n",
       "      <td>NA</td>\n",
       "      <td>NA</td>\n",
       "      <td>NA</td>\n",
       "      <td>NA</td>\n",
       "      <td>NA</td>\n",
       "    </tr>\n",
       "  </tbody>\n",
       "</table>\n",
       "</div>"
      ],
      "text/plain": [
       "            Gasoline_CO2 Gasoline_CH4 Gasoline_N2O Diesel_CO2 Diesel_CH4  \\\n",
       "Automobiles         8.78       0.0075       0.0067      10.21     0.0005   \n",
       "Trucks              8.78       0.0105       0.0064      10.21     0.0009   \n",
       "Buses               8.78       0.0297       0.0083      10.21     0.0051   \n",
       "Motorcycle          8.78           NA           NA         NA         NA   \n",
       "\n",
       "            Diesel_N2O  \n",
       "Automobiles      0.001  \n",
       "Trucks          0.0014  \n",
       "Buses           0.0048  \n",
       "Motorcycle          NA  "
      ]
     },
     "execution_count": 18,
     "metadata": {},
     "output_type": "execute_result"
    }
   ],
   "source": [
    "emi_fac"
   ]
  },
  {
   "cell_type": "code",
   "execution_count": null,
   "id": "9ffc786d-7b88-4d79-9e0c-ba4c07e2a475",
   "metadata": {
    "tags": []
   },
   "outputs": [],
   "source": [
    "df_msa_veh_vmt"
   ]
  },
  {
   "cell_type": "code",
   "execution_count": 11,
   "id": "08d919a7-42c0-417d-bde4-89bd499c5d70",
   "metadata": {
    "tags": []
   },
   "outputs": [
    {
     "ename": "NameError",
     "evalue": "name 'gasoline_mpg' is not defined",
     "output_type": "error",
     "traceback": [
      "\u001b[1;31m---------------------------------------------------------------------------\u001b[0m",
      "\u001b[1;31mNameError\u001b[0m                                 Traceback (most recent call last)",
      "Cell \u001b[1;32mIn[11], line 8\u001b[0m\n\u001b[0;32m      6\u001b[0m gasoline_ch4_column \u001b[38;5;241m=\u001b[39m []\n\u001b[0;32m      7\u001b[0m \u001b[38;5;28;01mfor\u001b[39;00m i \u001b[38;5;129;01min\u001b[39;00m \u001b[38;5;28mrange\u001b[39m(total_rows):\n\u001b[1;32m----> 8\u001b[0m     gasoline_ch4_emi \u001b[38;5;241m=\u001b[39m gasoline_ch4[i \u001b[38;5;241m%\u001b[39m \u001b[38;5;28mlen\u001b[39m(gasoline_mpg)]  \u001b[38;5;66;03m# Use modulo to cycle through the names list\u001b[39;00m\n\u001b[0;32m      9\u001b[0m     gasoline_ch4_column\u001b[38;5;241m.\u001b[39mappend(gasoline_ch4_emi)\n\u001b[0;32m     11\u001b[0m df_msa_veh_vmt[\u001b[38;5;124m'\u001b[39m\u001b[38;5;124mCH4 Gasoline Emission Factor (g/mile)\u001b[39m\u001b[38;5;124m'\u001b[39m] \u001b[38;5;241m=\u001b[39m gasoline_ch4_column\n",
      "\u001b[1;31mNameError\u001b[0m: name 'gasoline_mpg' is not defined"
     ]
    }
   ],
   "source": [
    "# List of names to add to the new column\n",
    "gasoline_ch4 = [0.0075,0.0105,0.0297,0.0]\n",
    "total_rows = 12\n",
    "\n",
    "# Use a for loop to add names into a new column and repeat them\n",
    "gasoline_ch4_column = []\n",
    "for i in range(total_rows):\n",
    "    gasoline_ch4_emi = gasoline_ch4[i % len(gasoline_mpg)]  # Use modulo to cycle through the names list\n",
    "    gasoline_ch4_column.append(gasoline_ch4_emi)\n",
    "\n",
    "df_msa_veh_vmt['CH4 Gasoline Emission Factor (g/mile)'] = gasoline_ch4_column\n",
    "\n",
    "# List of names to add to the new column\n",
    "gasoline_n20 = [0.0067,0.0064,0.0083,0.0]\n",
    "total_rows = 12\n",
    "\n",
    "# Use a for loop to add names into a new column and repeat them\n",
    "gasoline_n20_column = []\n",
    "for i in range(total_rows):\n",
    "    gasoline_n20_emi = gasoline_n20[i % len(gasoline_mpg)]  # Use modulo to cycle through the names list\n",
    "    gasoline_n20_column.append(gasoline_n20_emi)\n",
    "\n",
    "df_msa_veh_vmt['N2O Gasoline Emission Factor (g/mile)'] = gasoline_n20_column\n",
    "\n",
    "# List of names to add to the new column\n",
    "diesel_ch4 = [0.0005,0.0009,0.0051,0.0]\n",
    "total_rows = 12\n",
    "\n",
    "# Use a for loop to add names into a new column and repeat them\n",
    "diesel_ch4_column = []\n",
    "for i in range(total_rows):\n",
    "    diesel_ch4_emi = diesel_ch4[i % len(diesel_ch4)]  # Use modulo to cycle through the names list\n",
    "    diesel_ch4_column.append(diesel_ch4_emi)\n",
    "\n",
    "df_msa_veh_vmt['CH4 Diesel Emission Factor (g/mile)'] = diesel_ch4_column\n",
    "\n",
    "# List of names to add to the new column\n",
    "diesel_n20 = [0.0010,0.0014,0.0048,0.0]\n",
    "total_rows = 12\n",
    "\n",
    "# Use a for loop to add names into a new column and repeat them\n",
    "diesel_n20_column = []\n",
    "for i in range(total_rows):\n",
    "    diesel_n20_emi = diesel_n20[i % len(diesel_n20)]  # Use modulo to cycle through the names list\n",
    "    diesel_n20_column.append(diesel_n20_emi)\n",
    "\n",
    "df_msa_veh_vmt['N2O Diesel Emission Factor (g/mile)'] = diesel_n20_column"
   ]
  },
  {
   "cell_type": "code",
   "execution_count": 12,
   "id": "db2facd8-6db4-4a9a-9b4f-890ac87820ba",
   "metadata": {
    "tags": []
   },
   "outputs": [
    {
     "data": {
      "text/html": [
       "<div>\n",
       "<style scoped>\n",
       "    .dataframe tbody tr th:only-of-type {\n",
       "        vertical-align: middle;\n",
       "    }\n",
       "\n",
       "    .dataframe tbody tr th {\n",
       "        vertical-align: top;\n",
       "    }\n",
       "\n",
       "    .dataframe thead th {\n",
       "        text-align: right;\n",
       "    }\n",
       "</style>\n",
       "<table border=\"1\" class=\"dataframe\">\n",
       "  <thead>\n",
       "    <tr style=\"text-align: right;\">\n",
       "      <th></th>\n",
       "      <th>MSA</th>\n",
       "    </tr>\n",
       "  </thead>\n",
       "  <tbody>\n",
       "  </tbody>\n",
       "</table>\n",
       "</div>"
      ],
      "text/plain": [
       "Empty DataFrame\n",
       "Columns: [MSA]\n",
       "Index: []"
      ]
     },
     "execution_count": 12,
     "metadata": {},
     "output_type": "execute_result"
    }
   ],
   "source": [
    "df_msa_veh_vmt"
   ]
  },
  {
   "cell_type": "code",
   "execution_count": 13,
   "id": "2515f72e-16b4-4559-bec1-b6985e279008",
   "metadata": {
    "tags": []
   },
   "outputs": [
    {
     "ename": "KeyError",
     "evalue": "'VMT(billion miles)'",
     "output_type": "error",
     "traceback": [
      "\u001b[1;31m---------------------------------------------------------------------------\u001b[0m",
      "\u001b[1;31mKeyError\u001b[0m                                  Traceback (most recent call last)",
      "File \u001b[1;32m~\\AppData\\Local\\anaconda3\\Lib\\site-packages\\pandas\\core\\indexes\\base.py:3790\u001b[0m, in \u001b[0;36mIndex.get_loc\u001b[1;34m(self, key)\u001b[0m\n\u001b[0;32m   3789\u001b[0m \u001b[38;5;28;01mtry\u001b[39;00m:\n\u001b[1;32m-> 3790\u001b[0m     \u001b[38;5;28;01mreturn\u001b[39;00m \u001b[38;5;28mself\u001b[39m\u001b[38;5;241m.\u001b[39m_engine\u001b[38;5;241m.\u001b[39mget_loc(casted_key)\n\u001b[0;32m   3791\u001b[0m \u001b[38;5;28;01mexcept\u001b[39;00m \u001b[38;5;167;01mKeyError\u001b[39;00m \u001b[38;5;28;01mas\u001b[39;00m err:\n",
      "File \u001b[1;32mindex.pyx:152\u001b[0m, in \u001b[0;36mpandas._libs.index.IndexEngine.get_loc\u001b[1;34m()\u001b[0m\n",
      "File \u001b[1;32mindex.pyx:181\u001b[0m, in \u001b[0;36mpandas._libs.index.IndexEngine.get_loc\u001b[1;34m()\u001b[0m\n",
      "File \u001b[1;32mpandas\\_libs\\hashtable_class_helper.pxi:7080\u001b[0m, in \u001b[0;36mpandas._libs.hashtable.PyObjectHashTable.get_item\u001b[1;34m()\u001b[0m\n",
      "File \u001b[1;32mpandas\\_libs\\hashtable_class_helper.pxi:7088\u001b[0m, in \u001b[0;36mpandas._libs.hashtable.PyObjectHashTable.get_item\u001b[1;34m()\u001b[0m\n",
      "\u001b[1;31mKeyError\u001b[0m: 'VMT(billion miles)'",
      "\nThe above exception was the direct cause of the following exception:\n",
      "\u001b[1;31mKeyError\u001b[0m                                  Traceback (most recent call last)",
      "Cell \u001b[1;32mIn[13], line 4\u001b[0m\n\u001b[0;32m      1\u001b[0m \u001b[38;5;66;03m#assuming all the car use the gasoline as the fuel\u001b[39;00m\n\u001b[0;32m      2\u001b[0m \u001b[38;5;66;03m#carbon dioxide emission calculation: VMT/Gasoline MPG*Emission factor\u001b[39;00m\n\u001b[0;32m      3\u001b[0m \u001b[38;5;66;03m#CH4/N2O Calculation: VMT*emissionn factor/1000000\u001b[39;00m\n\u001b[1;32m----> 4\u001b[0m df_msa_veh_vmt[\u001b[38;5;124m'\u001b[39m\u001b[38;5;124mCO2 Emission from Gasoline (metric ton)\u001b[39m\u001b[38;5;124m'\u001b[39m]\u001b[38;5;241m=\u001b[39mdf_msa_veh_vmt[\u001b[38;5;124m'\u001b[39m\u001b[38;5;124mVMT(billion miles)\u001b[39m\u001b[38;5;124m'\u001b[39m]\u001b[38;5;241m*\u001b[39m\u001b[38;5;241m10\u001b[39m\u001b[38;5;241m*\u001b[39m\u001b[38;5;241m*\u001b[39m\u001b[38;5;241m9\u001b[39m\u001b[38;5;241m/\u001b[39mdf_msa_veh_vmt[\u001b[38;5;124m'\u001b[39m\u001b[38;5;124mGasoline MPG (miles per gallon)\u001b[39m\u001b[38;5;124m'\u001b[39m]\u001b[38;5;241m*\u001b[39mdf_msa_veh_vmt[\u001b[38;5;124m'\u001b[39m\u001b[38;5;124mCO2 Gasoline Emission Factor (kg CO2/gallon)\u001b[39m\u001b[38;5;124m'\u001b[39m]\u001b[38;5;241m/\u001b[39m\u001b[38;5;241m1000\u001b[39m\n\u001b[0;32m      5\u001b[0m df_msa_veh_vmt[\u001b[38;5;124m'\u001b[39m\u001b[38;5;124mCH4 Emission from Gasoline (metric ton)\u001b[39m\u001b[38;5;124m'\u001b[39m]\u001b[38;5;241m=\u001b[39m(df_msa_veh_vmt[\u001b[38;5;124m'\u001b[39m\u001b[38;5;124mVMT(billion miles)\u001b[39m\u001b[38;5;124m'\u001b[39m]\u001b[38;5;241m*\u001b[39m\u001b[38;5;241m10\u001b[39m\u001b[38;5;241m*\u001b[39m\u001b[38;5;241m*\u001b[39m\u001b[38;5;241m9\u001b[39m\u001b[38;5;241m*\u001b[39mdf_msa_veh_vmt[\u001b[38;5;124m'\u001b[39m\u001b[38;5;124mCH4 Gasoline Emission Factor (g/mile)\u001b[39m\u001b[38;5;124m'\u001b[39m]\u001b[38;5;241m/\u001b[39m\u001b[38;5;241m1000000\u001b[39m)\u001b[38;5;241m*\u001b[39m\u001b[38;5;241m25\u001b[39m\n\u001b[0;32m      6\u001b[0m df_msa_veh_vmt[\u001b[38;5;124m'\u001b[39m\u001b[38;5;124mN2O Emission from Gasoline (metric ton)\u001b[39m\u001b[38;5;124m'\u001b[39m]\u001b[38;5;241m=\u001b[39m(df_msa_veh_vmt[\u001b[38;5;124m'\u001b[39m\u001b[38;5;124mVMT(billion miles)\u001b[39m\u001b[38;5;124m'\u001b[39m]\u001b[38;5;241m*\u001b[39m\u001b[38;5;241m10\u001b[39m\u001b[38;5;241m*\u001b[39m\u001b[38;5;241m*\u001b[39m\u001b[38;5;241m9\u001b[39m\u001b[38;5;241m*\u001b[39mdf_msa_veh_vmt[\u001b[38;5;124m'\u001b[39m\u001b[38;5;124mN2O Gasoline Emission Factor (g/mile)\u001b[39m\u001b[38;5;124m'\u001b[39m]\u001b[38;5;241m/\u001b[39m\u001b[38;5;241m1000000\u001b[39m)\u001b[38;5;241m*\u001b[39m\u001b[38;5;241m298\u001b[39m\n",
      "File \u001b[1;32m~\\AppData\\Local\\anaconda3\\Lib\\site-packages\\pandas\\core\\frame.py:3896\u001b[0m, in \u001b[0;36mDataFrame.__getitem__\u001b[1;34m(self, key)\u001b[0m\n\u001b[0;32m   3894\u001b[0m \u001b[38;5;28;01mif\u001b[39;00m \u001b[38;5;28mself\u001b[39m\u001b[38;5;241m.\u001b[39mcolumns\u001b[38;5;241m.\u001b[39mnlevels \u001b[38;5;241m>\u001b[39m \u001b[38;5;241m1\u001b[39m:\n\u001b[0;32m   3895\u001b[0m     \u001b[38;5;28;01mreturn\u001b[39;00m \u001b[38;5;28mself\u001b[39m\u001b[38;5;241m.\u001b[39m_getitem_multilevel(key)\n\u001b[1;32m-> 3896\u001b[0m indexer \u001b[38;5;241m=\u001b[39m \u001b[38;5;28mself\u001b[39m\u001b[38;5;241m.\u001b[39mcolumns\u001b[38;5;241m.\u001b[39mget_loc(key)\n\u001b[0;32m   3897\u001b[0m \u001b[38;5;28;01mif\u001b[39;00m is_integer(indexer):\n\u001b[0;32m   3898\u001b[0m     indexer \u001b[38;5;241m=\u001b[39m [indexer]\n",
      "File \u001b[1;32m~\\AppData\\Local\\anaconda3\\Lib\\site-packages\\pandas\\core\\indexes\\base.py:3797\u001b[0m, in \u001b[0;36mIndex.get_loc\u001b[1;34m(self, key)\u001b[0m\n\u001b[0;32m   3792\u001b[0m     \u001b[38;5;28;01mif\u001b[39;00m \u001b[38;5;28misinstance\u001b[39m(casted_key, \u001b[38;5;28mslice\u001b[39m) \u001b[38;5;129;01mor\u001b[39;00m (\n\u001b[0;32m   3793\u001b[0m         \u001b[38;5;28misinstance\u001b[39m(casted_key, abc\u001b[38;5;241m.\u001b[39mIterable)\n\u001b[0;32m   3794\u001b[0m         \u001b[38;5;129;01mand\u001b[39;00m \u001b[38;5;28many\u001b[39m(\u001b[38;5;28misinstance\u001b[39m(x, \u001b[38;5;28mslice\u001b[39m) \u001b[38;5;28;01mfor\u001b[39;00m x \u001b[38;5;129;01min\u001b[39;00m casted_key)\n\u001b[0;32m   3795\u001b[0m     ):\n\u001b[0;32m   3796\u001b[0m         \u001b[38;5;28;01mraise\u001b[39;00m InvalidIndexError(key)\n\u001b[1;32m-> 3797\u001b[0m     \u001b[38;5;28;01mraise\u001b[39;00m \u001b[38;5;167;01mKeyError\u001b[39;00m(key) \u001b[38;5;28;01mfrom\u001b[39;00m \u001b[38;5;21;01merr\u001b[39;00m\n\u001b[0;32m   3798\u001b[0m \u001b[38;5;28;01mexcept\u001b[39;00m \u001b[38;5;167;01mTypeError\u001b[39;00m:\n\u001b[0;32m   3799\u001b[0m     \u001b[38;5;66;03m# If we have a listlike key, _check_indexing_error will raise\u001b[39;00m\n\u001b[0;32m   3800\u001b[0m     \u001b[38;5;66;03m#  InvalidIndexError. Otherwise we fall through and re-raise\u001b[39;00m\n\u001b[0;32m   3801\u001b[0m     \u001b[38;5;66;03m#  the TypeError.\u001b[39;00m\n\u001b[0;32m   3802\u001b[0m     \u001b[38;5;28mself\u001b[39m\u001b[38;5;241m.\u001b[39m_check_indexing_error(key)\n",
      "\u001b[1;31mKeyError\u001b[0m: 'VMT(billion miles)'"
     ]
    }
   ],
   "source": [
    "#assuming all the car use the gasoline as the fuel\n",
    "#carbon dioxide emission calculation: VMT/Gasoline MPG*Emission factor\n",
    "#CH4/N2O Calculation: VMT*emissionn factor/1000000\n",
    "df_msa_veh_vmt['CO2 Emission from Gasoline (metric ton)']=df_msa_veh_vmt['VMT(billion miles)']*10**9/df_msa_veh_vmt['Gasoline MPG (miles per gallon)']*df_msa_veh_vmt['CO2 Gasoline Emission Factor (kg CO2/gallon)']/1000\n",
    "df_msa_veh_vmt['CH4 Emission from Gasoline (metric ton)']=(df_msa_veh_vmt['VMT(billion miles)']*10**9*df_msa_veh_vmt['CH4 Gasoline Emission Factor (g/mile)']/1000000)*25\n",
    "df_msa_veh_vmt['N2O Emission from Gasoline (metric ton)']=(df_msa_veh_vmt['VMT(billion miles)']*10**9*df_msa_veh_vmt['N2O Gasoline Emission Factor (g/mile)']/1000000)*298\n",
    "df_msa_veh_vmt['GHG Emissions_Gasoline ( MMTCO2e)']=(df_msa_veh_vmt['CO2 Emission from Gasoline (metric ton)']+df_msa_veh_vmt['CH4 Emission from Gasoline (metric ton)']+df_msa_veh_vmt['N2O Emission from Gasoline (metric ton)'])/1000000"
   ]
  },
  {
   "cell_type": "code",
   "execution_count": null,
   "id": "3849bc5e-983b-4bd4-ab06-248910531d32",
   "metadata": {
    "tags": []
   },
   "outputs": [],
   "source": [
    "df_msa_veh_vmt"
   ]
  },
  {
   "cell_type": "code",
   "execution_count": null,
   "id": "0a423669-cf8f-4b9e-9d92-8611559c5958",
   "metadata": {
    "tags": []
   },
   "outputs": [],
   "source": [
    "#calculation of diesel\n",
    "df_msa_veh_vmt['CO2 Emission from Diesel (metric ton)']=df_msa_veh_vmt['VMT(billion miles)']*10**9/df_msa_veh_vmt['Diesel MPG (miles per gallon)']*df_msa_veh_vmt['CO2 Diesel Emission Factor (kg CO2/gallon)']/1000\n",
    "df_msa_veh_vmt['CH4 Emission from Diesel (metric ton)']=(df_msa_veh_vmt['VMT(billion miles)']*10**9*df_msa_veh_vmt['CH4 Diesel Emission Factor (g/mile)']/1000000)*25\n",
    "df_msa_veh_vmt['N2O Emission from Diesel (metric ton)']=(df_msa_veh_vmt['VMT(billion miles)']*10**9*df_msa_veh_vmt['N2O Diesel Emission Factor (g/mile)']/1000000)*298\n",
    "df_msa_veh_vmt['GHG Emissions_Diesel ( MMTCO2e)']=(df_msa_veh_vmt['CO2 Emission from Diesel (metric ton)']+df_msa_veh_vmt['CH4 Emission from Diesel (metric ton)']+df_msa_veh_vmt['N2O Emission from Diesel (metric ton)'])/1000000"
   ]
  },
  {
   "cell_type": "code",
   "execution_count": null,
   "id": "1cb2a9ad-1aaa-4f0e-8207-ae66189e1653",
   "metadata": {
    "tags": []
   },
   "outputs": [],
   "source": [
    "df_msa_veh_vmt.replace([np.inf, -np.inf], 0, inplace=True)#replace all the inf into zero\n",
    "df_msa_veh_vmt"
   ]
  },
  {
   "cell_type": "code",
   "execution_count": null,
   "id": "0b477cdc-b600-44b7-8ff0-ac897d0f2132",
   "metadata": {
    "tags": []
   },
   "outputs": [],
   "source": [
    "selected_columns = ['MSA', 'Vehicle Type', 'VMT(billion miles)','CO2 Emission from Gasoline (metric ton)', 'CH4 Emission from Gasoline (metric ton)',\n",
    "                   'N2O Emission from Gasoline (metric ton)','CO2 Emission from Diesel (metric ton)','CH4 Emission from Diesel (metric ton)','N2O Emission from Diesel (metric ton)',\n",
    "                   ]\n",
    "new_df_msa_veh_vmt = df_msa_veh_vmt[selected_columns]"
   ]
  },
  {
   "cell_type": "code",
   "execution_count": 14,
   "id": "f68105bd-2b80-4c2f-b152-5271ab519b54",
   "metadata": {
    "tags": []
   },
   "outputs": [
    {
     "ename": "NameError",
     "evalue": "name 'new_df_msa_veh_vmt' is not defined",
     "output_type": "error",
     "traceback": [
      "\u001b[1;31m---------------------------------------------------------------------------\u001b[0m",
      "\u001b[1;31mNameError\u001b[0m                                 Traceback (most recent call last)",
      "Cell \u001b[1;32mIn[14], line 1\u001b[0m\n\u001b[1;32m----> 1\u001b[0m new_df_msa_veh_vmt\n\u001b[0;32m      2\u001b[0m new_df_msa_veh_vmt\u001b[38;5;241m.\u001b[39mto_csv(\u001b[38;5;124m'\u001b[39m\u001b[38;5;124mC:/Users/peiyaozhao/Documents/GitHub/tracking-msa-ghg/data/tidy/ghg-emission-all-gases-mobile.csv\u001b[39m\u001b[38;5;124m'\u001b[39m)\n",
      "\u001b[1;31mNameError\u001b[0m: name 'new_df_msa_veh_vmt' is not defined"
     ]
    }
   ],
   "source": [
    "new_df_msa_veh_vmt\n",
    "new_df_msa_veh_vmt.to_csv('C:/Users/peiyaozhao/Documents/GitHub/tracking-msa-ghg/data/tidy/ghg-emission-all-gases-mobile.csv')"
   ]
  },
  {
   "cell_type": "code",
   "execution_count": 15,
   "id": "618528aa-2148-4382-9367-b545754df2bc",
   "metadata": {
    "tags": []
   },
   "outputs": [
    {
     "ename": "KeyError",
     "evalue": "'GHG Emissions_Gasoline ( MMTCO2e)'",
     "output_type": "error",
     "traceback": [
      "\u001b[1;31m---------------------------------------------------------------------------\u001b[0m",
      "\u001b[1;31mKeyError\u001b[0m                                  Traceback (most recent call last)",
      "File \u001b[1;32m~\\AppData\\Local\\anaconda3\\Lib\\site-packages\\pandas\\core\\indexes\\base.py:3790\u001b[0m, in \u001b[0;36mIndex.get_loc\u001b[1;34m(self, key)\u001b[0m\n\u001b[0;32m   3789\u001b[0m \u001b[38;5;28;01mtry\u001b[39;00m:\n\u001b[1;32m-> 3790\u001b[0m     \u001b[38;5;28;01mreturn\u001b[39;00m \u001b[38;5;28mself\u001b[39m\u001b[38;5;241m.\u001b[39m_engine\u001b[38;5;241m.\u001b[39mget_loc(casted_key)\n\u001b[0;32m   3791\u001b[0m \u001b[38;5;28;01mexcept\u001b[39;00m \u001b[38;5;167;01mKeyError\u001b[39;00m \u001b[38;5;28;01mas\u001b[39;00m err:\n",
      "File \u001b[1;32mindex.pyx:152\u001b[0m, in \u001b[0;36mpandas._libs.index.IndexEngine.get_loc\u001b[1;34m()\u001b[0m\n",
      "File \u001b[1;32mindex.pyx:181\u001b[0m, in \u001b[0;36mpandas._libs.index.IndexEngine.get_loc\u001b[1;34m()\u001b[0m\n",
      "File \u001b[1;32mpandas\\_libs\\hashtable_class_helper.pxi:7080\u001b[0m, in \u001b[0;36mpandas._libs.hashtable.PyObjectHashTable.get_item\u001b[1;34m()\u001b[0m\n",
      "File \u001b[1;32mpandas\\_libs\\hashtable_class_helper.pxi:7088\u001b[0m, in \u001b[0;36mpandas._libs.hashtable.PyObjectHashTable.get_item\u001b[1;34m()\u001b[0m\n",
      "\u001b[1;31mKeyError\u001b[0m: 'GHG Emissions_Gasoline ( MMTCO2e)'",
      "\nThe above exception was the direct cause of the following exception:\n",
      "\u001b[1;31mKeyError\u001b[0m                                  Traceback (most recent call last)",
      "Cell \u001b[1;32mIn[15], line 10\u001b[0m\n\u001b[0;32m      7\u001b[0m column_to_sum \u001b[38;5;241m=\u001b[39m \u001b[38;5;124m'\u001b[39m\u001b[38;5;124mGHG Emissions_Gasoline ( MMTCO2e)\u001b[39m\u001b[38;5;124m'\u001b[39m\n\u001b[0;32m      9\u001b[0m \u001b[38;5;66;03m# Calculate the sum of the selected rows in the specified column\u001b[39;00m\n\u001b[1;32m---> 10\u001b[0m Total_GHG_GASO_NH \u001b[38;5;241m=\u001b[39m df_msa_veh_vmt\u001b[38;5;241m.\u001b[39mloc[rows_to_sum_HM, column_to_sum]\u001b[38;5;241m.\u001b[39msum()\n\u001b[0;32m     11\u001b[0m Total_GHG_GASO_HH \u001b[38;5;241m=\u001b[39m df_msa_veh_vmt\u001b[38;5;241m.\u001b[39mloc[rows_to_sum_HH, column_to_sum]\u001b[38;5;241m.\u001b[39msum()\n\u001b[0;32m     12\u001b[0m Total_GHG_GASO_BSN \u001b[38;5;241m=\u001b[39m df_msa_veh_vmt\u001b[38;5;241m.\u001b[39mloc[rows_to_sum_BSN, column_to_sum]\u001b[38;5;241m.\u001b[39msum()\n",
      "File \u001b[1;32m~\\AppData\\Local\\anaconda3\\Lib\\site-packages\\pandas\\core\\indexing.py:1147\u001b[0m, in \u001b[0;36m_LocationIndexer.__getitem__\u001b[1;34m(self, key)\u001b[0m\n\u001b[0;32m   1145\u001b[0m     \u001b[38;5;28;01mif\u001b[39;00m \u001b[38;5;28mself\u001b[39m\u001b[38;5;241m.\u001b[39m_is_scalar_access(key):\n\u001b[0;32m   1146\u001b[0m         \u001b[38;5;28;01mreturn\u001b[39;00m \u001b[38;5;28mself\u001b[39m\u001b[38;5;241m.\u001b[39mobj\u001b[38;5;241m.\u001b[39m_get_value(\u001b[38;5;241m*\u001b[39mkey, takeable\u001b[38;5;241m=\u001b[39m\u001b[38;5;28mself\u001b[39m\u001b[38;5;241m.\u001b[39m_takeable)\n\u001b[1;32m-> 1147\u001b[0m     \u001b[38;5;28;01mreturn\u001b[39;00m \u001b[38;5;28mself\u001b[39m\u001b[38;5;241m.\u001b[39m_getitem_tuple(key)\n\u001b[0;32m   1148\u001b[0m \u001b[38;5;28;01melse\u001b[39;00m:\n\u001b[0;32m   1149\u001b[0m     \u001b[38;5;66;03m# we by definition only have the 0th axis\u001b[39;00m\n\u001b[0;32m   1150\u001b[0m     axis \u001b[38;5;241m=\u001b[39m \u001b[38;5;28mself\u001b[39m\u001b[38;5;241m.\u001b[39maxis \u001b[38;5;129;01mor\u001b[39;00m \u001b[38;5;241m0\u001b[39m\n",
      "File \u001b[1;32m~\\AppData\\Local\\anaconda3\\Lib\\site-packages\\pandas\\core\\indexing.py:1330\u001b[0m, in \u001b[0;36m_LocIndexer._getitem_tuple\u001b[1;34m(self, tup)\u001b[0m\n\u001b[0;32m   1328\u001b[0m \u001b[38;5;28;01mwith\u001b[39;00m suppress(IndexingError):\n\u001b[0;32m   1329\u001b[0m     tup \u001b[38;5;241m=\u001b[39m \u001b[38;5;28mself\u001b[39m\u001b[38;5;241m.\u001b[39m_expand_ellipsis(tup)\n\u001b[1;32m-> 1330\u001b[0m     \u001b[38;5;28;01mreturn\u001b[39;00m \u001b[38;5;28mself\u001b[39m\u001b[38;5;241m.\u001b[39m_getitem_lowerdim(tup)\n\u001b[0;32m   1332\u001b[0m \u001b[38;5;66;03m# no multi-index, so validate all of the indexers\u001b[39;00m\n\u001b[0;32m   1333\u001b[0m tup \u001b[38;5;241m=\u001b[39m \u001b[38;5;28mself\u001b[39m\u001b[38;5;241m.\u001b[39m_validate_tuple_indexer(tup)\n",
      "File \u001b[1;32m~\\AppData\\Local\\anaconda3\\Lib\\site-packages\\pandas\\core\\indexing.py:1039\u001b[0m, in \u001b[0;36m_LocationIndexer._getitem_lowerdim\u001b[1;34m(self, tup)\u001b[0m\n\u001b[0;32m   1035\u001b[0m \u001b[38;5;28;01mfor\u001b[39;00m i, key \u001b[38;5;129;01min\u001b[39;00m \u001b[38;5;28menumerate\u001b[39m(tup):\n\u001b[0;32m   1036\u001b[0m     \u001b[38;5;28;01mif\u001b[39;00m is_label_like(key):\n\u001b[0;32m   1037\u001b[0m         \u001b[38;5;66;03m# We don't need to check for tuples here because those are\u001b[39;00m\n\u001b[0;32m   1038\u001b[0m         \u001b[38;5;66;03m#  caught by the _is_nested_tuple_indexer check above.\u001b[39;00m\n\u001b[1;32m-> 1039\u001b[0m         section \u001b[38;5;241m=\u001b[39m \u001b[38;5;28mself\u001b[39m\u001b[38;5;241m.\u001b[39m_getitem_axis(key, axis\u001b[38;5;241m=\u001b[39mi)\n\u001b[0;32m   1041\u001b[0m         \u001b[38;5;66;03m# We should never have a scalar section here, because\u001b[39;00m\n\u001b[0;32m   1042\u001b[0m         \u001b[38;5;66;03m#  _getitem_lowerdim is only called after a check for\u001b[39;00m\n\u001b[0;32m   1043\u001b[0m         \u001b[38;5;66;03m#  is_scalar_access, which that would be.\u001b[39;00m\n\u001b[0;32m   1044\u001b[0m         \u001b[38;5;28;01mif\u001b[39;00m section\u001b[38;5;241m.\u001b[39mndim \u001b[38;5;241m==\u001b[39m \u001b[38;5;28mself\u001b[39m\u001b[38;5;241m.\u001b[39mndim:\n\u001b[0;32m   1045\u001b[0m             \u001b[38;5;66;03m# we're in the middle of slicing through a MultiIndex\u001b[39;00m\n\u001b[0;32m   1046\u001b[0m             \u001b[38;5;66;03m# revise the key wrt to `section` by inserting an _NS\u001b[39;00m\n",
      "File \u001b[1;32m~\\AppData\\Local\\anaconda3\\Lib\\site-packages\\pandas\\core\\indexing.py:1393\u001b[0m, in \u001b[0;36m_LocIndexer._getitem_axis\u001b[1;34m(self, key, axis)\u001b[0m\n\u001b[0;32m   1391\u001b[0m \u001b[38;5;66;03m# fall thru to straight lookup\u001b[39;00m\n\u001b[0;32m   1392\u001b[0m \u001b[38;5;28mself\u001b[39m\u001b[38;5;241m.\u001b[39m_validate_key(key, axis)\n\u001b[1;32m-> 1393\u001b[0m \u001b[38;5;28;01mreturn\u001b[39;00m \u001b[38;5;28mself\u001b[39m\u001b[38;5;241m.\u001b[39m_get_label(key, axis\u001b[38;5;241m=\u001b[39maxis)\n",
      "File \u001b[1;32m~\\AppData\\Local\\anaconda3\\Lib\\site-packages\\pandas\\core\\indexing.py:1343\u001b[0m, in \u001b[0;36m_LocIndexer._get_label\u001b[1;34m(self, label, axis)\u001b[0m\n\u001b[0;32m   1341\u001b[0m \u001b[38;5;28;01mdef\u001b[39;00m \u001b[38;5;21m_get_label\u001b[39m(\u001b[38;5;28mself\u001b[39m, label, axis: AxisInt):\n\u001b[0;32m   1342\u001b[0m     \u001b[38;5;66;03m# GH#5567 this will fail if the label is not present in the axis.\u001b[39;00m\n\u001b[1;32m-> 1343\u001b[0m     \u001b[38;5;28;01mreturn\u001b[39;00m \u001b[38;5;28mself\u001b[39m\u001b[38;5;241m.\u001b[39mobj\u001b[38;5;241m.\u001b[39mxs(label, axis\u001b[38;5;241m=\u001b[39maxis)\n",
      "File \u001b[1;32m~\\AppData\\Local\\anaconda3\\Lib\\site-packages\\pandas\\core\\generic.py:4222\u001b[0m, in \u001b[0;36mNDFrame.xs\u001b[1;34m(self, key, axis, level, drop_level)\u001b[0m\n\u001b[0;32m   4220\u001b[0m \u001b[38;5;28;01mif\u001b[39;00m axis \u001b[38;5;241m==\u001b[39m \u001b[38;5;241m1\u001b[39m:\n\u001b[0;32m   4221\u001b[0m     \u001b[38;5;28;01mif\u001b[39;00m drop_level:\n\u001b[1;32m-> 4222\u001b[0m         \u001b[38;5;28;01mreturn\u001b[39;00m \u001b[38;5;28mself\u001b[39m[key]\n\u001b[0;32m   4223\u001b[0m     index \u001b[38;5;241m=\u001b[39m \u001b[38;5;28mself\u001b[39m\u001b[38;5;241m.\u001b[39mcolumns\n\u001b[0;32m   4224\u001b[0m \u001b[38;5;28;01melse\u001b[39;00m:\n",
      "File \u001b[1;32m~\\AppData\\Local\\anaconda3\\Lib\\site-packages\\pandas\\core\\frame.py:3896\u001b[0m, in \u001b[0;36mDataFrame.__getitem__\u001b[1;34m(self, key)\u001b[0m\n\u001b[0;32m   3894\u001b[0m \u001b[38;5;28;01mif\u001b[39;00m \u001b[38;5;28mself\u001b[39m\u001b[38;5;241m.\u001b[39mcolumns\u001b[38;5;241m.\u001b[39mnlevels \u001b[38;5;241m>\u001b[39m \u001b[38;5;241m1\u001b[39m:\n\u001b[0;32m   3895\u001b[0m     \u001b[38;5;28;01mreturn\u001b[39;00m \u001b[38;5;28mself\u001b[39m\u001b[38;5;241m.\u001b[39m_getitem_multilevel(key)\n\u001b[1;32m-> 3896\u001b[0m indexer \u001b[38;5;241m=\u001b[39m \u001b[38;5;28mself\u001b[39m\u001b[38;5;241m.\u001b[39mcolumns\u001b[38;5;241m.\u001b[39mget_loc(key)\n\u001b[0;32m   3897\u001b[0m \u001b[38;5;28;01mif\u001b[39;00m is_integer(indexer):\n\u001b[0;32m   3898\u001b[0m     indexer \u001b[38;5;241m=\u001b[39m [indexer]\n",
      "File \u001b[1;32m~\\AppData\\Local\\anaconda3\\Lib\\site-packages\\pandas\\core\\indexes\\base.py:3797\u001b[0m, in \u001b[0;36mIndex.get_loc\u001b[1;34m(self, key)\u001b[0m\n\u001b[0;32m   3792\u001b[0m     \u001b[38;5;28;01mif\u001b[39;00m \u001b[38;5;28misinstance\u001b[39m(casted_key, \u001b[38;5;28mslice\u001b[39m) \u001b[38;5;129;01mor\u001b[39;00m (\n\u001b[0;32m   3793\u001b[0m         \u001b[38;5;28misinstance\u001b[39m(casted_key, abc\u001b[38;5;241m.\u001b[39mIterable)\n\u001b[0;32m   3794\u001b[0m         \u001b[38;5;129;01mand\u001b[39;00m \u001b[38;5;28many\u001b[39m(\u001b[38;5;28misinstance\u001b[39m(x, \u001b[38;5;28mslice\u001b[39m) \u001b[38;5;28;01mfor\u001b[39;00m x \u001b[38;5;129;01min\u001b[39;00m casted_key)\n\u001b[0;32m   3795\u001b[0m     ):\n\u001b[0;32m   3796\u001b[0m         \u001b[38;5;28;01mraise\u001b[39;00m InvalidIndexError(key)\n\u001b[1;32m-> 3797\u001b[0m     \u001b[38;5;28;01mraise\u001b[39;00m \u001b[38;5;167;01mKeyError\u001b[39;00m(key) \u001b[38;5;28;01mfrom\u001b[39;00m \u001b[38;5;21;01merr\u001b[39;00m\n\u001b[0;32m   3798\u001b[0m \u001b[38;5;28;01mexcept\u001b[39;00m \u001b[38;5;167;01mTypeError\u001b[39;00m:\n\u001b[0;32m   3799\u001b[0m     \u001b[38;5;66;03m# If we have a listlike key, _check_indexing_error will raise\u001b[39;00m\n\u001b[0;32m   3800\u001b[0m     \u001b[38;5;66;03m#  InvalidIndexError. Otherwise we fall through and re-raise\u001b[39;00m\n\u001b[0;32m   3801\u001b[0m     \u001b[38;5;66;03m#  the TypeError.\u001b[39;00m\n\u001b[0;32m   3802\u001b[0m     \u001b[38;5;28mself\u001b[39m\u001b[38;5;241m.\u001b[39m_check_indexing_error(key)\n",
      "\u001b[1;31mKeyError\u001b[0m: 'GHG Emissions_Gasoline ( MMTCO2e)'"
     ]
    }
   ],
   "source": [
    "# Define the rows you want to sum\n",
    "rows_to_sum_HM = [0, 1, 2, 3]  # Replace with the row indices you want to sum\n",
    "rows_to_sum_HH = [4, 5, 6, 7]\n",
    "rows_to_sum_BSN = [8, 9, 10, 11]\n",
    "\n",
    "# Specify the column you want to sum\n",
    "column_to_sum = 'GHG Emissions_Gasoline ( MMTCO2e)'\n",
    "\n",
    "# Calculate the sum of the selected rows in the specified column\n",
    "Total_GHG_GASO_NH = df_msa_veh_vmt.loc[rows_to_sum_HM, column_to_sum].sum()\n",
    "Total_GHG_GASO_HH = df_msa_veh_vmt.loc[rows_to_sum_HH, column_to_sum].sum()\n",
    "Total_GHG_GASO_BSN = df_msa_veh_vmt.loc[rows_to_sum_BSN, column_to_sum].sum()"
   ]
  },
  {
   "cell_type": "code",
   "execution_count": null,
   "id": "f7398039-209e-4fc6-b730-9915c19d3115",
   "metadata": {
    "tags": []
   },
   "outputs": [],
   "source": [
    "# Specify the column you want to sum\n",
    "column_to_sum = 'GHG Emissions_Diesel ( MMTCO2e)'\n",
    "\n",
    "# Calculate the sum of the selected rows in the specified column\n",
    "Total_GHG_DIEL_NH = df_msa_veh_vmt.loc[rows_to_sum_HM, column_to_sum].sum()\n",
    "Total_GHG_DIEL_HH = df_msa_veh_vmt.loc[rows_to_sum_HH, column_to_sum].sum()\n",
    "Total_GHG_DIEL_BSN = df_msa_veh_vmt.loc[rows_to_sum_BSN, column_to_sum].sum()"
   ]
  },
  {
   "cell_type": "code",
   "execution_count": null,
   "id": "fdcd9990-3747-4e24-9270-617762872a93",
   "metadata": {
    "tags": []
   },
   "outputs": [],
   "source": [
    "plt.figure(figsize=(10, 6))\n",
    "X = ['New Haven-Milford', 'Hartford-East Hartford-Middletown', 'Bridgeport-Stamford-Norwalk']\n",
    "Only_Gasoline = [Total_GHG_GASO_NH, Total_GHG_GASO_HH, Total_GHG_GASO_BSN]\n",
    "Only_Diesel = [Total_GHG_DIEL_NH, Total_GHG_DIEL_HH, Total_GHG_DIEL_BSN]\n",
    "\n",
    "Y_axis = np.arange(len(X))\n",
    "\n",
    "plt.barh(Y_axis -0.2, Only_Gasoline, 0.4, label='Only_Gasoline')\n",
    "plt.barh(Y_axis +0.2, Only_Diesel, 0.4, label='Only_Diesel')\n",
    "\n",
    "plt.yticks(Y_axis, X)  # Use yticks instead of xticks\n",
    "\n",
    "plt.xlabel(\"Greenhouse Gas Emissions (MMTCO2e)\",fontsize=15, labelpad=20)\n",
    "plt.xticks(fontsize=16)  # Adjust the font size as needed\n",
    "plt.yticks(fontsize=16)\n",
    "plt.legend()\n",
    "#plt.show()\n",
    "plt.savefig('C:/Users/peiyaozhao/Documents/GitHub/tracking-msa-ghg/figures/ghg-emissions-gasoline-diesel-only.png', dpi=100,bbox_inches='tight')"
   ]
  },
  {
   "cell_type": "code",
   "execution_count": null,
   "id": "448ade08-3bef-4570-9725-cd183f52c42a",
   "metadata": {
    "tags": []
   },
   "outputs": [],
   "source": [
    "#calculate the emission per miles in gasoline\n",
    "emission_miles_NM=Total_GHG_GASO_NH/New_haven_msa_vmt\n",
    "emission_miles_HH=Total_GHG_GASO_HH/Hartford_msa_vmt\n",
    "emission_miles_BSN=Total_GHG_DIEL_BSN/Bridgeport_msa_vmt\n",
    "\n",
    "#they are the same,have nothing to do with the miles but to do with the MPG and emission factors\n",
    "\n"
   ]
  },
  {
   "cell_type": "code",
   "execution_count": 16,
   "id": "b8930729-a532-4a10-a5fb-17cba20970bb",
   "metadata": {},
   "outputs": [
    {
     "ename": "KeyError",
     "evalue": "'Column not found: CO2 Emission from Gasoline (metric ton)'",
     "output_type": "error",
     "traceback": [
      "\u001b[1;31m---------------------------------------------------------------------------\u001b[0m",
      "\u001b[1;31mKeyError\u001b[0m                                  Traceback (most recent call last)",
      "Cell \u001b[1;32mIn[16], line 1\u001b[0m\n\u001b[1;32m----> 1\u001b[0m CO2_gaso \u001b[38;5;241m=\u001b[39m df_msa_veh_vmt\u001b[38;5;241m.\u001b[39mgroupby(\u001b[38;5;124m'\u001b[39m\u001b[38;5;124mMSA\u001b[39m\u001b[38;5;124m'\u001b[39m)[\u001b[38;5;124m'\u001b[39m\u001b[38;5;124mCO2 Emission from Gasoline (metric ton)\u001b[39m\u001b[38;5;124m'\u001b[39m]\u001b[38;5;241m.\u001b[39msum()\n\u001b[0;32m      2\u001b[0m CH4_gaso \u001b[38;5;241m=\u001b[39m df_msa_veh_vmt\u001b[38;5;241m.\u001b[39mgroupby(\u001b[38;5;124m'\u001b[39m\u001b[38;5;124mMSA\u001b[39m\u001b[38;5;124m'\u001b[39m)[\u001b[38;5;124m'\u001b[39m\u001b[38;5;124mCH4 Emission from Gasoline (metric ton)\u001b[39m\u001b[38;5;124m'\u001b[39m]\u001b[38;5;241m.\u001b[39msum()\n\u001b[0;32m      3\u001b[0m N2O_gaso \u001b[38;5;241m=\u001b[39mdf_msa_veh_vmt\u001b[38;5;241m.\u001b[39mgroupby(\u001b[38;5;124m'\u001b[39m\u001b[38;5;124mMSA\u001b[39m\u001b[38;5;124m'\u001b[39m)[\u001b[38;5;124m'\u001b[39m\u001b[38;5;124mN2O Emission from Gasoline (metric ton)\u001b[39m\u001b[38;5;124m'\u001b[39m]\u001b[38;5;241m.\u001b[39msum()\n",
      "File \u001b[1;32m~\\AppData\\Local\\anaconda3\\Lib\\site-packages\\pandas\\core\\groupby\\generic.py:1961\u001b[0m, in \u001b[0;36mDataFrameGroupBy.__getitem__\u001b[1;34m(self, key)\u001b[0m\n\u001b[0;32m   1954\u001b[0m \u001b[38;5;28;01mif\u001b[39;00m \u001b[38;5;28misinstance\u001b[39m(key, \u001b[38;5;28mtuple\u001b[39m) \u001b[38;5;129;01mand\u001b[39;00m \u001b[38;5;28mlen\u001b[39m(key) \u001b[38;5;241m>\u001b[39m \u001b[38;5;241m1\u001b[39m:\n\u001b[0;32m   1955\u001b[0m     \u001b[38;5;66;03m# if len == 1, then it becomes a SeriesGroupBy and this is actually\u001b[39;00m\n\u001b[0;32m   1956\u001b[0m     \u001b[38;5;66;03m# valid syntax, so don't raise\u001b[39;00m\n\u001b[0;32m   1957\u001b[0m     \u001b[38;5;28;01mraise\u001b[39;00m \u001b[38;5;167;01mValueError\u001b[39;00m(\n\u001b[0;32m   1958\u001b[0m         \u001b[38;5;124m\"\u001b[39m\u001b[38;5;124mCannot subset columns with a tuple with more than one element. \u001b[39m\u001b[38;5;124m\"\u001b[39m\n\u001b[0;32m   1959\u001b[0m         \u001b[38;5;124m\"\u001b[39m\u001b[38;5;124mUse a list instead.\u001b[39m\u001b[38;5;124m\"\u001b[39m\n\u001b[0;32m   1960\u001b[0m     )\n\u001b[1;32m-> 1961\u001b[0m \u001b[38;5;28;01mreturn\u001b[39;00m \u001b[38;5;28msuper\u001b[39m()\u001b[38;5;241m.\u001b[39m\u001b[38;5;21m__getitem__\u001b[39m(key)\n",
      "File \u001b[1;32m~\\AppData\\Local\\anaconda3\\Lib\\site-packages\\pandas\\core\\base.py:244\u001b[0m, in \u001b[0;36mSelectionMixin.__getitem__\u001b[1;34m(self, key)\u001b[0m\n\u001b[0;32m    242\u001b[0m \u001b[38;5;28;01melse\u001b[39;00m:\n\u001b[0;32m    243\u001b[0m     \u001b[38;5;28;01mif\u001b[39;00m key \u001b[38;5;129;01mnot\u001b[39;00m \u001b[38;5;129;01min\u001b[39;00m \u001b[38;5;28mself\u001b[39m\u001b[38;5;241m.\u001b[39mobj:\n\u001b[1;32m--> 244\u001b[0m         \u001b[38;5;28;01mraise\u001b[39;00m \u001b[38;5;167;01mKeyError\u001b[39;00m(\u001b[38;5;124mf\u001b[39m\u001b[38;5;124m\"\u001b[39m\u001b[38;5;124mColumn not found: \u001b[39m\u001b[38;5;132;01m{\u001b[39;00mkey\u001b[38;5;132;01m}\u001b[39;00m\u001b[38;5;124m\"\u001b[39m)\n\u001b[0;32m    245\u001b[0m     ndim \u001b[38;5;241m=\u001b[39m \u001b[38;5;28mself\u001b[39m\u001b[38;5;241m.\u001b[39mobj[key]\u001b[38;5;241m.\u001b[39mndim\n\u001b[0;32m    246\u001b[0m     \u001b[38;5;28;01mreturn\u001b[39;00m \u001b[38;5;28mself\u001b[39m\u001b[38;5;241m.\u001b[39m_gotitem(key, ndim\u001b[38;5;241m=\u001b[39mndim)\n",
      "\u001b[1;31mKeyError\u001b[0m: 'Column not found: CO2 Emission from Gasoline (metric ton)'"
     ]
    }
   ],
   "source": [
    "CO2_gaso = df_msa_veh_vmt.groupby('MSA')['CO2 Emission from Gasoline (metric ton)'].sum()\n",
    "CH4_gaso = df_msa_veh_vmt.groupby('MSA')['CH4 Emission from Gasoline (metric ton)'].sum()\n",
    "N2O_gaso =df_msa_veh_vmt.groupby('MSA')['N2O Emission from Gasoline (metric ton)'].sum()\n",
    "\n",
    "CO2_diese = df_msa_veh_vmt.groupby('MSA')['CO2 Emission from Diesel (metric ton)'].sum()\n",
    "CH4_diese = df_msa_veh_vmt.groupby('MSA')['CH4 Emission from Diesel (metric ton)'].sum()\n",
    "N2O_diese =df_msa_veh_vmt.groupby('MSA')['N2O Emission from Diesel (metric ton)'].sum()"
   ]
  },
  {
   "cell_type": "code",
   "execution_count": 56,
   "id": "f63f4cdc-c30e-4e1e-88ef-ff2f92a2f4fd",
   "metadata": {
    "tags": []
   },
   "outputs": [
    {
     "ename": "NameError",
     "evalue": "name 'sum_gaso' is not defined",
     "output_type": "error",
     "traceback": [
      "\u001b[1;31m---------------------------------------------------------------------------\u001b[0m",
      "\u001b[1;31mNameError\u001b[0m                                 Traceback (most recent call last)",
      "Cell \u001b[1;32mIn[56], line 1\u001b[0m\n\u001b[1;32m----> 1\u001b[0m data \u001b[38;5;241m=\u001b[39m [[\u001b[38;5;124m'\u001b[39m\u001b[38;5;124mGasoline Emissions\u001b[39m\u001b[38;5;124m'\u001b[39m,sum_gaso], [\u001b[38;5;124m'\u001b[39m\u001b[38;5;124mDiesel Emissions\u001b[39m\u001b[38;5;124m'\u001b[39m, sum_diesel], [\u001b[38;5;124m'\u001b[39m\u001b[38;5;124mTotal Emissions\u001b[39m\u001b[38;5;124m'\u001b[39m,sum_total]]\n\u001b[0;32m      2\u001b[0m df_emission \u001b[38;5;241m=\u001b[39m pd\u001b[38;5;241m.\u001b[39mDataFrame(data, columns\u001b[38;5;241m=\u001b[39m[\u001b[38;5;124m'\u001b[39m\u001b[38;5;124mMSA\u001b[39m\u001b[38;5;124m'\u001b[39m, \u001b[38;5;124m'\u001b[39m\u001b[38;5;124mEmissions\u001b[39m\u001b[38;5;124m'\u001b[39m])\n\u001b[0;32m      3\u001b[0m df \u001b[38;5;241m=\u001b[39m pd\u001b[38;5;241m.\u001b[39mDataFrame({\u001b[38;5;124m'\u001b[39m\u001b[38;5;124mGasoline Emissions\u001b[39m\u001b[38;5;124m'\u001b[39m: sum_gaso[\u001b[38;5;241m0\u001b[39m:\u001b[38;5;241m3\u001b[39m], \u001b[38;5;124m'\u001b[39m\u001b[38;5;124mDiesel Emissions\u001b[39m\u001b[38;5;124m'\u001b[39m:sum_diesel[\u001b[38;5;241m0\u001b[39m:\u001b[38;5;241m3\u001b[39m], \u001b[38;5;124m'\u001b[39m\u001b[38;5;124mTotal Emissions\u001b[39m\u001b[38;5;124m'\u001b[39m:sum_total[\u001b[38;5;241m0\u001b[39m:\u001b[38;5;241m3\u001b[39m]})\n",
      "\u001b[1;31mNameError\u001b[0m: name 'sum_gaso' is not defined"
     ]
    }
   ],
   "source": [
    "data = [['Gasoline Emissions',sum_gaso], ['Diesel Emissions', sum_diesel], ['Total Emissions',sum_total]]\n",
    "df_emission = pd.DataFrame(data, columns=['MSA', 'Emissions'])\n",
    "df = pd.DataFrame({'Gasoline Emissions': sum_gaso[0:3], 'Diesel Emissions':sum_diesel[0:3], 'Total Emissions':sum_total[0:3]})"
   ]
  },
  {
   "cell_type": "code",
   "execution_count": 57,
   "id": "a69f68c7-6b5a-4f48-997c-948c53d89d7c",
   "metadata": {
    "tags": []
   },
   "outputs": [
    {
     "data": {
      "text/plain": [
       "MSA\n",
       "Bridgeport-Stamford-Norwalk          3.118078e+06\n",
       "Hartford-East Hartford-Middletown    4.420515e+06\n",
       "New Haven-Milford                    2.918415e+06\n",
       "Name: CO2 Emission from Gasoline (metric ton), dtype: float64"
      ]
     },
     "execution_count": 57,
     "metadata": {},
     "output_type": "execute_result"
    }
   ],
   "source": [
    "CO2_gaso"
   ]
  },
  {
   "cell_type": "code",
   "execution_count": null,
   "id": "af56192c-eb49-41cb-9b4d-5771249ac4ec",
   "metadata": {},
   "outputs": [],
   "source": []
  }
 ],
 "metadata": {
  "kernelspec": {
   "display_name": "Python 3 (ipykernel)",
   "language": "python",
   "name": "python3"
  },
  "language_info": {
   "codemirror_mode": {
    "name": "ipython",
    "version": 3
   },
   "file_extension": ".py",
   "mimetype": "text/x-python",
   "name": "python",
   "nbconvert_exporter": "python",
   "pygments_lexer": "ipython3",
   "version": "3.11.5"
  }
 },
 "nbformat": 4,
 "nbformat_minor": 5
}
