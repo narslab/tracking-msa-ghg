{
 "cells": [
  {
   "cell_type": "code",
   "execution_count": 1,
   "id": "69ab8de4-3116-4574-9674-94b2d6221aa3",
   "metadata": {
    "tags": []
   },
   "outputs": [],
   "source": [
    "import pandas as pd\n",
    "import numpy as np\n",
    "import os\n",
    "import string\n",
    "import matplotlib.pyplot as plt\n",
    "import seaborn as sns"
   ]
  },
  {
   "cell_type": "code",
   "execution_count": 2,
   "id": "86938030-b622-4fda-89d3-1ac181290a29",
   "metadata": {
    "tags": []
   },
   "outputs": [],
   "source": [
    "land_cover_CT = pd.read_excel('../../../data/raw/table 2015.xlsx', sheet_name='Sheet 1')\n",
    "town_MSA = pd.read_excel('../../../data/tidy/Town-name-MSA.xls', sheet_name='CEC_AggregateEnergyUsgeReport')"
   ]
  },
  {
   "cell_type": "code",
   "execution_count": 3,
   "id": "59d3e6ed-9a23-430d-b510-7d5cd77b51c5",
   "metadata": {
    "tags": []
   },
   "outputs": [],
   "source": [
    "land_cover_CT\n",
    "land_cover_CT_cleaned = land_cover_CT.dropna()\n",
    "land_cover_CT_cleaned = land_cover_CT_cleaned.reset_index(drop=True)"
   ]
  },
  {
   "cell_type": "code",
   "execution_count": 4,
   "id": "2de9d0e8-9810-4bba-8a5c-977e58edbda7",
   "metadata": {
    "tags": []
   },
   "outputs": [],
   "source": [
    "land_cover_CT_only_town = land_cover_CT_cleaned.drop(land_cover_CT_cleaned.index[-1])"
   ]
  },
  {
   "cell_type": "code",
   "execution_count": 5,
   "id": "17dd0467-3717-46dc-91b0-95b41cc95adb",
   "metadata": {
    "tags": []
   },
   "outputs": [
    {
     "data": {
      "text/html": [
       "<div>\n",
       "<style scoped>\n",
       "    .dataframe tbody tr th:only-of-type {\n",
       "        vertical-align: middle;\n",
       "    }\n",
       "\n",
       "    .dataframe tbody tr th {\n",
       "        vertical-align: top;\n",
       "    }\n",
       "\n",
       "    .dataframe thead th {\n",
       "        text-align: right;\n",
       "    }\n",
       "</style>\n",
       "<table border=\"1\" class=\"dataframe\">\n",
       "  <thead>\n",
       "    <tr style=\"text-align: right;\">\n",
       "      <th></th>\n",
       "      <th>Town</th>\n",
       "      <th>Unnamed: 1</th>\n",
       "      <th>developed</th>\n",
       "      <th>turf &amp; grass</th>\n",
       "      <th>other grass</th>\n",
       "      <th>ag field</th>\n",
       "      <th>deciduous forest</th>\n",
       "      <th>coniferous forest</th>\n",
       "      <th>water</th>\n",
       "      <th>non-forested wetland</th>\n",
       "      <th>forested wetland</th>\n",
       "      <th>tidal wetland</th>\n",
       "      <th>barren</th>\n",
       "      <th>utility row</th>\n",
       "    </tr>\n",
       "  </thead>\n",
       "  <tbody>\n",
       "    <tr>\n",
       "      <th>0</th>\n",
       "      <td>Andover</td>\n",
       "      <td>2015</td>\n",
       "      <td>901.2</td>\n",
       "      <td>326.6</td>\n",
       "      <td>249.7</td>\n",
       "      <td>488.6</td>\n",
       "      <td>7197.5</td>\n",
       "      <td>76.8</td>\n",
       "      <td>339.6</td>\n",
       "      <td>75.3</td>\n",
       "      <td>267.3</td>\n",
       "      <td>0.0</td>\n",
       "      <td>23.4</td>\n",
       "      <td>110.9</td>\n",
       "    </tr>\n",
       "    <tr>\n",
       "      <th>1</th>\n",
       "      <td>Ansonia</td>\n",
       "      <td>2015</td>\n",
       "      <td>1920.4</td>\n",
       "      <td>382.4</td>\n",
       "      <td>43.3</td>\n",
       "      <td>32.3</td>\n",
       "      <td>1378.0</td>\n",
       "      <td>38.2</td>\n",
       "      <td>125.1</td>\n",
       "      <td>14.7</td>\n",
       "      <td>42.5</td>\n",
       "      <td>0.0</td>\n",
       "      <td>23.2</td>\n",
       "      <td>0.0</td>\n",
       "    </tr>\n",
       "    <tr>\n",
       "      <th>2</th>\n",
       "      <td>Ashford</td>\n",
       "      <td>2015</td>\n",
       "      <td>1875.5</td>\n",
       "      <td>677.3</td>\n",
       "      <td>306.6</td>\n",
       "      <td>1816.5</td>\n",
       "      <td>16275.5</td>\n",
       "      <td>2541.4</td>\n",
       "      <td>536.4</td>\n",
       "      <td>198.1</td>\n",
       "      <td>1015.3</td>\n",
       "      <td>0.0</td>\n",
       "      <td>25.9</td>\n",
       "      <td>0.0</td>\n",
       "    </tr>\n",
       "    <tr>\n",
       "      <th>3</th>\n",
       "      <td>Avon</td>\n",
       "      <td>2015</td>\n",
       "      <td>3550.7</td>\n",
       "      <td>1773.9</td>\n",
       "      <td>275.1</td>\n",
       "      <td>511.0</td>\n",
       "      <td>5730.5</td>\n",
       "      <td>2167.5</td>\n",
       "      <td>440.8</td>\n",
       "      <td>24.5</td>\n",
       "      <td>422.6</td>\n",
       "      <td>0.0</td>\n",
       "      <td>74.1</td>\n",
       "      <td>21.7</td>\n",
       "    </tr>\n",
       "    <tr>\n",
       "      <th>4</th>\n",
       "      <td>Barkhamsted</td>\n",
       "      <td>2015</td>\n",
       "      <td>1826.6</td>\n",
       "      <td>494.5</td>\n",
       "      <td>320.1</td>\n",
       "      <td>548.1</td>\n",
       "      <td>6932.8</td>\n",
       "      <td>11942.5</td>\n",
       "      <td>1821.8</td>\n",
       "      <td>86.3</td>\n",
       "      <td>692.1</td>\n",
       "      <td>0.0</td>\n",
       "      <td>57.8</td>\n",
       "      <td>52.9</td>\n",
       "    </tr>\n",
       "    <tr>\n",
       "      <th>...</th>\n",
       "      <td>...</td>\n",
       "      <td>...</td>\n",
       "      <td>...</td>\n",
       "      <td>...</td>\n",
       "      <td>...</td>\n",
       "      <td>...</td>\n",
       "      <td>...</td>\n",
       "      <td>...</td>\n",
       "      <td>...</td>\n",
       "      <td>...</td>\n",
       "      <td>...</td>\n",
       "      <td>...</td>\n",
       "      <td>...</td>\n",
       "      <td>...</td>\n",
       "    </tr>\n",
       "    <tr>\n",
       "      <th>164</th>\n",
       "      <td>Windsor Locks</td>\n",
       "      <td>2015</td>\n",
       "      <td>3274.8</td>\n",
       "      <td>615.1</td>\n",
       "      <td>440.8</td>\n",
       "      <td>181.7</td>\n",
       "      <td>1066.9</td>\n",
       "      <td>38.3</td>\n",
       "      <td>239.4</td>\n",
       "      <td>1.1</td>\n",
       "      <td>58.0</td>\n",
       "      <td>0.0</td>\n",
       "      <td>60.2</td>\n",
       "      <td>0.0</td>\n",
       "    </tr>\n",
       "    <tr>\n",
       "      <th>165</th>\n",
       "      <td>Wolcott</td>\n",
       "      <td>2015</td>\n",
       "      <td>2809.1</td>\n",
       "      <td>856.6</td>\n",
       "      <td>243.8</td>\n",
       "      <td>75.7</td>\n",
       "      <td>8030.9</td>\n",
       "      <td>401.4</td>\n",
       "      <td>495.9</td>\n",
       "      <td>11.2</td>\n",
       "      <td>385.4</td>\n",
       "      <td>0.0</td>\n",
       "      <td>85.4</td>\n",
       "      <td>144.3</td>\n",
       "    </tr>\n",
       "    <tr>\n",
       "      <th>166</th>\n",
       "      <td>Woodbridge</td>\n",
       "      <td>2015</td>\n",
       "      <td>2419.3</td>\n",
       "      <td>1414.3</td>\n",
       "      <td>168.2</td>\n",
       "      <td>291.0</td>\n",
       "      <td>6713.7</td>\n",
       "      <td>414.0</td>\n",
       "      <td>254.2</td>\n",
       "      <td>63.7</td>\n",
       "      <td>421.7</td>\n",
       "      <td>0.0</td>\n",
       "      <td>17.0</td>\n",
       "      <td>106.9</td>\n",
       "    </tr>\n",
       "    <tr>\n",
       "      <th>167</th>\n",
       "      <td>Woodbury</td>\n",
       "      <td>2015</td>\n",
       "      <td>2477.2</td>\n",
       "      <td>1313.5</td>\n",
       "      <td>293.5</td>\n",
       "      <td>3233.5</td>\n",
       "      <td>13533.7</td>\n",
       "      <td>1611.7</td>\n",
       "      <td>232.3</td>\n",
       "      <td>57.5</td>\n",
       "      <td>559.9</td>\n",
       "      <td>0.0</td>\n",
       "      <td>148.2</td>\n",
       "      <td>54.0</td>\n",
       "    </tr>\n",
       "    <tr>\n",
       "      <th>168</th>\n",
       "      <td>Woodstock</td>\n",
       "      <td>2015</td>\n",
       "      <td>3230.1</td>\n",
       "      <td>1534.6</td>\n",
       "      <td>621.5</td>\n",
       "      <td>6438.3</td>\n",
       "      <td>13640.7</td>\n",
       "      <td>10123.5</td>\n",
       "      <td>1095.4</td>\n",
       "      <td>331.5</td>\n",
       "      <td>2431.9</td>\n",
       "      <td>0.0</td>\n",
       "      <td>47.4</td>\n",
       "      <td>0.0</td>\n",
       "    </tr>\n",
       "  </tbody>\n",
       "</table>\n",
       "<p>169 rows × 14 columns</p>\n",
       "</div>"
      ],
      "text/plain": [
       "              Town Unnamed: 1  developed  turf & grass  other grass  ag field  \\\n",
       "0          Andover       2015      901.2         326.6        249.7     488.6   \n",
       "1          Ansonia       2015     1920.4         382.4         43.3      32.3   \n",
       "2          Ashford       2015     1875.5         677.3        306.6    1816.5   \n",
       "3             Avon       2015     3550.7        1773.9        275.1     511.0   \n",
       "4      Barkhamsted       2015     1826.6         494.5        320.1     548.1   \n",
       "..             ...        ...        ...           ...          ...       ...   \n",
       "164  Windsor Locks       2015     3274.8         615.1        440.8     181.7   \n",
       "165        Wolcott       2015     2809.1         856.6        243.8      75.7   \n",
       "166     Woodbridge       2015     2419.3        1414.3        168.2     291.0   \n",
       "167       Woodbury       2015     2477.2        1313.5        293.5    3233.5   \n",
       "168      Woodstock       2015     3230.1        1534.6        621.5    6438.3   \n",
       "\n",
       "     deciduous forest  coniferous forest   water  non-forested wetland  \\\n",
       "0              7197.5               76.8   339.6                  75.3   \n",
       "1              1378.0               38.2   125.1                  14.7   \n",
       "2             16275.5             2541.4   536.4                 198.1   \n",
       "3              5730.5             2167.5   440.8                  24.5   \n",
       "4              6932.8            11942.5  1821.8                  86.3   \n",
       "..                ...                ...     ...                   ...   \n",
       "164            1066.9               38.3   239.4                   1.1   \n",
       "165            8030.9              401.4   495.9                  11.2   \n",
       "166            6713.7              414.0   254.2                  63.7   \n",
       "167           13533.7             1611.7   232.3                  57.5   \n",
       "168           13640.7            10123.5  1095.4                 331.5   \n",
       "\n",
       "     forested wetland  tidal wetland  barren  utility row  \n",
       "0               267.3            0.0    23.4        110.9  \n",
       "1                42.5            0.0    23.2          0.0  \n",
       "2              1015.3            0.0    25.9          0.0  \n",
       "3               422.6            0.0    74.1         21.7  \n",
       "4               692.1            0.0    57.8         52.9  \n",
       "..                ...            ...     ...          ...  \n",
       "164              58.0            0.0    60.2          0.0  \n",
       "165             385.4            0.0    85.4        144.3  \n",
       "166             421.7            0.0    17.0        106.9  \n",
       "167             559.9            0.0   148.2         54.0  \n",
       "168            2431.9            0.0    47.4          0.0  \n",
       "\n",
       "[169 rows x 14 columns]"
      ]
     },
     "execution_count": 5,
     "metadata": {},
     "output_type": "execute_result"
    }
   ],
   "source": [
    "land_cover_CT_only_town "
   ]
  },
  {
   "cell_type": "code",
   "execution_count": 6,
   "id": "0d46646b-34b8-4960-8e37-47901ceb50a3",
   "metadata": {
    "tags": []
   },
   "outputs": [],
   "source": [
    "# Specify the position (column index) where you want to insert the new column\n",
    "position = 1  # Insert between the first and second columns\n",
    "\n",
    "# Insert the new column\n",
    "land_cover_CT_only_town.insert(position, 'County', town_MSA['County Name'])"
   ]
  },
  {
   "cell_type": "code",
   "execution_count": 7,
   "id": "04db97b8-da3b-4f6d-b6f9-a659bfb747fd",
   "metadata": {
    "tags": []
   },
   "outputs": [],
   "source": [
    "land_cover_CT_only_town\n",
    "land_cover_CT_only_town.to_csv('../../../data/tidy/land_cover_CT.csv')"
   ]
  },
  {
   "cell_type": "code",
   "execution_count": 8,
   "id": "a446fd2d-9708-4dd3-b289-3870929b2616",
   "metadata": {
    "tags": []
   },
   "outputs": [],
   "source": [
    "land_cover_CT_only_town\n",
    "\n",
    "#just change the county name of the five town\n",
    "land_cover_CT_only_town.loc[land_cover_CT_only_town['Town'] == 'Bridgewater', 'County'] = 'Fairfield'\n",
    "land_cover_CT_only_town.loc[land_cover_CT_only_town['Town'] == 'New Milford', 'County'] = 'Fairfield'\n",
    "land_cover_CT_only_town.loc[land_cover_CT_only_town['Town'] == 'Lyme', 'County'] = 'Hartford'\n",
    "land_cover_CT_only_town.loc[land_cover_CT_only_town['Town'] == 'Old Lyme', 'County'] = 'Hartford'\n",
    "land_cover_CT_only_town.loc[land_cover_CT_only_town['Town'] == 'Colchester', 'County'] = 'Hartford'"
   ]
  },
  {
   "cell_type": "code",
   "execution_count": 9,
   "id": "137a82b7-fd0d-4f92-b17e-aeb267b43cc9",
   "metadata": {
    "tags": []
   },
   "outputs": [],
   "source": [
    "target_values = ['Tolland', 'New Haven', 'Hartford','Middlesex', 'Fairfield']  # Replace with your specific target values\n",
    "\n",
    "# Create a boolean mask to filter rows based on the target values\n",
    "mask = land_cover_CT_only_town['County'].isin(target_values)  # Replace 'Column_Name' with the actual column name\n",
    "\n",
    "# Keep only the rows with the specified values in the specified column\n",
    "land_cover_filtered = land_cover_CT_only_town[mask]"
   ]
  },
  {
   "cell_type": "code",
   "execution_count": 10,
   "id": "cd6ae2ca-e91a-4d2f-9447-f42cd93b52a9",
   "metadata": {
    "tags": []
   },
   "outputs": [],
   "source": [
    "land_cover_filtered = land_cover_filtered.reset_index(drop=True)"
   ]
  },
  {
   "cell_type": "code",
   "execution_count": 11,
   "id": "33431d64-e056-4c10-a6db-a4b3bcc08fab",
   "metadata": {
    "tags": []
   },
   "outputs": [],
   "source": [
    "target = ['Tolland', 'Hartford','Middlesex']  # Replace with your specific target values\n",
    "\n",
    "# Create a boolean mask to filter rows based on the target values\n",
    "mask = land_cover_filtered['County'].isin(target)  # Replace 'Column_Name' with the actual column name\n",
    "\n",
    "# Keep only the rows with the specified values in the specified column\n",
    "land_cover_HEM = land_cover_filtered[mask]"
   ]
  },
  {
   "cell_type": "code",
   "execution_count": 16,
   "id": "817566df-c0db-4e6f-911c-fdbf083a6dca",
   "metadata": {
    "tags": []
   },
   "outputs": [
    {
     "data": {
      "text/plain": [
       "deciduous forest     474539.6\n",
       "coniferous forest     87224.3\n",
       "forested wetland      37719.0\n",
       "dtype: float64"
      ]
     },
     "execution_count": 16,
     "metadata": {},
     "output_type": "execute_result"
    }
   ],
   "source": [
    "columns_to_sum = ['deciduous forest', 'coniferous forest', 'forested wetland']  # Replace with your specific column names\n",
    "\n",
    "# Calculate the sum of the specified columns\n",
    "sum_of_columns_HEM = land_cover_HEM[columns_to_sum].sum()\n",
    "sum_of_columns_HEM"
   ]
  },
  {
   "cell_type": "code",
   "execution_count": 25,
   "id": "1171d093-5a56-44c7-bbd9-b89d37ba7347",
   "metadata": {
    "jupyter": {
     "source_hidden": true
    },
    "tags": []
   },
   "outputs": [
    {
     "data": {
      "text/plain": [
       "deciduous forest     165339.9\n",
       "coniferous forest     13004.8\n",
       "forested wetland      11402.3\n",
       "dtype: float64"
      ]
     },
     "execution_count": 25,
     "metadata": {},
     "output_type": "execute_result"
    }
   ],
   "source": [
    "target = ['New Haven']  # Replace with your specific target values\n",
    "\n",
    "# Create a boolean mask to filter rows based on the target values\n",
    "mask = land_cover_filtered['County'].isin(target)  # Replace 'Column_Name' with the actual column name\n",
    "\n",
    "# Keep only the rows with the specified values in the specified column\n",
    "land_cover_NHM = land_cover_filtered[mask]\n",
    "# Calculate the sum of the specified columns\n",
    "sum_of_columns_NHM = land_cover_NHM[columns_to_sum].sum()\n",
    "sum_of_columns_NHM"
   ]
  },
  {
   "cell_type": "code",
   "execution_count": 18,
   "id": "96cefe1b-d3af-4b88-a354-d69d350e6825",
   "metadata": {
    "tags": []
   },
   "outputs": [
    {
     "data": {
      "text/plain": [
       "deciduous forest     192503.0\n",
       "coniferous forest     18299.9\n",
       "forested wetland      11986.5\n",
       "dtype: float64"
      ]
     },
     "execution_count": 18,
     "metadata": {},
     "output_type": "execute_result"
    }
   ],
   "source": [
    "target = ['Fairfield']  # Replace with your specific target values\n",
    "\n",
    "# Create a boolean mask to filter rows based on the target values\n",
    "mask = land_cover_filtered['County'].isin(target)  # Replace 'Column_Name' with the actual column name\n",
    "\n",
    "# Keep only the rows with the specified values in the specified column\n",
    "land_cover_BSN = land_cover_filtered[mask]\n",
    "# Calculate the sum of the specified columns\n",
    "sum_of_columns_BSN = land_cover_BSN[columns_to_sum].sum()\n",
    "sum_of_columns_BSN"
   ]
  },
  {
   "cell_type": "code",
   "execution_count": 19,
   "id": "489d6e82-52d1-4a25-bf11-c75b9f2fb4a2",
   "metadata": {
    "tags": []
   },
   "outputs": [
    {
     "data": {
      "text/plain": [
       "deciduous forest     165339.9\n",
       "coniferous forest     13004.8\n",
       "forested wetland      11402.3\n",
       "dtype: float64"
      ]
     },
     "execution_count": 19,
     "metadata": {},
     "output_type": "execute_result"
    }
   ],
   "source": [
    "target = ['New Haven']  # Replace with your specific target values\n",
    "\n",
    "# Create a boolean mask to filter rows based on the target values\n",
    "mask = land_cover_filtered['County'].isin(target)  # Replace 'Column_Name' with the actual column name\n",
    "\n",
    "# Keep only the rows with the specified values in the specified column\n",
    "land_cover_NHM = land_cover_filtered[mask]\n",
    "# Calculate the sum of the specified columns\n",
    "sum_of_columns_NHM = land_cover_NHM[columns_to_sum].sum()\n",
    "sum_of_columns_NHM"
   ]
  },
  {
   "cell_type": "code",
   "execution_count": 20,
   "id": "ab93740b-e4af-4fa1-9842-d9d9314557d9",
   "metadata": {
    "tags": []
   },
   "outputs": [],
   "source": [
    "df = pd.DataFrame({'BSN': sum_of_columns_BSN, 'HEM':sum_of_columns_HEM,'NHM':sum_of_columns_NHM})"
   ]
  },
  {
   "cell_type": "code",
   "execution_count": 21,
   "id": "c433f3c9-35e8-4912-99db-562ed5d38b83",
   "metadata": {
    "tags": []
   },
   "outputs": [
    {
     "data": {
      "text/html": [
       "<div>\n",
       "<style scoped>\n",
       "    .dataframe tbody tr th:only-of-type {\n",
       "        vertical-align: middle;\n",
       "    }\n",
       "\n",
       "    .dataframe tbody tr th {\n",
       "        vertical-align: top;\n",
       "    }\n",
       "\n",
       "    .dataframe thead th {\n",
       "        text-align: right;\n",
       "    }\n",
       "</style>\n",
       "<table border=\"1\" class=\"dataframe\">\n",
       "  <thead>\n",
       "    <tr style=\"text-align: right;\">\n",
       "      <th></th>\n",
       "      <th>BSN</th>\n",
       "      <th>HEM</th>\n",
       "      <th>NHM</th>\n",
       "    </tr>\n",
       "  </thead>\n",
       "  <tbody>\n",
       "    <tr>\n",
       "      <th>deciduous forest</th>\n",
       "      <td>192503.0</td>\n",
       "      <td>474539.6</td>\n",
       "      <td>165339.9</td>\n",
       "    </tr>\n",
       "    <tr>\n",
       "      <th>coniferous forest</th>\n",
       "      <td>18299.9</td>\n",
       "      <td>87224.3</td>\n",
       "      <td>13004.8</td>\n",
       "    </tr>\n",
       "    <tr>\n",
       "      <th>forested wetland</th>\n",
       "      <td>11986.5</td>\n",
       "      <td>37719.0</td>\n",
       "      <td>11402.3</td>\n",
       "    </tr>\n",
       "  </tbody>\n",
       "</table>\n",
       "</div>"
      ],
      "text/plain": [
       "                        BSN       HEM       NHM\n",
       "deciduous forest   192503.0  474539.6  165339.9\n",
       "coniferous forest   18299.9   87224.3   13004.8\n",
       "forested wetland    11986.5   37719.0   11402.3"
      ]
     },
     "execution_count": 21,
     "metadata": {},
     "output_type": "execute_result"
    }
   ],
   "source": [
    "df"
   ]
  },
  {
   "cell_type": "code",
   "execution_count": 22,
   "id": "3b28062a-2493-431e-959e-83de193326da",
   "metadata": {
    "tags": []
   },
   "outputs": [],
   "source": [
    "MSA_land = df.T"
   ]
  },
  {
   "cell_type": "code",
   "execution_count": 23,
   "id": "ea34555f-7fc1-479b-93d3-3d1edbef9735",
   "metadata": {
    "tags": []
   },
   "outputs": [
    {
     "data": {
      "text/html": [
       "<div>\n",
       "<style scoped>\n",
       "    .dataframe tbody tr th:only-of-type {\n",
       "        vertical-align: middle;\n",
       "    }\n",
       "\n",
       "    .dataframe tbody tr th {\n",
       "        vertical-align: top;\n",
       "    }\n",
       "\n",
       "    .dataframe thead th {\n",
       "        text-align: right;\n",
       "    }\n",
       "</style>\n",
       "<table border=\"1\" class=\"dataframe\">\n",
       "  <thead>\n",
       "    <tr style=\"text-align: right;\">\n",
       "      <th></th>\n",
       "      <th>deciduous forest</th>\n",
       "      <th>coniferous forest</th>\n",
       "      <th>forested wetland</th>\n",
       "    </tr>\n",
       "  </thead>\n",
       "  <tbody>\n",
       "    <tr>\n",
       "      <th>BSN</th>\n",
       "      <td>192503.0</td>\n",
       "      <td>18299.9</td>\n",
       "      <td>11986.5</td>\n",
       "    </tr>\n",
       "    <tr>\n",
       "      <th>HEM</th>\n",
       "      <td>474539.6</td>\n",
       "      <td>87224.3</td>\n",
       "      <td>37719.0</td>\n",
       "    </tr>\n",
       "    <tr>\n",
       "      <th>NHM</th>\n",
       "      <td>165339.9</td>\n",
       "      <td>13004.8</td>\n",
       "      <td>11402.3</td>\n",
       "    </tr>\n",
       "  </tbody>\n",
       "</table>\n",
       "</div>"
      ],
      "text/plain": [
       "     deciduous forest  coniferous forest  forested wetland\n",
       "BSN          192503.0            18299.9           11986.5\n",
       "HEM          474539.6            87224.3           37719.0\n",
       "NHM          165339.9            13004.8           11402.3"
      ]
     },
     "execution_count": 23,
     "metadata": {},
     "output_type": "execute_result"
    }
   ],
   "source": [
    "MSA_land# the unit are acres"
   ]
  },
  {
   "cell_type": "code",
   "execution_count": 24,
   "id": "533815a9-509a-4b59-8555-afed50e1b11b",
   "metadata": {
    "tags": []
   },
   "outputs": [],
   "source": [
    "MSA_land['Deciduous forest (hectare)']=MSA_land['deciduous forest']*0.4047\n",
    "MSA_land['Coniferous forest (hectare)']=MSA_land['coniferous forest']*0.4047\n",
    "MSA_land['Forested wetland (hectare)']=MSA_land['forested wetland']*0.4047"
   ]
  },
  {
   "cell_type": "code",
   "execution_count": 25,
   "id": "6f89ebfd-5256-445e-b7e0-9b34ef199e9a",
   "metadata": {
    "tags": []
   },
   "outputs": [],
   "source": [
    "#calculate the carbon dioxide sequestration rate\n",
    "#sequestration rate = 2.23 metric ton/hectare/year\n",
    "MSA_land['Deciduous forest sequestration (MTCO2e)'] = MSA_land['Deciduous forest (hectare)']*2.23*44/12\n",
    "MSA_land['Coniferous forest sequestration (MTCO2e)'] = MSA_land['Coniferous forest (hectare)']*2.23*44/12\n",
    "MSA_land['Forested wetland sequestration (MTCO2e)'] = MSA_land['Forested wetland (hectare)']*2.23*44/12"
   ]
  },
  {
   "cell_type": "code",
   "execution_count": 26,
   "id": "86c03cb5-4988-4c1e-8bca-b643abac2a12",
   "metadata": {
    "tags": []
   },
   "outputs": [
    {
     "data": {
      "text/html": [
       "<div>\n",
       "<style scoped>\n",
       "    .dataframe tbody tr th:only-of-type {\n",
       "        vertical-align: middle;\n",
       "    }\n",
       "\n",
       "    .dataframe tbody tr th {\n",
       "        vertical-align: top;\n",
       "    }\n",
       "\n",
       "    .dataframe thead th {\n",
       "        text-align: right;\n",
       "    }\n",
       "</style>\n",
       "<table border=\"1\" class=\"dataframe\">\n",
       "  <thead>\n",
       "    <tr style=\"text-align: right;\">\n",
       "      <th></th>\n",
       "      <th>deciduous forest</th>\n",
       "      <th>coniferous forest</th>\n",
       "      <th>forested wetland</th>\n",
       "      <th>Deciduous forest (hectare)</th>\n",
       "      <th>Coniferous forest (hectare)</th>\n",
       "      <th>Forested wetland (hectare)</th>\n",
       "      <th>Deciduous forest sequestration (MTCO2e)</th>\n",
       "      <th>Coniferous forest sequestration (MTCO2e)</th>\n",
       "      <th>Forested wetland sequestration (MTCO2e)</th>\n",
       "    </tr>\n",
       "  </thead>\n",
       "  <tbody>\n",
       "    <tr>\n",
       "      <th>BSN</th>\n",
       "      <td>192503.0</td>\n",
       "      <td>18299.9</td>\n",
       "      <td>11986.5</td>\n",
       "      <td>77905.96410</td>\n",
       "      <td>7405.96953</td>\n",
       "      <td>4850.93655</td>\n",
       "      <td>6.370111e+05</td>\n",
       "      <td>60556.144190</td>\n",
       "      <td>39664.491190</td>\n",
       "    </tr>\n",
       "    <tr>\n",
       "      <th>HEM</th>\n",
       "      <td>474539.6</td>\n",
       "      <td>87224.3</td>\n",
       "      <td>37719.0</td>\n",
       "      <td>192046.17612</td>\n",
       "      <td>35299.67421</td>\n",
       "      <td>15264.87930</td>\n",
       "      <td>1.570298e+06</td>\n",
       "      <td>288633.669457</td>\n",
       "      <td>124815.829743</td>\n",
       "    </tr>\n",
       "    <tr>\n",
       "      <th>NHM</th>\n",
       "      <td>165339.9</td>\n",
       "      <td>13004.8</td>\n",
       "      <td>11402.3</td>\n",
       "      <td>66913.05753</td>\n",
       "      <td>5263.04256</td>\n",
       "      <td>4614.51081</td>\n",
       "      <td>5.471258e+05</td>\n",
       "      <td>43034.144666</td>\n",
       "      <td>37731.316723</td>\n",
       "    </tr>\n",
       "  </tbody>\n",
       "</table>\n",
       "</div>"
      ],
      "text/plain": [
       "     deciduous forest  coniferous forest  forested wetland  \\\n",
       "BSN          192503.0            18299.9           11986.5   \n",
       "HEM          474539.6            87224.3           37719.0   \n",
       "NHM          165339.9            13004.8           11402.3   \n",
       "\n",
       "     Deciduous forest (hectare)  Coniferous forest (hectare)  \\\n",
       "BSN                 77905.96410                   7405.96953   \n",
       "HEM                192046.17612                  35299.67421   \n",
       "NHM                 66913.05753                   5263.04256   \n",
       "\n",
       "     Forested wetland (hectare)  Deciduous forest sequestration (MTCO2e)  \\\n",
       "BSN                  4850.93655                             6.370111e+05   \n",
       "HEM                 15264.87930                             1.570298e+06   \n",
       "NHM                  4614.51081                             5.471258e+05   \n",
       "\n",
       "     Coniferous forest sequestration (MTCO2e)  \\\n",
       "BSN                              60556.144190   \n",
       "HEM                             288633.669457   \n",
       "NHM                              43034.144666   \n",
       "\n",
       "     Forested wetland sequestration (MTCO2e)  \n",
       "BSN                             39664.491190  \n",
       "HEM                            124815.829743  \n",
       "NHM                             37731.316723  "
      ]
     },
     "execution_count": 26,
     "metadata": {},
     "output_type": "execute_result"
    }
   ],
   "source": [
    "MSA_land"
   ]
  },
  {
   "cell_type": "code",
   "execution_count": 27,
   "id": "a859273d-3423-4d39-b684-e85125cab7ea",
   "metadata": {
    "tags": []
   },
   "outputs": [],
   "source": [
    "columns_to_delete = ['deciduous forest', 'coniferous forest', 'forested wetland']  # Replace with your specific column names\n",
    "\n",
    "# Drop the specified columns\n",
    "MSA_land = MSA_land.drop(columns=columns_to_delete)\n"
   ]
  },
  {
   "cell_type": "code",
   "execution_count": 28,
   "id": "90ada050-9766-4777-a890-139aea96ec26",
   "metadata": {
    "tags": []
   },
   "outputs": [],
   "source": [
    "total = MSA_land.iloc[:, -3:].sum(axis=1)"
   ]
  },
  {
   "cell_type": "code",
   "execution_count": 29,
   "id": "40e8b672-00f8-446b-b76c-469f2856fda0",
   "metadata": {
    "tags": []
   },
   "outputs": [],
   "source": [
    "MSA_land['Total carbon sequestration (MMTCO2e)']=total/1000000"
   ]
  },
  {
   "cell_type": "code",
   "execution_count": 30,
   "id": "d9974ab4-6c42-40c7-bf7d-4dac0b936157",
   "metadata": {
    "tags": []
   },
   "outputs": [
    {
     "data": {
      "text/html": [
       "<div>\n",
       "<style scoped>\n",
       "    .dataframe tbody tr th:only-of-type {\n",
       "        vertical-align: middle;\n",
       "    }\n",
       "\n",
       "    .dataframe tbody tr th {\n",
       "        vertical-align: top;\n",
       "    }\n",
       "\n",
       "    .dataframe thead th {\n",
       "        text-align: right;\n",
       "    }\n",
       "</style>\n",
       "<table border=\"1\" class=\"dataframe\">\n",
       "  <thead>\n",
       "    <tr style=\"text-align: right;\">\n",
       "      <th></th>\n",
       "      <th>Deciduous forest (hectare)</th>\n",
       "      <th>Coniferous forest (hectare)</th>\n",
       "      <th>Forested wetland (hectare)</th>\n",
       "      <th>Deciduous forest sequestration (MTCO2e)</th>\n",
       "      <th>Coniferous forest sequestration (MTCO2e)</th>\n",
       "      <th>Forested wetland sequestration (MTCO2e)</th>\n",
       "      <th>Total carbon sequestration (MMTCO2e)</th>\n",
       "    </tr>\n",
       "  </thead>\n",
       "  <tbody>\n",
       "    <tr>\n",
       "      <th>BSN</th>\n",
       "      <td>77905.96410</td>\n",
       "      <td>7405.96953</td>\n",
       "      <td>4850.93655</td>\n",
       "      <td>6.370111e+05</td>\n",
       "      <td>60556.144190</td>\n",
       "      <td>39664.491190</td>\n",
       "      <td>0.737232</td>\n",
       "    </tr>\n",
       "    <tr>\n",
       "      <th>HEM</th>\n",
       "      <td>192046.17612</td>\n",
       "      <td>35299.67421</td>\n",
       "      <td>15264.87930</td>\n",
       "      <td>1.570298e+06</td>\n",
       "      <td>288633.669457</td>\n",
       "      <td>124815.829743</td>\n",
       "      <td>1.983747</td>\n",
       "    </tr>\n",
       "    <tr>\n",
       "      <th>NHM</th>\n",
       "      <td>66913.05753</td>\n",
       "      <td>5263.04256</td>\n",
       "      <td>4614.51081</td>\n",
       "      <td>5.471258e+05</td>\n",
       "      <td>43034.144666</td>\n",
       "      <td>37731.316723</td>\n",
       "      <td>0.627891</td>\n",
       "    </tr>\n",
       "  </tbody>\n",
       "</table>\n",
       "</div>"
      ],
      "text/plain": [
       "     Deciduous forest (hectare)  Coniferous forest (hectare)  \\\n",
       "BSN                 77905.96410                   7405.96953   \n",
       "HEM                192046.17612                  35299.67421   \n",
       "NHM                 66913.05753                   5263.04256   \n",
       "\n",
       "     Forested wetland (hectare)  Deciduous forest sequestration (MTCO2e)  \\\n",
       "BSN                  4850.93655                             6.370111e+05   \n",
       "HEM                 15264.87930                             1.570298e+06   \n",
       "NHM                  4614.51081                             5.471258e+05   \n",
       "\n",
       "     Coniferous forest sequestration (MTCO2e)  \\\n",
       "BSN                              60556.144190   \n",
       "HEM                             288633.669457   \n",
       "NHM                              43034.144666   \n",
       "\n",
       "     Forested wetland sequestration (MTCO2e)  \\\n",
       "BSN                             39664.491190   \n",
       "HEM                            124815.829743   \n",
       "NHM                             37731.316723   \n",
       "\n",
       "     Total carbon sequestration (MMTCO2e)  \n",
       "BSN                              0.737232  \n",
       "HEM                              1.983747  \n",
       "NHM                              0.627891  "
      ]
     },
     "execution_count": 30,
     "metadata": {},
     "output_type": "execute_result"
    }
   ],
   "source": [
    "MSA_land"
   ]
  },
  {
   "cell_type": "code",
   "execution_count": 31,
   "id": "f7f205ad-e0d4-479d-8fb9-35001fa39a81",
   "metadata": {
    "tags": []
   },
   "outputs": [],
   "source": [
    "#emissions from the forest, -1 represents negative emissions\n",
    "MSA_land.loc[['BSN', 'NHM']] = MSA_land.loc[['NHM', 'BSN']].values\n",
    "MSA_land = MSA_land.rename(index={'BSN': 'NHM', 'NHM': 'BSN'})\n",
    "MSA_land.to_csv('../../../data/tidy/land-cover-emissions.csv')"
   ]
  },
  {
   "cell_type": "code",
   "execution_count": 32,
   "id": "4d38eab4-3b8f-4e5f-a263-d14652ed9729",
   "metadata": {
    "tags": []
   },
   "outputs": [
    {
     "data": {
      "text/html": [
       "<div>\n",
       "<style scoped>\n",
       "    .dataframe tbody tr th:only-of-type {\n",
       "        vertical-align: middle;\n",
       "    }\n",
       "\n",
       "    .dataframe tbody tr th {\n",
       "        vertical-align: top;\n",
       "    }\n",
       "\n",
       "    .dataframe thead th {\n",
       "        text-align: right;\n",
       "    }\n",
       "</style>\n",
       "<table border=\"1\" class=\"dataframe\">\n",
       "  <thead>\n",
       "    <tr style=\"text-align: right;\">\n",
       "      <th></th>\n",
       "      <th>Deciduous forest (hectare)</th>\n",
       "      <th>Coniferous forest (hectare)</th>\n",
       "      <th>Forested wetland (hectare)</th>\n",
       "      <th>Deciduous forest sequestration (MTCO2e)</th>\n",
       "      <th>Coniferous forest sequestration (MTCO2e)</th>\n",
       "      <th>Forested wetland sequestration (MTCO2e)</th>\n",
       "      <th>Total carbon sequestration (MMTCO2e)</th>\n",
       "    </tr>\n",
       "  </thead>\n",
       "  <tbody>\n",
       "    <tr>\n",
       "      <th>NHM</th>\n",
       "      <td>66913.05753</td>\n",
       "      <td>5263.04256</td>\n",
       "      <td>4614.51081</td>\n",
       "      <td>5.471258e+05</td>\n",
       "      <td>43034.144666</td>\n",
       "      <td>37731.316723</td>\n",
       "      <td>0.627891</td>\n",
       "    </tr>\n",
       "    <tr>\n",
       "      <th>HEM</th>\n",
       "      <td>192046.17612</td>\n",
       "      <td>35299.67421</td>\n",
       "      <td>15264.87930</td>\n",
       "      <td>1.570298e+06</td>\n",
       "      <td>288633.669457</td>\n",
       "      <td>124815.829743</td>\n",
       "      <td>1.983747</td>\n",
       "    </tr>\n",
       "    <tr>\n",
       "      <th>BSN</th>\n",
       "      <td>77905.96410</td>\n",
       "      <td>7405.96953</td>\n",
       "      <td>4850.93655</td>\n",
       "      <td>6.370111e+05</td>\n",
       "      <td>60556.144190</td>\n",
       "      <td>39664.491190</td>\n",
       "      <td>0.737232</td>\n",
       "    </tr>\n",
       "  </tbody>\n",
       "</table>\n",
       "</div>"
      ],
      "text/plain": [
       "     Deciduous forest (hectare)  Coniferous forest (hectare)  \\\n",
       "NHM                 66913.05753                   5263.04256   \n",
       "HEM                192046.17612                  35299.67421   \n",
       "BSN                 77905.96410                   7405.96953   \n",
       "\n",
       "     Forested wetland (hectare)  Deciduous forest sequestration (MTCO2e)  \\\n",
       "NHM                  4614.51081                             5.471258e+05   \n",
       "HEM                 15264.87930                             1.570298e+06   \n",
       "BSN                  4850.93655                             6.370111e+05   \n",
       "\n",
       "     Coniferous forest sequestration (MTCO2e)  \\\n",
       "NHM                              43034.144666   \n",
       "HEM                             288633.669457   \n",
       "BSN                              60556.144190   \n",
       "\n",
       "     Forested wetland sequestration (MTCO2e)  \\\n",
       "NHM                             37731.316723   \n",
       "HEM                            124815.829743   \n",
       "BSN                             39664.491190   \n",
       "\n",
       "     Total carbon sequestration (MMTCO2e)  \n",
       "NHM                              0.627891  \n",
       "HEM                              1.983747  \n",
       "BSN                              0.737232  "
      ]
     },
     "execution_count": 32,
     "metadata": {},
     "output_type": "execute_result"
    }
   ],
   "source": [
    "MSA_land"
   ]
  },
  {
   "cell_type": "code",
   "execution_count": 33,
   "id": "d5133934-cc39-4e92-8316-28254420c2f8",
   "metadata": {
    "tags": []
   },
   "outputs": [
    {
     "data": {
      "text/plain": [
       "<Figure size 1000x600 with 0 Axes>"
      ]
     },
     "metadata": {},
     "output_type": "display_data"
    },
    {
     "data": {
      "image/png": "[encoded data removed]",
      "text/plain": [
       "<Figure size 800x600 with 1 Axes>"
      ]
     },
     "metadata": {},
     "output_type": "display_data"
    }
   ],
   "source": [
    "plt.figure(figsize=(10, 6))\n",
    "X = ['Bridgeport-Stamford-Norwalk','Hartford-East Hartford-Middletown', 'New Haven-Milford']\n",
    "\n",
    "Deciduous = MSA_land['Deciduous forest (hectare)']/1000#NH, HH, BSN\n",
    "Coniferous = MSA_land['Coniferous forest (hectare)']/1000\n",
    "Forested_wetland = MSA_land['Forested wetland (hectare)']/1000\n",
    "\n",
    "Y_axis = np.arange(len(X))\n",
    "bar_width = 0.3  # Width of each bar\n",
    "\n",
    "plt.figure(figsize=(8, 6))\n",
    "\n",
    "# Plot the bars for Natural gas emissions\n",
    "plt.barh(Y_axis , Deciduous, bar_width, label='Deciduous forest')\n",
    "\n",
    "\n",
    "\n",
    "plt.barh(Y_axis + bar_width, Coniferous , bar_width, label='Coniferous forest')\n",
    "\n",
    "# Plot the bars for Propane emissions\n",
    "plt.barh(Y_axis - bar_width, Forested_wetland, bar_width, label='Forested wetland')\n",
    "\n",
    "\n",
    "\n",
    "plt.yticks(Y_axis, X)  # Use yticks instead of xticks\n",
    "\n",
    "plt.xlabel(\"Thousand Hectare\",fontsize=20, labelpad=20)\n",
    "plt.xticks(fontsize=20)  # Adjust the font size as needed\n",
    "plt.yticks(fontsize=20)\n",
    "plt.legend(loc='upper left', bbox_to_anchor=(0.48, 0.3),fontsize=17)\n",
    "#plt.show()\n",
    "plt.savefig('../../../figures/Report-images/forest-area.png', dpi=600,bbox_inches='tight')"
   ]
  },
  {
   "cell_type": "code",
   "execution_count": 34,
   "id": "24fb2166-d99e-4fe1-a3fb-873b4545e8ed",
   "metadata": {
    "tags": []
   },
   "outputs": [
    {
     "data": {
      "text/plain": [
       "<Figure size 1000x600 with 0 Axes>"
      ]
     },
     "metadata": {},
     "output_type": "display_data"
    },
    {
     "data": {
      "image/png": "[encoded data removed]",
      "text/plain": [
       "<Figure size 800x600 with 1 Axes>"
      ]
     },
     "metadata": {},
     "output_type": "display_data"
    }
   ],
   "source": [
    "plt.figure(figsize=(10, 6))\n",
    "X = ['Bridgeport-Stamford-Norwalk','Hartford-East Hartford-Middletown', 'New Haven-Milford']\n",
    "\n",
    "Deciduous = MSA_land['Deciduous forest sequestration (MTCO2e)']/1000000#NH, HH, BSN\n",
    "Coniferous = MSA_land['Coniferous forest sequestration (MTCO2e)']/1000000\n",
    "Forested_wetland = MSA_land['Forested wetland sequestration (MTCO2e)']/1000000\n",
    "\n",
    "Y_axis = np.arange(len(X))\n",
    "bar_width = 0.3  # Width of each bar\n",
    "\n",
    "plt.figure(figsize=(8, 6))\n",
    "\n",
    "# Plot the bars for Natural gas emissions\n",
    "plt.barh(Y_axis , Deciduous, bar_width, label='Deciduous forest')\n",
    "\n",
    "\n",
    "\n",
    "plt.barh(Y_axis + bar_width, Coniferous , bar_width, label='Coniferous forest')\n",
    "\n",
    "# Plot the bars for Propane emissions\n",
    "plt.barh(Y_axis - bar_width, Forested_wetland, bar_width, label='Forested wetland')\n",
    "\n",
    "\n",
    "\n",
    "plt.yticks(Y_axis, X)  # Use yticks instead of xticks\n",
    "\n",
    "plt.xlabel(\"Carbon dioxide sequestration (MMTCO2e)\",fontsize=20, labelpad=20)\n",
    "plt.xticks(fontsize=20)  # Adjust the font size as needed\n",
    "plt.yticks(fontsize=20)\n",
    "plt.legend(loc='upper left', bbox_to_anchor=(0.48, 0.3),fontsize=17)\n",
    "#plt.show()\n",
    "plt.savefig('../../../figures/Report-images/carbon-sequestration.png', dpi=600,bbox_inches='tight')"
   ]
  },
  {
   "cell_type": "code",
   "execution_count": 35,
   "id": "809a0e23-9700-451a-94d0-bbb675d63cd9",
   "metadata": {
    "tags": []
   },
   "outputs": [
    {
     "data": {
      "image/png": "[encoded data removed]",
      "text/plain": [
       "<Figure size 1000x600 with 1 Axes>"
      ]
     },
     "metadata": {},
     "output_type": "display_data"
    }
   ],
   "source": [
    "import numpy as np\n",
    "import matplotlib.pyplot as plt\n",
    "\n",
    "plt.figure(figsize=(10, 6))\n",
    "\n",
    "X = ['Bridgeport-Stamford-Norwalk', 'Hartford-East Hartford-Middletown', 'New Haven-Milford']\n",
    "\n",
    "Deciduous = MSA_land['Deciduous forest sequestration (MTCO2e)'] / 1000000\n",
    "Coniferous = MSA_land['Coniferous forest sequestration (MTCO2e)'] / 1000000\n",
    "Forested_wetland = MSA_land['Forested wetland sequestration (MTCO2e)'] / 1000000\n",
    "\n",
    "bar_width = 0.3  # Width of each bar\n",
    "\n",
    "# Plot the stacked bars for carbon sequestration with flipped axes\n",
    "plt.barh(X, Deciduous, label='Deciduous forest', height=bar_width)\n",
    "plt.barh(X, Coniferous, left=Deciduous, label='Coniferous forest', height=bar_width)\n",
    "plt.barh(X, Forested_wetland, left=Deciduous + Coniferous, label='Forested wetland', height=bar_width)\n",
    "\n",
    "#plt.ylabel(\"Region\", fontsize=20, labelpad=20)\n",
    "plt.xlabel(\"Carbon dioxide sequestration (MMTCO2e)\", fontsize=20, labelpad=20)\n",
    "plt.xticks(fontsize=20)\n",
    "plt.yticks(fontsize=20)\n",
    "plt.legend(loc='upper left', bbox_to_anchor=(0.48, 0.3), fontsize=17)\n",
    "\n",
    "plt.savefig('../../../figures/Report-images/carbon-sequestration.png', dpi=600, bbox_inches='tight')\n",
    "plt.show()\n",
    "\n"
   ]
  },
  {
   "cell_type": "code",
   "execution_count": null,
   "id": "5464753c-7b47-411c-9587-ed81111f6934",
   "metadata": {},
   "outputs": [],
   "source": []
  },
  {
   "cell_type": "code",
   "execution_count": null,
   "id": "71c474a5-113e-462a-8c2b-a3d2200b46f2",
   "metadata": {},
   "outputs": [],
   "source": []
  },
  {
   "cell_type": "code",
   "execution_count": null,
   "id": "5a66aa19-918a-45e7-bc9f-ad54db3388d8",
   "metadata": {},
   "outputs": [],
   "source": []
  }
 ],
 "metadata": {
  "kernelspec": {
   "display_name": "Python 3 (ipykernel)",
   "language": "python",
   "name": "python3"
  },
  "language_info": {
   "codemirror_mode": {
    "name": "ipython",
    "version": 3
   },
   "file_extension": ".py",
   "mimetype": "text/x-python",
   "name": "python",
   "nbconvert_exporter": "python",
   "pygments_lexer": "ipython3",
   "version": "3.11.5"
  }
 },
 "nbformat": 4,
 "nbformat_minor": 5
}
