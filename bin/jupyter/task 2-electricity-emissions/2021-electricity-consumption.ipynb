{
 "cells": [
  {
   "cell_type": "code",
   "execution_count": 1,
   "id": "b4dea68c-1452-45f4-a9e8-0317872287fb",
   "metadata": {
    "tags": []
   },
   "outputs": [],
   "source": [
    "import pandas as pd\n",
    "import numpy as np\n",
    "import os\n",
    "import string\n",
    "import seaborn as sns\n",
    "import matplotlib.pyplot as plt\n",
    "from matplotlib.ticker import ScalarFormatter\n",
    "from matplotlib.ticker import StrMethodFormatter"
   ]
  },
  {
   "cell_type": "code",
   "execution_count": 2,
   "id": "8d8147d6-116d-4e0f-8c02-ac96ba342bd1",
   "metadata": {
    "tags": []
   },
   "outputs": [],
   "source": [
    "df_town = pd.read_csv('../../../data/raw/Town_name_MSA.csv')\n",
    "df_electri_2022 = pd.read_csv('../../../data/raw/2022 Report - Exported on 10-04-2023.csv')\n",
    "df_electri_2021 = pd.read_csv('../../../data/raw/2021 Report - Exported on 10-04-2023.csv')\n",
    "df_electri_2020 = pd.read_csv('../../../data/raw/2020 Report - Exported on 10-04-2023.csv')\n",
    "df_electri_2019 = pd.read_csv('../../../data/raw/2019 Report - Exported on 10-04-2023.csv')\n",
    "df_electri_2018 = pd.read_csv('../../../data/raw/2018 Report - Exported on 10-04-2023.csv')\n",
    "df_electri_2017 = pd.read_csv('../../../data/raw/2017 Report - Exported on 10-04-2023.csv')\n",
    "df_electri_2016 = pd.read_csv('../../../data/raw/2016 Report - Exported on 10-04-2023.csv')\n",
    "\n",
    "#df_town=df_town[\"County Name\"]"
   ]
  },
  {
   "cell_type": "code",
   "execution_count": 3,
   "id": "b4049eaf-3274-470f-a253-157cd55e5fe3",
   "metadata": {
    "tags": []
   },
   "outputs": [],
   "source": [
    "df_electri_2021.columns = df_electri_2021.iloc[3]  # Set the specified row as column names\n",
    "df_electri_2021 = df_electri_2021.iloc[4:]\n",
    "df_electri_2021 = df_electri_2021.reset_index(drop=True)"
   ]
  },
  {
   "cell_type": "code",
   "execution_count": 4,
   "id": "3413802e-0d0d-4d34-973d-15c9bd0a2fd3",
   "metadata": {
    "tags": []
   },
   "outputs": [],
   "source": [
    "df_electri_2021=df_electri_2021.apply(pd.to_numeric, errors='ignore')"
   ]
  },
  {
   "cell_type": "code",
   "execution_count": 9,
   "id": "274cd307-484a-42c5-b1f4-978f22195e70",
   "metadata": {
    "tags": []
   },
   "outputs": [
    {
     "ename": "ValueError",
     "evalue": "cannot insert County Name, already exists",
     "output_type": "error",
     "traceback": [
      "\u001b[1;31m---------------------------------------------------------------------------\u001b[0m",
      "\u001b[1;31mValueError\u001b[0m                                Traceback (most recent call last)",
      "\u001b[1;32m~\\AppData\\Local\\Temp\\ipykernel_15304\\78555515.py\u001b[0m in \u001b[0;36m?\u001b[1;34m()\u001b[0m\n\u001b[0;32m      1\u001b[0m \u001b[0mdf_electri_2021\u001b[0m \u001b[1;33m=\u001b[0m \u001b[0mdf_electri_2021\u001b[0m\u001b[1;33m.\u001b[0m\u001b[0mdropna\u001b[0m\u001b[1;33m(\u001b[0m\u001b[0maxis\u001b[0m\u001b[1;33m=\u001b[0m\u001b[1;36m1\u001b[0m\u001b[1;33m,\u001b[0m \u001b[0mhow\u001b[0m\u001b[1;33m=\u001b[0m\u001b[1;34m\"all\"\u001b[0m\u001b[1;33m)\u001b[0m\u001b[1;31m#drop column that only has \"NaN\"\u001b[0m\u001b[1;33m\u001b[0m\u001b[1;33m\u001b[0m\u001b[0m\n\u001b[1;32m----> 2\u001b[1;33m \u001b[0mdf_electri_2021\u001b[0m\u001b[1;33m.\u001b[0m\u001b[0minsert\u001b[0m\u001b[1;33m(\u001b[0m\u001b[1;36m1\u001b[0m\u001b[1;33m,\u001b[0m\u001b[1;34m'County Name'\u001b[0m\u001b[1;33m,\u001b[0m\u001b[0mdf_town\u001b[0m\u001b[1;33m[\u001b[0m\u001b[1;34m\"County Name\"\u001b[0m\u001b[1;33m]\u001b[0m\u001b[1;33m)\u001b[0m\u001b[1;33m\u001b[0m\u001b[1;33m\u001b[0m\u001b[0m\n\u001b[0m\u001b[0;32m      3\u001b[0m \u001b[1;33m\u001b[0m\u001b[0m\n\u001b[0;32m      4\u001b[0m \u001b[1;31m#just change the county name of the five town\u001b[0m\u001b[1;33m\u001b[0m\u001b[1;33m\u001b[0m\u001b[0m\n\u001b[0;32m      5\u001b[0m \u001b[0mdf_electri_2021\u001b[0m\u001b[1;33m.\u001b[0m\u001b[0mloc\u001b[0m\u001b[1;33m[\u001b[0m\u001b[0mdf_electri_2021\u001b[0m\u001b[1;33m[\u001b[0m\u001b[1;34m'Town Name'\u001b[0m\u001b[1;33m]\u001b[0m \u001b[1;33m==\u001b[0m \u001b[1;34m'Bridgewater'\u001b[0m\u001b[1;33m,\u001b[0m \u001b[1;34m'County Name'\u001b[0m\u001b[1;33m]\u001b[0m \u001b[1;33m=\u001b[0m \u001b[1;34m'Fairfield'\u001b[0m\u001b[1;33m\u001b[0m\u001b[1;33m\u001b[0m\u001b[0m\n",
      "\u001b[1;32m~\\AppData\\Local\\anaconda3\\Lib\\site-packages\\pandas\\core\\frame.py\u001b[0m in \u001b[0;36m?\u001b[1;34m(self, loc, column, value, allow_duplicates)\u001b[0m\n\u001b[0;32m   4927\u001b[0m                 \u001b[1;34m\"'self.flags.allows_duplicate_labels' is False.\"\u001b[0m\u001b[1;33m\u001b[0m\u001b[1;33m\u001b[0m\u001b[0m\n\u001b[0;32m   4928\u001b[0m             )\n\u001b[0;32m   4929\u001b[0m         \u001b[1;32mif\u001b[0m \u001b[1;32mnot\u001b[0m \u001b[0mallow_duplicates\u001b[0m \u001b[1;32mand\u001b[0m \u001b[0mcolumn\u001b[0m \u001b[1;32min\u001b[0m \u001b[0mself\u001b[0m\u001b[1;33m.\u001b[0m\u001b[0mcolumns\u001b[0m\u001b[1;33m:\u001b[0m\u001b[1;33m\u001b[0m\u001b[1;33m\u001b[0m\u001b[0m\n\u001b[0;32m   4930\u001b[0m             \u001b[1;31m# Should this be a different kind of error??\u001b[0m\u001b[1;33m\u001b[0m\u001b[1;33m\u001b[0m\u001b[0m\n\u001b[1;32m-> 4931\u001b[1;33m             \u001b[1;32mraise\u001b[0m \u001b[0mValueError\u001b[0m\u001b[1;33m(\u001b[0m\u001b[1;34mf\"cannot insert {column}, already exists\"\u001b[0m\u001b[1;33m)\u001b[0m\u001b[1;33m\u001b[0m\u001b[1;33m\u001b[0m\u001b[0m\n\u001b[0m\u001b[0;32m   4932\u001b[0m         \u001b[1;32mif\u001b[0m \u001b[1;32mnot\u001b[0m \u001b[0mis_integer\u001b[0m\u001b[1;33m(\u001b[0m\u001b[0mloc\u001b[0m\u001b[1;33m)\u001b[0m\u001b[1;33m:\u001b[0m\u001b[1;33m\u001b[0m\u001b[1;33m\u001b[0m\u001b[0m\n\u001b[0;32m   4933\u001b[0m             \u001b[1;32mraise\u001b[0m \u001b[0mTypeError\u001b[0m\u001b[1;33m(\u001b[0m\u001b[1;34m\"loc must be int\"\u001b[0m\u001b[1;33m)\u001b[0m\u001b[1;33m\u001b[0m\u001b[1;33m\u001b[0m\u001b[0m\n\u001b[0;32m   4934\u001b[0m         \u001b[1;31m# convert non stdlib ints to satisfy typing checks\u001b[0m\u001b[1;33m\u001b[0m\u001b[1;33m\u001b[0m\u001b[0m\n",
      "\u001b[1;31mValueError\u001b[0m: cannot insert County Name, already exists"
     ]
    }
   ],
   "source": [
    "df_electri_2021 = df_electri_2021.dropna(axis=1, how=\"all\")#drop column that only has \"NaN\" \n",
    "df_electri_2021.insert(1,'County Name',df_town[\"County Name\"])\n",
    "\n",
    "#just change the county name of the five town\n",
    "df_electri_2021.loc[df_electri_2021['Town Name'] == 'Bridgewater', 'County Name'] = 'Fairfield'\n",
    "df_electri_2021.loc[df_electri_2021['Town Name'] == 'New Milford', 'County Name'] = 'Fairfield'\n",
    "df_electri_2021.loc[df_electri_2021['Town Name'] == 'Lyme', 'County Name'] = 'Hartford'\n",
    "df_electri_2021.loc[df_electri_2021['Town Name'] == 'Old Lyme', 'County Name'] = 'Hartford'\n",
    "df_electri_2021.loc[df_electri_2021['Town Name'] == 'Colchester', 'County Name'] = 'Hartford'"
   ]
  },
  {
   "cell_type": "code",
   "execution_count": 13,
   "id": "f90cdc8f-9bd8-4793-b882-cd6ac7570432",
   "metadata": {
    "tags": []
   },
   "outputs": [],
   "source": [
    "resi_elec_sum=df_electri_2021[\"Residential Electric Usage ( kWh)\"].sum()\n",
    "resi_natur_sum=df_electri_2021[\"Residential Natural Gas Usage (ccf)\"].sum()\n",
    "com_elec_sum=df_electri_2021[\"Commercial Electric Usage ( kWh)\"].sum()\n",
    "com_natur_sum=df_electri_2021[\" Commercial Natural Gas Usage (ccf)\"].sum()"
   ]
  },
  {
   "cell_type": "code",
   "execution_count": 14,
   "id": "f4e0d475-fc1a-49fb-ab3c-67a722b5c600",
   "metadata": {
    "tags": []
   },
   "outputs": [],
   "source": [
    "# Group by the 'Category' column\n",
    "grouped = df_electri_2021.groupby('County Name')\n",
    "\n",
    "# Now, you can perform various operations on each group\n",
    "#for category, group in grouped:\n",
    "    #print(f\"County Name: {category}\")\n",
    "    #print(group)\n",
    "\n",
    "# making grouped data into separate dataframe\n",
    "grouped_dataframes = {}\n",
    "for group_name, group_df in grouped:\n",
    "    grouped_dataframes[group_name] = group_df"
   ]
  },
  {
   "cell_type": "code",
   "execution_count": 15,
   "id": "12857e33-2b80-40b3-816d-c9fe6328685f",
   "metadata": {
    "tags": []
   },
   "outputs": [
    {
     "data": {
      "text/html": [
       "<div>\n",
       "<style scoped>\n",
       "    .dataframe tbody tr th:only-of-type {\n",
       "        vertical-align: middle;\n",
       "    }\n",
       "\n",
       "    .dataframe tbody tr th {\n",
       "        vertical-align: top;\n",
       "    }\n",
       "\n",
       "    .dataframe thead th {\n",
       "        text-align: right;\n",
       "    }\n",
       "</style>\n",
       "<table border=\"1\" class=\"dataframe\">\n",
       "  <thead>\n",
       "    <tr style=\"text-align: right;\">\n",
       "      <th>3</th>\n",
       "      <th>Town Name</th>\n",
       "      <th>County Name</th>\n",
       "      <th>Residential Electric Usage ( kWh)</th>\n",
       "      <th>Residential Natural Gas Usage (ccf)</th>\n",
       "      <th>Commercial Electric Usage ( kWh)</th>\n",
       "      <th>Commercial Natural Gas Usage (ccf)</th>\n",
       "    </tr>\n",
       "  </thead>\n",
       "  <tbody>\n",
       "    <tr>\n",
       "      <th>25</th>\n",
       "      <td>Chester</td>\n",
       "      <td>Middlesex</td>\n",
       "      <td>16455095</td>\n",
       "      <td>0</td>\n",
       "      <td>15858142</td>\n",
       "      <td>0</td>\n",
       "    </tr>\n",
       "    <tr>\n",
       "      <th>26</th>\n",
       "      <td>Clinton</td>\n",
       "      <td>Middlesex</td>\n",
       "      <td>51202670</td>\n",
       "      <td>415852</td>\n",
       "      <td>29408617</td>\n",
       "      <td>728042</td>\n",
       "    </tr>\n",
       "    <tr>\n",
       "      <th>32</th>\n",
       "      <td>Cromwell</td>\n",
       "      <td>Middlesex</td>\n",
       "      <td>50791266</td>\n",
       "      <td>1708436</td>\n",
       "      <td>73698083</td>\n",
       "      <td>2633784</td>\n",
       "    </tr>\n",
       "    <tr>\n",
       "      <th>35</th>\n",
       "      <td>Deep River</td>\n",
       "      <td>Middlesex</td>\n",
       "      <td>18365919</td>\n",
       "      <td>18019</td>\n",
       "      <td>20946640</td>\n",
       "      <td>146192</td>\n",
       "    </tr>\n",
       "    <tr>\n",
       "      <th>37</th>\n",
       "      <td>Durham</td>\n",
       "      <td>Middlesex</td>\n",
       "      <td>26884261</td>\n",
       "      <td>3915</td>\n",
       "      <td>16710967</td>\n",
       "      <td>365666</td>\n",
       "    </tr>\n",
       "    <tr>\n",
       "      <th>39</th>\n",
       "      <td>East Haddam</td>\n",
       "      <td>Middlesex</td>\n",
       "      <td>36008851</td>\n",
       "      <td>0</td>\n",
       "      <td>8476449</td>\n",
       "      <td>0</td>\n",
       "    </tr>\n",
       "    <tr>\n",
       "      <th>40</th>\n",
       "      <td>East Hampton</td>\n",
       "      <td>Middlesex</td>\n",
       "      <td>49845637</td>\n",
       "      <td>111864</td>\n",
       "      <td>16362705</td>\n",
       "      <td>659392</td>\n",
       "    </tr>\n",
       "    <tr>\n",
       "      <th>49</th>\n",
       "      <td>Essex</td>\n",
       "      <td>Middlesex</td>\n",
       "      <td>30660998</td>\n",
       "      <td>44625</td>\n",
       "      <td>23498070</td>\n",
       "      <td>430326</td>\n",
       "    </tr>\n",
       "    <tr>\n",
       "      <th>60</th>\n",
       "      <td>Haddam</td>\n",
       "      <td>Middlesex</td>\n",
       "      <td>31044936</td>\n",
       "      <td>0</td>\n",
       "      <td>9281543</td>\n",
       "      <td>0</td>\n",
       "    </tr>\n",
       "    <tr>\n",
       "      <th>69</th>\n",
       "      <td>Killingworth</td>\n",
       "      <td>Middlesex</td>\n",
       "      <td>26428593</td>\n",
       "      <td>0</td>\n",
       "      <td>5409002</td>\n",
       "      <td>0</td>\n",
       "    </tr>\n",
       "    <tr>\n",
       "      <th>81</th>\n",
       "      <td>Middlefield</td>\n",
       "      <td>Middlesex</td>\n",
       "      <td>16760315</td>\n",
       "      <td>0</td>\n",
       "      <td>18722624</td>\n",
       "      <td>3518</td>\n",
       "    </tr>\n",
       "    <tr>\n",
       "      <th>82</th>\n",
       "      <td>Middletown</td>\n",
       "      <td>Middlesex</td>\n",
       "      <td>139258239</td>\n",
       "      <td>4340136</td>\n",
       "      <td>221757787</td>\n",
       "      <td>17268991</td>\n",
       "    </tr>\n",
       "    <tr>\n",
       "      <th>105</th>\n",
       "      <td>Old Saybrook</td>\n",
       "      <td>Middlesex</td>\n",
       "      <td>49660797</td>\n",
       "      <td>328750</td>\n",
       "      <td>40626790</td>\n",
       "      <td>1394182</td>\n",
       "    </tr>\n",
       "    <tr>\n",
       "      <th>112</th>\n",
       "      <td>Portland</td>\n",
       "      <td>Middlesex</td>\n",
       "      <td>32654355</td>\n",
       "      <td>296213</td>\n",
       "      <td>25431846</td>\n",
       "      <td>605511</td>\n",
       "    </tr>\n",
       "    <tr>\n",
       "      <th>155</th>\n",
       "      <td>Westbrook</td>\n",
       "      <td>Middlesex</td>\n",
       "      <td>31910937</td>\n",
       "      <td>265544</td>\n",
       "      <td>41590891</td>\n",
       "      <td>795326</td>\n",
       "    </tr>\n",
       "  </tbody>\n",
       "</table>\n",
       "</div>"
      ],
      "text/plain": [
       "3       Town Name County Name  Residential Electric Usage ( kWh)  \\\n",
       "25        Chester   Middlesex                           16455095   \n",
       "26        Clinton   Middlesex                           51202670   \n",
       "32       Cromwell   Middlesex                           50791266   \n",
       "35     Deep River   Middlesex                           18365919   \n",
       "37         Durham   Middlesex                           26884261   \n",
       "39    East Haddam   Middlesex                           36008851   \n",
       "40   East Hampton   Middlesex                           49845637   \n",
       "49          Essex   Middlesex                           30660998   \n",
       "60         Haddam   Middlesex                           31044936   \n",
       "69   Killingworth   Middlesex                           26428593   \n",
       "81    Middlefield   Middlesex                           16760315   \n",
       "82     Middletown   Middlesex                          139258239   \n",
       "105  Old Saybrook   Middlesex                           49660797   \n",
       "112      Portland   Middlesex                           32654355   \n",
       "155     Westbrook   Middlesex                           31910937   \n",
       "\n",
       "3    Residential Natural Gas Usage (ccf)  Commercial Electric Usage ( kWh)  \\\n",
       "25                                     0                          15858142   \n",
       "26                                415852                          29408617   \n",
       "32                               1708436                          73698083   \n",
       "35                                 18019                          20946640   \n",
       "37                                  3915                          16710967   \n",
       "39                                     0                           8476449   \n",
       "40                                111864                          16362705   \n",
       "49                                 44625                          23498070   \n",
       "60                                     0                           9281543   \n",
       "69                                     0                           5409002   \n",
       "81                                     0                          18722624   \n",
       "82                               4340136                         221757787   \n",
       "105                               328750                          40626790   \n",
       "112                               296213                          25431846   \n",
       "155                               265544                          41590891   \n",
       "\n",
       "3     Commercial Natural Gas Usage (ccf)  \n",
       "25                                     0  \n",
       "26                                728042  \n",
       "32                               2633784  \n",
       "35                                146192  \n",
       "37                                365666  \n",
       "39                                     0  \n",
       "40                                659392  \n",
       "49                                430326  \n",
       "60                                     0  \n",
       "69                                     0  \n",
       "81                                  3518  \n",
       "82                              17268991  \n",
       "105                              1394182  \n",
       "112                               605511  \n",
       "155                               795326  "
      ]
     },
     "execution_count": 15,
     "metadata": {},
     "output_type": "execute_result"
    }
   ],
   "source": [
    "#each dataframe has the dataset for county\"\n",
    "grouped_dataframes[\"Hartford\"]\n",
    "grouped_dataframes[\"New Haven\"]\n",
    "grouped_dataframes[\"Tolland\"]\n",
    "grouped_dataframes[\"Fairfield\"]\n",
    "grouped_dataframes[\"Middlesex\"]"
   ]
  },
  {
   "cell_type": "code",
   "execution_count": 16,
   "id": "1301a129-7373-4070-802c-bdbfc6fa9b06",
   "metadata": {
    "tags": []
   },
   "outputs": [
    {
     "name": "stdout",
     "output_type": "stream",
     "text": [
      "Residential Electric Results:\n",
      "{'Fairfield': 3511203402, 'Hartford': 2674290061, 'Litchfield': 638160326, 'Middlesex': 607932869, 'New Haven': 2481066159, 'New London': 577269879, 'Tolland': 460719561, 'Windham': 375532975}\n",
      "Residential Natural Gas Results:\n",
      "{'Fairfield': 140449933, 'Hartford': 166460562, 'Litchfield': 8529192, 'Middlesex': 7533354, 'New Haven': 120769767, 'New London': 6759806, 'Tolland': 4952032, 'Windham': 3625804}\n",
      "Commercial Electric Results:\n",
      "{'Fairfield': 3459753129, 'Hartford': 4271047091, 'Litchfield': 506011781, 'Middlesex': 567780156, 'New Haven': 2849324964, 'New London': 715203982, 'Tolland': 290210199, 'Windham': 384466119}\n",
      "Commercial Natural Gas Results:\n",
      "{'Fairfield': 174167350, 'Hartford': 233247887, 'Litchfield': 13160891, 'Middlesex': 25030930, 'New Haven': 157288169, 'New London': 43842861, 'Tolland': 8666839, 'Windham': 20982469}\n"
     ]
    }
   ],
   "source": [
    "#calculate the summation of each sector(electricity and residential sectors)\n",
    "\n",
    "summ=[]\n",
    "\n",
    "# Define a function to perform the operation on a DataFrame.\n",
    "def resi_elec(df):\n",
    "    # Replace this with your desired operation on df.\n",
    "    return df['Residential Electric Usage ( kWh)'].sum()\n",
    "def resi_natur(df):\n",
    "    # Replace this with your desired operation on df.\n",
    "    return df['Residential Natural Gas Usage (ccf)'].sum()\n",
    "def com_elec(df):\n",
    "    # Replace this with your desired operation on df.\n",
    "    return df['Commercial Electric Usage ( kWh)'].sum()\n",
    "def com_natur(df):\n",
    "    # Replace this with your desired operation on df.\n",
    "    return df[' Commercial Natural Gas Usage (ccf)'].sum()\n",
    "\n",
    "# Create a dictionary to store the results of the operation for each group.\n",
    "resi_elec_results = {}\n",
    "resi_natur_results = {}\n",
    "com_elec_results = {}\n",
    "com_natur_results = {}\n",
    "\n",
    "\n",
    "# Iterate through the grouped DataFrames and apply the operation.\n",
    "for group_name, group_df in grouped_dataframes.items():\n",
    "    resi_elec_results[group_name] = resi_elec(group_df)\n",
    "    resi_natur_results[group_name] = resi_natur(group_df)\n",
    "    com_elec_results[group_name] = com_elec(group_df)\n",
    "    com_natur_results[group_name] = com_natur(group_df)\n",
    "\n",
    "# Now, 'results' contains the results of the operation for each group.\n",
    "# You can access the result DataFrames using the group names as keys.\n",
    "print(\"Residential Electric Results:\")\n",
    "print(resi_elec_results)\n",
    "\n",
    "print(\"Residential Natural Gas Results:\")\n",
    "print(resi_natur_results)\n",
    "\n",
    "print(\"Commercial Electric Results:\")\n",
    "print(com_elec_results)\n",
    "\n",
    "print(\"Commercial Natural Gas Results:\")\n",
    "print(com_natur_results)"
   ]
  },
  {
   "cell_type": "code",
   "execution_count": 17,
   "id": "5e9654ee-39d8-4ab3-a9fe-4571fa3fcc51",
   "metadata": {
    "tags": []
   },
   "outputs": [
    {
     "name": "stdout",
     "output_type": "stream",
     "text": [
      "Dictionary 1: Value for Hartford is 2674290061\n",
      "Dictionary 2: Value for Hartford is 166460562\n",
      "Dictionary 3: Value for Hartford is 4271047091\n",
      "Dictionary 4: Value for Hartford is 233247887\n",
      "Dictionary 1: Value for Fairfield is 3511203402\n",
      "Dictionary 2: Value for Fairfield is 140449933\n",
      "Dictionary 3: Value for Fairfield is 3459753129\n",
      "Dictionary 4: Value for Fairfield is 174167350\n",
      "Dictionary 1: Value for Middlesex is 607932869\n",
      "Dictionary 2: Value for Middlesex is 7533354\n",
      "Dictionary 3: Value for Middlesex is 567780156\n",
      "Dictionary 4: Value for Middlesex is 25030930\n",
      "Dictionary 1: Value for New_Haven is 2481066159\n",
      "Dictionary 2: Value for New_Haven is 120769767\n",
      "Dictionary 3: Value for New_Haven is 2849324964\n",
      "Dictionary 4: Value for New_Haven is 157288169\n",
      "Dictionary 1: Value for Tolland is 460719561\n",
      "Dictionary 2: Value for Tolland is 4952032\n",
      "Dictionary 3: Value for Tolland is 290210199\n",
      "Dictionary 4: Value for Tolland is 8666839\n"
     ]
    }
   ],
   "source": [
    "# Define a function to search for 'Hartford' in a dictionary\n",
    "dictionaries=[resi_elec_results,resi_natur_results,com_elec_results,com_natur_results]\n",
    "def find_hartford(dictionary):\n",
    "    if 'Hartford' in dictionary:\n",
    "        return dictionary['Hartford']\n",
    "    else:\n",
    "        return None\n",
    "\n",
    "# Iterate through the list of dictionaries and search for 'Hartford'\n",
    "for i, dictionary in enumerate(dictionaries, start=1):\n",
    "    hartford_value = find_hartford(dictionary)\n",
    "    if hartford_value is not None:\n",
    "        print(f\"Dictionary {i}: Value for Hartford is {hartford_value}\")\n",
    "    else:\n",
    "        print(f\"Dictionary {i}: Hartford not found in this dictionary\")\n",
    "        \n",
    "# Define a function to search for 'Hartford' in a dictionary\n",
    "dictionaries=[resi_elec_results,resi_natur_results,com_elec_results,com_natur_results]\n",
    "def find_Fairfield(dictionary):\n",
    "    if 'Fairfield' in dictionary:\n",
    "        return dictionary['Fairfield']\n",
    "    else:\n",
    "        return None\n",
    "\n",
    "# Iterate through the list of dictionaries and search for 'Hartford'\n",
    "for i, dictionary in enumerate(dictionaries, start=1):\n",
    "    Fairfield_value = find_Fairfield(dictionary)\n",
    "    if Fairfield_value is not None:\n",
    "        print(f\"Dictionary {i}: Value for Fairfield is {Fairfield_value}\")\n",
    "    else:\n",
    "        print(f\"Dictionary {i}: Fairfield not found in this dictionary\")\n",
    "        \n",
    "# Define a function to search for 'Hartford' in a dictionary\n",
    "dictionaries=[resi_elec_results,resi_natur_results,com_elec_results,com_natur_results]\n",
    "def find_Middlesex(dictionary):\n",
    "    if 'Middlesex' in dictionary:\n",
    "        return dictionary['Middlesex']\n",
    "    else:\n",
    "        return None\n",
    "\n",
    "# Iterate through the list of dictionaries and search for 'Hartford'\n",
    "for i, dictionary in enumerate(dictionaries, start=1):\n",
    "    Middlesex_value = find_Middlesex(dictionary)\n",
    "    if Middlesex_value is not None:\n",
    "        print(f\"Dictionary {i}: Value for Middlesex is {Middlesex_value}\")\n",
    "    else:\n",
    "        print(f\"Dictionary {i}: Middlesex not found in this dictionary\")\n",
    "        \n",
    "# Define a function to search for 'Hartford' in a dictionary\n",
    "dictionaries=[resi_elec_results,resi_natur_results,com_elec_results,com_natur_results]\n",
    "def find_New_Haven(dictionary):\n",
    "    if 'New Haven' in dictionary:\n",
    "        return dictionary['New Haven']\n",
    "    else:\n",
    "        return None\n",
    "\n",
    "# Iterate through the list of dictionaries and search for 'Hartford'\n",
    "for i, dictionary in enumerate(dictionaries, start=1):\n",
    "    New_Haven_value = find_New_Haven(dictionary)\n",
    "    if New_Haven_value is not None:\n",
    "        print(f\"Dictionary {i}: Value for New_Haven is {New_Haven_value}\")\n",
    "    else:\n",
    "        print(f\"Dictionary {i}: New_Haven not found in this dictionary\")\n",
    "        \n",
    "# Define a function to search for 'Hartford' in a dictionary\n",
    "dictionaries=[resi_elec_results,resi_natur_results,com_elec_results,com_natur_results]\n",
    "def find_Tolland(dictionary):\n",
    "    if 'Tolland' in dictionary:\n",
    "        return dictionary['Tolland']\n",
    "    else:\n",
    "        return None\n",
    "\n",
    "# Iterate through the list of dictionaries and search for 'Hartford'\n",
    "for i, dictionary in enumerate(dictionaries, start=1):\n",
    "    Tolland_value = find_Tolland(dictionary)\n",
    "    if Tolland_value is not None:\n",
    "        print(f\"Dictionary {i}: Value for Tolland is {Tolland_value}\")\n",
    "    else:\n",
    "        print(f\"Dictionary {i}: Tolland not found in this dictionary\")"
   ]
  },
  {
   "cell_type": "code",
   "execution_count": 18,
   "id": "d5996383-bdde-4c41-bdb9-812b476a53e3",
   "metadata": {
    "tags": []
   },
   "outputs": [],
   "source": [
    "df = pd.DataFrame(dictionaries)\n",
    "name =['Residential Electric Usage ( kWh)','Residential Natural Gas Usage (ccf)','Commercial Electric Usage ( kWh)','Commercial Natural Gas Usage (ccf)']\n",
    "df.insert(0, 'Parameters', name)"
   ]
  },
  {
   "cell_type": "code",
   "execution_count": 19,
   "id": "c1848b21-b0c2-486a-a7c6-131c4b309306",
   "metadata": {
    "tags": []
   },
   "outputs": [
    {
     "data": {
      "text/html": [
       "<div>\n",
       "<style scoped>\n",
       "    .dataframe tbody tr th:only-of-type {\n",
       "        vertical-align: middle;\n",
       "    }\n",
       "\n",
       "    .dataframe tbody tr th {\n",
       "        vertical-align: top;\n",
       "    }\n",
       "\n",
       "    .dataframe thead th {\n",
       "        text-align: right;\n",
       "    }\n",
       "</style>\n",
       "<table border=\"1\" class=\"dataframe\">\n",
       "  <thead>\n",
       "    <tr style=\"text-align: right;\">\n",
       "      <th></th>\n",
       "      <th>Parameters</th>\n",
       "      <th>Fairfield</th>\n",
       "      <th>Hartford</th>\n",
       "      <th>Litchfield</th>\n",
       "      <th>Middlesex</th>\n",
       "      <th>New Haven</th>\n",
       "      <th>New London</th>\n",
       "      <th>Tolland</th>\n",
       "      <th>Windham</th>\n",
       "      <th>Total</th>\n",
       "    </tr>\n",
       "  </thead>\n",
       "  <tbody>\n",
       "    <tr>\n",
       "      <th>0</th>\n",
       "      <td>Residential Electric Usage ( kWh)</td>\n",
       "      <td>3511203402</td>\n",
       "      <td>2674290061</td>\n",
       "      <td>638160326</td>\n",
       "      <td>607932869</td>\n",
       "      <td>2481066159</td>\n",
       "      <td>577269879</td>\n",
       "      <td>460719561</td>\n",
       "      <td>375532975</td>\n",
       "      <td>11326175232</td>\n",
       "    </tr>\n",
       "    <tr>\n",
       "      <th>1</th>\n",
       "      <td>Residential Natural Gas Usage (ccf)</td>\n",
       "      <td>140449933</td>\n",
       "      <td>166460562</td>\n",
       "      <td>8529192</td>\n",
       "      <td>7533354</td>\n",
       "      <td>120769767</td>\n",
       "      <td>6759806</td>\n",
       "      <td>4952032</td>\n",
       "      <td>3625804</td>\n",
       "      <td>459080450</td>\n",
       "    </tr>\n",
       "    <tr>\n",
       "      <th>2</th>\n",
       "      <td>Commercial Electric Usage ( kWh)</td>\n",
       "      <td>3459753129</td>\n",
       "      <td>4271047091</td>\n",
       "      <td>506011781</td>\n",
       "      <td>567780156</td>\n",
       "      <td>2849324964</td>\n",
       "      <td>715203982</td>\n",
       "      <td>290210199</td>\n",
       "      <td>384466119</td>\n",
       "      <td>13043797421</td>\n",
       "    </tr>\n",
       "    <tr>\n",
       "      <th>3</th>\n",
       "      <td>Commercial Natural Gas Usage (ccf)</td>\n",
       "      <td>174167350</td>\n",
       "      <td>233247887</td>\n",
       "      <td>13160891</td>\n",
       "      <td>25030930</td>\n",
       "      <td>157288169</td>\n",
       "      <td>43842861</td>\n",
       "      <td>8666839</td>\n",
       "      <td>20982469</td>\n",
       "      <td>676387396</td>\n",
       "    </tr>\n",
       "  </tbody>\n",
       "</table>\n",
       "</div>"
      ],
      "text/plain": [
       "                            Parameters   Fairfield    Hartford  Litchfield  \\\n",
       "0    Residential Electric Usage ( kWh)  3511203402  2674290061   638160326   \n",
       "1  Residential Natural Gas Usage (ccf)   140449933   166460562     8529192   \n",
       "2     Commercial Electric Usage ( kWh)  3459753129  4271047091   506011781   \n",
       "3   Commercial Natural Gas Usage (ccf)   174167350   233247887    13160891   \n",
       "\n",
       "   Middlesex   New Haven  New London    Tolland    Windham        Total  \n",
       "0  607932869  2481066159   577269879  460719561  375532975  11326175232  \n",
       "1    7533354   120769767     6759806    4952032    3625804    459080450  \n",
       "2  567780156  2849324964   715203982  290210199  384466119  13043797421  \n",
       "3   25030930   157288169    43842861    8666839   20982469    676387396  "
      ]
     },
     "execution_count": 19,
     "metadata": {},
     "output_type": "execute_result"
    }
   ],
   "source": [
    "df['Total']=df[\"Fairfield\"]+df[\"Hartford\"]+df[\"Litchfield\"]+df[\"Middlesex\"]+df[\"New Haven\"]+df[\"New London\"]+df[\"Tolland\"]+df[\"Windham\"]\n",
    "df"
   ]
  },
  {
   "cell_type": "code",
   "execution_count": 20,
   "id": "40a8130d-b1bb-4154-8a4d-596726baa734",
   "metadata": {
    "tags": []
   },
   "outputs": [],
   "source": [
    "HEM = df['Middlesex']+df['New Haven']+df['Tolland']\n",
    "NHM = df['New Haven']\n",
    "BSN = df['Fairfield']\n",
    "df_msa = pd.DataFrame({NHM.name: NHM, HEM.name: HEM, BSN.name: BSN})\n",
    "name =['Residential Electric Usage ( kWh)','Residential Natural Gas Usage (ccf)','Commercial Electric Usage ( kWh)','Commercial Natural Gas Usage (ccf)']\n",
    "df_msa.insert(0, 'Parameters', name)"
   ]
  },
  {
   "cell_type": "code",
   "execution_count": 21,
   "id": "2ec42d8e-18e5-4b10-a5fd-fe5fced53a76",
   "metadata": {
    "tags": []
   },
   "outputs": [],
   "source": [
    "# New column index\n",
    "new_columns = ['Utility Consumption', 'New Haven-Milford (NHM)', 'Hartford-East Hartford-Middletown (HEM)','Bridgeport-Stamford-Norwalk (BSN)']\n",
    "\n",
    "# Assign new column names directly to the .columns attribute\n",
    "df_msa.columns = new_columns"
   ]
  },
  {
   "cell_type": "code",
   "execution_count": 22,
   "id": "5fb64454-2250-4328-9eaf-05c5ed06dabd",
   "metadata": {
    "tags": []
   },
   "outputs": [],
   "source": [
    "df_msa[\"Torrington\"] = df['Litchfield']\n",
    "df_msa[\"Worcester\"] = df['Windham']\n",
    "df_msa[\"Norwich-New London\"] = df['New London']\n",
    "df_msa[\"Statewide\"]=df['Total']"
   ]
  },
  {
   "cell_type": "code",
   "execution_count": 23,
   "id": "a22eb96e-3ffe-434c-8d17-1999cbd7b4d1",
   "metadata": {
    "tags": []
   },
   "outputs": [],
   "source": [
    "NHM_ra = df_msa['New Haven-Milford (NHM)']/df_msa['Statewide']*100\n",
    "HEM_ra = df_msa['Hartford-East Hartford-Middletown (HEM)']/df_msa['Statewide']*100\n",
    "BSN_ra = df_msa['Bridgeport-Stamford-Norwalk (BSN)']/df_msa['Statewide']*100"
   ]
  },
  {
   "cell_type": "code",
   "execution_count": 24,
   "id": "12050b90-0d2b-4d80-a106-fd678a0026f6",
   "metadata": {
    "tags": []
   },
   "outputs": [],
   "source": [
    "df_msa.insert(2, 'NHM relative to CT (%)', NHM_ra)\n",
    "df_msa.insert(4, 'HEM relative to CT (%)', HEM_ra)\n",
    "df_msa.insert(6, 'BSN relative to CT (%)', BSN_ra)"
   ]
  },
  {
   "cell_type": "code",
   "execution_count": 25,
   "id": "4eea9ab9-d902-4a6a-8e74-378be37c49cf",
   "metadata": {
    "tags": []
   },
   "outputs": [
    {
     "data": {
      "text/html": [
       "<div>\n",
       "<style scoped>\n",
       "    .dataframe tbody tr th:only-of-type {\n",
       "        vertical-align: middle;\n",
       "    }\n",
       "\n",
       "    .dataframe tbody tr th {\n",
       "        vertical-align: top;\n",
       "    }\n",
       "\n",
       "    .dataframe thead th {\n",
       "        text-align: right;\n",
       "    }\n",
       "</style>\n",
       "<table border=\"1\" class=\"dataframe\">\n",
       "  <thead>\n",
       "    <tr style=\"text-align: right;\">\n",
       "      <th></th>\n",
       "      <th>Utility Consumption</th>\n",
       "      <th>New Haven-Milford (NHM)</th>\n",
       "      <th>NHM relative to CT (%)</th>\n",
       "      <th>Hartford-East Hartford-Middletown (HEM)</th>\n",
       "      <th>HEM relative to CT (%)</th>\n",
       "      <th>Bridgeport-Stamford-Norwalk (BSN)</th>\n",
       "      <th>BSN relative to CT (%)</th>\n",
       "      <th>Torrington</th>\n",
       "      <th>Worcester</th>\n",
       "      <th>Norwich-New London</th>\n",
       "      <th>Statewide</th>\n",
       "    </tr>\n",
       "  </thead>\n",
       "  <tbody>\n",
       "    <tr>\n",
       "      <th>0</th>\n",
       "      <td>Residential Electric Usage ( kWh)</td>\n",
       "      <td>2481066159</td>\n",
       "      <td>21.905596</td>\n",
       "      <td>3549718589</td>\n",
       "      <td>31.340841</td>\n",
       "      <td>3511203402</td>\n",
       "      <td>31.000786</td>\n",
       "      <td>638160326</td>\n",
       "      <td>375532975</td>\n",
       "      <td>577269879</td>\n",
       "      <td>11326175232</td>\n",
       "    </tr>\n",
       "    <tr>\n",
       "      <th>1</th>\n",
       "      <td>Residential Natural Gas Usage (ccf)</td>\n",
       "      <td>120769767</td>\n",
       "      <td>26.306885</td>\n",
       "      <td>133255153</td>\n",
       "      <td>29.026536</td>\n",
       "      <td>140449933</td>\n",
       "      <td>30.593752</td>\n",
       "      <td>8529192</td>\n",
       "      <td>3625804</td>\n",
       "      <td>6759806</td>\n",
       "      <td>459080450</td>\n",
       "    </tr>\n",
       "    <tr>\n",
       "      <th>2</th>\n",
       "      <td>Commercial Electric Usage ( kWh)</td>\n",
       "      <td>2849324964</td>\n",
       "      <td>21.844290</td>\n",
       "      <td>3707315319</td>\n",
       "      <td>28.422055</td>\n",
       "      <td>3459753129</td>\n",
       "      <td>26.524125</td>\n",
       "      <td>506011781</td>\n",
       "      <td>384466119</td>\n",
       "      <td>715203982</td>\n",
       "      <td>13043797421</td>\n",
       "    </tr>\n",
       "    <tr>\n",
       "      <th>3</th>\n",
       "      <td>Commercial Natural Gas Usage (ccf)</td>\n",
       "      <td>157288169</td>\n",
       "      <td>23.254154</td>\n",
       "      <td>190985938</td>\n",
       "      <td>28.236176</td>\n",
       "      <td>174167350</td>\n",
       "      <td>25.749645</td>\n",
       "      <td>13160891</td>\n",
       "      <td>20982469</td>\n",
       "      <td>43842861</td>\n",
       "      <td>676387396</td>\n",
       "    </tr>\n",
       "  </tbody>\n",
       "</table>\n",
       "</div>"
      ],
      "text/plain": [
       "                   Utility Consumption  New Haven-Milford (NHM)  \\\n",
       "0    Residential Electric Usage ( kWh)               2481066159   \n",
       "1  Residential Natural Gas Usage (ccf)                120769767   \n",
       "2     Commercial Electric Usage ( kWh)               2849324964   \n",
       "3   Commercial Natural Gas Usage (ccf)                157288169   \n",
       "\n",
       "   NHM relative to CT (%)  Hartford-East Hartford-Middletown (HEM)  \\\n",
       "0               21.905596                               3549718589   \n",
       "1               26.306885                                133255153   \n",
       "2               21.844290                               3707315319   \n",
       "3               23.254154                                190985938   \n",
       "\n",
       "   HEM relative to CT (%)  Bridgeport-Stamford-Norwalk (BSN)  \\\n",
       "0               31.340841                         3511203402   \n",
       "1               29.026536                          140449933   \n",
       "2               28.422055                         3459753129   \n",
       "3               28.236176                          174167350   \n",
       "\n",
       "   BSN relative to CT (%)  Torrington  Worcester  Norwich-New London  \\\n",
       "0               31.000786   638160326  375532975           577269879   \n",
       "1               30.593752     8529192    3625804             6759806   \n",
       "2               26.524125   506011781  384466119           715203982   \n",
       "3               25.749645    13160891   20982469            43842861   \n",
       "\n",
       "     Statewide  \n",
       "0  11326175232  \n",
       "1    459080450  \n",
       "2  13043797421  \n",
       "3    676387396  "
      ]
     },
     "execution_count": 25,
     "metadata": {},
     "output_type": "execute_result"
    }
   ],
   "source": [
    "df_msa\n"
   ]
  },
  {
   "cell_type": "code",
   "execution_count": 26,
   "id": "8ac6f01f-c17b-4138-8376-4633f0a34b08",
   "metadata": {
    "tags": []
   },
   "outputs": [
    {
     "data": {
      "text/html": [
       "<div>\n",
       "<style scoped>\n",
       "    .dataframe tbody tr th:only-of-type {\n",
       "        vertical-align: middle;\n",
       "    }\n",
       "\n",
       "    .dataframe tbody tr th {\n",
       "        vertical-align: top;\n",
       "    }\n",
       "\n",
       "    .dataframe thead th {\n",
       "        text-align: right;\n",
       "    }\n",
       "</style>\n",
       "<table border=\"1\" class=\"dataframe\">\n",
       "  <thead>\n",
       "    <tr style=\"text-align: right;\">\n",
       "      <th></th>\n",
       "      <th>Utility Consumption</th>\n",
       "      <th>New Haven-Milford (NHM)</th>\n",
       "      <th>NHM relative to CT (%)</th>\n",
       "      <th>Hartford-East Hartford-Middletown (HEM)</th>\n",
       "      <th>HEM relative to CT (%)</th>\n",
       "      <th>Bridgeport-Stamford-Norwalk (BSN)</th>\n",
       "      <th>BSN relative to CT (%)</th>\n",
       "      <th>Torrington</th>\n",
       "      <th>Worcester</th>\n",
       "      <th>Norwich-New London</th>\n",
       "      <th>Statewide</th>\n",
       "    </tr>\n",
       "  </thead>\n",
       "  <tbody>\n",
       "    <tr>\n",
       "      <th>0</th>\n",
       "      <td>Residential Electric Usage ( kWh)</td>\n",
       "      <td>2481066159</td>\n",
       "      <td>21.905596</td>\n",
       "      <td>3549718589</td>\n",
       "      <td>31.340841</td>\n",
       "      <td>3511203402</td>\n",
       "      <td>31.000786</td>\n",
       "      <td>638160326</td>\n",
       "      <td>375532975</td>\n",
       "      <td>577269879</td>\n",
       "      <td>11326175232</td>\n",
       "    </tr>\n",
       "    <tr>\n",
       "      <th>1</th>\n",
       "      <td>Residential Natural Gas Usage (ccf)</td>\n",
       "      <td>120769767</td>\n",
       "      <td>26.306885</td>\n",
       "      <td>133255153</td>\n",
       "      <td>29.026536</td>\n",
       "      <td>140449933</td>\n",
       "      <td>30.593752</td>\n",
       "      <td>8529192</td>\n",
       "      <td>3625804</td>\n",
       "      <td>6759806</td>\n",
       "      <td>459080450</td>\n",
       "    </tr>\n",
       "    <tr>\n",
       "      <th>2</th>\n",
       "      <td>Commercial Electric Usage ( kWh)</td>\n",
       "      <td>2849324964</td>\n",
       "      <td>21.844290</td>\n",
       "      <td>3707315319</td>\n",
       "      <td>28.422055</td>\n",
       "      <td>3459753129</td>\n",
       "      <td>26.524125</td>\n",
       "      <td>506011781</td>\n",
       "      <td>384466119</td>\n",
       "      <td>715203982</td>\n",
       "      <td>13043797421</td>\n",
       "    </tr>\n",
       "    <tr>\n",
       "      <th>3</th>\n",
       "      <td>Commercial Natural Gas Usage (ccf)</td>\n",
       "      <td>157288169</td>\n",
       "      <td>23.254154</td>\n",
       "      <td>190985938</td>\n",
       "      <td>28.236176</td>\n",
       "      <td>174167350</td>\n",
       "      <td>25.749645</td>\n",
       "      <td>13160891</td>\n",
       "      <td>20982469</td>\n",
       "      <td>43842861</td>\n",
       "      <td>676387396</td>\n",
       "    </tr>\n",
       "  </tbody>\n",
       "</table>\n",
       "</div>"
      ],
      "text/plain": [
       "                   Utility Consumption  New Haven-Milford (NHM)  \\\n",
       "0    Residential Electric Usage ( kWh)               2481066159   \n",
       "1  Residential Natural Gas Usage (ccf)                120769767   \n",
       "2     Commercial Electric Usage ( kWh)               2849324964   \n",
       "3   Commercial Natural Gas Usage (ccf)                157288169   \n",
       "\n",
       "   NHM relative to CT (%)  Hartford-East Hartford-Middletown (HEM)  \\\n",
       "0               21.905596                               3549718589   \n",
       "1               26.306885                                133255153   \n",
       "2               21.844290                               3707315319   \n",
       "3               23.254154                                190985938   \n",
       "\n",
       "   HEM relative to CT (%)  Bridgeport-Stamford-Norwalk (BSN)  \\\n",
       "0               31.340841                         3511203402   \n",
       "1               29.026536                          140449933   \n",
       "2               28.422055                         3459753129   \n",
       "3               28.236176                          174167350   \n",
       "\n",
       "   BSN relative to CT (%)  Torrington  Worcester  Norwich-New London  \\\n",
       "0               31.000786   638160326  375532975           577269879   \n",
       "1               30.593752     8529192    3625804             6759806   \n",
       "2               26.524125   506011781  384466119           715203982   \n",
       "3               25.749645    13160891   20982469            43842861   \n",
       "\n",
       "     Statewide  \n",
       "0  11326175232  \n",
       "1    459080450  \n",
       "2  13043797421  \n",
       "3    676387396  "
      ]
     },
     "execution_count": 26,
     "metadata": {},
     "output_type": "execute_result"
    }
   ],
   "source": [
    "df_msa"
   ]
  },
  {
   "cell_type": "code",
   "execution_count": 27,
   "id": "20a4005e-6850-428a-a509-fafda09166f7",
   "metadata": {
    "tags": []
   },
   "outputs": [
    {
     "data": {
      "text/html": [
       "<div>\n",
       "<style scoped>\n",
       "    .dataframe tbody tr th:only-of-type {\n",
       "        vertical-align: middle;\n",
       "    }\n",
       "\n",
       "    .dataframe tbody tr th {\n",
       "        vertical-align: top;\n",
       "    }\n",
       "\n",
       "    .dataframe thead th {\n",
       "        text-align: right;\n",
       "    }\n",
       "</style>\n",
       "<table border=\"1\" class=\"dataframe\">\n",
       "  <thead>\n",
       "    <tr style=\"text-align: right;\">\n",
       "      <th></th>\n",
       "      <th>New Haven-Milford (NHM)</th>\n",
       "      <th>Hartford-East Hartford-Middletown (HEM)</th>\n",
       "      <th>Bridgeport-Stamford-Norwalk (BSN)</th>\n",
       "      <th>Torrington</th>\n",
       "      <th>Worcester</th>\n",
       "      <th>Norwich-New London</th>\n",
       "      <th>Statewide</th>\n",
       "    </tr>\n",
       "  </thead>\n",
       "  <tbody>\n",
       "    <tr>\n",
       "      <th>0</th>\n",
       "      <td>2481066159</td>\n",
       "      <td>3549718589</td>\n",
       "      <td>3511203402</td>\n",
       "      <td>638160326</td>\n",
       "      <td>375532975</td>\n",
       "      <td>577269879</td>\n",
       "      <td>11326175232</td>\n",
       "    </tr>\n",
       "    <tr>\n",
       "      <th>2</th>\n",
       "      <td>2849324964</td>\n",
       "      <td>3707315319</td>\n",
       "      <td>3459753129</td>\n",
       "      <td>506011781</td>\n",
       "      <td>384466119</td>\n",
       "      <td>715203982</td>\n",
       "      <td>13043797421</td>\n",
       "    </tr>\n",
       "  </tbody>\n",
       "</table>\n",
       "</div>"
      ],
      "text/plain": [
       "   New Haven-Milford (NHM)  Hartford-East Hartford-Middletown (HEM)  \\\n",
       "0               2481066159                               3549718589   \n",
       "2               2849324964                               3707315319   \n",
       "\n",
       "   Bridgeport-Stamford-Norwalk (BSN)  Torrington  Worcester  \\\n",
       "0                         3511203402   638160326  375532975   \n",
       "2                         3459753129   506011781  384466119   \n",
       "\n",
       "   Norwich-New London    Statewide  \n",
       "0           577269879  11326175232  \n",
       "2           715203982  13043797421  "
      ]
     },
     "execution_count": 27,
     "metadata": {},
     "output_type": "execute_result"
    }
   ],
   "source": [
    "selected_data = df_msa.iloc[[0, 2], [1, 3, 5, 7,8,9,10]]\n",
    "selected_data"
   ]
  },
  {
   "cell_type": "code",
   "execution_count": 28,
   "id": "16ecd798-0373-4481-b5a2-7ea2e2891839",
   "metadata": {
    "tags": []
   },
   "outputs": [],
   "source": [
    "sum_result = selected_data.iloc[0,:]+selected_data.iloc[1,:]"
   ]
  },
  {
   "cell_type": "code",
   "execution_count": 29,
   "id": "28b9a18d-73d7-4827-8ddd-67205e07867b",
   "metadata": {
    "tags": []
   },
   "outputs": [],
   "source": [
    "selected_data.loc['Total'] = sum_result\n"
   ]
  },
  {
   "cell_type": "code",
   "execution_count": 30,
   "id": "e8f93418-e557-4d9b-b3a9-4616b426e460",
   "metadata": {
    "tags": []
   },
   "outputs": [
    {
     "data": {
      "text/html": [
       "<div>\n",
       "<style scoped>\n",
       "    .dataframe tbody tr th:only-of-type {\n",
       "        vertical-align: middle;\n",
       "    }\n",
       "\n",
       "    .dataframe tbody tr th {\n",
       "        vertical-align: top;\n",
       "    }\n",
       "\n",
       "    .dataframe thead th {\n",
       "        text-align: right;\n",
       "    }\n",
       "</style>\n",
       "<table border=\"1\" class=\"dataframe\">\n",
       "  <thead>\n",
       "    <tr style=\"text-align: right;\">\n",
       "      <th></th>\n",
       "      <th>New Haven-Milford (NHM)</th>\n",
       "      <th>Hartford-East Hartford-Middletown (HEM)</th>\n",
       "      <th>Bridgeport-Stamford-Norwalk (BSN)</th>\n",
       "      <th>Torrington</th>\n",
       "      <th>Worcester</th>\n",
       "      <th>Norwich-New London</th>\n",
       "      <th>Statewide</th>\n",
       "    </tr>\n",
       "  </thead>\n",
       "  <tbody>\n",
       "    <tr>\n",
       "      <th>0</th>\n",
       "      <td>2481066159</td>\n",
       "      <td>3549718589</td>\n",
       "      <td>3511203402</td>\n",
       "      <td>638160326</td>\n",
       "      <td>375532975</td>\n",
       "      <td>577269879</td>\n",
       "      <td>11326175232</td>\n",
       "    </tr>\n",
       "    <tr>\n",
       "      <th>1</th>\n",
       "      <td>2849324964</td>\n",
       "      <td>3707315319</td>\n",
       "      <td>3459753129</td>\n",
       "      <td>506011781</td>\n",
       "      <td>384466119</td>\n",
       "      <td>715203982</td>\n",
       "      <td>13043797421</td>\n",
       "    </tr>\n",
       "    <tr>\n",
       "      <th>2</th>\n",
       "      <td>5330391123</td>\n",
       "      <td>7257033908</td>\n",
       "      <td>6970956531</td>\n",
       "      <td>1144172107</td>\n",
       "      <td>759999094</td>\n",
       "      <td>1292473861</td>\n",
       "      <td>24369972653</td>\n",
       "    </tr>\n",
       "  </tbody>\n",
       "</table>\n",
       "</div>"
      ],
      "text/plain": [
       "   New Haven-Milford (NHM)  Hartford-East Hartford-Middletown (HEM)  \\\n",
       "0               2481066159                               3549718589   \n",
       "1               2849324964                               3707315319   \n",
       "2               5330391123                               7257033908   \n",
       "\n",
       "   Bridgeport-Stamford-Norwalk (BSN)  Torrington  Worcester  \\\n",
       "0                         3511203402   638160326  375532975   \n",
       "1                         3459753129   506011781  384466119   \n",
       "2                         6970956531  1144172107  759999094   \n",
       "\n",
       "   Norwich-New London    Statewide  \n",
       "0           577269879  11326175232  \n",
       "1           715203982  13043797421  \n",
       "2          1292473861  24369972653  "
      ]
     },
     "execution_count": 30,
     "metadata": {},
     "output_type": "execute_result"
    }
   ],
   "source": [
    "msa_result = selected_data\n",
    "msa_result.reset_index(drop=True, inplace=True)\n",
    "msa_result"
   ]
  },
  {
   "cell_type": "code",
   "execution_count": 31,
   "id": "dd1e5b85-9ec6-4882-a908-0d5d29bfe716",
   "metadata": {
    "tags": []
   },
   "outputs": [
    {
     "data": {
      "text/html": [
       "<div>\n",
       "<style scoped>\n",
       "    .dataframe tbody tr th:only-of-type {\n",
       "        vertical-align: middle;\n",
       "    }\n",
       "\n",
       "    .dataframe tbody tr th {\n",
       "        vertical-align: top;\n",
       "    }\n",
       "\n",
       "    .dataframe thead th {\n",
       "        text-align: right;\n",
       "    }\n",
       "</style>\n",
       "<table border=\"1\" class=\"dataframe\">\n",
       "  <thead>\n",
       "    <tr style=\"text-align: right;\">\n",
       "      <th></th>\n",
       "      <th>New Haven-Milford (NHM)</th>\n",
       "      <th>Hartford-East Hartford-Middletown (HEM)</th>\n",
       "      <th>Bridgeport-Stamford-Norwalk (BSN)</th>\n",
       "      <th>Torrington</th>\n",
       "      <th>Worcester</th>\n",
       "      <th>Norwich-New London</th>\n",
       "      <th>Statewide</th>\n",
       "    </tr>\n",
       "  </thead>\n",
       "  <tbody>\n",
       "    <tr>\n",
       "      <th>0</th>\n",
       "      <td>2481066159</td>\n",
       "      <td>3549718589</td>\n",
       "      <td>3511203402</td>\n",
       "      <td>638160326</td>\n",
       "      <td>375532975</td>\n",
       "      <td>577269879</td>\n",
       "      <td>11326175232</td>\n",
       "    </tr>\n",
       "    <tr>\n",
       "      <th>1</th>\n",
       "      <td>2849324964</td>\n",
       "      <td>3707315319</td>\n",
       "      <td>3459753129</td>\n",
       "      <td>506011781</td>\n",
       "      <td>384466119</td>\n",
       "      <td>715203982</td>\n",
       "      <td>13043797421</td>\n",
       "    </tr>\n",
       "    <tr>\n",
       "      <th>2</th>\n",
       "      <td>5330391123</td>\n",
       "      <td>7257033908</td>\n",
       "      <td>6970956531</td>\n",
       "      <td>1144172107</td>\n",
       "      <td>759999094</td>\n",
       "      <td>1292473861</td>\n",
       "      <td>24369972653</td>\n",
       "    </tr>\n",
       "  </tbody>\n",
       "</table>\n",
       "</div>"
      ],
      "text/plain": [
       "   New Haven-Milford (NHM)  Hartford-East Hartford-Middletown (HEM)  \\\n",
       "0               2481066159                               3549718589   \n",
       "1               2849324964                               3707315319   \n",
       "2               5330391123                               7257033908   \n",
       "\n",
       "   Bridgeport-Stamford-Norwalk (BSN)  Torrington  Worcester  \\\n",
       "0                         3511203402   638160326  375532975   \n",
       "1                         3459753129   506011781  384466119   \n",
       "2                         6970956531  1144172107  759999094   \n",
       "\n",
       "   Norwich-New London    Statewide  \n",
       "0           577269879  11326175232  \n",
       "1           715203982  13043797421  \n",
       "2          1292473861  24369972653  "
      ]
     },
     "execution_count": 31,
     "metadata": {},
     "output_type": "execute_result"
    }
   ],
   "source": [
    "msa_result"
   ]
  },
  {
   "cell_type": "code",
   "execution_count": 32,
   "id": "42913acb-9513-45f4-8897-d24888e99fac",
   "metadata": {
    "tags": []
   },
   "outputs": [
    {
     "ename": "OSError",
     "evalue": "Cannot save file into a non-existent directory: '..\\..\\data\\tidy'",
     "output_type": "error",
     "traceback": [
      "\u001b[1;31m---------------------------------------------------------------------------\u001b[0m",
      "\u001b[1;31mOSError\u001b[0m                                   Traceback (most recent call last)",
      "Cell \u001b[1;32mIn[32], line 4\u001b[0m\n\u001b[0;32m      2\u001b[0m msa_result\u001b[38;5;241m.\u001b[39minsert(\u001b[38;5;241m0\u001b[39m, \u001b[38;5;124m'\u001b[39m\u001b[38;5;124mParameters\u001b[39m\u001b[38;5;124m'\u001b[39m, rows)\n\u001b[0;32m      3\u001b[0m msa_result\n\u001b[1;32m----> 4\u001b[0m msa_result\u001b[38;5;241m.\u001b[39mto_csv(\u001b[38;5;124m'\u001b[39m\u001b[38;5;124m../../data/tidy/emissions-electricity.csv\u001b[39m\u001b[38;5;124m'\u001b[39m)\n",
      "File \u001b[1;32m~\\AppData\\Local\\anaconda3\\Lib\\site-packages\\pandas\\core\\generic.py:3902\u001b[0m, in \u001b[0;36mNDFrame.to_csv\u001b[1;34m(self, path_or_buf, sep, na_rep, float_format, columns, header, index, index_label, mode, encoding, compression, quoting, quotechar, lineterminator, chunksize, date_format, doublequote, escapechar, decimal, errors, storage_options)\u001b[0m\n\u001b[0;32m   3891\u001b[0m df \u001b[38;5;241m=\u001b[39m \u001b[38;5;28mself\u001b[39m \u001b[38;5;28;01mif\u001b[39;00m \u001b[38;5;28misinstance\u001b[39m(\u001b[38;5;28mself\u001b[39m, ABCDataFrame) \u001b[38;5;28;01melse\u001b[39;00m \u001b[38;5;28mself\u001b[39m\u001b[38;5;241m.\u001b[39mto_frame()\n\u001b[0;32m   3893\u001b[0m formatter \u001b[38;5;241m=\u001b[39m DataFrameFormatter(\n\u001b[0;32m   3894\u001b[0m     frame\u001b[38;5;241m=\u001b[39mdf,\n\u001b[0;32m   3895\u001b[0m     header\u001b[38;5;241m=\u001b[39mheader,\n\u001b[1;32m   (...)\u001b[0m\n\u001b[0;32m   3899\u001b[0m     decimal\u001b[38;5;241m=\u001b[39mdecimal,\n\u001b[0;32m   3900\u001b[0m )\n\u001b[1;32m-> 3902\u001b[0m \u001b[38;5;28;01mreturn\u001b[39;00m DataFrameRenderer(formatter)\u001b[38;5;241m.\u001b[39mto_csv(\n\u001b[0;32m   3903\u001b[0m     path_or_buf,\n\u001b[0;32m   3904\u001b[0m     lineterminator\u001b[38;5;241m=\u001b[39mlineterminator,\n\u001b[0;32m   3905\u001b[0m     sep\u001b[38;5;241m=\u001b[39msep,\n\u001b[0;32m   3906\u001b[0m     encoding\u001b[38;5;241m=\u001b[39mencoding,\n\u001b[0;32m   3907\u001b[0m     errors\u001b[38;5;241m=\u001b[39merrors,\n\u001b[0;32m   3908\u001b[0m     compression\u001b[38;5;241m=\u001b[39mcompression,\n\u001b[0;32m   3909\u001b[0m     quoting\u001b[38;5;241m=\u001b[39mquoting,\n\u001b[0;32m   3910\u001b[0m     columns\u001b[38;5;241m=\u001b[39mcolumns,\n\u001b[0;32m   3911\u001b[0m     index_label\u001b[38;5;241m=\u001b[39mindex_label,\n\u001b[0;32m   3912\u001b[0m     mode\u001b[38;5;241m=\u001b[39mmode,\n\u001b[0;32m   3913\u001b[0m     chunksize\u001b[38;5;241m=\u001b[39mchunksize,\n\u001b[0;32m   3914\u001b[0m     quotechar\u001b[38;5;241m=\u001b[39mquotechar,\n\u001b[0;32m   3915\u001b[0m     date_format\u001b[38;5;241m=\u001b[39mdate_format,\n\u001b[0;32m   3916\u001b[0m     doublequote\u001b[38;5;241m=\u001b[39mdoublequote,\n\u001b[0;32m   3917\u001b[0m     escapechar\u001b[38;5;241m=\u001b[39mescapechar,\n\u001b[0;32m   3918\u001b[0m     storage_options\u001b[38;5;241m=\u001b[39mstorage_options,\n\u001b[0;32m   3919\u001b[0m )\n",
      "File \u001b[1;32m~\\AppData\\Local\\anaconda3\\Lib\\site-packages\\pandas\\io\\formats\\format.py:1152\u001b[0m, in \u001b[0;36mDataFrameRenderer.to_csv\u001b[1;34m(self, path_or_buf, encoding, sep, columns, index_label, mode, compression, quoting, quotechar, lineterminator, chunksize, date_format, doublequote, escapechar, errors, storage_options)\u001b[0m\n\u001b[0;32m   1131\u001b[0m     created_buffer \u001b[38;5;241m=\u001b[39m \u001b[38;5;28;01mFalse\u001b[39;00m\n\u001b[0;32m   1133\u001b[0m csv_formatter \u001b[38;5;241m=\u001b[39m CSVFormatter(\n\u001b[0;32m   1134\u001b[0m     path_or_buf\u001b[38;5;241m=\u001b[39mpath_or_buf,\n\u001b[0;32m   1135\u001b[0m     lineterminator\u001b[38;5;241m=\u001b[39mlineterminator,\n\u001b[1;32m   (...)\u001b[0m\n\u001b[0;32m   1150\u001b[0m     formatter\u001b[38;5;241m=\u001b[39m\u001b[38;5;28mself\u001b[39m\u001b[38;5;241m.\u001b[39mfmt,\n\u001b[0;32m   1151\u001b[0m )\n\u001b[1;32m-> 1152\u001b[0m csv_formatter\u001b[38;5;241m.\u001b[39msave()\n\u001b[0;32m   1154\u001b[0m \u001b[38;5;28;01mif\u001b[39;00m created_buffer:\n\u001b[0;32m   1155\u001b[0m     \u001b[38;5;28;01massert\u001b[39;00m \u001b[38;5;28misinstance\u001b[39m(path_or_buf, StringIO)\n",
      "File \u001b[1;32m~\\AppData\\Local\\anaconda3\\Lib\\site-packages\\pandas\\io\\formats\\csvs.py:247\u001b[0m, in \u001b[0;36mCSVFormatter.save\u001b[1;34m(self)\u001b[0m\n\u001b[0;32m    243\u001b[0m \u001b[38;5;250m\u001b[39m\u001b[38;5;124;03m\"\"\"\u001b[39;00m\n\u001b[0;32m    244\u001b[0m \u001b[38;5;124;03mCreate the writer & save.\u001b[39;00m\n\u001b[0;32m    245\u001b[0m \u001b[38;5;124;03m\"\"\"\u001b[39;00m\n\u001b[0;32m    246\u001b[0m \u001b[38;5;66;03m# apply compression and byte/text conversion\u001b[39;00m\n\u001b[1;32m--> 247\u001b[0m \u001b[38;5;28;01mwith\u001b[39;00m get_handle(\n\u001b[0;32m    248\u001b[0m     \u001b[38;5;28mself\u001b[39m\u001b[38;5;241m.\u001b[39mfilepath_or_buffer,\n\u001b[0;32m    249\u001b[0m     \u001b[38;5;28mself\u001b[39m\u001b[38;5;241m.\u001b[39mmode,\n\u001b[0;32m    250\u001b[0m     encoding\u001b[38;5;241m=\u001b[39m\u001b[38;5;28mself\u001b[39m\u001b[38;5;241m.\u001b[39mencoding,\n\u001b[0;32m    251\u001b[0m     errors\u001b[38;5;241m=\u001b[39m\u001b[38;5;28mself\u001b[39m\u001b[38;5;241m.\u001b[39merrors,\n\u001b[0;32m    252\u001b[0m     compression\u001b[38;5;241m=\u001b[39m\u001b[38;5;28mself\u001b[39m\u001b[38;5;241m.\u001b[39mcompression,\n\u001b[0;32m    253\u001b[0m     storage_options\u001b[38;5;241m=\u001b[39m\u001b[38;5;28mself\u001b[39m\u001b[38;5;241m.\u001b[39mstorage_options,\n\u001b[0;32m    254\u001b[0m ) \u001b[38;5;28;01mas\u001b[39;00m handles:\n\u001b[0;32m    255\u001b[0m     \u001b[38;5;66;03m# Note: self.encoding is irrelevant here\u001b[39;00m\n\u001b[0;32m    256\u001b[0m     \u001b[38;5;28mself\u001b[39m\u001b[38;5;241m.\u001b[39mwriter \u001b[38;5;241m=\u001b[39m csvlib\u001b[38;5;241m.\u001b[39mwriter(\n\u001b[0;32m    257\u001b[0m         handles\u001b[38;5;241m.\u001b[39mhandle,\n\u001b[0;32m    258\u001b[0m         lineterminator\u001b[38;5;241m=\u001b[39m\u001b[38;5;28mself\u001b[39m\u001b[38;5;241m.\u001b[39mlineterminator,\n\u001b[1;32m   (...)\u001b[0m\n\u001b[0;32m    263\u001b[0m         quotechar\u001b[38;5;241m=\u001b[39m\u001b[38;5;28mself\u001b[39m\u001b[38;5;241m.\u001b[39mquotechar,\n\u001b[0;32m    264\u001b[0m     )\n\u001b[0;32m    266\u001b[0m     \u001b[38;5;28mself\u001b[39m\u001b[38;5;241m.\u001b[39m_save()\n",
      "File \u001b[1;32m~\\AppData\\Local\\anaconda3\\Lib\\site-packages\\pandas\\io\\common.py:739\u001b[0m, in \u001b[0;36mget_handle\u001b[1;34m(path_or_buf, mode, encoding, compression, memory_map, is_text, errors, storage_options)\u001b[0m\n\u001b[0;32m    737\u001b[0m \u001b[38;5;66;03m# Only for write methods\u001b[39;00m\n\u001b[0;32m    738\u001b[0m \u001b[38;5;28;01mif\u001b[39;00m \u001b[38;5;124m\"\u001b[39m\u001b[38;5;124mr\u001b[39m\u001b[38;5;124m\"\u001b[39m \u001b[38;5;129;01mnot\u001b[39;00m \u001b[38;5;129;01min\u001b[39;00m mode \u001b[38;5;129;01mand\u001b[39;00m is_path:\n\u001b[1;32m--> 739\u001b[0m     check_parent_directory(\u001b[38;5;28mstr\u001b[39m(handle))\n\u001b[0;32m    741\u001b[0m \u001b[38;5;28;01mif\u001b[39;00m compression:\n\u001b[0;32m    742\u001b[0m     \u001b[38;5;28;01mif\u001b[39;00m compression \u001b[38;5;241m!=\u001b[39m \u001b[38;5;124m\"\u001b[39m\u001b[38;5;124mzstd\u001b[39m\u001b[38;5;124m\"\u001b[39m:\n\u001b[0;32m    743\u001b[0m         \u001b[38;5;66;03m# compression libraries do not like an explicit text-mode\u001b[39;00m\n",
      "File \u001b[1;32m~\\AppData\\Local\\anaconda3\\Lib\\site-packages\\pandas\\io\\common.py:604\u001b[0m, in \u001b[0;36mcheck_parent_directory\u001b[1;34m(path)\u001b[0m\n\u001b[0;32m    602\u001b[0m parent \u001b[38;5;241m=\u001b[39m Path(path)\u001b[38;5;241m.\u001b[39mparent\n\u001b[0;32m    603\u001b[0m \u001b[38;5;28;01mif\u001b[39;00m \u001b[38;5;129;01mnot\u001b[39;00m parent\u001b[38;5;241m.\u001b[39mis_dir():\n\u001b[1;32m--> 604\u001b[0m     \u001b[38;5;28;01mraise\u001b[39;00m \u001b[38;5;167;01mOSError\u001b[39;00m(\u001b[38;5;124mrf\u001b[39m\u001b[38;5;124m\"\u001b[39m\u001b[38;5;124mCannot save file into a non-existent directory: \u001b[39m\u001b[38;5;124m'\u001b[39m\u001b[38;5;132;01m{\u001b[39;00mparent\u001b[38;5;132;01m}\u001b[39;00m\u001b[38;5;124m'\u001b[39m\u001b[38;5;124m\"\u001b[39m)\n",
      "\u001b[1;31mOSError\u001b[0m: Cannot save file into a non-existent directory: '..\\..\\data\\tidy'"
     ]
    }
   ],
   "source": [
    "rows=['Residential Electric Usage (kWh)','Commercial/Industrial Electric Usage (kWh)','Total (kWh)']\n",
    "msa_result.insert(0, 'Parameters', rows)\n",
    "msa_result\n",
    "msa_result.to_csv('../../data/tidy/emissions-electricity.csv')"
   ]
  },
  {
   "cell_type": "code",
   "execution_count": 34,
   "id": "6c04f6ab-fcd1-460e-91b9-25bac63c91c1",
   "metadata": {
    "tags": []
   },
   "outputs": [
    {
     "data": {
      "text/plain": [
       "0    0.612048\n",
       "1    0.702893\n",
       "2    1.314940\n",
       "Name: New Haven-Milford (NHM), dtype: float64"
      ]
     },
     "execution_count": 34,
     "metadata": {},
     "output_type": "execute_result"
    }
   ],
   "source": [
    "#emissions factor for each gas in year 2021: CO2, CH4, N2O.Ib/MWh\n",
    "CO2_ef = 539.37\n",
    "CH4_ef = 0.072\n",
    "N2O_ef = 0.009\n",
    "Total_EF = 543.852\n",
    "\n",
    "ghg_NHM = msa_result['New Haven-Milford (NHM)']/1000*Total_EF/2204.62/1000000 #unit (MMTCO2e)\n",
    "ghg_HEM = msa_result['Hartford-East Hartford-Middletown (HEM)']/1000*Total_EF/2204.62/1000000 #unit (MMTCO2e)\n",
    "ghg_BSN = msa_result['Bridgeport-Stamford-Norwalk (BSN)']/1000*Total_EF/2204.62/1000000 #unit (MMTCO2e)\n",
    "ghg_Statewide = msa_result['Statewide']/1000*Total_EF/2204.62/1000000 #unit (MMTCO2e)\n",
    "\n",
    "\n",
    "CO2_NHM = msa_result['New Haven-Milford (NHM)']/1000*CO2_ef/2204.62/1000000 #unit (MMTCO2e)\n",
    "CO2_HEM = msa_result['Hartford-East Hartford-Middletown (HEM)']/1000*CO2_ef/2204.62/1000000 #unit (MMTCO2e)\n",
    "CO2_BSN = msa_result['Bridgeport-Stamford-Norwalk (BSN)']/1000*CO2_ef/2204.62/1000000 #unit (MMTCO2e)\n",
    "\n",
    "CH4_NHM = msa_result['New Haven-Milford (NHM)']/1000*CH4_ef*25/2204.62/1000000 #unit (MMTCO2e)\n",
    "CH4_HEM = msa_result['Hartford-East Hartford-Middletown (HEM)']/1000*CH4_ef*25/2204.62/1000000 #unit (MMTCO2e)\n",
    "CH4_BSN = msa_result['Bridgeport-Stamford-Norwalk (BSN)']/1000*CH4_ef*25/2204.62/1000000 #unit (MMTCO2e)\n",
    "\n",
    "N2O_NHM = msa_result['New Haven-Milford (NHM)']/1000*N2O_ef*298/2204.62/1000000 #unit (MMTCO2e)\n",
    "N2O_HEM = msa_result['Hartford-East Hartford-Middletown (HEM)']/1000*N2O_ef*298/2204.62/1000000 #unit (MMTCO2e)\n",
    "N2O_BSN = msa_result['Bridgeport-Stamford-Norwalk (BSN)']/1000*N2O_ef*298/2204.62/1000000 #unit (MMTCO2e)\n",
    "\n",
    "ghg_NHM"
   ]
  },
  {
   "cell_type": "code",
   "execution_count": 35,
   "id": "b69d4b45-754e-4d62-9fd2-eed7d3ada196",
   "metadata": {
    "tags": []
   },
   "outputs": [],
   "source": [
    "data = {\n",
    "    'CH4 Emissions (MMTCO2e)_re': [CH4_NHM[0], CH4_HEM[0], CH4_BSN[0]],\n",
    "    'CH4 Emissions (MMTCO2e)_co': [CH4_NHM[1], CH4_HEM[1], CH4_BSN[1]],\n",
    "    'CO2 Emissions (MMTCO2e)_re': [CO2_NHM[0],CO2_HEM[0],CO2_BSN[0]],\n",
    "    'CO2 Emissions (MMTCO2e)_co': [CO2_NHM[1],CO2_HEM[1],CO2_BSN[1]],\n",
    "    'N2O Emissions (MMTCO2e)_re': [N2O_NHM[0],N2O_HEM[0],N2O_BSN[0]],\n",
    "    'N2O Emissions (MMTCO2e)_co': [N2O_NHM[1],N2O_HEM[1],N2O_BSN[1]]\n",
    "}\n",
    "\n",
    "df = pd.DataFrame(data)"
   ]
  },
  {
   "cell_type": "code",
   "execution_count": 38,
   "id": "be6ce04e-98b2-491b-b1b2-64c5e8b75a04",
   "metadata": {
    "tags": []
   },
   "outputs": [],
   "source": [
    "df\n",
    "df.to_csv('../../../data/tidy/emissions-electricity-breakdown.csv')"
   ]
  },
  {
   "cell_type": "code",
   "execution_count": 39,
   "id": "6e7f6093-b600-4767-a6a0-1f1b9f23a36a",
   "metadata": {
    "tags": []
   },
   "outputs": [],
   "source": [
    "msa_result['GHG Emissions_NHM (MMTCO2e)'] = ghg_NHM\n",
    "msa_result['GHG Emissions_HEM (MMTCO2e)'] = ghg_HEM\n",
    "msa_result['GHG Emissions_BSN (MMTCO2e)'] = ghg_BSN\n",
    "msa_result['GHG Emissions_Statewide (MMTCO2e)'] = ghg_Statewide\n"
   ]
  },
  {
   "cell_type": "code",
   "execution_count": 40,
   "id": "85781467-e736-418a-a2d9-b5a44021696c",
   "metadata": {
    "tags": []
   },
   "outputs": [],
   "source": [
    "msa_result\n",
    "msa_result.to_csv('../../../data/tidy/emissions-electricity.csv')"
   ]
  },
  {
   "cell_type": "code",
   "execution_count": 41,
   "id": "b2457bc9-b524-4535-bc61-4ec7a211f03f",
   "metadata": {
    "tags": []
   },
   "outputs": [
    {
     "data": {
      "text/html": [
       "<div>\n",
       "<style scoped>\n",
       "    .dataframe tbody tr th:only-of-type {\n",
       "        vertical-align: middle;\n",
       "    }\n",
       "\n",
       "    .dataframe tbody tr th {\n",
       "        vertical-align: top;\n",
       "    }\n",
       "\n",
       "    .dataframe thead th {\n",
       "        text-align: right;\n",
       "    }\n",
       "</style>\n",
       "<table border=\"1\" class=\"dataframe\">\n",
       "  <thead>\n",
       "    <tr style=\"text-align: right;\">\n",
       "      <th></th>\n",
       "      <th>Parameters</th>\n",
       "      <th>New Haven-Milford (NHM)</th>\n",
       "      <th>Hartford-East Hartford-Middletown (HEM)</th>\n",
       "      <th>Bridgeport-Stamford-Norwalk (BSN)</th>\n",
       "      <th>Torrington</th>\n",
       "      <th>Worcester</th>\n",
       "      <th>Norwich-New London</th>\n",
       "      <th>Statewide</th>\n",
       "      <th>GHG Emissions_NHM (MMTCO2e)</th>\n",
       "      <th>GHG Emissions_HEM (MMTCO2e)</th>\n",
       "      <th>GHG Emissions_BSN (MMTCO2e)</th>\n",
       "      <th>GHG Emissions_Statewide (MMTCO2e)</th>\n",
       "    </tr>\n",
       "  </thead>\n",
       "  <tbody>\n",
       "    <tr>\n",
       "      <th>0</th>\n",
       "      <td>Residential Electric Usage (kWh)</td>\n",
       "      <td>2481066159</td>\n",
       "      <td>3549718589</td>\n",
       "      <td>3511203402</td>\n",
       "      <td>638160326</td>\n",
       "      <td>375532975</td>\n",
       "      <td>577269879</td>\n",
       "      <td>11326175232</td>\n",
       "      <td>0.612048</td>\n",
       "      <td>0.875671</td>\n",
       "      <td>0.866170</td>\n",
       "      <td>2.794025</td>\n",
       "    </tr>\n",
       "    <tr>\n",
       "      <th>1</th>\n",
       "      <td>Commercial/Industrial Electric Usage (kWh)</td>\n",
       "      <td>2849324964</td>\n",
       "      <td>3707315319</td>\n",
       "      <td>3459753129</td>\n",
       "      <td>506011781</td>\n",
       "      <td>384466119</td>\n",
       "      <td>715203982</td>\n",
       "      <td>13043797421</td>\n",
       "      <td>0.702893</td>\n",
       "      <td>0.914548</td>\n",
       "      <td>0.853478</td>\n",
       "      <td>3.217741</td>\n",
       "    </tr>\n",
       "    <tr>\n",
       "      <th>2</th>\n",
       "      <td>Total (kWh)</td>\n",
       "      <td>5330391123</td>\n",
       "      <td>7257033908</td>\n",
       "      <td>6970956531</td>\n",
       "      <td>1144172107</td>\n",
       "      <td>759999094</td>\n",
       "      <td>1292473861</td>\n",
       "      <td>24369972653</td>\n",
       "      <td>1.314940</td>\n",
       "      <td>1.790219</td>\n",
       "      <td>1.719647</td>\n",
       "      <td>6.011765</td>\n",
       "    </tr>\n",
       "  </tbody>\n",
       "</table>\n",
       "</div>"
      ],
      "text/plain": [
       "                                   Parameters  New Haven-Milford (NHM)  \\\n",
       "0            Residential Electric Usage (kWh)               2481066159   \n",
       "1  Commercial/Industrial Electric Usage (kWh)               2849324964   \n",
       "2                                 Total (kWh)               5330391123   \n",
       "\n",
       "   Hartford-East Hartford-Middletown (HEM)  Bridgeport-Stamford-Norwalk (BSN)  \\\n",
       "0                               3549718589                         3511203402   \n",
       "1                               3707315319                         3459753129   \n",
       "2                               7257033908                         6970956531   \n",
       "\n",
       "   Torrington  Worcester  Norwich-New London    Statewide  \\\n",
       "0   638160326  375532975           577269879  11326175232   \n",
       "1   506011781  384466119           715203982  13043797421   \n",
       "2  1144172107  759999094          1292473861  24369972653   \n",
       "\n",
       "   GHG Emissions_NHM (MMTCO2e)  GHG Emissions_HEM (MMTCO2e)  \\\n",
       "0                     0.612048                     0.875671   \n",
       "1                     0.702893                     0.914548   \n",
       "2                     1.314940                     1.790219   \n",
       "\n",
       "   GHG Emissions_BSN (MMTCO2e)  GHG Emissions_Statewide (MMTCO2e)  \n",
       "0                     0.866170                           2.794025  \n",
       "1                     0.853478                           3.217741  \n",
       "2                     1.719647                           6.011765  "
      ]
     },
     "execution_count": 41,
     "metadata": {},
     "output_type": "execute_result"
    }
   ],
   "source": [
    "msa_result "
   ]
  },
  {
   "cell_type": "code",
   "execution_count": 43,
   "id": "8c0cb5c9-9f55-4fd4-b269-ca134a017625",
   "metadata": {
    "tags": []
   },
   "outputs": [
    {
     "data": {
      "image/png": "[encoded data removed]",
      "text/plain": [
       "<Figure size 1000x600 with 1 Axes>"
      ]
     },
     "metadata": {},
     "output_type": "display_data"
    }
   ],
   "source": [
    "plt.figure(figsize=(10, 6))\n",
    "X = ['New Haven-Milford', 'Hartford-East Hartford-Middletown', 'Bridgeport-Stamford-Norwalk']\n",
    "\n",
    "residential = msa_result.iloc[0][1:4]/1000000000#NH, HH, BSN\n",
    "comm_indu = msa_result.iloc[1][1:4]/1000000000\n",
    "\n",
    "Y_axis = np.arange(len(X))\n",
    "\n",
    "plt.barh(Y_axis -0.2, residential, 0.4, label='Residential Electric Usage (TWh)')\n",
    "plt.barh(Y_axis +0.2, comm_indu, 0.4, label='Commercial/Industrial Electric Usage (TWh)')\n",
    "\n",
    "plt.yticks(Y_axis, X)  # Use yticks instead of xticks\n",
    "\n",
    "plt.xlabel(\"Electricity consumption (TWh)\",fontsize=15, labelpad=20)\n",
    "plt.xticks(fontsize=16)  # Adjust the font size as needed\n",
    "plt.yticks(fontsize=16)\n",
    "plt.legend(loc='upper left', bbox_to_anchor=(0.3, 1.18),fontsize=15)\n",
    "#plt.show()\n",
    "plt.savefig('../../../figures/Report-images/electricity-consumption.png', dpi=600,bbox_inches='tight')"
   ]
  },
  {
   "cell_type": "code",
   "execution_count": 44,
   "id": "c6460b58-3eee-4224-a892-9112b0f137f6",
   "metadata": {
    "tags": []
   },
   "outputs": [
    {
     "data": {
      "image/png": "[encoded data removed]",
      "text/plain": [
       "<Figure size 1200x600 with 1 Axes>"
      ]
     },
     "metadata": {},
     "output_type": "display_data"
    }
   ],
   "source": [
    "# Data\n",
    "X = ['New Haven-Milford', 'Hartford-East Hartford-Middletown', 'Bridgeport-Stamford-Norwalk']\n",
    "residential = msa_result.iloc[0][8:11]  # NH, HH, BSN\n",
    "comm_indu = msa_result.iloc[1][8:11]\n",
    "total = msa_result.iloc[2][8:11]\n",
    "\n",
    "# Set the desired width of the bars (adjust this value as needed)\n",
    "bar_width = 0.5\n",
    "\n",
    "# Create a stacked bar chart with the specified bar width\n",
    "plt.figure(figsize=(12, 6))\n",
    "plt.barh(X, residential, label='Residential GHG Emissions', height=bar_width)\n",
    "plt.barh(X, comm_indu, left=residential, label='Commercial/Industrial GHG Emissions', height=bar_width)\n",
    "\n",
    "plt.xlabel(\"GHG Emissions (MMTCO2e)\", fontsize=15, labelpad=20)\n",
    "plt.xticks(fontsize=16)\n",
    "plt.yticks(fontsize=16)\n",
    "plt.legend(loc='upper left', bbox_to_anchor=(0.48, 1.18), prop={'size': 15})\n",
    "\n",
    "# Show the plot\n",
    "#plt.show()\n",
    "\n",
    "\n",
    "plt.savefig('../../../figures/Report-images/electricity-consumption-sector.png', dpi=600,bbox_inches='tight')\n",
    "\n"
   ]
  },
  {
   "cell_type": "code",
   "execution_count": 45,
   "id": "54a677a5-24bb-433c-bb6c-e8b7b3df6162",
   "metadata": {
    "tags": []
   },
   "outputs": [],
   "source": [
    "Bri_MSA_popu = 956446\n",
    "Hart_MSA_popu = 1213324\n",
    "NewH_MSA_popu = 864751"
   ]
  },
  {
   "cell_type": "code",
   "execution_count": 46,
   "id": "f3ac1b82-a44f-4e7f-9465-c4529210ff4a",
   "metadata": {},
   "outputs": [],
   "source": [
    "#emissions per capita\n",
    "BSN_capita = msa_result.at[2,'GHG Emissions_BSN (MMTCO2e)']/Bri_MSA_popu*1000000\n",
    "HEM_capita = msa_result.at[2,'GHG Emissions_HEM (MMTCO2e)']/Hart_MSA_popu*1000000\n",
    "NHM_capita = msa_result.at[2,'GHG Emissions_NHM (MMTCO2e)']/NewH_MSA_popu*1000000"
   ]
  },
  {
   "cell_type": "code",
   "execution_count": 47,
   "id": "e431d912-8d34-4f25-a45b-17696149f01b",
   "metadata": {},
   "outputs": [],
   "source": [
    "#emission intensity\n",
    "BSN_intensity = msa_result.at[2,'GHG Emissions_BSN (MMTCO2e)']/msa_result.at[2,'Bridgeport-Stamford-Norwalk (BSN)']*1000000000\n",
    "HEM_intensity = msa_result.at[2,'GHG Emissions_HEM (MMTCO2e)']/msa_result.at[2,'Hartford-East Hartford-Middletown (HEM)']*1000000000\n",
    "NHM_intensity = msa_result.at[2,'GHG Emissions_NHM (MMTCO2e)']/msa_result.at[2,'New Haven-Milford (NHM)']*1000000000"
   ]
  },
  {
   "cell_type": "code",
   "execution_count": 48,
   "id": "304405de-a8e8-46c8-af58-c1735ae73c79",
   "metadata": {
    "tags": []
   },
   "outputs": [],
   "source": [
    "data = {\n",
    "    'MSA': ['BSN', 'HEM', 'NHM'],\n",
    "    'Emissions Per Capita (MTCO2e)': [BSN_capita, HEM_capita, NHM_capita],\n",
    "    'Emissions Intensity (MTCO2e/MWh)': [BSN_intensity, HEM_intensity, NHM_intensity]\n",
    "}\n",
    "\n",
    "df = pd.DataFrame(data)\n"
   ]
  },
  {
   "cell_type": "code",
   "execution_count": 49,
   "id": "92a28f24-d271-4b97-bf49-1d9d138dca5c",
   "metadata": {
    "tags": []
   },
   "outputs": [
    {
     "data": {
      "text/html": [
       "<div>\n",
       "<style scoped>\n",
       "    .dataframe tbody tr th:only-of-type {\n",
       "        vertical-align: middle;\n",
       "    }\n",
       "\n",
       "    .dataframe tbody tr th {\n",
       "        vertical-align: top;\n",
       "    }\n",
       "\n",
       "    .dataframe thead th {\n",
       "        text-align: right;\n",
       "    }\n",
       "</style>\n",
       "<table border=\"1\" class=\"dataframe\">\n",
       "  <thead>\n",
       "    <tr style=\"text-align: right;\">\n",
       "      <th></th>\n",
       "      <th>MSA</th>\n",
       "      <th>Emissions Per Capita (MTCO2e)</th>\n",
       "      <th>Emissions Intensity (MTCO2e/MWh)</th>\n",
       "    </tr>\n",
       "  </thead>\n",
       "  <tbody>\n",
       "    <tr>\n",
       "      <th>0</th>\n",
       "      <td>BSN</td>\n",
       "      <td>1.797955</td>\n",
       "      <td>0.246687</td>\n",
       "    </tr>\n",
       "    <tr>\n",
       "      <th>1</th>\n",
       "      <td>HEM</td>\n",
       "      <td>1.475466</td>\n",
       "      <td>0.246687</td>\n",
       "    </tr>\n",
       "    <tr>\n",
       "      <th>2</th>\n",
       "      <td>NHM</td>\n",
       "      <td>1.520600</td>\n",
       "      <td>0.246687</td>\n",
       "    </tr>\n",
       "  </tbody>\n",
       "</table>\n",
       "</div>"
      ],
      "text/plain": [
       "   MSA  Emissions Per Capita (MTCO2e)  Emissions Intensity (MTCO2e/MWh)\n",
       "0  BSN                       1.797955                          0.246687\n",
       "1  HEM                       1.475466                          0.246687\n",
       "2  NHM                       1.520600                          0.246687"
      ]
     },
     "execution_count": 49,
     "metadata": {},
     "output_type": "execute_result"
    }
   ],
   "source": [
    "df"
   ]
  },
  {
   "cell_type": "code",
   "execution_count": 51,
   "id": "39976456-3e5a-4503-8355-d8eb90aa9102",
   "metadata": {
    "tags": []
   },
   "outputs": [
    {
     "data": {
      "image/png": "[encoded data removed]",
      "text/plain": [
       "<Figure size 640x480 with 2 Axes>"
      ]
     },
     "metadata": {},
     "output_type": "display_data"
    }
   ],
   "source": [
    "X = ['Bridgeport-Stamford-Norwalk','Hartford-East Hartford-Middletown', 'New Haven-Milford']\n",
    "Y_axis = np.arange(len(X))\n",
    "\n",
    "calcualted = df['Emissions Per Capita (MTCO2e)']#NH, HH, BSN\n",
    "inventory = df['Emissions Intensity (MTCO2e/MWh)']\n",
    "\n",
    "# Create the first bar plot for Miles Per Capita\n",
    "fig, ax1 = plt.subplots()\n",
    "\n",
    "ax1.barh(Y_axis - 0.2, calcualted, 0.4, label='Emissions Per Capita (MTCO2e)', color='b')\n",
    "\n",
    "# Set labels and ticks for the first y-axis\n",
    "ax1.set_xlabel(\"Emissions Per Capita (MTCO2e)\", fontsize=15, labelpad=20)\n",
    "ax1.set_xticks(np.arange(0, max(calcualted) + 1, 0.5))\n",
    "ax1.tick_params(axis='x', labelsize=16)\n",
    "ax1.tick_params(axis='y', labelsize=16)\n",
    "ax1.set_yticks(Y_axis)\n",
    "ax1.set_yticklabels(X)\n",
    "\n",
    "# Create the second y-axis for Emissions Per Capita\n",
    "ax2 = ax1.twiny()\n",
    "\n",
    "ax2.barh(Y_axis + 0.2, inventory, 0.4, label='Emissions Intensity (MTCO2e/MWh)', color='g')\n",
    "\n",
    "# Set labels and ticks for the second y-axis\n",
    "ax2.set_xlabel(\"Emissions Intensity (MTCO2e/MWh)\", fontsize=15, labelpad=20)\n",
    "ax2.set_xticks(np.arange(0, max(inventory) + 1, 0.5))\n",
    "ax2.tick_params(axis='x', labelsize=16)\n",
    "ax2.tick_params(axis='y', labelsize=16)\n",
    "ax2.set_yticks(Y_axis)\n",
    "#ax2.set_yticklabels([])  # Remove y-axis labels for the second y-axis\n",
    "\n",
    "# Add legends\n",
    "ax1.legend(loc='upper left',bbox_to_anchor=(1, 0.9),fontsize=15)\n",
    "ax2.legend(loc='upper left',bbox_to_anchor=(1, 1),fontsize=15)\n",
    "\n",
    "# Save or display the plot\n",
    "plt.savefig('../../../figures/Report-images/emissions-electricity-per-capita.png', dpi=600, bbox_inches='tight')\n",
    "#plt.show()"
   ]
  },
  {
   "cell_type": "code",
   "execution_count": 52,
   "id": "2ae65ad6-f0c1-4466-b652-0f2a40d4ae87",
   "metadata": {
    "tags": []
   },
   "outputs": [
    {
     "data": {
      "text/plain": [
       "New Haven-Milford (NHM)                    5330391123\n",
       "Hartford-East Hartford-Middletown (HEM)    7257033908\n",
       "Bridgeport-Stamford-Norwalk (BSN)          6970956531\n",
       "Name: 2, dtype: object"
      ]
     },
     "execution_count": 52,
     "metadata": {},
     "output_type": "execute_result"
    }
   ],
   "source": [
    "msa_result.iloc[2][1:4]"
   ]
  },
  {
   "cell_type": "code",
   "execution_count": 53,
   "id": "af2c726e-3c95-4d37-8f90-c29f813331dc",
   "metadata": {},
   "outputs": [
    {
     "data": {
      "image/png": "[encoded data removed]",
      "text/plain": [
       "<Figure size 640x480 with 1 Axes>"
      ]
     },
     "metadata": {},
     "output_type": "display_data"
    }
   ],
   "source": [
    "#compare the result with the inventory tool\n",
    "calcualted = msa_result.iloc[2][8:11]#NH, HH, BSN\n",
    "inventory = [ 1314735/1000000,1789940/1000000,1671362/1000000]#BSN,\n",
    "\n",
    "X = ['New Haven-Milford', 'Hartford-East Hartford-Middletown', 'Bridgeport-Stamford-Norwalk']\n",
    "\n",
    "Y_axis = np.arange(len(X))\n",
    "\n",
    "plt.barh(Y_axis - 0.2, calcualted, 0.4, label='Our Calculation')\n",
    "plt.barh(Y_axis + 0.2, inventory, 0.4, label='Inventory Tool')\n",
    "\n",
    "plt.yticks(Y_axis, X)  # Use yticks instead of xticks\n",
    "\n",
    "plt.xlabel(\"Greenhouse Gas Emissions (MMTCO2e)\",fontsize=15, labelpad=20)\n",
    "plt.xticks(fontsize=16)  # Adjust the font size as needed\n",
    "plt.yticks(fontsize=16)\n",
    "plt.legend(loc='upper left', bbox_to_anchor=(0.5, 1.23),fontsize=15)\n",
    "#plt.show()\n",
    "plt.savefig('../../../figures/our-model-vs-lggit-electricity-2021.png', dpi=600,bbox_inches='tight')"
   ]
  },
  {
   "cell_type": "code",
   "execution_count": 54,
   "id": "96093645-fa62-4526-b9e9-51075b6dbe6c",
   "metadata": {},
   "outputs": [],
   "source": [
    "residential =msa_result.loc[0, ['GHG Emissions_NHM (MMTCO2e)', 'GHG Emissions_HEM (MMTCO2e)','GHG Emissions_BSN (MMTCO2e)']]\n",
    "commercialindustrial = msa_result.loc[1, ['GHG Emissions_NHM (MMTCO2e)', 'GHG Emissions_HEM (MMTCO2e)','GHG Emissions_BSN (MMTCO2e)']]\n",
    "total_electricity_emissions = msa_result.loc[2, ['GHG Emissions_NHM (MMTCO2e)', 'GHG Emissions_HEM (MMTCO2e)','GHG Emissions_BSN (MMTCO2e)']]"
   ]
  },
  {
   "cell_type": "code",
   "execution_count": 55,
   "id": "29d1bc80-2221-48c1-bbc8-5b5e8da745db",
   "metadata": {
    "tags": []
   },
   "outputs": [
    {
     "name": "stderr",
     "output_type": "stream",
     "text": [
      "C:\\Users\\peiyaozhao\\AppData\\Local\\Temp\\ipykernel_18440\\2908333532.py:2: SettingWithCopyWarning: \n",
      "A value is trying to be set on a copy of a slice from a DataFrame\n",
      "\n",
      "See the caveats in the documentation: https://pandas.pydata.org/pandas-docs/stable/user_guide/indexing.html#returning-a-view-versus-a-copy\n",
      "  emissions_capita.iloc[0], emissions_capita.iloc[-1] = emissions_capita.iloc[-1], emissions_capita.iloc[0]\n",
      "C:\\Users\\peiyaozhao\\AppData\\Local\\Temp\\ipykernel_18440\\2908333532.py:2: SettingWithCopyWarning: \n",
      "A value is trying to be set on a copy of a slice from a DataFrame\n",
      "\n",
      "See the caveats in the documentation: https://pandas.pydata.org/pandas-docs/stable/user_guide/indexing.html#returning-a-view-versus-a-copy\n",
      "  emissions_capita.iloc[0], emissions_capita.iloc[-1] = emissions_capita.iloc[-1], emissions_capita.iloc[0]\n"
     ]
    }
   ],
   "source": [
    "emissions_capita = df['Emissions Per Capita (MTCO2e)']\n",
    "emissions_capita.iloc[0], emissions_capita.iloc[-1] = emissions_capita.iloc[-1], emissions_capita.iloc[0]"
   ]
  },
  {
   "cell_type": "code",
   "execution_count": 56,
   "id": "1e9e8688-5200-486a-8aeb-26272e78e0f5",
   "metadata": {
    "tags": []
   },
   "outputs": [],
   "source": [
    "#create a dataframe\n",
    "result = pd.DataFrame({'Residential Electricity Emissions (MMTCO2e)': residential, 'Commercial/Industrial Electricity Emissions (MMTCO2e)': commercialindustrial, 'Total Emissions (MMTCO2e)':total_electricity_emissions})"
   ]
  },
  {
   "cell_type": "code",
   "execution_count": 57,
   "id": "7b567382-53c3-47eb-b042-eb3f8012c8e3",
   "metadata": {
    "tags": []
   },
   "outputs": [],
   "source": [
    "result = result.reset_index()"
   ]
  },
  {
   "cell_type": "code",
   "execution_count": 58,
   "id": "f18d31d3-163f-4f68-988c-83e99eea7d75",
   "metadata": {
    "tags": []
   },
   "outputs": [],
   "source": [
    "new_values = ['New Haven-Milford', 'Hartford-east Hartford-Middletown', 'Bridgeport-Stamford-Norwalk']\n",
    "result['index'] = new_values\n"
   ]
  },
  {
   "cell_type": "code",
   "execution_count": 59,
   "id": "33490368-a050-4cb2-98ba-f5aa6bd73051",
   "metadata": {
    "tags": []
   },
   "outputs": [
    {
     "data": {
      "text/html": [
       "<div>\n",
       "<style scoped>\n",
       "    .dataframe tbody tr th:only-of-type {\n",
       "        vertical-align: middle;\n",
       "    }\n",
       "\n",
       "    .dataframe tbody tr th {\n",
       "        vertical-align: top;\n",
       "    }\n",
       "\n",
       "    .dataframe thead th {\n",
       "        text-align: right;\n",
       "    }\n",
       "</style>\n",
       "<table border=\"1\" class=\"dataframe\">\n",
       "  <thead>\n",
       "    <tr style=\"text-align: right;\">\n",
       "      <th></th>\n",
       "      <th>index</th>\n",
       "      <th>Residential Electricity Emissions (MMTCO2e)</th>\n",
       "      <th>Commercial/Industrial Electricity Emissions (MMTCO2e)</th>\n",
       "      <th>Total Emissions (MMTCO2e)</th>\n",
       "      <th>Emissions per capita (MTCO2e)</th>\n",
       "    </tr>\n",
       "  </thead>\n",
       "  <tbody>\n",
       "    <tr>\n",
       "      <th>0</th>\n",
       "      <td>New Haven-Milford</td>\n",
       "      <td>0.612048</td>\n",
       "      <td>0.702893</td>\n",
       "      <td>1.31494</td>\n",
       "      <td>1.520600</td>\n",
       "    </tr>\n",
       "    <tr>\n",
       "      <th>1</th>\n",
       "      <td>Hartford-east Hartford-Middletown</td>\n",
       "      <td>0.875671</td>\n",
       "      <td>0.914548</td>\n",
       "      <td>1.790219</td>\n",
       "      <td>1.475466</td>\n",
       "    </tr>\n",
       "    <tr>\n",
       "      <th>2</th>\n",
       "      <td>Bridgeport-Stamford-Norwalk</td>\n",
       "      <td>0.86617</td>\n",
       "      <td>0.853478</td>\n",
       "      <td>1.719647</td>\n",
       "      <td>1.797955</td>\n",
       "    </tr>\n",
       "  </tbody>\n",
       "</table>\n",
       "</div>"
      ],
      "text/plain": [
       "                               index  \\\n",
       "0                  New Haven-Milford   \n",
       "1  Hartford-east Hartford-Middletown   \n",
       "2        Bridgeport-Stamford-Norwalk   \n",
       "\n",
       "  Residential Electricity Emissions (MMTCO2e)  \\\n",
       "0                                    0.612048   \n",
       "1                                    0.875671   \n",
       "2                                     0.86617   \n",
       "\n",
       "  Commercial/Industrial Electricity Emissions (MMTCO2e)  \\\n",
       "0                                           0.702893      \n",
       "1                                           0.914548      \n",
       "2                                           0.853478      \n",
       "\n",
       "  Total Emissions (MMTCO2e)  Emissions per capita (MTCO2e)  \n",
       "0                   1.31494                       1.520600  \n",
       "1                  1.790219                       1.475466  \n",
       "2                  1.719647                       1.797955  "
      ]
     },
     "execution_count": 59,
     "metadata": {},
     "output_type": "execute_result"
    }
   ],
   "source": [
    "\n",
    "result['Emissions per capita (MTCO2e)'] = emissions_capita\n",
    "result"
   ]
  },
  {
   "cell_type": "code",
   "execution_count": 60,
   "id": "58fe392f-79a1-4b53-a935-f38457c51b4d",
   "metadata": {},
   "outputs": [],
   "source": [
    "def result_from_electricity_consumption():\n",
    "    return result"
   ]
  },
  {
   "cell_type": "code",
   "execution_count": 61,
   "id": "854a9168-0f0f-4861-a29f-8f674bb4c35d",
   "metadata": {
    "tags": []
   },
   "outputs": [],
   "source": [
    "result.columns.values[0] = 'MSA'\n"
   ]
  },
  {
   "cell_type": "code",
   "execution_count": 62,
   "id": "9931f6d5-961e-496a-81c5-fdc8533c5280",
   "metadata": {
    "tags": []
   },
   "outputs": [],
   "source": [
    "result.to_csv('C:/Users/peiyaozhao/NARS Dropbox/Projects/CT-GHG-Inventories/Results/2021-Electricity-consumption-emissions.csv')"
   ]
  },
  {
   "cell_type": "code",
   "execution_count": 64,
   "id": "0025c0ab-4b74-4bfb-8235-8d08cc74b0a7",
   "metadata": {},
   "outputs": [],
   "source": [
    "result.to_csv('../../../results/electricity-emissions-automated-sheet.csv')"
   ]
  },
  {
   "cell_type": "code",
   "execution_count": null,
   "id": "b9fe1d2f-e4ad-432e-a710-103343f79932",
   "metadata": {},
   "outputs": [],
   "source": []
  }
 ],
 "metadata": {
  "kernelspec": {
   "display_name": "Python 3 (ipykernel)",
   "language": "python",
   "name": "python3"
  },
  "language_info": {
   "codemirror_mode": {
    "name": "ipython",
    "version": 3
   },
   "file_extension": ".py",
   "mimetype": "text/x-python",
   "name": "python",
   "nbconvert_exporter": "python",
   "pygments_lexer": "ipython3",
   "version": "3.11.5"
  }
 },
 "nbformat": 4,
 "nbformat_minor": 5
}
