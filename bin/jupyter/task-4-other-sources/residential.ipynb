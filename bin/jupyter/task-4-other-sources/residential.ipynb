{
 "cells": [
  {
   "cell_type": "code",
   "execution_count": null,
   "id": "a5d62a3e-e364-4724-8cc9-f92b537bcdc8",
   "metadata": {
    "tags": []
   },
   "outputs": [],
   "source": [
    "import pandas as pd\n",
    "import numpy as np\n",
    "import os\n",
    "import string\n",
    "import seaborn as sns\n",
    "import matplotlib.pyplot as plt\n",
    "from matplotlib.ticker import ScalarFormatter\n",
    "from matplotlib.ticker import StrMethodFormatter"
   ]
  },
  {
   "cell_type": "code",
   "execution_count": null,
   "id": "1a3fabd0-f73e-45b2-860d-7cd37f7913e1",
   "metadata": {},
   "outputs": [],
   "source": [
    "df_fuel_statewide = pd.read_excel('../../../data/raw/ce2.1.st.xlsx', sheet_name=\"physical units\")\n",
    "df_household_fuel = pd.read_excel('../../../data/raw/ACSDP5Y2020.DP04-2023-10-24T140337.xlsx', sheet_name=\"Data\")\n",
    "df_household_fuel_five_towns = pd.read_excel('../../../data/raw/ACSDP5Y2020.DP04-2024-01-09T103316.xlsx', sheet_name=\"Data\")"
   ]
  },
  {
   "cell_type": "code",
   "execution_count": null,
   "id": "32809245-c1db-4444-b639-53aeb1c4e9f2",
   "metadata": {
    "tags": []
   },
   "outputs": [],
   "source": [
    "fuel = df_fuel_statewide.iloc[12,:]\n",
    "name = df_fuel_statewide.iloc[2,:]\n",
    "fuel_statewide = pd.concat([name, fuel], axis=1)\n",
    "# Extract the first 3 rows\n",
    "total_fuel = fuel_statewide.iloc[2:6]\n",
    "total_fuel = total_fuel.reset_index(drop=True)\n",
    "\n",
    "natural_gas_CT = total_fuel.iat[1,1]\n",
    "propane_CT = total_fuel.iat[2,1]\n",
    "oil_CT = total_fuel.iat[3,1]"
   ]
  },
  {
   "cell_type": "code",
   "execution_count": null,
   "id": "865f457d-1962-4608-8e80-71b79c683350",
   "metadata": {
    "tags": []
   },
   "outputs": [],
   "source": [
    "#extract the number of household\n",
    "df_household_fuel = df_household_fuel.iloc[72:76]\n",
    "df_household_fuel = df_household_fuel[['Unnamed: 0', 'Connecticut', 'Bridgeport-Stamford-Norwalk, CT Metro Area', 'Hartford-East Hartford-Middletown, CT Metro Area','New Haven-Milford, CT Metro Area']]\n",
    "df_household_fuel.columns = df_household_fuel.columns.str.replace('Unnamed: 0', 'Fuel type')\n",
    "df_household_fuel = df_household_fuel.reset_index(drop=True)\n",
    "\n",
    "#extract the number of household\n",
    "df_household_fuel_five_towns = df_household_fuel_five_towns.iloc[72:76]\n",
    "df_household_fuel_five_towns = df_household_fuel_five_towns[['Unnamed: 0', 'Bridgewater town, Litchfield County, Connecticut', 'New Milford town, Litchfield County, Connecticut', 'Colchester town, New London County, Connecticut','Lyme town, New London County, Connecticut','Old Lyme town, New London County, Connecticut']]\n",
    "df_household_fuel_five_towns.columns = df_household_fuel_five_towns.columns.str.replace('Unnamed: 0', 'Fuel type')\n",
    "df_household_fuel_five_towns = df_household_fuel_five_towns.reset_index(drop=True)\n",
    "df_household_fuel_five_towns = df_household_fuel_five_towns.drop(2)\n",
    "\n",
    "df_household_fuel_five_towns\n",
    "# Convert string values to numeric in specified columns\n",
    "columns_to_convert = df_household_fuel_five_towns.columns[1:]\n",
    "df_household_fuel_five_towns[columns_to_convert] = df_household_fuel_five_towns[columns_to_convert].apply(lambda x: pd.to_numeric(x.str.replace(',', ''), errors='coerce'))\n",
    "df_household_fuel_five_towns\n",
    "\n",
    "df_household_fuel[\"Bridgeport-Stamford-Norwalk, CT Metro Area\"] = df_household_fuel[\"Bridgeport-Stamford-Norwalk, CT Metro Area\"].str.replace(',', '')\n",
    "df_household_fuel[\"Hartford-East Hartford-Middletown, CT Metro Area\"] = df_household_fuel[\"Hartford-East Hartford-Middletown, CT Metro Area\"].str.replace(',', '')\n",
    "df_household_fuel[\"New Haven-Milford, CT Metro Area\"] = df_household_fuel[\"New Haven-Milford, CT Metro Area\"].str.replace(',', '')\n",
    "df_household_fuel[\"Connecticut\"] = df_household_fuel[\"Connecticut\"].str.replace(',', '')\n",
    "\n",
    "df_household_fuel = df_household_fuel.drop(2)\n",
    "# Convert string values to numeric in specified columns\n",
    "columns_to_convert = df_household_fuel.columns[1:]\n",
    "df_household_fuel[columns_to_convert] = df_household_fuel[columns_to_convert].apply(lambda x: pd.to_numeric(x.str.replace(',', ''), errors='coerce'))\n",
    "df_household_fuel\n",
    "\n",
    "df_household_fuel_five_towns['Litchfield']=df_household_fuel_five_towns['Bridgewater town, Litchfield County, Connecticut']+df_household_fuel_five_towns['New Milford town, Litchfield County, Connecticut']\n",
    "df_household_fuel_five_towns['New London']=df_household_fuel_five_towns['Colchester town, New London County, Connecticut']+df_household_fuel_five_towns['Lyme town, New London County, Connecticut']+df_household_fuel_five_towns['Old Lyme town, New London County, Connecticut']\n",
    "df_household_fuel_five_towns\n",
    "\n",
    "df_household_fuel['Bridgeport-Stamford-Norwalk, CT Metro Area']=df_household_fuel['Bridgeport-Stamford-Norwalk, CT Metro Area']+df_household_fuel_five_towns['Litchfield']\n",
    "df_household_fuel['Hartford-East Hartford-Middletown, CT Metro Area']=df_household_fuel['Hartford-East Hartford-Middletown, CT Metro Area']+df_household_fuel_five_towns['New London']\n",
    "\n",
    "df_household_fuel[\"BSN relative to the statewide\"] = df_household_fuel[\"Bridgeport-Stamford-Norwalk, CT Metro Area\"].astype(int)/df_household_fuel[\"Connecticut\"].astype(int)\n",
    "df_household_fuel[\"HEM relative to the statewide\"] = df_household_fuel[\"Hartford-East Hartford-Middletown, CT Metro Area\"].astype(int)/df_household_fuel[\"Connecticut\"].astype(int)\n",
    "df_household_fuel[\"NHM relative to the statewide\"] = df_household_fuel[\"New Haven-Milford, CT Metro Area\"].astype(int)/df_household_fuel[\"Connecticut\"].astype(int)\n",
    "df_household_fuel"
   ]
  },
  {
   "cell_type": "code",
   "execution_count": null,
   "id": "0faa8163-8366-4069-bac0-ce702cffb5a7",
   "metadata": {
    "tags": []
   },
   "outputs": [],
   "source": [
    "# Create a dictionary containing sample data\n",
    "data = {\n",
    "    'Energy type': ['Natural gas (g (Gas)/scf)','Propane (g (Gas)/gallon)', 'Fuel oil (g (Gas)/gallon'],\n",
    "    'CO2': [54.44, 5720, 10150],\n",
    "    'CH4': [0, 0.27, 0.41],\n",
    "    'N2O': [0,0.05,0.08]\n",
    "}\n",
    "\n",
    "# Create a DataFrame from the dictionary\n",
    "emissions_factor = pd.DataFrame(data)\n",
    "\n",
    "# calculate the total amount of fuel consumption in each MSA\n",
    "natural_gas_CT = total_fuel.iat[1,1]\n",
    "propane_CT = total_fuel.iat[2,1]\n",
    "oil_CT = total_fuel.iat[3,1]\n",
    "df_household_fuel[\"Statewide Energy consumption\"]=[natural_gas_CT*1000,propane_CT,oil_CT]\n",
    "\n",
    "df_household_fuel[\"BSN Energy consumption\"] = df_household_fuel[\"Statewide Energy consumption\"]*df_household_fuel[\"BSN relative to the statewide\"]\n",
    "df_household_fuel[\"HEM Energy consumption\"] = df_household_fuel[\"Statewide Energy consumption\"]*df_household_fuel[\"HEM relative to the statewide\"]\n",
    "df_household_fuel[\"NHM Energy consumption\"] = df_household_fuel[\"Statewide Energy consumption\"]*df_household_fuel[\"NHM relative to the statewide\"]\n",
    "df_household_fuel [\"Energy consumption unit\"] = [\"million cf\",\"million gallons\",\"million gallons\"]\n",
    "\n",
    "df_household_fuel[\"Emissions factor unit\"] = [\"g (Gas)/scf\",\"g (Gas)/gallon\",\"g (Gas)/gallon\"]\n",
    "df_household_fuel[\"CO2\"] = [54.44,5720,10150]\n",
    "df_household_fuel[\"CH4\"] = [0,0.27,0.41]\n",
    "df_household_fuel [\"N2O\"] = [0,0.05,0.08]\n",
    "\n",
    "df_household_fuel.reset_index(drop=True, inplace=True)\n",
    "df_household_fuel\n"
   ]
  },
  {
   "cell_type": "code",
   "execution_count": null,
   "id": "8cf042da-e9b0-4a14-9486-bcbf5505bd67",
   "metadata": {
    "tags": []
   },
   "outputs": [],
   "source": [
    "BSN = df_household_fuel['Bridgeport-Stamford-Norwalk, CT Metro Area']\n",
    "plt.figure(figsize=(6, 6))\n",
    "\n",
    "# Plot a pie chart from the Series with labels\n",
    "plt.pie(BSN, labels=df_household_fuel['Fuel type'], autopct='%1.1f%%', startangle=90, textprops={'fontsize': 15})\n",
    "plt.savefig('../../../figures/BSN-household-fuel.png', dpi=600, bbox_inches='tight')"
   ]
  },
  {
   "cell_type": "code",
   "execution_count": null,
   "id": "1a453763-4a05-4df8-8bfe-4311775b37d8",
   "metadata": {
    "tags": []
   },
   "outputs": [],
   "source": [
    "HEM = df_household_fuel['Hartford-East Hartford-Middletown, CT Metro Area']\n",
    "plt.figure(figsize=(6, 6))\n",
    "\n",
    "# Plot a pie chart from the Series with labels\n",
    "plt.pie(HEM, labels=df_household_fuel['Fuel type'], autopct='%1.1f%%', startangle=90, textprops={'fontsize': 15})\n",
    "\n",
    "plt.savefig('../../../figures/HEM-household-fuel.png', dpi=600, bbox_inches='tight')"
   ]
  },
  {
   "cell_type": "code",
   "execution_count": null,
   "id": "1d3e2691-2848-4d9a-a9c6-a6ecbf1a3b4a",
   "metadata": {
    "tags": []
   },
   "outputs": [],
   "source": [
    "NHM = df_household_fuel['New Haven-Milford, CT Metro Area']\n",
    "plt.figure(figsize=(6, 6))\n",
    "\n",
    "# Plot a pie chart from the Series with labels\n",
    "plt.pie(NHM, labels=df_household_fuel['Fuel type'], autopct='%1.1f%%', startangle=90, textprops={'fontsize': 15})\n",
    "plt.savefig('../../../figures/NHM-household-fuel.png', dpi=600, bbox_inches='tight')\n"
   ]
  },
  {
   "cell_type": "code",
   "execution_count": null,
   "id": "230ed21c-0694-4a10-a010-a286ed8fee10",
   "metadata": {
    "tags": []
   },
   "outputs": [],
   "source": [
    "plt.figure(figsize=(8, 3))\n",
    "X = ['Bridgeport Area','Hartford Area', 'New Haven Area']\n",
    "\n",
    "utility_gas = df_household_fuel.iloc[0][2:5]   # NH, HH, BSN\n",
    "propane = df_household_fuel.iloc[1][2:5] \n",
    "fuel_oil = df_household_fuel.iloc[2][2:5]    # Add your third set of data\n",
    "\n",
    "utility_gas = pd.to_numeric(utility_gas, errors='coerce')\n",
    "propane = pd.to_numeric(propane, errors='coerce')\n",
    "fuel_oil = pd.to_numeric(fuel_oil, errors='coerce')\n",
    "\n",
    "X = X[::-1]\n",
    "utility_gas = utility_gas[::-1]\n",
    "propane = propane[::-1]\n",
    "fuel_oil = fuel_oil[::-1]\n",
    "\n",
    "bar_width = 0.7  # Width of each bar\n",
    "\n",
    "# Plot the stacked bars for carbon sequestration with flipped axes\n",
    "plt.barh(X, utility_gas, label='Utility gas', height=bar_width)\n",
    "plt.barh(X, propane, left=utility_gas, label='Liquid petroleum gas', height=bar_width)\n",
    "plt.barh(X, fuel_oil, left=utility_gas + propane, label='Fuel oil', height=bar_width)\n",
    "\n",
    "\n",
    "plt.xlabel(\"Land area treated by fertilizer/acres\",fontsize=16, labelpad=20)\n",
    "plt.xticks(fontsize=10)  # Adjust the font size as needed\n",
    "plt.yticks(fontsize=15)\n",
    "plt.legend(loc='upper left', bbox_to_anchor=(0.69, 0.35), fontsize=9)\n",
    "\n",
    "plt.savefig('../../../figures/Report-images/AG-land-area.png', dpi=600,bbox_inches='tight')"
   ]
  },
  {
   "cell_type": "code",
   "execution_count": null,
   "id": "430aea9c-be3c-47eb-aafa-f65bee2c3347",
   "metadata": {
    "tags": []
   },
   "outputs": [],
   "source": [
    "df_household_fuel.to_csv('../../../results/residential-energy-emissions.csv')"
   ]
  },
  {
   "cell_type": "code",
   "execution_count": null,
   "id": "0206d8be-1639-4324-9437-38b807dfece5",
   "metadata": {
    "tags": []
   },
   "outputs": [],
   "source": [
    "#calculate the residential emissions in each MSA\n",
    "BSN_total_emissions = df_household_fuel[\"BSN Energy consumption\"]*(df_household_fuel[\"CO2\"]+df_household_fuel[\"CH4\"]*25+df_household_fuel[\"N2O\"]*298)\n",
    "HEM_total_emissions = df_household_fuel[\"HEM Energy consumption\"]*(df_household_fuel[\"CO2\"]+df_household_fuel[\"CH4\"]*25+df_household_fuel[\"N2O\"]*298)\n",
    "NHM_total_emissions = df_household_fuel[\"NHM Energy consumption\"]*(df_household_fuel[\"CO2\"]+df_household_fuel[\"CH4\"]*25+df_household_fuel[\"N2O\"]*298)\n",
    "\n",
    "BSN_total_emissions.sum() #MTCO2e\n",
    "HEM_total_emissions.sum()\n",
    "NHM_total_emissions.sum()"
   ]
  },
  {
   "cell_type": "code",
   "execution_count": null,
   "id": "507f4ee9-a0d9-4867-96ad-a3564069aa54",
   "metadata": {
    "tags": []
   },
   "outputs": [],
   "source": [
    "# Create a DataFrame from the Series\n",
    "residential_emissions = pd.DataFrame({\n",
    "    'GHG emissions (MMTCO2e)': [\n",
    "        NHM_total_emissions.sum()/1000000,\n",
    "        HEM_total_emissions.sum()/1000000,\n",
    "        BSN_total_emissions.sum()/1000000\n",
    "    ]\n",
    "})\n",
    "# Create a new index with the same number of elements as the original DataFrame\n",
    "new_index = ['New Haven-Milford', 'Hartford-east Hartford-Middletown','Bridgeport-Stamford-Norwalk']\n",
    "\n",
    "# Rename the row index\n",
    "residential_emissions= residential_emissions.rename(index=dict(zip(residential_emissions.index, new_index)))\n",
    "residential_emissions['CO2 emissions (MMTCO2e)']=[(df_household_fuel[\"NHM Energy consumption\"]*df_household_fuel[\"CO2\"]).sum()/1000000, (df_household_fuel[\"HEM Energy consumption\"]*df_household_fuel[\"CO2\"]).sum()/1000000, (df_household_fuel[\"BSN Energy consumption\"]*df_household_fuel[\"CO2\"]).sum()/1000000]\n",
    "residential_emissions['CH4 emissions (MMTCO2e)']=[(df_household_fuel[\"NHM Energy consumption\"]*df_household_fuel[\"CH4\"]).sum()*25/1000000, (df_household_fuel[\"HEM Energy consumption\"]*df_household_fuel[\"CH4\"]).sum()*25/1000000, (df_household_fuel[\"BSN Energy consumption\"]*df_household_fuel[\"CH4\"]).sum()*25/1000000]\n",
    "residential_emissions['N2O emissions (MMTCO2e)']=[(df_household_fuel[\"NHM Energy consumption\"]*df_household_fuel[\"N2O\"]).sum()*298/1000000, (df_household_fuel[\"HEM Energy consumption\"]*df_household_fuel[\"N2O\"]).sum()*298/1000000, (df_household_fuel[\"BSN Energy consumption\"]*df_household_fuel[\"N2O\"]).sum()*298/1000000]\n",
    "residential_emissions\n",
    "residential_emissions.to_csv('../../../results/residential-energy-emissions-breakdown.csv')"
   ]
  },
  {
   "cell_type": "code",
   "execution_count": null,
   "id": "341a5fe3-dcb9-47ca-92b0-c177a0a854fa",
   "metadata": {
    "tags": []
   },
   "outputs": [],
   "source": [
    "# Create a DataFrame from the Series\n",
    "emissions = pd.DataFrame({'BSN': BSN_total_emissions/1000000, 'HEM': HEM_total_emissions/1000000, 'NHM':NHM_total_emissions/1000000})\n",
    "\n",
    "# Create a new index with the same number of elements as the original DataFrame\n",
    "new_index = ['Natural gas', 'Propane','Fuel oil','Fuel oil']\n",
    "\n",
    "# Rename the row index\n",
    "emissions= emissions.rename(index=dict(zip(emissions.index, new_index)))\n",
    "\n",
    "residential_emissions\n",
    "residential_emissions.to_csv('../../../results/residential-emissions-breakdown.csv')"
   ]
  },
  {
   "cell_type": "code",
   "execution_count": null,
   "id": "6927bac0-0e71-4349-b99a-9998a76c9388",
   "metadata": {
    "tags": []
   },
   "outputs": [],
   "source": [
    "column_sums = emissions.sum()\n",
    "\n",
    "# If you want to add a new row with the column sums to the DataFrame\n",
    "total_row = pd.DataFrame(column_sums).T.rename(index={0: 'Total (MMTCO2e)'})\n",
    "emissions = pd.concat([emissions, total_row])\n",
    "emissions.to_csv('../../../results/residential-emissions-breakdown-fuel.csv')"
   ]
  },
  {
   "cell_type": "code",
   "execution_count": null,
   "id": "26669483-1021-4f64-8349-3943f42f9e18",
   "metadata": {},
   "outputs": [],
   "source": []
  },
  {
   "cell_type": "code",
   "execution_count": null,
   "id": "4ae9f246-bc15-4214-bc2f-ce32e3e9172f",
   "metadata": {},
   "outputs": [],
   "source": [
    "plt.figure(figsize=(8, 3))\n",
    "X = ['Bridgeport Area','Hartford Area', 'New Haven Area']\n",
    "\n",
    "NG = emissions.iloc[0][0:3]#NH, HH, BSN\n",
    "Propane = emissions.iloc[1][0:3]\n",
    "Fuel = emissions.iloc[2][0:3]\n",
    "\n",
    "X = X[::-1]\n",
    "NG = NG[::-1]\n",
    "Propane = Propane[::-1]\n",
    "Fuel = Fuel[::-1]\n",
    "\n",
    "bar_width = 0.7  # Width of each bar\n",
    "# Plot the stacked bars for carbon sequestration with flipped axes\n",
    "plt.barh(X, Fuel, label='Fuel oil emissions', height=bar_width)\n",
    "plt.barh(X, NG, left=Fuel, label='Natural gas emissions', height=bar_width)\n",
    "plt.barh(X, Propane, left=Fuel + NG, label='Propane emissions', height=bar_width)\n",
    "\n",
    "plt.xlabel(\"Greenhouse gas emissions (MMTCO2e)\",fontsize=16, labelpad=20)\n",
    "plt.xticks(fontsize=10)  # Adjust the font size as needed\n",
    "plt.yticks(fontsize=15)\n",
    "plt.legend(loc='upper left', bbox_to_anchor=(0.69, 0.35), fontsize=9)\n",
    "\n",
    "plt.savefig('../../../figures/Report-images/residential-emissions.png', dpi=600,bbox_inches='tight')"
   ]
  },
  {
   "cell_type": "code",
   "execution_count": null,
   "id": "c6d59eb2-3afd-4bb0-aa84-5cac95094b5d",
   "metadata": {},
   "outputs": [],
   "source": [
    "plt.figure(figsize=(8, 2))\n",
    "X = ['Bridgeport Area','Hartford Area', 'New Haven Area']\n",
    "values = emissions.iloc[3]\n",
    "\n",
    "X=X[::-1]\n",
    "values=values[::-1]\n",
    "\n",
    "plt.barh(X, values, 0.7,color='skyblue')\n",
    "plt.xlabel('Residential combustion emissions (MMTCO2e)', fontsize=15,labelpad=20)\n",
    "plt.xticks(fontsize=15)  # Adjust the font size as needed\n",
    "plt.yticks(fontsize=15)\n",
    "\n",
    "\n",
    "plt.savefig('../../../figures/Report-images/residential-MSA-emissions.png', dpi=600,bbox_inches='tight')"
   ]
  },
  {
   "cell_type": "code",
   "execution_count": null,
   "id": "b5a82280-29c8-4e66-b0f1-144d1393f0a9",
   "metadata": {},
   "outputs": [],
   "source": []
  },
  {
   "cell_type": "code",
   "execution_count": null,
   "id": "12dcca9a-690c-4647-b082-9bb1dc6bd5b0",
   "metadata": {},
   "outputs": [],
   "source": []
  }
 ],
 "metadata": {
  "kernelspec": {
   "display_name": "Python 3 (ipykernel)",
   "language": "python",
   "name": "python3"
  },
  "language_info": {
   "codemirror_mode": {
    "name": "ipython",
    "version": 3
   },
   "file_extension": ".py",
   "mimetype": "text/x-python",
   "name": "python",
   "nbconvert_exporter": "python",
   "pygments_lexer": "ipython3",
   "version": "3.11.5"
  }
 },
 "nbformat": 4,
 "nbformat_minor": 5
}
