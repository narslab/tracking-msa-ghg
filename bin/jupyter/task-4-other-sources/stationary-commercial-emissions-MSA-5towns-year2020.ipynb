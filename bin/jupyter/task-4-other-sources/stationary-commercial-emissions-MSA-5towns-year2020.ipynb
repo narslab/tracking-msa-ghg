{
 "cells": [
  {
   "cell_type": "code",
   "execution_count": 3,
   "id": "61eca034-f183-49db-ae03-403c54eefcbe",
   "metadata": {
    "tags": []
   },
   "outputs": [
    {
     "name": "stderr",
     "output_type": "stream",
     "text": [
      "C:\\Users\\peiyaozhao\\AppData\\Local\\anaconda3\\Lib\\site-packages\\pandas\\core\\arrays\\masked.py:60: UserWarning: Pandas requires version '1.3.6' or newer of 'bottleneck' (version '1.3.5' currently installed).\n",
      "  from pandas.core import (\n"
     ]
    }
   ],
   "source": [
    "import networkx as nx\n",
    "import cenpy\n",
    "import osmnx as ox\n",
    "import matplotlib.pyplot as plt\n",
    "import pandas as pd\n",
    "import geopandas as gpd\n",
    "import numpy as np\n",
    "import matplotlib\n",
    "from mpl_toolkits.axes_grid1 import make_axes_locatable\n",
    "import contextily"
   ]
  },
  {
   "cell_type": "code",
   "execution_count": 4,
   "id": "9d0b7bc0-38de-4752-aabc-76e8eeefe926",
   "metadata": {
    "tags": []
   },
   "outputs": [
    {
     "data": {
      "text/plain": [
       "3.824504770008268"
      ]
     },
     "execution_count": 4,
     "metadata": {},
     "output_type": "execute_result"
    }
   ],
   "source": [
    "ct_emissions = pd.read_excel('../../../data/raw/Public GHG data 1990-2021.xlsx', sheet_name=\"Emission Totals\")\n",
    "\n",
    "emi = ct_emissions.iloc[2,31]\n",
    "emi"
   ]
  },
  {
   "cell_type": "code",
   "execution_count": 2,
   "id": "7c49d051-fcfc-47f1-801c-73edf5b7034f",
   "metadata": {
    "tags": []
   },
   "outputs": [],
   "source": [
    "ct = \"Connecticut, USA\"\n",
    "ct_NewH = ['New Haven County, Connecticut, USA']\n",
    "ct_Mids = ['Middlesex County, Connecticut, USA']\n",
    "ct_Tola = ['Tolland County, Connecticut, USA']\n",
    "ct_Hart = ['Hartford County, Connecticut, USA']\n",
    "ct_Fair = ['Fairfield County, Connecticut, USA']\n",
    "          #{'city':'Los Altos Hills', 'state':'California'},\n",
    "          #'Loyola, California']\n",
    "        \n",
    "lyme = ['Lyme, Connecticut, USA']\n",
    "Oldlyme = ['Old Lyme, Connecticut, USA']\n",
    "Colchester = ['Colchester, Connecticut, USA']\n",
    "NewMilford = ['New Milford, Connecticut, USA']\n",
    "Bridgewater = ['Bridgewater, Connecticut, USA']\n",
    "        \n",
    "desired_building_types = ['school', 'commercial', 'retail','office','garage','hotel','church','train_station','dormitory',\n",
    "                          'mosque','warehouse','stadium','clubhouse','chapel','fire_station','university','kindergarten',\n",
    "                         'service','construction','hospital','plant_nursery','greenhouse','public','government','farm_auxiliary',\n",
    "                         'farm','boathouse','sports_centre','dome','hangar','kiosk','college','napa auto parts','cathedral',\n",
    "                         'synagogue','library','museum','convent','store','yes;commercial','university;yes','supermarket','parish_hall',\n",
    "                          'motel','roof;commercial']"
   ]
  },
  {
   "cell_type": "code",
   "execution_count": 3,
   "id": "e0a37015-0a24-44ed-88d3-4694da12f62c",
   "metadata": {
    "tags": []
   },
   "outputs": [],
   "source": [
    "def footprint_squarefeet(place_name, building_types):\n",
    "    graph = ox.graph_from_place(place_name, network_type='all')\n",
    "    area = ox.geocode_to_gdf(place_name)\n",
    "    bldgs = ox.geometries_from_place(place_name, tags={'building': building_types})\n",
    "\n",
    "    building_geometries_series = gpd.GeoSeries(bldgs.geometry)\n",
    "    total_footprint_area = building_geometries_series.area.sum()\n",
    "    projected_crs = 'EPSG:6433'\n",
    "    building_geometries_projected = bldgs.to_crs(projected_crs)\n",
    "    total_footprint_area_projected = building_geometries_projected.area.sum()\n",
    "    \n",
    "    #print(\"Total Building Footprint Area:\", total_footprint_area)\n",
    "    #print(\"Total Building Footprint Area (Projected):\", total_footprint_area_projected) #square feet\n",
    "    return total_footprint_area_projected"
   ]
  },
  {
   "cell_type": "code",
   "execution_count": null,
   "id": "5d35a938-6945-44d7-8f92-b0372568ee24",
   "metadata": {
    "tags": []
   },
   "outputs": [],
   "source": [
    "ct = footprint_squarefeet(ct, desired_building_types)\n",
    "NewH = footprint_squarefeet(ct_NewH, desired_building_types)\n",
    "Mids = footprint_squarefeet(ct_Mids, desired_building_types)\n",
    "Tola = footprint_squarefeet(ct_Tola, desired_building_types)\n",
    "Hart = footprint_squarefeet(ct_Hart, desired_building_types)+footprint_squarefeet(lyme, desired_building_types)+footprint_squarefeet(Oldlyme, desired_building_types)+footprint_squarefeet(Colchester, desired_building_types)\n",
    "Fair = footprint_squarefeet(ct_Fair, desired_building_types)+footprint_squarefeet(NewMilford, desired_building_types)+footprint_squarefeet(Bridgewater, desired_building_types)"
   ]
  },
  {
   "cell_type": "code",
   "execution_count": null,
   "id": "22ba535c-e5c5-4083-aada-cd641980ac1d",
   "metadata": {},
   "outputs": [],
   "source": [
    "footprint = pd.DataFrame({\n",
    "        'County': ['New Haven','Hartford','Middlesex','Tolland','Fairfield','Statewide'],\n",
    "        'Total Footprint Area (square feet)': [NewH,Hart,Mids,Tola,Fair,ct]\n",
    "    })\n",
    "\n",
    "footprint['Ratio'] = footprint['Total Footprint Area (square feet)']/ct\n",
    "\n",
    "ct_emissions = pd.read_excel('../../../data/raw/Public GHG data 1990-2021.xlsx', sheet_name=\"Emission Totals\")\n",
    "\n",
    "emi = ct_emissions.iloc[2,31]\n",
    "footprint['GHG Emissions/MMTCO2e'] = footprint['Ratio']*emi\n",
    "rows_to_sum = [1, 2, 3]\n",
    "\n",
    "# Calculate the sum of the selected rows\n",
    "sum_result = footprint.iloc[rows_to_sum].sum()\n",
    "newH_footprint = footprint.iloc[0]\n",
    "Fair_footprint = footprint.iloc[4]\n",
    "state_footprint = footprint.iloc[5]\n",
    "\n",
    "# Choose two rows by label (index)\n",
    "rows_to_extract = [0, 4,5]\n",
    "\n",
    "# Extract the selected rows into a new DataFrame\n",
    "footprint_msa = footprint.loc[rows_to_extract].copy()\n",
    "\n",
    "# Remove the selected rows from the original DataFrame\n",
    "#footprint_msa = footprint.drop(rows_to_extract)\n",
    "position_to_add = 2\n",
    "\n",
    "# Concatenate the DataFrame before and after the new row\n",
    "footprint_msa = pd.concat([footprint_msa.iloc[:position_to_add], pd.DataFrame([sum_result]), footprint_msa.iloc[position_to_add:]]).reset_index(drop=True)\n",
    "\n",
    "footprint_msa.loc[0, 'County'] = 'New Haven-Milford'\n",
    "footprint_msa.loc[1, 'County'] = 'Bridgeport-Stamford-Norwalk'\n",
    "footprint_msa.loc[2, 'County'] = 'Hartford-East Hartford-Middletown'\n",
    "\n",
    "new_row = {\n",
    "    'County': 'Rest of the state',\n",
    "    'Total Footprint Area (square feet)': footprint_msa.iloc[3]['Total Footprint Area (square feet)'] - footprint_msa.iloc[:3]['Total Footprint Area (square feet)'].sum(),\n",
    "    'Ratio': footprint_msa.iloc[3]['Ratio'] - footprint_msa.iloc[:3]['Ratio'].sum(),\n",
    "    'GHG Emissions/MMTCO2e': footprint_msa.iloc[3]['GHG Emissions/MMTCO2e'] - footprint_msa.iloc[:3]['GHG Emissions/MMTCO2e'].sum()\n",
    "}\n",
    "\n",
    "footprint_msa = pd.concat([footprint_msa.iloc[:3], pd.DataFrame([new_row]), footprint_msa.iloc[3:]]).reset_index(drop=True)\n",
    "\n",
    "msa = footprint_msa.iloc[0:3,0]\n",
    "values = footprint_msa.iloc[0:3,-1]\n",
    "Footprint_ratio = footprint_msa.iloc[0:4,2]\n",
    "categories = footprint_msa.iloc[0:4,1]\n",
    "\n",
    "footprint_msa "
   ]
  },
  {
   "cell_type": "code",
   "execution_count": null,
   "id": "eeeeee87-8391-49fe-b7ed-70e445e9b9f4",
   "metadata": {
    "tags": []
   },
   "outputs": [],
   "source": [
    "footprint_msa .iloc[1], footprint_msa .iloc[2] = footprint_msa .iloc[2].copy(), footprint_msa .iloc[1].copy()"
   ]
  },
  {
   "cell_type": "code",
   "execution_count": null,
   "id": "818d9fc6-50d0-473f-9541-e56e1e11daaf",
   "metadata": {
    "tags": []
   },
   "outputs": [],
   "source": [
    "footprint_msa "
   ]
  },
  {
   "cell_type": "code",
   "execution_count": null,
   "id": "3e21f9fb-1c70-45d4-9655-f0f3b1849924",
   "metadata": {
    "tags": []
   },
   "outputs": [],
   "source": [
    "footprint_msa.to_csv('../../../results/sectors/stationary-commercial-emissions.csv')"
   ]
  },
  {
   "cell_type": "code",
   "execution_count": null,
   "id": "8a4ece76-3da1-4171-88a7-75f1da6ab42a",
   "metadata": {},
   "outputs": [],
   "source": [
    "emi"
   ]
  }
 ],
 "metadata": {
  "kernelspec": {
   "display_name": "Python 3 (ipykernel)",
   "language": "python",
   "name": "python3"
  },
  "language_info": {
   "codemirror_mode": {
    "name": "ipython",
    "version": 3
   },
   "file_extension": ".py",
   "mimetype": "text/x-python",
   "name": "python",
   "nbconvert_exporter": "python",
   "pygments_lexer": "ipython3",
   "version": "3.11.5"
  }
 },
 "nbformat": 4,
 "nbformat_minor": 5
}
