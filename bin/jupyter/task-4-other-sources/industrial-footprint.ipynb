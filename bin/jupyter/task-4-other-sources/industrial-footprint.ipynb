{
 "cells": [
  {
   "cell_type": "code",
   "execution_count": 2,
   "id": "15663d7c-f1b3-4f8c-be04-a6d3bd73718d",
   "metadata": {
    "tags": []
   },
   "outputs": [],
   "source": [
    "import networkx as nx\n",
    "import cenpy\n",
    "import osmnx as ox\n",
    "import matplotlib.pyplot as plt\n",
    "import pandas as pd\n",
    "import geopandas as gpd\n",
    "import numpy as np\n",
    "import matplotlib\n",
    "from mpl_toolkits.axes_grid1 import make_axes_locatable\n",
    "import contextily"
   ]
  },
  {
   "cell_type": "code",
   "execution_count": 3,
   "id": "a7053dd5-c545-401e-b744-a48582fdf7f2",
   "metadata": {
    "tags": []
   },
   "outputs": [],
   "source": [
    "ct = \"Connecticut, USA\"\n",
    "ct_NewH = ['New Haven County, Connecticut, USA']\n",
    "ct_Mids = ['Middlesex County, Connecticut, USA']\n",
    "ct_Tola = ['Tolland County, Connecticut, USA']\n",
    "ct_Hart = ['Hartford County, Connecticut, USA']\n",
    "ct_Fair = ['Fairfield County, Connecticut, USA']\n",
    "          #{'city':'Los Altos Hills', 'state':'California'},\n",
    "          #'Loyola, California']\n",
    "\n",
    "desired_building_types = ['industrial','manufacture','factory']"
   ]
  },
  {
   "cell_type": "code",
   "execution_count": 4,
   "id": "f3739960-8e8a-4375-8c4e-0c31971b52e7",
   "metadata": {
    "tags": []
   },
   "outputs": [],
   "source": [
    "def footprint_squarefeet(place_name, building_types):\n",
    "    graph = ox.graph_from_place(place_name, network_type='all')\n",
    "    area = ox.geocode_to_gdf(place_name)\n",
    "    bldgs = ox.geometries_from_place(place_name, tags={'building': building_types})\n",
    "\n",
    "    building_geometries_series = gpd.GeoSeries(bldgs.geometry)\n",
    "    total_footprint_area = building_geometries_series.area.sum()\n",
    "    projected_crs = 'EPSG:6433'\n",
    "    building_geometries_projected = bldgs.to_crs(projected_crs)\n",
    "    total_footprint_area_projected = building_geometries_projected.area.sum()\n",
    "    \n",
    "    #print(\"Total Building Footprint Area:\", total_footprint_area)\n",
    "    #print(\"Total Building Footprint Area (Projected):\", total_footprint_area_projected) #square feet\n",
    "    return total_footprint_area_projected"
   ]
  },
  {
   "cell_type": "code",
   "execution_count": null,
   "id": "331904be-10b1-4fb0-9034-e100a956ac75",
   "metadata": {
    "tags": []
   },
   "outputs": [],
   "source": [
    "ct = footprint_squarefeet(ct, desired_building_types)\n",
    "NewH = footprint_squarefeet(ct_NewH, desired_building_types)\n",
    "Mids = footprint_squarefeet(ct_Mids, desired_building_types)\n",
    "Tola = footprint_squarefeet(ct_Tola, desired_building_types)\n",
    "Hart = footprint_squarefeet(ct_Hart, desired_building_types)\n",
    "Fair = footprint_squarefeet(ct_Fair, desired_building_types)"
   ]
  },
  {
   "cell_type": "code",
   "execution_count": null,
   "id": "01893025-a512-4259-abe8-ed1fb1afef1a",
   "metadata": {
    "tags": []
   },
   "outputs": [],
   "source": [
    "footprint = pd.DataFrame({\n",
    "        'County': ['New Haven','Hartford','Middlesex','Tolland','Fairfield','Statewide'],\n",
    "        'Total Footprint Area (square feet)': [NewH,Hart,Mids,Tola,Fair,ct]\n",
    "    })\n",
    "\n",
    "footprint['Ratio'] = footprint['Total Footprint Area (square feet)']/ct\n",
    "\n",
    "ct_emissions = pd.read_excel('../../../data/raw/Public GHG data 1990-2021.xlsx', sheet_name=\"Emission Totals\")\n",
    "\n",
    "emi = ct_emissions.at[9,'2020 est']\n",
    "footprint['GHG Emissions/MMTCO2e'] = footprint['Ratio']*emi\n",
    "rows_to_sum = [1, 2, 3]\n",
    "\n",
    "# Calculate the sum of the selected rows\n",
    "sum_result = footprint.iloc[rows_to_sum].sum()\n",
    "newH_footprint = footprint.iloc[0]\n",
    "Fair_footprint = footprint.iloc[4]\n",
    "state_footprint = footprint.iloc[5]\n",
    "\n",
    "\n",
    "# Choose two rows by label (index)\n",
    "rows_to_extract = [0, 4,5]\n",
    "\n",
    "# Extract the selected rows into a new DataFrame\n",
    "footprint_msa = footprint.loc[rows_to_extract].copy()\n",
    "\n",
    "# Remove the selected rows from the original DataFrame\n",
    "#footprint_msa = footprint.drop(rows_to_extract)\n",
    "position_to_add = 2\n",
    "\n",
    "# Concatenate the DataFrame before and after the new row\n",
    "footprint_msa = pd.concat([footprint_msa.iloc[:position_to_add], pd.DataFrame([sum_result]), footprint_msa.iloc[position_to_add:]]).reset_index(drop=True)\n",
    "\n",
    "footprint_msa.loc[0, 'County'] = 'New Haven-Milford'\n",
    "footprint_msa.loc[1, 'County'] = 'Bridgeport-Stamford-Norwalk'\n",
    "footprint_msa.loc[2, 'County'] = 'Hartford-East Hartford-Middletown'\n",
    "\n",
    "\n",
    "new_row = {\n",
    "    'County': 'Rest of the state',\n",
    "    'Total Footprint Area (square feet)': footprint_msa.iloc[3]['Total Footprint Area (square feet)'] - footprint_msa.iloc[:3]['Total Footprint Area (square feet)'].sum(),\n",
    "    'Ratio': footprint_msa.iloc[3]['Ratio'] - footprint_msa.iloc[:3]['Ratio'].sum(),\n",
    "    'GHG Emissions/MMTCO2e': footprint_msa.iloc[3]['GHG Emissions/MMTCO2e'] - footprint_msa.iloc[:3]['GHG Emissions/MMTCO2e'].sum()\n",
    "}\n",
    "\n",
    "footprint_msa = pd.concat([footprint_msa.iloc[:3], pd.DataFrame([new_row]), footprint_msa.iloc[3:]]).reset_index(drop=True)\n",
    "\n",
    "msa = footprint_msa.iloc[0:3,0]\n",
    "values = footprint_msa.iloc[0:3,-1]\n",
    "Footprint_ratio = footprint_msa.iloc[0:4,2]\n",
    "categories = footprint_msa.iloc[0:4,1]\n",
    "\n",
    "footprint_msa "
   ]
  },
  {
   "cell_type": "code",
   "execution_count": null,
   "id": "224e5864-b031-4195-bae4-06382ea70932",
   "metadata": {
    "tags": []
   },
   "outputs": [],
   "source": [
    "plt.barh(msa, values, 0.4, color=\"salmon\")\n",
    "plt.xlabel(\"Greenhouse Gas Emissions (MMTCO2e)\",fontsize=15, labelpad=20)\n",
    "\n",
    "plt.xticks(fontsize=16)  # Adjust the font size as needed\n",
    "plt.yticks(fontsize=16)\n",
    "\n",
    "#plt.show() \n",
    "\n",
    "plt.savefig('../../../figures/industrial-emissions-osmnx.png', dpi=100,bbox_inches='tight')"
   ]
  },
  {
   "cell_type": "code",
   "execution_count": null,
   "id": "70ddf504-fb00-4e1c-ac49-973abfbca348",
   "metadata": {},
   "outputs": [],
   "source": []
  }
 ],
 "metadata": {
  "kernelspec": {
   "display_name": "Python 3 (ipykernel)",
   "language": "python",
   "name": "python3"
  },
  "language_info": {
   "codemirror_mode": {
    "name": "ipython",
    "version": 3
   },
   "file_extension": ".py",
   "mimetype": "text/x-python",
   "name": "python",
   "nbconvert_exporter": "python",
   "pygments_lexer": "ipython3",
   "version": "3.11.5"
  }
 },
 "nbformat": 4,
 "nbformat_minor": 5
}
