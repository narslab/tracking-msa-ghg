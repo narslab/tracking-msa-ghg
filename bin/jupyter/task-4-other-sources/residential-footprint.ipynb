{
 "cells": [
  {
   "cell_type": "code",
   "execution_count": 6,
   "id": "49824558-41a5-4a5d-8286-e38a171c109a",
   "metadata": {
    "tags": []
   },
   "outputs": [],
   "source": [
    "import networkx as nx\n",
    "import cenpy\n",
    "import osmnx as ox\n",
    "import matplotlib.pyplot as plt\n",
    "import pandas as pd\n",
    "import geopandas as gpd\n",
    "import numpy as np\n",
    "import matplotlib\n",
    "from mpl_toolkits.axes_grid1 import make_axes_locatable\n",
    "import contextily"
   ]
  },
  {
   "cell_type": "code",
   "execution_count": 11,
   "id": "eb53806e-3424-4e51-9b88-4417e13b6b7a",
   "metadata": {
    "tags": []
   },
   "outputs": [],
   "source": [
    "ct = \"Connecticut, USA\"\n",
    "ct_NewH = ['New Haven County, Connecticut, USA']\n",
    "ct_Mids = ['Middlesex County, Connecticut, USA']\n",
    "ct_Tola = ['Tolland County, Connecticut, USA']\n",
    "ct_Hart = ['Hartford County, Connecticut, USA']\n",
    "ct_Fair = ['Fairfield County, Connecticut, USA']\n",
    "          #{'city':'Los Altos Hills', 'state':'California'},\n",
    "          #'Loyola, California']\n",
    "\n",
    "desired_building_types = ['house','roof','apartments','residential','cabin','detached','semidetached_house',\n",
    "                               'stilt house','condominium','static_caravan']\n"
   ]
  },
  {
   "cell_type": "code",
   "execution_count": 12,
   "id": "090bf2e6-c03a-4875-9e6b-57541b351943",
   "metadata": {
    "tags": []
   },
   "outputs": [],
   "source": [
    "def footprint_squarefeet(place_name, building_types):\n",
    "    graph = ox.graph_from_place(place_name, network_type='all')\n",
    "    area = ox.geocode_to_gdf(place_name)\n",
    "    bldgs = ox.geometries_from_place(place_name, tags={'building': building_types})\n",
    "\n",
    "    building_geometries_series = gpd.GeoSeries(bldgs.geometry)\n",
    "    total_footprint_area = building_geometries_series.area.sum()\n",
    "    projected_crs = 'EPSG:6433'\n",
    "    building_geometries_projected = bldgs.to_crs(projected_crs)\n",
    "    total_footprint_area_projected = building_geometries_projected.area.sum()\n",
    "    \n",
    "    #print(\"Total Building Footprint Area:\", total_footprint_area)\n",
    "    #print(\"Total Building Footprint Area (Projected):\", total_footprint_area_projected) #square feet\n",
    "    return total_footprint_area_projected"
   ]
  },
  {
   "cell_type": "code",
   "execution_count": 13,
   "id": "79ef850e-f75b-4d89-844a-1453138735d9",
   "metadata": {
    "tags": []
   },
   "outputs": [
    {
     "name": "stderr",
     "output_type": "stream",
     "text": [
      "C:\\Users\\peiyaozhao\\AppData\\Local\\Temp\\ipykernel_23152\\4126494917.py:4: UserWarning: The `geometries` module and `geometries_from_X` functions have been renamed the `features` module and `features_from_X` functions. Use these instead. The `geometries` module and function names are deprecated and will be removed in a future release.\n",
      "  bldgs = ox.geometries_from_place(place_name, tags={'building': building_types})\n",
      "C:\\Users\\peiyaozhao\\AppData\\Local\\Temp\\ipykernel_23152\\4126494917.py:7: UserWarning: Geometry is in a geographic CRS. Results from 'area' are likely incorrect. Use 'GeoSeries.to_crs()' to re-project geometries to a projected CRS before this operation.\n",
      "\n",
      "  total_footprint_area = building_geometries_series.area.sum()\n",
      "C:\\Users\\peiyaozhao\\AppData\\Local\\Temp\\ipykernel_23152\\4126494917.py:4: UserWarning: The `geometries` module and `geometries_from_X` functions have been renamed the `features` module and `features_from_X` functions. Use these instead. The `geometries` module and function names are deprecated and will be removed in a future release.\n",
      "  bldgs = ox.geometries_from_place(place_name, tags={'building': building_types})\n",
      "C:\\Users\\peiyaozhao\\AppData\\Local\\Temp\\ipykernel_23152\\4126494917.py:7: UserWarning: Geometry is in a geographic CRS. Results from 'area' are likely incorrect. Use 'GeoSeries.to_crs()' to re-project geometries to a projected CRS before this operation.\n",
      "\n",
      "  total_footprint_area = building_geometries_series.area.sum()\n",
      "C:\\Users\\peiyaozhao\\AppData\\Local\\Temp\\ipykernel_23152\\4126494917.py:4: UserWarning: The `geometries` module and `geometries_from_X` functions have been renamed the `features` module and `features_from_X` functions. Use these instead. The `geometries` module and function names are deprecated and will be removed in a future release.\n",
      "  bldgs = ox.geometries_from_place(place_name, tags={'building': building_types})\n",
      "C:\\Users\\peiyaozhao\\AppData\\Local\\Temp\\ipykernel_23152\\4126494917.py:7: UserWarning: Geometry is in a geographic CRS. Results from 'area' are likely incorrect. Use 'GeoSeries.to_crs()' to re-project geometries to a projected CRS before this operation.\n",
      "\n",
      "  total_footprint_area = building_geometries_series.area.sum()\n",
      "C:\\Users\\peiyaozhao\\AppData\\Local\\Temp\\ipykernel_23152\\4126494917.py:4: UserWarning: The `geometries` module and `geometries_from_X` functions have been renamed the `features` module and `features_from_X` functions. Use these instead. The `geometries` module and function names are deprecated and will be removed in a future release.\n",
      "  bldgs = ox.geometries_from_place(place_name, tags={'building': building_types})\n",
      "C:\\Users\\peiyaozhao\\AppData\\Local\\Temp\\ipykernel_23152\\4126494917.py:7: UserWarning: Geometry is in a geographic CRS. Results from 'area' are likely incorrect. Use 'GeoSeries.to_crs()' to re-project geometries to a projected CRS before this operation.\n",
      "\n",
      "  total_footprint_area = building_geometries_series.area.sum()\n",
      "C:\\Users\\peiyaozhao\\AppData\\Local\\Temp\\ipykernel_23152\\4126494917.py:4: UserWarning: The `geometries` module and `geometries_from_X` functions have been renamed the `features` module and `features_from_X` functions. Use these instead. The `geometries` module and function names are deprecated and will be removed in a future release.\n",
      "  bldgs = ox.geometries_from_place(place_name, tags={'building': building_types})\n",
      "C:\\Users\\peiyaozhao\\AppData\\Local\\Temp\\ipykernel_23152\\4126494917.py:7: UserWarning: Geometry is in a geographic CRS. Results from 'area' are likely incorrect. Use 'GeoSeries.to_crs()' to re-project geometries to a projected CRS before this operation.\n",
      "\n",
      "  total_footprint_area = building_geometries_series.area.sum()\n",
      "C:\\Users\\peiyaozhao\\AppData\\Local\\Temp\\ipykernel_23152\\4126494917.py:4: UserWarning: The `geometries` module and `geometries_from_X` functions have been renamed the `features` module and `features_from_X` functions. Use these instead. The `geometries` module and function names are deprecated and will be removed in a future release.\n",
      "  bldgs = ox.geometries_from_place(place_name, tags={'building': building_types})\n",
      "C:\\Users\\peiyaozhao\\AppData\\Local\\Temp\\ipykernel_23152\\4126494917.py:7: UserWarning: Geometry is in a geographic CRS. Results from 'area' are likely incorrect. Use 'GeoSeries.to_crs()' to re-project geometries to a projected CRS before this operation.\n",
      "\n",
      "  total_footprint_area = building_geometries_series.area.sum()\n"
     ]
    }
   ],
   "source": [
    "ct = footprint_squarefeet(ct, desired_building_types)\n",
    "NewH = footprint_squarefeet(ct_NewH, desired_building_types)\n",
    "Mids = footprint_squarefeet(ct_Mids, desired_building_types)\n",
    "Tola = footprint_squarefeet(ct_Tola, desired_building_types)\n",
    "Hart = footprint_squarefeet(ct_Hart, desired_building_types)\n",
    "Fair = footprint_squarefeet(ct_Fair, desired_building_types)"
   ]
  },
  {
   "cell_type": "code",
   "execution_count": 17,
   "id": "4443f0cc-36d6-4c87-9590-9008004776ad",
   "metadata": {
    "tags": []
   },
   "outputs": [],
   "source": [
    "footprint = pd.DataFrame({\n",
    "        'County': ['New Haven','Hartford','Middlesex','Tolland','Fairfield','Statewide'],\n",
    "        'Total Footprint Area (square feet)': [NewH,Hart,Mids,Tola,Fair,ct]\n",
    "    })"
   ]
  },
  {
   "cell_type": "code",
   "execution_count": 18,
   "id": "97280309-0ee0-4821-8b83-048e9cadbe72",
   "metadata": {
    "tags": []
   },
   "outputs": [],
   "source": [
    "footprint['Ratio'] = footprint['Total Footprint Area (square feet)']/ct"
   ]
  },
  {
   "cell_type": "code",
   "execution_count": 19,
   "id": "9ad893da-2254-49cf-953a-5c330b7bea10",
   "metadata": {
    "tags": []
   },
   "outputs": [
    {
     "data": {
      "text/html": [
       "<div>\n",
       "<style scoped>\n",
       "    .dataframe tbody tr th:only-of-type {\n",
       "        vertical-align: middle;\n",
       "    }\n",
       "\n",
       "    .dataframe tbody tr th {\n",
       "        vertical-align: top;\n",
       "    }\n",
       "\n",
       "    .dataframe thead th {\n",
       "        text-align: right;\n",
       "    }\n",
       "</style>\n",
       "<table border=\"1\" class=\"dataframe\">\n",
       "  <thead>\n",
       "    <tr style=\"text-align: right;\">\n",
       "      <th></th>\n",
       "      <th>County</th>\n",
       "      <th>Total Footprint Area (square feet)</th>\n",
       "      <th>Ratio</th>\n",
       "    </tr>\n",
       "  </thead>\n",
       "  <tbody>\n",
       "    <tr>\n",
       "      <th>0</th>\n",
       "      <td>New Haven</td>\n",
       "      <td>6.047362e+06</td>\n",
       "      <td>0.448986</td>\n",
       "    </tr>\n",
       "    <tr>\n",
       "      <th>1</th>\n",
       "      <td>Hartford</td>\n",
       "      <td>1.682340e+06</td>\n",
       "      <td>0.124905</td>\n",
       "    </tr>\n",
       "    <tr>\n",
       "      <th>2</th>\n",
       "      <td>Middlesex</td>\n",
       "      <td>1.133225e+06</td>\n",
       "      <td>0.084136</td>\n",
       "    </tr>\n",
       "    <tr>\n",
       "      <th>3</th>\n",
       "      <td>Tolland</td>\n",
       "      <td>3.280795e+05</td>\n",
       "      <td>0.024358</td>\n",
       "    </tr>\n",
       "    <tr>\n",
       "      <th>4</th>\n",
       "      <td>Fairfield</td>\n",
       "      <td>3.050803e+06</td>\n",
       "      <td>0.226507</td>\n",
       "    </tr>\n",
       "    <tr>\n",
       "      <th>5</th>\n",
       "      <td>Statewide</td>\n",
       "      <td>1.346894e+07</td>\n",
       "      <td>1.000000</td>\n",
       "    </tr>\n",
       "  </tbody>\n",
       "</table>\n",
       "</div>"
      ],
      "text/plain": [
       "      County  Total Footprint Area (square feet)     Ratio\n",
       "0  New Haven                        6.047362e+06  0.448986\n",
       "1   Hartford                        1.682340e+06  0.124905\n",
       "2  Middlesex                        1.133225e+06  0.084136\n",
       "3    Tolland                        3.280795e+05  0.024358\n",
       "4  Fairfield                        3.050803e+06  0.226507\n",
       "5  Statewide                        1.346894e+07  1.000000"
      ]
     },
     "execution_count": 19,
     "metadata": {},
     "output_type": "execute_result"
    }
   ],
   "source": [
    "footprint"
   ]
  },
  {
   "cell_type": "code",
   "execution_count": 20,
   "id": "b43b7267-927e-4bd5-bce5-e5852455e787",
   "metadata": {
    "tags": []
   },
   "outputs": [
    {
     "data": {
      "text/html": [
       "<div>\n",
       "<style scoped>\n",
       "    .dataframe tbody tr th:only-of-type {\n",
       "        vertical-align: middle;\n",
       "    }\n",
       "\n",
       "    .dataframe tbody tr th {\n",
       "        vertical-align: top;\n",
       "    }\n",
       "\n",
       "    .dataframe thead th {\n",
       "        text-align: right;\n",
       "    }\n",
       "</style>\n",
       "<table border=\"1\" class=\"dataframe\">\n",
       "  <thead>\n",
       "    <tr style=\"text-align: right;\">\n",
       "      <th></th>\n",
       "      <th>County</th>\n",
       "      <th>Total Footprint Area (square feet)</th>\n",
       "      <th>Ratio</th>\n",
       "      <th>GHG Emissions/MMTCO2e</th>\n",
       "    </tr>\n",
       "  </thead>\n",
       "  <tbody>\n",
       "    <tr>\n",
       "      <th>0</th>\n",
       "      <td>New Haven</td>\n",
       "      <td>6.047362e+06</td>\n",
       "      <td>0.448986</td>\n",
       "      <td>2.992720</td>\n",
       "    </tr>\n",
       "    <tr>\n",
       "      <th>1</th>\n",
       "      <td>Hartford</td>\n",
       "      <td>1.682340e+06</td>\n",
       "      <td>0.124905</td>\n",
       "      <td>0.832557</td>\n",
       "    </tr>\n",
       "    <tr>\n",
       "      <th>2</th>\n",
       "      <td>Middlesex</td>\n",
       "      <td>1.133225e+06</td>\n",
       "      <td>0.084136</td>\n",
       "      <td>0.560811</td>\n",
       "    </tr>\n",
       "    <tr>\n",
       "      <th>3</th>\n",
       "      <td>Tolland</td>\n",
       "      <td>3.280795e+05</td>\n",
       "      <td>0.024358</td>\n",
       "      <td>0.162360</td>\n",
       "    </tr>\n",
       "    <tr>\n",
       "      <th>4</th>\n",
       "      <td>Fairfield</td>\n",
       "      <td>3.050803e+06</td>\n",
       "      <td>0.226507</td>\n",
       "      <td>1.509782</td>\n",
       "    </tr>\n",
       "    <tr>\n",
       "      <th>5</th>\n",
       "      <td>Statewide</td>\n",
       "      <td>1.346894e+07</td>\n",
       "      <td>1.000000</td>\n",
       "      <td>6.665511</td>\n",
       "    </tr>\n",
       "  </tbody>\n",
       "</table>\n",
       "</div>"
      ],
      "text/plain": [
       "      County  Total Footprint Area (square feet)     Ratio  \\\n",
       "0  New Haven                        6.047362e+06  0.448986   \n",
       "1   Hartford                        1.682340e+06  0.124905   \n",
       "2  Middlesex                        1.133225e+06  0.084136   \n",
       "3    Tolland                        3.280795e+05  0.024358   \n",
       "4  Fairfield                        3.050803e+06  0.226507   \n",
       "5  Statewide                        1.346894e+07  1.000000   \n",
       "\n",
       "   GHG Emissions/MMTCO2e  \n",
       "0               2.992720  \n",
       "1               0.832557  \n",
       "2               0.560811  \n",
       "3               0.162360  \n",
       "4               1.509782  \n",
       "5               6.665511  "
      ]
     },
     "execution_count": 20,
     "metadata": {},
     "output_type": "execute_result"
    }
   ],
   "source": [
    "import pandas as pd\n",
    "ct_emissions = pd.read_excel('C:/Users/peiyaozhao/Documents/GitHub/tracking-msa-ghg/data/raw/Public GHG data 1990-2021.xlsx', sheet_name=\"Emission Totals\")\n",
    "\n",
    "emi = ct_emissions.at[13,'2020 est']\n",
    "footprint['GHG Emissions/MMTCO2e'] = footprint['Ratio']*emi\n",
    "footprint"
   ]
  },
  {
   "cell_type": "code",
   "execution_count": 22,
   "id": "5f95e6fb-db1b-4f89-bef9-b4cea4474f41",
   "metadata": {
    "tags": []
   },
   "outputs": [
    {
     "data": {
      "text/plain": [
       "County                                HartfordMiddlesexTolland\n",
       "Total Footprint Area (square feet)              3143644.318995\n",
       "Ratio                                                   0.2334\n",
       "GHG Emissions/MMTCO2e                                 1.555728\n",
       "dtype: object"
      ]
     },
     "execution_count": 22,
     "metadata": {},
     "output_type": "execute_result"
    }
   ],
   "source": [
    "# Choose the rows you want to sum\n",
    "rows_to_sum = [1, 2, 3]\n",
    "\n",
    "# Calculate the sum of the selected rows\n",
    "sum_result = footprint.iloc[rows_to_sum].sum()\n",
    "sum_result"
   ]
  },
  {
   "cell_type": "code",
   "execution_count": 26,
   "id": "b0d4a6ad-3ef6-48dd-b17b-0f77e2496e63",
   "metadata": {
    "tags": []
   },
   "outputs": [],
   "source": [
    "newH_footprint = footprint.iloc[0]\n",
    "Fair_footprint = footprint.iloc[4]\n",
    "state_footprint = footprint.iloc[5]"
   ]
  },
  {
   "cell_type": "code",
   "execution_count": 27,
   "id": "894d56b3-b1b2-48a8-89fb-7ed638a38da9",
   "metadata": {
    "tags": []
   },
   "outputs": [
    {
     "data": {
      "text/html": [
       "<div>\n",
       "<style scoped>\n",
       "    .dataframe tbody tr th:only-of-type {\n",
       "        vertical-align: middle;\n",
       "    }\n",
       "\n",
       "    .dataframe tbody tr th {\n",
       "        vertical-align: top;\n",
       "    }\n",
       "\n",
       "    .dataframe thead th {\n",
       "        text-align: right;\n",
       "    }\n",
       "</style>\n",
       "<table border=\"1\" class=\"dataframe\">\n",
       "  <thead>\n",
       "    <tr style=\"text-align: right;\">\n",
       "      <th></th>\n",
       "      <th>County</th>\n",
       "      <th>Total Footprint Area (square feet)</th>\n",
       "      <th>Ratio</th>\n",
       "      <th>GHG Emissions/MMTCO2e</th>\n",
       "    </tr>\n",
       "  </thead>\n",
       "  <tbody>\n",
       "    <tr>\n",
       "      <th>0</th>\n",
       "      <td>New Haven</td>\n",
       "      <td>6.047362e+06</td>\n",
       "      <td>0.448986</td>\n",
       "      <td>2.992720</td>\n",
       "    </tr>\n",
       "    <tr>\n",
       "      <th>4</th>\n",
       "      <td>Fairfield</td>\n",
       "      <td>3.050803e+06</td>\n",
       "      <td>0.226507</td>\n",
       "      <td>1.509782</td>\n",
       "    </tr>\n",
       "    <tr>\n",
       "      <th>5</th>\n",
       "      <td>Statewide</td>\n",
       "      <td>1.346894e+07</td>\n",
       "      <td>1.000000</td>\n",
       "      <td>6.665511</td>\n",
       "    </tr>\n",
       "  </tbody>\n",
       "</table>\n",
       "</div>"
      ],
      "text/plain": [
       "      County  Total Footprint Area (square feet)     Ratio  \\\n",
       "0  New Haven                        6.047362e+06  0.448986   \n",
       "4  Fairfield                        3.050803e+06  0.226507   \n",
       "5  Statewide                        1.346894e+07  1.000000   \n",
       "\n",
       "   GHG Emissions/MMTCO2e  \n",
       "0               2.992720  \n",
       "4               1.509782  \n",
       "5               6.665511  "
      ]
     },
     "execution_count": 27,
     "metadata": {},
     "output_type": "execute_result"
    }
   ],
   "source": [
    "# Choose two rows by label (index)\n",
    "rows_to_extract = [0, 4,5]\n",
    "\n",
    "# Extract the selected rows into a new DataFrame\n",
    "footprint_msa = footprint.loc[rows_to_extract].copy()\n",
    "\n",
    "# Remove the selected rows from the original DataFrame\n",
    "#footprint_msa = footprint.drop(rows_to_extract)\n",
    "footprint_msa"
   ]
  },
  {
   "cell_type": "code",
   "execution_count": 28,
   "id": "2c2424be-426b-43b6-a64e-85a85d1f9ed8",
   "metadata": {
    "tags": []
   },
   "outputs": [],
   "source": [
    "position_to_add = 2\n",
    "\n",
    "# Concatenate the DataFrame before and after the new row\n",
    "footprint_msa = pd.concat([footprint_msa.iloc[:position_to_add], pd.DataFrame([sum_result]), footprint_msa.iloc[position_to_add:]]).reset_index(drop=True)"
   ]
  },
  {
   "cell_type": "code",
   "execution_count": 29,
   "id": "225f0f5e-df50-4c6a-982f-42c502c10f12",
   "metadata": {
    "tags": []
   },
   "outputs": [
    {
     "data": {
      "text/html": [
       "<div>\n",
       "<style scoped>\n",
       "    .dataframe tbody tr th:only-of-type {\n",
       "        vertical-align: middle;\n",
       "    }\n",
       "\n",
       "    .dataframe tbody tr th {\n",
       "        vertical-align: top;\n",
       "    }\n",
       "\n",
       "    .dataframe thead th {\n",
       "        text-align: right;\n",
       "    }\n",
       "</style>\n",
       "<table border=\"1\" class=\"dataframe\">\n",
       "  <thead>\n",
       "    <tr style=\"text-align: right;\">\n",
       "      <th></th>\n",
       "      <th>County</th>\n",
       "      <th>Total Footprint Area (square feet)</th>\n",
       "      <th>Ratio</th>\n",
       "      <th>GHG Emissions/MMTCO2e</th>\n",
       "    </tr>\n",
       "  </thead>\n",
       "  <tbody>\n",
       "    <tr>\n",
       "      <th>0</th>\n",
       "      <td>New Haven</td>\n",
       "      <td>6.047362e+06</td>\n",
       "      <td>0.448986</td>\n",
       "      <td>2.992720</td>\n",
       "    </tr>\n",
       "    <tr>\n",
       "      <th>1</th>\n",
       "      <td>Fairfield</td>\n",
       "      <td>3.050803e+06</td>\n",
       "      <td>0.226507</td>\n",
       "      <td>1.509782</td>\n",
       "    </tr>\n",
       "    <tr>\n",
       "      <th>2</th>\n",
       "      <td>HartfordMiddlesexTolland</td>\n",
       "      <td>3.143644e+06</td>\n",
       "      <td>0.233400</td>\n",
       "      <td>1.555728</td>\n",
       "    </tr>\n",
       "    <tr>\n",
       "      <th>3</th>\n",
       "      <td>Statewide</td>\n",
       "      <td>1.346894e+07</td>\n",
       "      <td>1.000000</td>\n",
       "      <td>6.665511</td>\n",
       "    </tr>\n",
       "  </tbody>\n",
       "</table>\n",
       "</div>"
      ],
      "text/plain": [
       "                     County  Total Footprint Area (square feet)     Ratio  \\\n",
       "0                 New Haven                        6.047362e+06  0.448986   \n",
       "1                 Fairfield                        3.050803e+06  0.226507   \n",
       "2  HartfordMiddlesexTolland                        3.143644e+06  0.233400   \n",
       "3                 Statewide                        1.346894e+07  1.000000   \n",
       "\n",
       "   GHG Emissions/MMTCO2e  \n",
       "0               2.992720  \n",
       "1               1.509782  \n",
       "2               1.555728  \n",
       "3               6.665511  "
      ]
     },
     "execution_count": 29,
     "metadata": {},
     "output_type": "execute_result"
    }
   ],
   "source": [
    "footprint_msa"
   ]
  },
  {
   "cell_type": "code",
   "execution_count": 30,
   "id": "c4bb6496-0826-429c-a136-b35daced5500",
   "metadata": {
    "tags": []
   },
   "outputs": [],
   "source": [
    "footprint_msa.loc[0, 'County'] = 'New Haven-Milford'\n",
    "footprint_msa.loc[1, 'County'] = 'Bridgeport-Stamford-Norwalk'\n",
    "footprint_msa.loc[2, 'County'] = 'Hartford-East Hartford-Middletown'\n"
   ]
  },
  {
   "cell_type": "code",
   "execution_count": 31,
   "id": "ff9a237d-d8ae-40f4-918b-4fc14f1a62f9",
   "metadata": {
    "tags": []
   },
   "outputs": [
    {
     "data": {
      "text/html": [
       "<div>\n",
       "<style scoped>\n",
       "    .dataframe tbody tr th:only-of-type {\n",
       "        vertical-align: middle;\n",
       "    }\n",
       "\n",
       "    .dataframe tbody tr th {\n",
       "        vertical-align: top;\n",
       "    }\n",
       "\n",
       "    .dataframe thead th {\n",
       "        text-align: right;\n",
       "    }\n",
       "</style>\n",
       "<table border=\"1\" class=\"dataframe\">\n",
       "  <thead>\n",
       "    <tr style=\"text-align: right;\">\n",
       "      <th></th>\n",
       "      <th>County</th>\n",
       "      <th>Total Footprint Area (square feet)</th>\n",
       "      <th>Ratio</th>\n",
       "      <th>GHG Emissions/MMTCO2e</th>\n",
       "    </tr>\n",
       "  </thead>\n",
       "  <tbody>\n",
       "    <tr>\n",
       "      <th>0</th>\n",
       "      <td>New Haven-Milford</td>\n",
       "      <td>6.047362e+06</td>\n",
       "      <td>0.448986</td>\n",
       "      <td>2.992720</td>\n",
       "    </tr>\n",
       "    <tr>\n",
       "      <th>1</th>\n",
       "      <td>Bridgeport-Stamford-Norwalk</td>\n",
       "      <td>3.050803e+06</td>\n",
       "      <td>0.226507</td>\n",
       "      <td>1.509782</td>\n",
       "    </tr>\n",
       "    <tr>\n",
       "      <th>2</th>\n",
       "      <td>Hartford-East Hartford-Middletown</td>\n",
       "      <td>3.143644e+06</td>\n",
       "      <td>0.233400</td>\n",
       "      <td>1.555728</td>\n",
       "    </tr>\n",
       "    <tr>\n",
       "      <th>3</th>\n",
       "      <td>Statewide</td>\n",
       "      <td>1.346894e+07</td>\n",
       "      <td>1.000000</td>\n",
       "      <td>6.665511</td>\n",
       "    </tr>\n",
       "  </tbody>\n",
       "</table>\n",
       "</div>"
      ],
      "text/plain": [
       "                              County  Total Footprint Area (square feet)  \\\n",
       "0                  New Haven-Milford                        6.047362e+06   \n",
       "1        Bridgeport-Stamford-Norwalk                        3.050803e+06   \n",
       "2  Hartford-East Hartford-Middletown                        3.143644e+06   \n",
       "3                          Statewide                        1.346894e+07   \n",
       "\n",
       "      Ratio  GHG Emissions/MMTCO2e  \n",
       "0  0.448986               2.992720  \n",
       "1  0.226507               1.509782  \n",
       "2  0.233400               1.555728  \n",
       "3  1.000000               6.665511  "
      ]
     },
     "execution_count": 31,
     "metadata": {},
     "output_type": "execute_result"
    }
   ],
   "source": [
    "footprint_msa\n"
   ]
  },
  {
   "cell_type": "code",
   "execution_count": 32,
   "id": "a71f842c-260a-4334-b3e6-3d313f5747c4",
   "metadata": {
    "tags": []
   },
   "outputs": [],
   "source": [
    "new_row = {\n",
    "    'County': 'Rest of the state',\n",
    "    'Total Footprint Area (square feet)': footprint_msa.iloc[3]['Total Footprint Area (square feet)'] - footprint_msa.iloc[:3]['Total Footprint Area (square feet)'].sum(),\n",
    "    'Ratio': footprint_msa.iloc[3]['Ratio'] - footprint_msa.iloc[:3]['Ratio'].sum(),\n",
    "    'GHG Emissions/MMTCO2e': footprint_msa.iloc[3]['GHG Emissions/MMTCO2e'] - footprint_msa.iloc[:3]['GHG Emissions/MMTCO2e'].sum()\n",
    "}\n",
    "\n",
    "footprint_msa = pd.concat([footprint_msa.iloc[:3], pd.DataFrame([new_row]), footprint_msa.iloc[3:]]).reset_index(drop=True)"
   ]
  },
  {
   "cell_type": "code",
   "execution_count": 41,
   "id": "6fb18f7a-a7ba-4ea4-9adc-111c06df55e7",
   "metadata": {
    "tags": []
   },
   "outputs": [],
   "source": [
    "msa = footprint_msa.iloc[0:3,0]\n",
    "values = footprint_msa.iloc[0:3,-1]\n",
    "Footprint_ratio = footprint_msa.iloc[0:4,2]\n",
    "categories = footprint_msa.iloc[0:4,1]"
   ]
  },
  {
   "cell_type": "code",
   "execution_count": 1,
   "id": "e334b9fb-352f-4ee9-915d-de513ee4a358",
   "metadata": {
    "tags": []
   },
   "outputs": [
    {
     "ename": "NameError",
     "evalue": "name 'footprint_msa' is not defined",
     "output_type": "error",
     "traceback": [
      "\u001b[1;31m---------------------------------------------------------------------------\u001b[0m",
      "\u001b[1;31mNameError\u001b[0m                                 Traceback (most recent call last)",
      "Cell \u001b[1;32mIn[1], line 1\u001b[0m\n\u001b[1;32m----> 1\u001b[0m footprint_msa\n",
      "\u001b[1;31mNameError\u001b[0m: name 'footprint_msa' is not defined"
     ]
    }
   ],
   "source": [
    "footprint_msa "
   ]
  },
  {
   "cell_type": "code",
   "execution_count": 44,
   "id": "6a7c457d-3de2-4052-91b1-aa51940b0634",
   "metadata": {
    "tags": []
   },
   "outputs": [
    {
     "data": {
      "image/png": "[encoded data removed]",
      "text/plain": [
       "<Figure size 640x480 with 1 Axes>"
      ]
     },
     "metadata": {},
     "output_type": "display_data"
    }
   ],
   "source": [
    "plt.barh(msa, values, 0.4, color=\"salmon\")\n",
    "plt.xlabel(\"Greenhouse Gas Emissions (MMTCO2e)\",fontsize=15, labelpad=20)\n",
    "\n",
    "plt.xticks(fontsize=16)  # Adjust the font size as needed\n",
    "plt.yticks(fontsize=16)\n",
    "\n",
    "#plt.show() \n",
    "\n",
    "plt.savefig('C:/Users/peiyaozhao/Documents/GitHub/tracking-msa-ghg/figures/residential-emissions-osmnx.png', dpi=100,bbox_inches='tight')"
   ]
  },
  {
   "cell_type": "code",
   "execution_count": 36,
   "id": "9c62bffa-bcdd-47e8-a038-82c2c5b0f8ae",
   "metadata": {
    "tags": []
   },
   "outputs": [
    {
     "data": {
      "image/png": "[encoded data removed]",
      "text/plain": [
       "<Figure size 640x480 with 1 Axes>"
      ]
     },
     "metadata": {},
     "output_type": "display_data"
    }
   ],
   "source": [
    "pie_chart = plt.pie(Footprint_ratio, labels=msa, autopct='%1.1f%%', startangle=90, textprops={'size': 14})\n",
    "\n",
    "# Set font size for pie chart labels\n",
    "for label in pie_chart[1]:\n",
    "    label.set_fontsize(12)\n",
    "    \n",
    "plt.savefig('C:/Users/peiyaozhao/Documents/GitHub/tracking-msa-ghg/figures/footprint_ratio.png', dpi=100,bbox_inches='tight')"
   ]
  },
  {
   "cell_type": "code",
   "execution_count": 37,
   "id": "7d5ee6c4-b92b-441a-87e8-86182ab0e2dd",
   "metadata": {
    "tags": []
   },
   "outputs": [],
   "source": [
    "def building_type_count(place_name, building_types):\n",
    "    graph = ox.graph_from_place(place_name, network_type='all')\n",
    "    area = ox.geocode_to_gdf(place_name)\n",
    "    bldgs = ox.geometries_from_place(place_name, tags={'building': building_types})\n",
    "\n",
    "    # Use the correct variable name (bldgs) instead of bldgs_NewH\n",
    "    unique_building_types = bldgs['building'].unique()\n",
    "\n",
    "    # Use the correct variable name (bldgs) instead of bldgs_NewH\n",
    "    building_type_counts = bldgs['building'].value_counts()\n",
    "\n",
    "    # Iterate over the building types and counts\n",
    "    for building_type, count in building_type_counts.items():\n",
    "        print(f\"{building_type}: {count} buildings\")\n",
    "        \n",
    "    return building_type_counts"
   ]
  },
  {
   "cell_type": "code",
   "execution_count": 38,
   "id": "4b8626d7-a323-4f14-89d8-87f014f0bd84",
   "metadata": {
    "tags": []
   },
   "outputs": [
    {
     "name": "stderr",
     "output_type": "stream",
     "text": [
      "C:\\Users\\peiyaozhao\\AppData\\Local\\Temp\\ipykernel_23152\\4286460642.py:4: UserWarning: The `geometries` module and `geometries_from_X` functions have been renamed the `features` module and `features_from_X` functions. Use these instead. The `geometries` module and function names are deprecated and will be removed in a future release.\n",
      "  bldgs = ox.geometries_from_place(place_name, tags={'building': building_types})\n"
     ]
    },
    {
     "name": "stdout",
     "output_type": "stream",
     "text": [
      "house: 34384 buildings\n",
      "detached: 1060 buildings\n",
      "apartments: 839 buildings\n",
      "roof: 359 buildings\n",
      "residential: 188 buildings\n",
      "cabin: 19 buildings\n",
      "semidetached_house: 8 buildings\n",
      "static_caravan: 7 buildings\n",
      "condominium: 3 buildings\n"
     ]
    },
    {
     "name": "stderr",
     "output_type": "stream",
     "text": [
      "C:\\Users\\peiyaozhao\\AppData\\Local\\Temp\\ipykernel_23152\\4286460642.py:4: UserWarning: The `geometries` module and `geometries_from_X` functions have been renamed the `features` module and `features_from_X` functions. Use these instead. The `geometries` module and function names are deprecated and will be removed in a future release.\n",
      "  bldgs = ox.geometries_from_place(place_name, tags={'building': building_types})\n"
     ]
    },
    {
     "name": "stdout",
     "output_type": "stream",
     "text": [
      "detached: 3477 buildings\n",
      "house: 2666 buildings\n",
      "apartments: 208 buildings\n",
      "roof: 129 buildings\n",
      "residential: 47 buildings\n",
      "cabin: 16 buildings\n"
     ]
    },
    {
     "name": "stderr",
     "output_type": "stream",
     "text": [
      "C:\\Users\\peiyaozhao\\AppData\\Local\\Temp\\ipykernel_23152\\4286460642.py:4: UserWarning: The `geometries` module and `geometries_from_X` functions have been renamed the `features` module and `features_from_X` functions. Use these instead. The `geometries` module and function names are deprecated and will be removed in a future release.\n",
      "  bldgs = ox.geometries_from_place(place_name, tags={'building': building_types})\n"
     ]
    },
    {
     "name": "stdout",
     "output_type": "stream",
     "text": [
      "detached: 552 buildings\n",
      "house: 461 buildings\n",
      "apartments: 249 buildings\n",
      "roof: 68 buildings\n",
      "residential: 25 buildings\n",
      "static_caravan: 20 buildings\n",
      "semidetached_house: 1 buildings\n"
     ]
    },
    {
     "name": "stderr",
     "output_type": "stream",
     "text": [
      "C:\\Users\\peiyaozhao\\AppData\\Local\\Temp\\ipykernel_23152\\4286460642.py:4: UserWarning: The `geometries` module and `geometries_from_X` functions have been renamed the `features` module and `features_from_X` functions. Use these instead. The `geometries` module and function names are deprecated and will be removed in a future release.\n",
      "  bldgs = ox.geometries_from_place(place_name, tags={'building': building_types})\n"
     ]
    },
    {
     "name": "stdout",
     "output_type": "stream",
     "text": [
      "house: 6297 buildings\n",
      "detached: 718 buildings\n",
      "apartments: 615 buildings\n",
      "residential: 307 buildings\n",
      "roof: 257 buildings\n",
      "semidetached_house: 11 buildings\n",
      "cabin: 10 buildings\n"
     ]
    },
    {
     "name": "stderr",
     "output_type": "stream",
     "text": [
      "C:\\Users\\peiyaozhao\\AppData\\Local\\Temp\\ipykernel_23152\\4286460642.py:4: UserWarning: The `geometries` module and `geometries_from_X` functions have been renamed the `features` module and `features_from_X` functions. Use these instead. The `geometries` module and function names are deprecated and will be removed in a future release.\n",
      "  bldgs = ox.geometries_from_place(place_name, tags={'building': building_types})\n"
     ]
    },
    {
     "name": "stdout",
     "output_type": "stream",
     "text": [
      "house: 14210 buildings\n",
      "residential: 568 buildings\n",
      "apartments: 451 buildings\n",
      "detached: 311 buildings\n",
      "roof: 240 buildings\n",
      "cabin: 29 buildings\n",
      "semidetached_house: 15 buildings\n",
      "static_caravan: 4 buildings\n",
      "stilt house: 1 buildings\n"
     ]
    }
   ],
   "source": [
    "NewH = building_type_count(ct_NewH, desired_building_types)\n",
    "Mids = building_type_count(ct_Mids, desired_building_types)\n",
    "Tola = building_type_count(ct_Tola, desired_building_types)\n",
    "Hart = building_type_count(ct_Hart, desired_building_types)\n",
    "Fair = building_type_count(ct_Fair, desired_building_types)\n"
   ]
  },
  {
   "cell_type": "code",
   "execution_count": null,
   "id": "69952532-620c-498d-814e-e248b2fef0aa",
   "metadata": {},
   "outputs": [],
   "source": []
  }
 ],
 "metadata": {
  "kernelspec": {
   "display_name": "Python 3 (ipykernel)",
   "language": "python",
   "name": "python3"
  },
  "language_info": {
   "codemirror_mode": {
    "name": "ipython",
    "version": 3
   },
   "file_extension": ".py",
   "mimetype": "text/x-python",
   "name": "python",
   "nbconvert_exporter": "python",
   "pygments_lexer": "ipython3",
   "version": "3.11.5"
  }
 },
 "nbformat": 4,
 "nbformat_minor": 5
}
