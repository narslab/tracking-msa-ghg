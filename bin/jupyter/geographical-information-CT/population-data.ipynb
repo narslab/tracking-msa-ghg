{
 "cells": [
  {
   "cell_type": "code",
   "execution_count": 1,
   "id": "58a35f18-061d-474b-b9e8-1c0984eeae24",
   "metadata": {
    "tags": []
   },
   "outputs": [],
   "source": [
    "import pandas as pd\n",
    "import numpy as np\n",
    "import os\n",
    "import string\n",
    "import matplotlib.pyplot as plt\n",
    "import seaborn as sns\n",
    "os.getcwd()\n",
    "os.chdir('C:/Users/peiyaozhao/Documents/GitHub/tracking-msa-ghg/bin/jupyter')"
   ]
  },
  {
   "cell_type": "code",
   "execution_count": 2,
   "id": "fc01ff15-9d00-4403-9832-1f1041434b87",
   "metadata": {
    "tags": []
   },
   "outputs": [
    {
     "name": "stderr",
     "output_type": "stream",
     "text": [
      "C:\\Users\\peiyaozhao\\AppData\\Local\\Temp\\ipykernel_8528\\3330825543.py:23: SettingWithCopyWarning: \n",
      "A value is trying to be set on a copy of a slice from a DataFrame\n",
      "\n",
      "See the caveats in the documentation: https://pandas.pydata.org/pandas-docs/stable/user_guide/indexing.html#returning-a-view-versus-a-copy\n",
      "  population.rename(columns={'Unnamed: 0': 'Year'}, inplace=True)\n",
      "C:\\Users\\peiyaozhao\\AppData\\Local\\Temp\\ipykernel_8528\\3330825543.py:24: SettingWithCopyWarning: \n",
      "A value is trying to be set on a copy of a slice from a DataFrame\n",
      "\n",
      "See the caveats in the documentation: https://pandas.pydata.org/pandas-docs/stable/user_guide/indexing.html#returning-a-view-versus-a-copy\n",
      "  population.iloc[0, 0] = extract_year_from_filename(file_path)\n",
      "C:\\Users\\peiyaozhao\\AppData\\Local\\Temp\\ipykernel_8528\\3330825543.py:23: SettingWithCopyWarning: \n",
      "A value is trying to be set on a copy of a slice from a DataFrame\n",
      "\n",
      "See the caveats in the documentation: https://pandas.pydata.org/pandas-docs/stable/user_guide/indexing.html#returning-a-view-versus-a-copy\n",
      "  population.rename(columns={'Unnamed: 0': 'Year'}, inplace=True)\n",
      "C:\\Users\\peiyaozhao\\AppData\\Local\\Temp\\ipykernel_8528\\3330825543.py:24: SettingWithCopyWarning: \n",
      "A value is trying to be set on a copy of a slice from a DataFrame\n",
      "\n",
      "See the caveats in the documentation: https://pandas.pydata.org/pandas-docs/stable/user_guide/indexing.html#returning-a-view-versus-a-copy\n",
      "  population.iloc[0, 0] = extract_year_from_filename(file_path)\n"
     ]
    },
    {
     "data": {
      "text/html": [
       "<div>\n",
       "<style scoped>\n",
       "    .dataframe tbody tr th:only-of-type {\n",
       "        vertical-align: middle;\n",
       "    }\n",
       "\n",
       "    .dataframe tbody tr th {\n",
       "        vertical-align: top;\n",
       "    }\n",
       "\n",
       "    .dataframe thead th {\n",
       "        text-align: right;\n",
       "    }\n",
       "</style>\n",
       "<table border=\"1\" class=\"dataframe\">\n",
       "  <thead>\n",
       "    <tr style=\"text-align: right;\">\n",
       "      <th></th>\n",
       "      <th>Year</th>\n",
       "      <th>Connecticut</th>\n",
       "      <th>Bridgeport-Stamford-Norwalk, CT Metro Area</th>\n",
       "      <th>Hartford-East Hartford-Middletown, CT Metro Area</th>\n",
       "      <th>New Haven-Milford, CT Metro Area</th>\n",
       "    </tr>\n",
       "  </thead>\n",
       "  <tbody>\n",
       "    <tr>\n",
       "      <th>0</th>\n",
       "      <td>2021</td>\n",
       "      <td>3,605,330</td>\n",
       "      <td>956,446</td>\n",
       "      <td>1,213,324</td>\n",
       "      <td>864,751</td>\n",
       "    </tr>\n",
       "    <tr>\n",
       "      <th>1</th>\n",
       "      <td>2020</td>\n",
       "      <td>3,570,549</td>\n",
       "      <td>944,306</td>\n",
       "      <td>1,205,842</td>\n",
       "      <td>855,733</td>\n",
       "    </tr>\n",
       "  </tbody>\n",
       "</table>\n",
       "</div>"
      ],
      "text/plain": [
       "   Year Connecticut Bridgeport-Stamford-Norwalk, CT Metro Area  \\\n",
       "0  2021   3,605,330                                    956,446   \n",
       "1  2020   3,570,549                                    944,306   \n",
       "\n",
       "  Hartford-East Hartford-Middletown, CT Metro Area  \\\n",
       "0                                        1,213,324   \n",
       "1                                        1,205,842   \n",
       "\n",
       "  New Haven-Milford, CT Metro Area  \n",
       "0                          864,751  \n",
       "1                          855,733  "
      ]
     },
     "execution_count": 2,
     "metadata": {},
     "output_type": "execute_result"
    }
   ],
   "source": [
    "import pandas as pd\n",
    "\n",
    "def extract_year_from_filename(file_path):\n",
    "    # Extract the year from the file name\n",
    "    # Assuming the file name has the format ACSDP5Y<Year>.DP05-...\n",
    "    year = file_path.split('ACSDP5Y')[1][:4]\n",
    "    return int(year)\n",
    "\n",
    "def process_population_file(file_path):\n",
    "    # Read the DataFrame from the file\n",
    "    dataframe = pd.read_excel(file_path, sheet_name='Data')\n",
    "\n",
    "    # Use iloc to extract the specified row\n",
    "    row = dataframe.iloc[2:3]\n",
    "    \n",
    "    # Extract relevant columns\n",
    "    population = row[['Unnamed: 0', 'Connecticut', 'Bridgeport-Stamford-Norwalk, CT Metro Area', 'Hartford-East Hartford-Middletown, CT Metro Area','New Haven-Milford, CT Metro Area']]\n",
    "    \n",
    "    # Reset index and set Year\n",
    "    population.reset_index(drop=True, inplace=True)\n",
    "    \n",
    "    # Extract year from the file name and set it as 'Year'\n",
    "    population.rename(columns={'Unnamed: 0': 'Year'}, inplace=True)\n",
    "    population.iloc[0, 0] = extract_year_from_filename(file_path)\n",
    "    \n",
    "    return population\n",
    "\n",
    "def process_population_files(file_paths):\n",
    "    # Initialize an empty DataFrame to store the results\n",
    "    combined_df = pd.DataFrame()\n",
    "\n",
    "    # Process each file and concatenate the results\n",
    "    for file_path in file_paths:\n",
    "        pop = process_population_file(file_path)\n",
    "        combined_df = pd.concat([combined_df, pop], ignore_index=True)\n",
    "\n",
    "    return combined_df\n",
    "\n",
    "# Example usage\n",
    "file_paths = [\n",
    "    'C:/Users/peiyaozhao/Documents/GitHub/tracking-msa-ghg/data/raw/ACSDP5Y2021.DP05-2023-09-11T201858.xlsx',\n",
    "    'C:/Users/peiyaozhao/Documents/GitHub/tracking-msa-ghg/data/raw/ACSDP5Y2020.DP05-2023-09-11T202108.xlsx',\n",
    "   \n",
    "    # Add more file paths as needed\n",
    "]\n",
    "\n",
    "result_population = process_population_files(file_paths)\n",
    "result_population\n"
   ]
  },
  {
   "cell_type": "code",
   "execution_count": 3,
   "id": "327893dd-4c7e-4b2f-8533-2fdae07c17fa",
   "metadata": {
    "tags": []
   },
   "outputs": [
    {
     "name": "stderr",
     "output_type": "stream",
     "text": [
      "C:\\Users\\peiyaozhao\\AppData\\Local\\Temp\\ipykernel_8528\\2401997845.py:21: SettingWithCopyWarning: \n",
      "A value is trying to be set on a copy of a slice from a DataFrame\n",
      "\n",
      "See the caveats in the documentation: https://pandas.pydata.org/pandas-docs/stable/user_guide/indexing.html#returning-a-view-versus-a-copy\n",
      "  population.rename(columns={'Unnamed: 0': 'Year'}, inplace=True)\n",
      "C:\\Users\\peiyaozhao\\AppData\\Local\\Temp\\ipykernel_8528\\2401997845.py:22: SettingWithCopyWarning: \n",
      "A value is trying to be set on a copy of a slice from a DataFrame\n",
      "\n",
      "See the caveats in the documentation: https://pandas.pydata.org/pandas-docs/stable/user_guide/indexing.html#returning-a-view-versus-a-copy\n",
      "  population.iloc[0, 0] = extract_year_from_filename(file_path)\n",
      "C:\\Users\\peiyaozhao\\AppData\\Local\\Temp\\ipykernel_8528\\2401997845.py:21: SettingWithCopyWarning: \n",
      "A value is trying to be set on a copy of a slice from a DataFrame\n",
      "\n",
      "See the caveats in the documentation: https://pandas.pydata.org/pandas-docs/stable/user_guide/indexing.html#returning-a-view-versus-a-copy\n",
      "  population.rename(columns={'Unnamed: 0': 'Year'}, inplace=True)\n",
      "C:\\Users\\peiyaozhao\\AppData\\Local\\Temp\\ipykernel_8528\\2401997845.py:22: SettingWithCopyWarning: \n",
      "A value is trying to be set on a copy of a slice from a DataFrame\n",
      "\n",
      "See the caveats in the documentation: https://pandas.pydata.org/pandas-docs/stable/user_guide/indexing.html#returning-a-view-versus-a-copy\n",
      "  population.iloc[0, 0] = extract_year_from_filename(file_path)\n"
     ]
    }
   ],
   "source": [
    "def extract_year_from_filename(file_path):\n",
    "    # Extract the year from the file name\n",
    "    # Assuming the file name has the format ACSDP5Y<Year>.DP05-...\n",
    "    year = file_path.split('ACSDP5Y')[1][:4]\n",
    "    return int(year)\n",
    "\n",
    "def process_population_file(file_path):\n",
    "    # Read the DataFrame from the file\n",
    "    dataframe = pd.read_excel(file_path, sheet_name='Data')\n",
    "\n",
    "    # Use iloc to extract the specified row\n",
    "    row = dataframe.iloc[2:3]\n",
    "    \n",
    "    # Extract relevant columns\n",
    "    population = row[['Unnamed: 0', 'Connecticut', 'Bridgeport-Stamford-Norwalk, CT Metro Area', 'Hartford-West Hartford-East Hartford, CT Metro Area','New Haven-Milford, CT Metro Area']]\n",
    "    \n",
    "    # Reset index and set Year\n",
    "    population.reset_index(drop=True, inplace=True)\n",
    "    \n",
    "    # Extract year from the file name and set it as 'Year'\n",
    "    population.rename(columns={'Unnamed: 0': 'Year'}, inplace=True)\n",
    "    population.iloc[0, 0] = extract_year_from_filename(file_path)\n",
    "    \n",
    "    return population\n",
    "\n",
    "def process_population_files(file_paths):\n",
    "    # Initialize an empty DataFrame to store the results\n",
    "    combined_df = pd.DataFrame()\n",
    "\n",
    "    # Process each file and concatenate the results\n",
    "    for file_path in file_paths:\n",
    "        pop = process_population_file(file_path)\n",
    "        combined_df = pd.concat([combined_df, pop], ignore_index=True)\n",
    "\n",
    "    return combined_df\n",
    "\n",
    "# Example usage\n",
    "file_paths_1 = [\n",
    "    'C:/Users/peiyaozhao/Documents/GitHub/tracking-msa-ghg/data/raw/ACSDP5Y2017.DP05-2023-12-04T212217.xlsx',\n",
    "    'C:/Users/peiyaozhao/Documents/GitHub/tracking-msa-ghg/data/raw/ACSDP5Y2015.DP05-2023-12-04T212436.xlsx',  \n",
    "    # Add more file paths as needed\n",
    "]\n",
    "\n",
    "result_population_1 = process_population_files(file_paths_1)\n",
    "result_population_1\n",
    "\n",
    "result_population_1 = result_population_1.rename(columns={'Hartford-West Hartford-East Hartford, CT Metro Area': 'Hartford-East Hartford-Middletown, CT Metro Area'})"
   ]
  },
  {
   "cell_type": "code",
   "execution_count": 4,
   "id": "28c2cbc9-3389-4e2e-9884-b1ad7dc0e012",
   "metadata": {
    "tags": []
   },
   "outputs": [
    {
     "data": {
      "text/html": [
       "<div>\n",
       "<style scoped>\n",
       "    .dataframe tbody tr th:only-of-type {\n",
       "        vertical-align: middle;\n",
       "    }\n",
       "\n",
       "    .dataframe tbody tr th {\n",
       "        vertical-align: top;\n",
       "    }\n",
       "\n",
       "    .dataframe thead th {\n",
       "        text-align: right;\n",
       "    }\n",
       "</style>\n",
       "<table border=\"1\" class=\"dataframe\">\n",
       "  <thead>\n",
       "    <tr style=\"text-align: right;\">\n",
       "      <th></th>\n",
       "      <th>Year</th>\n",
       "      <th>Connecticut</th>\n",
       "      <th>Bridgeport-Stamford-Norwalk, CT Metro Area</th>\n",
       "      <th>Hartford-East Hartford-Middletown, CT Metro Area</th>\n",
       "      <th>New Haven-Milford, CT Metro Area</th>\n",
       "    </tr>\n",
       "  </thead>\n",
       "  <tbody>\n",
       "    <tr>\n",
       "      <th>0</th>\n",
       "      <td>2021</td>\n",
       "      <td>3,605,330</td>\n",
       "      <td>956,446</td>\n",
       "      <td>1,213,324</td>\n",
       "      <td>864,751</td>\n",
       "    </tr>\n",
       "    <tr>\n",
       "      <th>1</th>\n",
       "      <td>2020</td>\n",
       "      <td>3,570,549</td>\n",
       "      <td>944,306</td>\n",
       "      <td>1,205,842</td>\n",
       "      <td>855,733</td>\n",
       "    </tr>\n",
       "    <tr>\n",
       "      <th>2</th>\n",
       "      <td>2017</td>\n",
       "      <td>3,594,478</td>\n",
       "      <td>947,328</td>\n",
       "      <td>1,213,123</td>\n",
       "      <td>862,127</td>\n",
       "    </tr>\n",
       "    <tr>\n",
       "      <th>3</th>\n",
       "      <td>2015</td>\n",
       "      <td>3,593,222</td>\n",
       "      <td>939,983</td>\n",
       "      <td>1,214,056</td>\n",
       "      <td>862,224</td>\n",
       "    </tr>\n",
       "  </tbody>\n",
       "</table>\n",
       "</div>"
      ],
      "text/plain": [
       "   Year Connecticut Bridgeport-Stamford-Norwalk, CT Metro Area  \\\n",
       "0  2021   3,605,330                                    956,446   \n",
       "1  2020   3,570,549                                    944,306   \n",
       "2  2017   3,594,478                                    947,328   \n",
       "3  2015   3,593,222                                    939,983   \n",
       "\n",
       "  Hartford-East Hartford-Middletown, CT Metro Area  \\\n",
       "0                                        1,213,324   \n",
       "1                                        1,205,842   \n",
       "2                                        1,213,123   \n",
       "3                                        1,214,056   \n",
       "\n",
       "  New Haven-Milford, CT Metro Area  \n",
       "0                          864,751  \n",
       "1                          855,733  \n",
       "2                          862,127  \n",
       "3                          862,224  "
      ]
     },
     "execution_count": 4,
     "metadata": {},
     "output_type": "execute_result"
    }
   ],
   "source": [
    "df_combined = pd.concat([result_population, result_population_1], ignore_index=True)\n",
    "df_combined\n",
    "# Convert specific columns to numeric values\n"
   ]
  },
  {
   "cell_type": "code",
   "execution_count": 5,
   "id": "44f0ebe4-2d6d-4e67-8336-b9a8873cef19",
   "metadata": {
    "tags": []
   },
   "outputs": [],
   "source": [
    "df_combined.to_csv('C:/Users/peiyaozhao/Documents/GitHub/tracking-msa-ghg/data/tidy/population.csv')"
   ]
  },
  {
   "cell_type": "code",
   "execution_count": 6,
   "id": "d9dbc429-f4bb-442a-8bc8-ae98f0056bb8",
   "metadata": {
    "tags": []
   },
   "outputs": [],
   "source": [
    "df_combined['Bridgeport-Stamford-Norwalk, CT Metro Area'] = pd.to_numeric(df_combined['Bridgeport-Stamford-Norwalk, CT Metro Area'].str.replace(',', ''))\n",
    "df_combined['Hartford-East Hartford-Middletown, CT Metro Area'] = pd.to_numeric(df_combined['Hartford-East Hartford-Middletown, CT Metro Area'].str.replace(',', ''))\n",
    "df_combined['New Haven-Milford, CT Metro Area'] = pd.to_numeric(df_combined['New Haven-Milford, CT Metro Area'].str.replace(',', ''))\n",
    "df_combined['Connecticut'] = pd.to_numeric(df_combined['Connecticut'].str.replace(',', ''))\n",
    "\n",
    "df_combined['Bridgeport-Stamford-Norwalk, CT Metro Area'] = pd.to_numeric(df_combined['Bridgeport-Stamford-Norwalk, CT Metro Area'])\n",
    "df_combined['Hartford-East Hartford-Middletown, CT Metro Area'] = pd.to_numeric(df_combined['Hartford-East Hartford-Middletown, CT Metro Area'])\n",
    "df_combined['New Haven-Milford, CT Metro Area'] = pd.to_numeric(df_combined['New Haven-Milford, CT Metro Area'])\n",
    "df_combined['Connecticut'] = pd.to_numeric(df_combined['Connecticut'])"
   ]
  },
  {
   "cell_type": "code",
   "execution_count": 7,
   "id": "64128a1f-cc78-497f-baa6-8db471ea588c",
   "metadata": {},
   "outputs": [
    {
     "data": {
      "text/html": [
       "<div>\n",
       "<style scoped>\n",
       "    .dataframe tbody tr th:only-of-type {\n",
       "        vertical-align: middle;\n",
       "    }\n",
       "\n",
       "    .dataframe tbody tr th {\n",
       "        vertical-align: top;\n",
       "    }\n",
       "\n",
       "    .dataframe thead th {\n",
       "        text-align: right;\n",
       "    }\n",
       "</style>\n",
       "<table border=\"1\" class=\"dataframe\">\n",
       "  <thead>\n",
       "    <tr style=\"text-align: right;\">\n",
       "      <th></th>\n",
       "      <th>Year</th>\n",
       "      <th>Connecticut</th>\n",
       "      <th>Bridgeport-Stamford-Norwalk, CT Metro Area</th>\n",
       "      <th>Hartford-East Hartford-Middletown, CT Metro Area</th>\n",
       "      <th>New Haven-Milford, CT Metro Area</th>\n",
       "    </tr>\n",
       "  </thead>\n",
       "  <tbody>\n",
       "    <tr>\n",
       "      <th>0</th>\n",
       "      <td>2021</td>\n",
       "      <td>3605330</td>\n",
       "      <td>956446</td>\n",
       "      <td>1213324</td>\n",
       "      <td>864751</td>\n",
       "    </tr>\n",
       "    <tr>\n",
       "      <th>1</th>\n",
       "      <td>2020</td>\n",
       "      <td>3570549</td>\n",
       "      <td>944306</td>\n",
       "      <td>1205842</td>\n",
       "      <td>855733</td>\n",
       "    </tr>\n",
       "    <tr>\n",
       "      <th>2</th>\n",
       "      <td>2017</td>\n",
       "      <td>3594478</td>\n",
       "      <td>947328</td>\n",
       "      <td>1213123</td>\n",
       "      <td>862127</td>\n",
       "    </tr>\n",
       "    <tr>\n",
       "      <th>3</th>\n",
       "      <td>2015</td>\n",
       "      <td>3593222</td>\n",
       "      <td>939983</td>\n",
       "      <td>1214056</td>\n",
       "      <td>862224</td>\n",
       "    </tr>\n",
       "  </tbody>\n",
       "</table>\n",
       "</div>"
      ],
      "text/plain": [
       "   Year  Connecticut  Bridgeport-Stamford-Norwalk, CT Metro Area  \\\n",
       "0  2021      3605330                                      956446   \n",
       "1  2020      3570549                                      944306   \n",
       "2  2017      3594478                                      947328   \n",
       "3  2015      3593222                                      939983   \n",
       "\n",
       "   Hartford-East Hartford-Middletown, CT Metro Area  \\\n",
       "0                                           1213324   \n",
       "1                                           1205842   \n",
       "2                                           1213123   \n",
       "3                                           1214056   \n",
       "\n",
       "   New Haven-Milford, CT Metro Area  \n",
       "0                            864751  \n",
       "1                            855733  \n",
       "2                            862127  \n",
       "3                            862224  "
      ]
     },
     "execution_count": 7,
     "metadata": {},
     "output_type": "execute_result"
    }
   ],
   "source": [
    "df_combined"
   ]
  },
  {
   "cell_type": "code",
   "execution_count": 8,
   "id": "808a31ea-bb69-40b4-a75c-83ee109c1f6d",
   "metadata": {
    "tags": []
   },
   "outputs": [],
   "source": [
    "#add the population of the five towns to the corresponding MSA\n",
    "town_population_2021 = pd.read_excel('C:/Users/peiyaozhao/NARS Dropbox/Projects/CT-GHG-Inventories/Data/Raw/ACSDP5Y2021.DP05-2024-01-08T175101.xlsx', sheet_name ='Data')\n",
    "town_population_2020 = pd.read_excel('C:/Users/peiyaozhao/NARS Dropbox/Projects/CT-GHG-Inventories/Data/Raw/ACSDP5Y2020.DP05-2024-01-08T175144.xlsx', sheet_name ='Data')\n",
    "town_population_2017 = pd.read_excel('C:/Users/peiyaozhao/NARS Dropbox/Projects/CT-GHG-Inventories/Data/Raw/ACSDP5Y2017.DP05-2024-01-08T175219.xlsx', sheet_name ='Data')\n",
    "town_population_2015 = pd.read_excel('C:/Users/peiyaozhao/NARS Dropbox/Projects/CT-GHG-Inventories/Data/Raw/ACSDP5Y2015.DP05-2024-01-08T182624.xlsx', sheet_name ='Data')"
   ]
  },
  {
   "cell_type": "code",
   "execution_count": 9,
   "id": "12271f0b-ea54-4170-9e43-bb6a14b9593e",
   "metadata": {
    "tags": []
   },
   "outputs": [
    {
     "data": {
      "text/plain": [
       "Bridgewater town, Litchfield County, Connecticut     1,824\n",
       "New Milford town, Litchfield County, Connecticut    28,074\n",
       "Colchester town, New London County, Connecticut     15,552\n",
       "Lyme town, New London County, Connecticut            2,430\n",
       "Old Lyme town, New London County, Connecticut        7,582\n",
       "Name: 2, dtype: object"
      ]
     },
     "execution_count": 9,
     "metadata": {},
     "output_type": "execute_result"
    }
   ],
   "source": [
    "town_population_2021\n",
    "town_population_2021\n",
    "selected_2021 = town_population_2021.loc[2, ['Bridgewater town, Litchfield County, Connecticut', 'New Milford town, Litchfield County, Connecticut', 'Colchester town, New London County, Connecticut',\n",
    "                                                             'Lyme town, New London County, Connecticut','Old Lyme town, New London County, Connecticut']]\n",
    "selected_2021"
   ]
  },
  {
   "cell_type": "code",
   "execution_count": 10,
   "id": "366beb60-fb7e-48c0-aaa7-d2511fff4803",
   "metadata": {
    "tags": []
   },
   "outputs": [
    {
     "data": {
      "text/plain": [
       "Bridgewater town, Litchfield County, Connecticut     1,782\n",
       "New Milford town, Litchfield County, Connecticut    26,893\n",
       "Colchester town, New London County, Connecticut     15,885\n",
       "Lyme town, New London County, Connecticut            2,425\n",
       "Old Lyme town, New London County, Connecticut        7,371\n",
       "Name: 2, dtype: object"
      ]
     },
     "execution_count": 10,
     "metadata": {},
     "output_type": "execute_result"
    }
   ],
   "source": [
    "selected_2020 = town_population_2020.loc[2, ['Bridgewater town, Litchfield County, Connecticut', 'New Milford town, Litchfield County, Connecticut', 'Colchester town, New London County, Connecticut',\n",
    "                                                             'Lyme town, New London County, Connecticut','Old Lyme town, New London County, Connecticut']]\n",
    "selected_2020"
   ]
  },
  {
   "cell_type": "code",
   "execution_count": 11,
   "id": "1005f7cc-cbb7-4998-beaa-3b4d34b2c11e",
   "metadata": {
    "tags": []
   },
   "outputs": [
    {
     "data": {
      "text/plain": [
       "Bridgewater town, Litchfield County, Connecticut     1,681\n",
       "New Milford town, Litchfield County, Connecticut    27,380\n",
       "Colchester town, New London County, Connecticut     16,015\n",
       "Lyme town, New London County, Connecticut            2,423\n",
       "Old Lyme town, New London County, Connecticut        7,494\n",
       "Name: 2, dtype: object"
      ]
     },
     "execution_count": 11,
     "metadata": {},
     "output_type": "execute_result"
    }
   ],
   "source": [
    "selected_2017 = town_population_2017.loc[2, ['Bridgewater town, Litchfield County, Connecticut', 'New Milford town, Litchfield County, Connecticut', 'Colchester town, New London County, Connecticut',\n",
    "                                                             'Lyme town, New London County, Connecticut','Old Lyme town, New London County, Connecticut']]\n",
    "selected_2017"
   ]
  },
  {
   "cell_type": "code",
   "execution_count": 12,
   "id": "e0ac9620-6403-4a0a-beba-6c9df8fca69b",
   "metadata": {
    "tags": []
   },
   "outputs": [
    {
     "data": {
      "text/plain": [
       "Bridgewater town, Litchfield County, Connecticut     1,679\n",
       "New Milford town, Litchfield County, Connecticut    27,670\n",
       "Colchester town, New London County, Connecticut     16,142\n",
       "Lyme town, New London County, Connecticut            2,454\n",
       "Old Lyme town, New London County, Connecticut        7,565\n",
       "Name: 2, dtype: object"
      ]
     },
     "execution_count": 12,
     "metadata": {},
     "output_type": "execute_result"
    }
   ],
   "source": [
    "selected_2015 = town_population_2015.loc[2, ['Bridgewater town, Litchfield County, Connecticut', 'New Milford town, Litchfield County, Connecticut', 'Colchester town, New London County, Connecticut',\n",
    "                                                             'Lyme town, New London County, Connecticut','Old Lyme town, New London County, Connecticut']]\n",
    "selected_2015"
   ]
  },
  {
   "cell_type": "code",
   "execution_count": 13,
   "id": "61c61fd6-daaf-442e-8c01-49b310592251",
   "metadata": {
    "tags": []
   },
   "outputs": [],
   "source": [
    "df = pd.concat([selected_2021, selected_2020, selected_2017, selected_2015], axis=1)"
   ]
  },
  {
   "cell_type": "code",
   "execution_count": 14,
   "id": "79415044-4f9d-48ef-8462-146e89c1d67f",
   "metadata": {
    "tags": []
   },
   "outputs": [],
   "source": [
    "df = df.transpose()\n"
   ]
  },
  {
   "cell_type": "code",
   "execution_count": 15,
   "id": "8eef3900-c278-46c0-9c91-f8ea0bd503af",
   "metadata": {
    "tags": []
   },
   "outputs": [],
   "source": [
    "new_index = ['2021', '2020', '2017', '2015']\n",
    "df = df.set_index(pd.Index(new_index))"
   ]
  },
  {
   "cell_type": "code",
   "execution_count": 16,
   "id": "cb72e026-4086-4cc7-9bd2-7714e65d996f",
   "metadata": {
    "tags": []
   },
   "outputs": [
    {
     "data": {
      "text/html": [
       "<div>\n",
       "<style scoped>\n",
       "    .dataframe tbody tr th:only-of-type {\n",
       "        vertical-align: middle;\n",
       "    }\n",
       "\n",
       "    .dataframe tbody tr th {\n",
       "        vertical-align: top;\n",
       "    }\n",
       "\n",
       "    .dataframe thead th {\n",
       "        text-align: right;\n",
       "    }\n",
       "</style>\n",
       "<table border=\"1\" class=\"dataframe\">\n",
       "  <thead>\n",
       "    <tr style=\"text-align: right;\">\n",
       "      <th></th>\n",
       "      <th>Bridgewater town, Litchfield County, Connecticut</th>\n",
       "      <th>New Milford town, Litchfield County, Connecticut</th>\n",
       "      <th>Colchester town, New London County, Connecticut</th>\n",
       "      <th>Lyme town, New London County, Connecticut</th>\n",
       "      <th>Old Lyme town, New London County, Connecticut</th>\n",
       "    </tr>\n",
       "  </thead>\n",
       "  <tbody>\n",
       "    <tr>\n",
       "      <th>2021</th>\n",
       "      <td>1,824</td>\n",
       "      <td>28,074</td>\n",
       "      <td>15,552</td>\n",
       "      <td>2,430</td>\n",
       "      <td>7,582</td>\n",
       "    </tr>\n",
       "    <tr>\n",
       "      <th>2020</th>\n",
       "      <td>1,782</td>\n",
       "      <td>26,893</td>\n",
       "      <td>15,885</td>\n",
       "      <td>2,425</td>\n",
       "      <td>7,371</td>\n",
       "    </tr>\n",
       "    <tr>\n",
       "      <th>2017</th>\n",
       "      <td>1,681</td>\n",
       "      <td>27,380</td>\n",
       "      <td>16,015</td>\n",
       "      <td>2,423</td>\n",
       "      <td>7,494</td>\n",
       "    </tr>\n",
       "    <tr>\n",
       "      <th>2015</th>\n",
       "      <td>1,679</td>\n",
       "      <td>27,670</td>\n",
       "      <td>16,142</td>\n",
       "      <td>2,454</td>\n",
       "      <td>7,565</td>\n",
       "    </tr>\n",
       "  </tbody>\n",
       "</table>\n",
       "</div>"
      ],
      "text/plain": [
       "     Bridgewater town, Litchfield County, Connecticut  \\\n",
       "2021                                            1,824   \n",
       "2020                                            1,782   \n",
       "2017                                            1,681   \n",
       "2015                                            1,679   \n",
       "\n",
       "     New Milford town, Litchfield County, Connecticut  \\\n",
       "2021                                           28,074   \n",
       "2020                                           26,893   \n",
       "2017                                           27,380   \n",
       "2015                                           27,670   \n",
       "\n",
       "     Colchester town, New London County, Connecticut  \\\n",
       "2021                                          15,552   \n",
       "2020                                          15,885   \n",
       "2017                                          16,015   \n",
       "2015                                          16,142   \n",
       "\n",
       "     Lyme town, New London County, Connecticut  \\\n",
       "2021                                     2,430   \n",
       "2020                                     2,425   \n",
       "2017                                     2,423   \n",
       "2015                                     2,454   \n",
       "\n",
       "     Old Lyme town, New London County, Connecticut  \n",
       "2021                                         7,582  \n",
       "2020                                         7,371  \n",
       "2017                                         7,494  \n",
       "2015                                         7,565  "
      ]
     },
     "execution_count": 16,
     "metadata": {},
     "output_type": "execute_result"
    }
   ],
   "source": [
    "df"
   ]
  },
  {
   "cell_type": "code",
   "execution_count": 17,
   "id": "92ac8280-a8f4-4b91-ab59-7b6b1df237e2",
   "metadata": {
    "tags": []
   },
   "outputs": [
    {
     "data": {
      "text/html": [
       "<div>\n",
       "<style scoped>\n",
       "    .dataframe tbody tr th:only-of-type {\n",
       "        vertical-align: middle;\n",
       "    }\n",
       "\n",
       "    .dataframe tbody tr th {\n",
       "        vertical-align: top;\n",
       "    }\n",
       "\n",
       "    .dataframe thead th {\n",
       "        text-align: right;\n",
       "    }\n",
       "</style>\n",
       "<table border=\"1\" class=\"dataframe\">\n",
       "  <thead>\n",
       "    <tr style=\"text-align: right;\">\n",
       "      <th></th>\n",
       "      <th>Bridgewater town, Litchfield County, Connecticut</th>\n",
       "      <th>New Milford town, Litchfield County, Connecticut</th>\n",
       "      <th>Colchester town, New London County, Connecticut</th>\n",
       "      <th>Lyme town, New London County, Connecticut</th>\n",
       "      <th>Old Lyme town, New London County, Connecticut</th>\n",
       "    </tr>\n",
       "  </thead>\n",
       "  <tbody>\n",
       "    <tr>\n",
       "      <th>2021</th>\n",
       "      <td>1824</td>\n",
       "      <td>28074</td>\n",
       "      <td>15552</td>\n",
       "      <td>2430</td>\n",
       "      <td>7582</td>\n",
       "    </tr>\n",
       "    <tr>\n",
       "      <th>2020</th>\n",
       "      <td>1782</td>\n",
       "      <td>26893</td>\n",
       "      <td>15885</td>\n",
       "      <td>2425</td>\n",
       "      <td>7371</td>\n",
       "    </tr>\n",
       "    <tr>\n",
       "      <th>2017</th>\n",
       "      <td>1681</td>\n",
       "      <td>27380</td>\n",
       "      <td>16015</td>\n",
       "      <td>2423</td>\n",
       "      <td>7494</td>\n",
       "    </tr>\n",
       "    <tr>\n",
       "      <th>2015</th>\n",
       "      <td>1679</td>\n",
       "      <td>27670</td>\n",
       "      <td>16142</td>\n",
       "      <td>2454</td>\n",
       "      <td>7565</td>\n",
       "    </tr>\n",
       "  </tbody>\n",
       "</table>\n",
       "</div>"
      ],
      "text/plain": [
       "      Bridgewater town, Litchfield County, Connecticut  \\\n",
       "2021                                              1824   \n",
       "2020                                              1782   \n",
       "2017                                              1681   \n",
       "2015                                              1679   \n",
       "\n",
       "      New Milford town, Litchfield County, Connecticut  \\\n",
       "2021                                             28074   \n",
       "2020                                             26893   \n",
       "2017                                             27380   \n",
       "2015                                             27670   \n",
       "\n",
       "      Colchester town, New London County, Connecticut  \\\n",
       "2021                                            15552   \n",
       "2020                                            15885   \n",
       "2017                                            16015   \n",
       "2015                                            16142   \n",
       "\n",
       "      Lyme town, New London County, Connecticut  \\\n",
       "2021                                       2430   \n",
       "2020                                       2425   \n",
       "2017                                       2423   \n",
       "2015                                       2454   \n",
       "\n",
       "      Old Lyme town, New London County, Connecticut  \n",
       "2021                                           7582  \n",
       "2020                                           7371  \n",
       "2017                                           7494  \n",
       "2015                                           7565  "
      ]
     },
     "execution_count": 17,
     "metadata": {},
     "output_type": "execute_result"
    }
   ],
   "source": [
    "df = df.apply(lambda x: pd.to_numeric(x.str.replace(',', ''), errors='coerce'))\n",
    "df"
   ]
  },
  {
   "cell_type": "code",
   "execution_count": 18,
   "id": "c3f4dfd4-e546-476b-9e58-c7357e9fc6f8",
   "metadata": {
    "tags": []
   },
   "outputs": [],
   "source": [
    "df['Litchfield']=df['Bridgewater town, Litchfield County, Connecticut']+df['New Milford town, Litchfield County, Connecticut']\n",
    "df['New London']=df['Colchester town, New London County, Connecticut']+df['Lyme town, New London County, Connecticut']+df['Old Lyme town, New London County, Connecticut']"
   ]
  },
  {
   "cell_type": "code",
   "execution_count": 19,
   "id": "cdb0ff70-c060-4fb3-9236-037a7871d24b",
   "metadata": {
    "tags": []
   },
   "outputs": [
    {
     "data": {
      "text/html": [
       "<div>\n",
       "<style scoped>\n",
       "    .dataframe tbody tr th:only-of-type {\n",
       "        vertical-align: middle;\n",
       "    }\n",
       "\n",
       "    .dataframe tbody tr th {\n",
       "        vertical-align: top;\n",
       "    }\n",
       "\n",
       "    .dataframe thead th {\n",
       "        text-align: right;\n",
       "    }\n",
       "</style>\n",
       "<table border=\"1\" class=\"dataframe\">\n",
       "  <thead>\n",
       "    <tr style=\"text-align: right;\">\n",
       "      <th></th>\n",
       "      <th>Bridgewater town, Litchfield County, Connecticut</th>\n",
       "      <th>New Milford town, Litchfield County, Connecticut</th>\n",
       "      <th>Colchester town, New London County, Connecticut</th>\n",
       "      <th>Lyme town, New London County, Connecticut</th>\n",
       "      <th>Old Lyme town, New London County, Connecticut</th>\n",
       "      <th>Litchfield</th>\n",
       "      <th>New London</th>\n",
       "    </tr>\n",
       "  </thead>\n",
       "  <tbody>\n",
       "    <tr>\n",
       "      <th>2021</th>\n",
       "      <td>1824</td>\n",
       "      <td>28074</td>\n",
       "      <td>15552</td>\n",
       "      <td>2430</td>\n",
       "      <td>7582</td>\n",
       "      <td>29898</td>\n",
       "      <td>25564</td>\n",
       "    </tr>\n",
       "    <tr>\n",
       "      <th>2020</th>\n",
       "      <td>1782</td>\n",
       "      <td>26893</td>\n",
       "      <td>15885</td>\n",
       "      <td>2425</td>\n",
       "      <td>7371</td>\n",
       "      <td>28675</td>\n",
       "      <td>25681</td>\n",
       "    </tr>\n",
       "    <tr>\n",
       "      <th>2017</th>\n",
       "      <td>1681</td>\n",
       "      <td>27380</td>\n",
       "      <td>16015</td>\n",
       "      <td>2423</td>\n",
       "      <td>7494</td>\n",
       "      <td>29061</td>\n",
       "      <td>25932</td>\n",
       "    </tr>\n",
       "    <tr>\n",
       "      <th>2015</th>\n",
       "      <td>1679</td>\n",
       "      <td>27670</td>\n",
       "      <td>16142</td>\n",
       "      <td>2454</td>\n",
       "      <td>7565</td>\n",
       "      <td>29349</td>\n",
       "      <td>26161</td>\n",
       "    </tr>\n",
       "  </tbody>\n",
       "</table>\n",
       "</div>"
      ],
      "text/plain": [
       "      Bridgewater town, Litchfield County, Connecticut  \\\n",
       "2021                                              1824   \n",
       "2020                                              1782   \n",
       "2017                                              1681   \n",
       "2015                                              1679   \n",
       "\n",
       "      New Milford town, Litchfield County, Connecticut  \\\n",
       "2021                                             28074   \n",
       "2020                                             26893   \n",
       "2017                                             27380   \n",
       "2015                                             27670   \n",
       "\n",
       "      Colchester town, New London County, Connecticut  \\\n",
       "2021                                            15552   \n",
       "2020                                            15885   \n",
       "2017                                            16015   \n",
       "2015                                            16142   \n",
       "\n",
       "      Lyme town, New London County, Connecticut  \\\n",
       "2021                                       2430   \n",
       "2020                                       2425   \n",
       "2017                                       2423   \n",
       "2015                                       2454   \n",
       "\n",
       "      Old Lyme town, New London County, Connecticut  Litchfield  New London  \n",
       "2021                                           7582       29898       25564  \n",
       "2020                                           7371       28675       25681  \n",
       "2017                                           7494       29061       25932  \n",
       "2015                                           7565       29349       26161  "
      ]
     },
     "execution_count": 19,
     "metadata": {},
     "output_type": "execute_result"
    }
   ],
   "source": [
    "df\n"
   ]
  },
  {
   "cell_type": "code",
   "execution_count": 20,
   "id": "b0c5bf25-7b21-4110-a8ae-b95a2e05144d",
   "metadata": {
    "tags": []
   },
   "outputs": [
    {
     "data": {
      "text/html": [
       "<div>\n",
       "<style scoped>\n",
       "    .dataframe tbody tr th:only-of-type {\n",
       "        vertical-align: middle;\n",
       "    }\n",
       "\n",
       "    .dataframe tbody tr th {\n",
       "        vertical-align: top;\n",
       "    }\n",
       "\n",
       "    .dataframe thead th {\n",
       "        text-align: right;\n",
       "    }\n",
       "</style>\n",
       "<table border=\"1\" class=\"dataframe\">\n",
       "  <thead>\n",
       "    <tr style=\"text-align: right;\">\n",
       "      <th></th>\n",
       "      <th>Year</th>\n",
       "      <th>Bridgewater town, Litchfield County, Connecticut</th>\n",
       "      <th>New Milford town, Litchfield County, Connecticut</th>\n",
       "      <th>Colchester town, New London County, Connecticut</th>\n",
       "      <th>Lyme town, New London County, Connecticut</th>\n",
       "      <th>Old Lyme town, New London County, Connecticut</th>\n",
       "      <th>Litchfield</th>\n",
       "      <th>New London</th>\n",
       "    </tr>\n",
       "  </thead>\n",
       "  <tbody>\n",
       "    <tr>\n",
       "      <th>0</th>\n",
       "      <td>2021</td>\n",
       "      <td>1824</td>\n",
       "      <td>28074</td>\n",
       "      <td>15552</td>\n",
       "      <td>2430</td>\n",
       "      <td>7582</td>\n",
       "      <td>29898</td>\n",
       "      <td>25564</td>\n",
       "    </tr>\n",
       "    <tr>\n",
       "      <th>1</th>\n",
       "      <td>2020</td>\n",
       "      <td>1782</td>\n",
       "      <td>26893</td>\n",
       "      <td>15885</td>\n",
       "      <td>2425</td>\n",
       "      <td>7371</td>\n",
       "      <td>28675</td>\n",
       "      <td>25681</td>\n",
       "    </tr>\n",
       "    <tr>\n",
       "      <th>2</th>\n",
       "      <td>2017</td>\n",
       "      <td>1681</td>\n",
       "      <td>27380</td>\n",
       "      <td>16015</td>\n",
       "      <td>2423</td>\n",
       "      <td>7494</td>\n",
       "      <td>29061</td>\n",
       "      <td>25932</td>\n",
       "    </tr>\n",
       "    <tr>\n",
       "      <th>3</th>\n",
       "      <td>2015</td>\n",
       "      <td>1679</td>\n",
       "      <td>27670</td>\n",
       "      <td>16142</td>\n",
       "      <td>2454</td>\n",
       "      <td>7565</td>\n",
       "      <td>29349</td>\n",
       "      <td>26161</td>\n",
       "    </tr>\n",
       "  </tbody>\n",
       "</table>\n",
       "</div>"
      ],
      "text/plain": [
       "   Year  Bridgewater town, Litchfield County, Connecticut  \\\n",
       "0  2021                                              1824   \n",
       "1  2020                                              1782   \n",
       "2  2017                                              1681   \n",
       "3  2015                                              1679   \n",
       "\n",
       "   New Milford town, Litchfield County, Connecticut  \\\n",
       "0                                             28074   \n",
       "1                                             26893   \n",
       "2                                             27380   \n",
       "3                                             27670   \n",
       "\n",
       "   Colchester town, New London County, Connecticut  \\\n",
       "0                                            15552   \n",
       "1                                            15885   \n",
       "2                                            16015   \n",
       "3                                            16142   \n",
       "\n",
       "   Lyme town, New London County, Connecticut  \\\n",
       "0                                       2430   \n",
       "1                                       2425   \n",
       "2                                       2423   \n",
       "3                                       2454   \n",
       "\n",
       "   Old Lyme town, New London County, Connecticut  Litchfield  New London  \n",
       "0                                           7582       29898       25564  \n",
       "1                                           7371       28675       25681  \n",
       "2                                           7494       29061       25932  \n",
       "3                                           7565       29349       26161  "
      ]
     },
     "execution_count": 20,
     "metadata": {},
     "output_type": "execute_result"
    }
   ],
   "source": [
    "# Move the index name to an individual column\n",
    "df.reset_index(inplace=True)\n",
    "\n",
    "# Rename the columns\n",
    "df.columns = ['Year'] + list(df.columns[1:])\n",
    "\n",
    "# Sort the DataFrame by the 'Year' column without flipping rows\n",
    "df.sort_values(by='Year', inplace=True, ascending=False)  # Set ascending to True if you want to sort in ascending order\n",
    "\n",
    "# Reset the index\n",
    "df.reset_index(drop=True, inplace=True)\n",
    "df"
   ]
  },
  {
   "cell_type": "code",
   "execution_count": 21,
   "id": "b5c627da-f1d2-49eb-9198-bcbc83eab5e5",
   "metadata": {},
   "outputs": [
    {
     "data": {
      "text/html": [
       "<div>\n",
       "<style scoped>\n",
       "    .dataframe tbody tr th:only-of-type {\n",
       "        vertical-align: middle;\n",
       "    }\n",
       "\n",
       "    .dataframe tbody tr th {\n",
       "        vertical-align: top;\n",
       "    }\n",
       "\n",
       "    .dataframe thead th {\n",
       "        text-align: right;\n",
       "    }\n",
       "</style>\n",
       "<table border=\"1\" class=\"dataframe\">\n",
       "  <thead>\n",
       "    <tr style=\"text-align: right;\">\n",
       "      <th></th>\n",
       "      <th>Year</th>\n",
       "      <th>Connecticut</th>\n",
       "      <th>Bridgeport-Stamford-Norwalk, CT Metro Area</th>\n",
       "      <th>Hartford-East Hartford-Middletown, CT Metro Area</th>\n",
       "      <th>New Haven-Milford, CT Metro Area</th>\n",
       "    </tr>\n",
       "  </thead>\n",
       "  <tbody>\n",
       "    <tr>\n",
       "      <th>0</th>\n",
       "      <td>2021</td>\n",
       "      <td>3605330</td>\n",
       "      <td>956446</td>\n",
       "      <td>1213324</td>\n",
       "      <td>864751</td>\n",
       "    </tr>\n",
       "    <tr>\n",
       "      <th>1</th>\n",
       "      <td>2020</td>\n",
       "      <td>3570549</td>\n",
       "      <td>944306</td>\n",
       "      <td>1205842</td>\n",
       "      <td>855733</td>\n",
       "    </tr>\n",
       "    <tr>\n",
       "      <th>2</th>\n",
       "      <td>2017</td>\n",
       "      <td>3594478</td>\n",
       "      <td>947328</td>\n",
       "      <td>1213123</td>\n",
       "      <td>862127</td>\n",
       "    </tr>\n",
       "    <tr>\n",
       "      <th>3</th>\n",
       "      <td>2015</td>\n",
       "      <td>3593222</td>\n",
       "      <td>939983</td>\n",
       "      <td>1214056</td>\n",
       "      <td>862224</td>\n",
       "    </tr>\n",
       "  </tbody>\n",
       "</table>\n",
       "</div>"
      ],
      "text/plain": [
       "   Year  Connecticut  Bridgeport-Stamford-Norwalk, CT Metro Area  \\\n",
       "0  2021      3605330                                      956446   \n",
       "1  2020      3570549                                      944306   \n",
       "2  2017      3594478                                      947328   \n",
       "3  2015      3593222                                      939983   \n",
       "\n",
       "   Hartford-East Hartford-Middletown, CT Metro Area  \\\n",
       "0                                           1213324   \n",
       "1                                           1205842   \n",
       "2                                           1213123   \n",
       "3                                           1214056   \n",
       "\n",
       "   New Haven-Milford, CT Metro Area  \n",
       "0                            864751  \n",
       "1                            855733  \n",
       "2                            862127  \n",
       "3                            862224  "
      ]
     },
     "execution_count": 21,
     "metadata": {},
     "output_type": "execute_result"
    }
   ],
   "source": [
    "df_combined"
   ]
  },
  {
   "cell_type": "code",
   "execution_count": 22,
   "id": "ae6f3017-a7e7-4838-84bb-463c151dae70",
   "metadata": {
    "tags": []
   },
   "outputs": [],
   "source": [
    "#including the number of other five towns\n",
    "df_combined['Bridgeport-Stamford-Norwalk, CT Metro Area'] = df_combined['Bridgeport-Stamford-Norwalk, CT Metro Area']+df['Litchfield']\n",
    "df_combined['Hartford-East Hartford-Middletown, CT Metro Area'] = df_combined['Hartford-East Hartford-Middletown, CT Metro Area']+df['New London']"
   ]
  },
  {
   "cell_type": "code",
   "execution_count": 23,
   "id": "aba6a5ea-13b8-497a-a6d3-9552be42ca86",
   "metadata": {
    "tags": []
   },
   "outputs": [],
   "source": [
    "df_combined_five = df_combined"
   ]
  },
  {
   "cell_type": "code",
   "execution_count": 24,
   "id": "e356d819-9f99-4ee3-92f8-cee556de0032",
   "metadata": {
    "tags": []
   },
   "outputs": [],
   "source": [
    "df_combined_five.to_csv('C:/Users/peiyaozhao/Documents/GitHub/tracking-msa-ghg/data/tidy/population_five_towns.csv')"
   ]
  },
  {
   "cell_type": "code",
   "execution_count": 25,
   "id": "bc0e05a4-ca88-4944-8bd1-39ef07cd9b9b",
   "metadata": {
    "tags": []
   },
   "outputs": [
    {
     "data": {
      "text/html": [
       "<div>\n",
       "<style scoped>\n",
       "    .dataframe tbody tr th:only-of-type {\n",
       "        vertical-align: middle;\n",
       "    }\n",
       "\n",
       "    .dataframe tbody tr th {\n",
       "        vertical-align: top;\n",
       "    }\n",
       "\n",
       "    .dataframe thead th {\n",
       "        text-align: right;\n",
       "    }\n",
       "</style>\n",
       "<table border=\"1\" class=\"dataframe\">\n",
       "  <thead>\n",
       "    <tr style=\"text-align: right;\">\n",
       "      <th></th>\n",
       "      <th>Year</th>\n",
       "      <th>Connecticut</th>\n",
       "      <th>Bridgeport-Stamford-Norwalk, CT Metro Area</th>\n",
       "      <th>Hartford-East Hartford-Middletown, CT Metro Area</th>\n",
       "      <th>New Haven-Milford, CT Metro Area</th>\n",
       "    </tr>\n",
       "  </thead>\n",
       "  <tbody>\n",
       "    <tr>\n",
       "      <th>0</th>\n",
       "      <td>2021</td>\n",
       "      <td>3605330</td>\n",
       "      <td>986344</td>\n",
       "      <td>1238888</td>\n",
       "      <td>864751</td>\n",
       "    </tr>\n",
       "    <tr>\n",
       "      <th>1</th>\n",
       "      <td>2020</td>\n",
       "      <td>3570549</td>\n",
       "      <td>972981</td>\n",
       "      <td>1231523</td>\n",
       "      <td>855733</td>\n",
       "    </tr>\n",
       "    <tr>\n",
       "      <th>2</th>\n",
       "      <td>2017</td>\n",
       "      <td>3594478</td>\n",
       "      <td>976389</td>\n",
       "      <td>1239055</td>\n",
       "      <td>862127</td>\n",
       "    </tr>\n",
       "    <tr>\n",
       "      <th>3</th>\n",
       "      <td>2015</td>\n",
       "      <td>3593222</td>\n",
       "      <td>969332</td>\n",
       "      <td>1240217</td>\n",
       "      <td>862224</td>\n",
       "    </tr>\n",
       "  </tbody>\n",
       "</table>\n",
       "</div>"
      ],
      "text/plain": [
       "   Year  Connecticut  Bridgeport-Stamford-Norwalk, CT Metro Area  \\\n",
       "0  2021      3605330                                      986344   \n",
       "1  2020      3570549                                      972981   \n",
       "2  2017      3594478                                      976389   \n",
       "3  2015      3593222                                      969332   \n",
       "\n",
       "   Hartford-East Hartford-Middletown, CT Metro Area  \\\n",
       "0                                           1238888   \n",
       "1                                           1231523   \n",
       "2                                           1239055   \n",
       "3                                           1240217   \n",
       "\n",
       "   New Haven-Milford, CT Metro Area  \n",
       "0                            864751  \n",
       "1                            855733  \n",
       "2                            862127  \n",
       "3                            862224  "
      ]
     },
     "execution_count": 25,
     "metadata": {},
     "output_type": "execute_result"
    }
   ],
   "source": [
    "df_combined_five"
   ]
  },
  {
   "cell_type": "code",
   "execution_count": null,
   "id": "356103ab-23e1-4bbf-b766-128ade700967",
   "metadata": {},
   "outputs": [],
   "source": []
  }
 ],
 "metadata": {
  "kernelspec": {
   "display_name": "Python 3 (ipykernel)",
   "language": "python",
   "name": "python3"
  },
  "language_info": {
   "codemirror_mode": {
    "name": "ipython",
    "version": 3
   },
   "file_extension": ".py",
   "mimetype": "text/x-python",
   "name": "python",
   "nbconvert_exporter": "python",
   "pygments_lexer": "ipython3",
   "version": "3.11.5"
  }
 },
 "nbformat": 4,
 "nbformat_minor": 5
}
