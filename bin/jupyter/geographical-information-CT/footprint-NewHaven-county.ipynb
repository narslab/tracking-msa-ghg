{
 "cells": [
  {
   "cell_type": "code",
   "execution_count": null,
   "id": "014048fe-efa7-49d0-9782-5b1763681413",
   "metadata": {
    "tags": []
   },
   "outputs": [],
   "source": [
    "import networkx as nx\n",
    "import cenpy\n",
    "import osmnx as ox\n",
    "import matplotlib.pyplot as plt\n",
    "import pandas as pd\n",
    "import geopandas as gpd\n",
    "import numpy as np\n",
    "import matplotlib\n",
    "from mpl_toolkits.axes_grid1 import make_axes_locatable\n",
    "import contextily"
   ]
  },
  {
   "cell_type": "code",
   "execution_count": null,
   "id": "a12d8b05-21ee-4d37-915e-1f4eacf83b03",
   "metadata": {
    "tags": []
   },
   "outputs": [],
   "source": [
    "ct_NewH = ['New Haven County, Connecticut, USA']\n",
    "ct_Mids = ['Middlesex County, Connecticut, USA']\n",
    "ct_Tola = ['Tolland County, Connecticut, USA']\n",
    "ct_Hart = ['Hartford County, Connecticut, USA']\n",
    "ct_Fair = ['Fairfield County, Connecticut, USA']\n",
    "          #{'city':'Los Altos Hills', 'state':'California'},\n",
    "          #'Loyola, California']\n",
    "        \n",
    "desired_building_types = ['school', 'commercial', 'retail','office','garage','hotel','church','train_station','dormitory',\n",
    "                          'mosque','warehouse','stadium','clubhouse','chapel','fire_station','university','kindergarten',\n",
    "                         'service','construction','hospital','plant_nursery','greenhouse','public','government','farm_auxiliary',\n",
    "                         'farm','boathouse','sports_centre','dome','hangar','kiosk','college','napa auto parts','cathedral',\n",
    "                         'synagogue','library','museum','convent','store','yes;commercial','university;yes','supermarket','parish_hall',\n",
    "                          'motel','roof;commercial']"
   ]
  },
  {
   "cell_type": "code",
   "execution_count": 10,
   "id": "40e58ddd-3992-43a1-945d-0bd2059d9d29",
   "metadata": {
    "tags": []
   },
   "outputs": [
    {
     "name": "stderr",
     "output_type": "stream",
     "text": [
      "C:\\Users\\peiyaozhao\\AppData\\Local\\Temp\\ipykernel_17572\\3320421492.py:3: UserWarning: The `geometries` module and `geometries_from_X` functions have been renamed the `features` module and `features_from_X` functions. Use these instead. The `geometries` module and function names are deprecated and will be removed in a future release.\n",
      "  bldgs_NewH = ox.geometries_from_place(ct_NewH, tags={'building': desired_building_types})\n"
     ]
    }
   ],
   "source": [
    "graph_NewH = ox.graph_from_place(ct_NewH, network_type='all')\n",
    "area_NewH = ox.geocode_to_gdf(ct_NewH)\n",
    "bldgs_NewH = ox.geometries_from_place(ct_NewH, tags={'building': desired_building_types})\n",
    "area = ox.geocode_to_gdf(ct_NewH)\n",
    "unique_building_types_NewH = bldgs_NewH['building'].unique()"
   ]
  },
  {
   "cell_type": "code",
   "execution_count": 11,
   "id": "db17ea31-357b-4ed4-9b37-61fe7ff63c4c",
   "metadata": {
    "tags": []
   },
   "outputs": [
    {
     "name": "stdout",
     "output_type": "stream",
     "text": [
      "commercial: 507 buildings\n",
      "garage: 358 buildings\n",
      "university: 313 buildings\n",
      "retail: 223 buildings\n",
      "school: 207 buildings\n",
      "church: 130 buildings\n",
      "greenhouse: 125 buildings\n",
      "service: 27 buildings\n",
      "office: 23 buildings\n",
      "farm_auxiliary: 17 buildings\n",
      "dormitory: 15 buildings\n",
      "hospital: 13 buildings\n",
      "train_station: 13 buildings\n",
      "hangar: 12 buildings\n",
      "stadium: 11 buildings\n",
      "warehouse: 10 buildings\n",
      "hotel: 10 buildings\n",
      "public: 9 buildings\n",
      "college: 7 buildings\n",
      "government: 6 buildings\n",
      "kindergarten: 5 buildings\n",
      "motel: 5 buildings\n",
      "chapel: 3 buildings\n",
      "library: 2 buildings\n",
      "farm: 2 buildings\n",
      "synagogue: 2 buildings\n",
      "construction: 2 buildings\n",
      "parish_hall: 1 buildings\n",
      "sports_centre: 1 buildings\n",
      "supermarket: 1 buildings\n",
      "yes;commercial: 1 buildings\n",
      "university;yes: 1 buildings\n"
     ]
    }
   ],
   "source": [
    "\n",
    "building_type_counts = bldgs_NewH['building'].value_counts()\n",
    "\n",
    "# Print the counts for each building type\n",
    "for building_type, count in building_type_counts.items():\n",
    "    print(f\"{building_type}: {count} buildings\")"
   ]
  },
  {
   "cell_type": "code",
   "execution_count": 12,
   "id": "7fdab669-14ed-45cf-aa51-622e4de9391e",
   "metadata": {
    "tags": []
   },
   "outputs": [
    {
     "data": {
      "text/plain": [
       "(-73.36682428, -72.49637711999999, 41.145569640000005, 41.668081959999995)"
      ]
     },
     "execution_count": 12,
     "metadata": {},
     "output_type": "execute_result"
    },
    {
     "data": {
      "image/png": "[encoded data removed]",
      "text/plain": [
       "<Figure size 500x500 with 1 Axes>"
      ]
     },
     "metadata": {},
     "output_type": "display_data"
    }
   ],
   "source": [
    "#BLDGS\n",
    "fig, ax = plt.subplots(figsize=(5,5))\n",
    "area.plot(ax=ax, facecolor='0.9',alpha=.3)#, edgecolor='k')\n",
    "bldgs_NewH_no_nodes = bldgs_NewH.iloc[bldgs_NewH.index.get_level_values('element_type')!='node']['geometry']\n",
    "bldgs_NewH_no_nodes.plot(ax=ax, facecolor='red', alpha=1)\n",
    "plt.tight_layout()\n",
    "ax.axis('off')\n",
    "#plt.savefig('../figures/pv-buildings.png',dpi=120)"
   ]
  },
  {
   "cell_type": "code",
   "execution_count": 13,
   "id": "1a98b56c-89b4-4a69-b932-f3be5bac3385",
   "metadata": {
    "tags": []
   },
   "outputs": [
    {
     "name": "stdout",
     "output_type": "stream",
     "text": [
      "Total Building Footprint Area: 0.00043244495621992034\n",
      "Total Building Footprint Area (Projected): 4018927.730000489\n"
     ]
    },
    {
     "name": "stderr",
     "output_type": "stream",
     "text": [
      "C:\\Users\\peiyaozhao\\AppData\\Local\\Temp\\ipykernel_17572\\1027286707.py:5: UserWarning: Geometry is in a geographic CRS. Results from 'area' are likely incorrect. Use 'GeoSeries.to_crs()' to re-project geometries to a projected CRS before this operation.\n",
      "\n",
      "  total_footprint_area = building_geometries_series.area.sum()\n"
     ]
    }
   ],
   "source": [
    "# Convert the building_geometries GeoDataFrame to a GeoSeries of geometries\n",
    "building_geometries_series = gpd.GeoSeries(bldgs_NewH.geometry)\n",
    "\n",
    "# Calculate the total building footprint area\n",
    "total_footprint_area = building_geometries_series.area.sum()\n",
    "\n",
    "# Print the total building footprint area\n",
    "print(\"Total Building Footprint Area:\", total_footprint_area)\n",
    "\n",
    "#from the crs from this website: https://epsg.io/6433\n",
    "#According to the EPSG registry, 'EPSG:6433' corresponds to NAD83 / New York Long Island (ftUS). \n",
    "#The unit of measure for this CRS is feet (US survey feet).\n",
    "projected_crs = 'EPSG:6433'\n",
    "\n",
    "# Reproject the building geometries to the projected CRS\n",
    "building_geometries_projected = bldgs_NewH.to_crs(projected_crs)\n",
    "\n",
    "# Calculate the total building footprint area in the projected CRS\n",
    "total_footprint_area_projected = building_geometries_projected.area.sum()\n",
    "\n",
    "# Print the total building footprint area in the projected CRS\n",
    "print(\"Total Building Footprint Area (Projected):\", total_footprint_area_projected) #square feet"
   ]
  },
  {
   "cell_type": "code",
   "execution_count": null,
   "id": "b574fc82-ade2-4df5-85dd-d97fcb32e9ca",
   "metadata": {},
   "outputs": [],
   "source": []
  }
 ],
 "metadata": {
  "kernelspec": {
   "display_name": "Python 3 (ipykernel)",
   "language": "python",
   "name": "python3"
  },
  "language_info": {
   "codemirror_mode": {
    "name": "ipython",
    "version": 3
   },
   "file_extension": ".py",
   "mimetype": "text/x-python",
   "name": "python",
   "nbconvert_exporter": "python",
   "pygments_lexer": "ipython3",
   "version": "3.11.5"
  }
 },
 "nbformat": 4,
 "nbformat_minor": 5
}
